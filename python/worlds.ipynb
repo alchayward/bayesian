{
 "cells": [
  {
   "cell_type": "code",
   "execution_count": 960,
   "metadata": {
    "collapsed": false
   },
   "outputs": [],
   "source": [
    "import redis\n",
    "import hiredis\n",
    "import ranking\n",
    "import os\n",
    "import evaluate\n",
    "from rq import Queue\n",
    "import ast\n",
    "from tournament import Team, Game\n",
    "import pprint\n",
    "pp = pprint.PrettyPrinter(indent=4)\n",
    "pprint = pp.pprint\n",
    "redis_host = 'localhost'\n",
    "redis_port = '6379'\n",
    "wait_time = '600'\n",
    "r = redis.StrictRedis(host=redis_host, port=redis_port, db=0)\n",
    "\n",
    "\n",
    "def read_list(list_string):\n",
    "    return map(int,list_string)\n"
   ]
  },
  {
   "cell_type": "code",
   "execution_count": 537,
   "metadata": {
    "collapsed": false
   },
   "outputs": [],
   "source": [
    "data_structure = {'s_ids':list,\n",
    "                  't_ids':list,\n",
    "                  'm_ids':list,\n",
    "                  's':{'t_ids':list,\n",
    "                       'game_ids':list,\n",
    "                       'game':{ 'team_1':int,\n",
    "                                'team_2':int,\n",
    "                                'score_1':int,\n",
    "                                'score_2':int,\n",
    "                                'round':int,\n",
    "                                's_updated':int,\n",
    "                                'kl_updated':int,\n",
    "                                'status':int}},\n",
    "                  'team':{'name':str,'members':list},\n",
    "                  'member':{'name':str,\n",
    "                            'city':str}}"
   ]
  },
  {
   "cell_type": "code",
   "execution_count": 62,
   "metadata": {
    "collapsed": false
   },
   "outputs": [
    {
     "data": {
      "text/plain": [
       "['score_1', 'score_2', 'team_1', 'team_2', 'updated', 'round']"
      ]
     },
     "execution_count": 62,
     "metadata": {},
     "output_type": "execute_result"
    }
   ],
   "source": []
  },
  {
   "cell_type": "code",
   "execution_count": 638,
   "metadata": {
    "collapsed": false
   },
   "outputs": [],
   "source": [
    "session = {'s_ind':1}\n",
    "s_ind = session['s_ind']\n",
    "\n",
    "session_key = \"\".join([\"s:\",str(s_ind)])\n",
    "game_properties = data_structure['s']['game'].keys()\n",
    "\n",
    "class SessionConnection:\n",
    "\n",
    "    def __init__(self,session_key,r_conn):\n",
    "        self.session_key=session_key\n",
    "        self.r_conn=r_conn \n",
    "    \n",
    "    def team_list_key(self):\n",
    "        return \"\".join([self.session_key,\":t_ids:\"])\n",
    "\n",
    "    def game_key(self,game_id):\n",
    "        return \"\".join([self.session_key,\":game:\",str(game_id)])\n",
    "        \n",
    "    def games_list_key(self):\n",
    "        return \"\".join([self.session_key,\":game_ids\"])\n",
    "    \n",
    "    def strength_key(self,team_id):\n",
    "        return \"\".join([self.session_key,\":strengths:\",str(team_id)])\n",
    "    \n",
    "    def kl_key(self,team1_id,team2_id):\n",
    "        return \"\".join([self.session_key,\":kl:t1:\",str(team1_id),\n",
    "                                           ':t2:',str(team2_id)])\n",
    "    \n",
    "    def property_key(self,game_id,prop):\n",
    "        return \"\".join([self.game_key(game_id),':',prop])\n",
    "\n",
    "    def get_team_list(self):\n",
    "        return read_list(self.r_conn.lrange(self.team_list_key(),0,-1))\n",
    "\n",
    "    def get_game_list(self):\n",
    "        return read_list(self.r_conn.lrange(self.games_list_key(),0,-1))\n",
    "\n",
    "    def get_game_property(self,id,prop):\n",
    "        return int(self.r_conn.get(self.property_key(id,prop)))\n",
    "    \n",
    "    def get_game(self,game_id):\n",
    "        game = {'id':game_id}\n",
    "        for prop in game_properties:\n",
    "            game[prop]=self.get_game_property(game_id,prop)\n",
    "        return game\n",
    "    \n",
    "    def get_games(self):\n",
    "        game_list = self.get_game_list()\n",
    "        return dict(zip(game_list,\n",
    "                        [self.get_game(id) for id in game_list]))\n",
    "    \n",
    "    def set_strengths(self,team_strengths):\n",
    "        for team_id in team_stre:\n",
    "            self.r_conn.set(self.strength_key(team_id),team_strengths[team_id])\n",
    "      \n",
    "    def set_kl(self,kl_graph):\n",
    "        for edge in kl_graph:\n",
    "            self.r_conn.set(self.kl_key(edge['t1'],edge['t2']),edge['weight'])\n",
    "        \n",
    "    def set_game_property(self,game_id,prop,val):\n",
    "        self.r_conn.set(self.property_key(game_id,prop),val)\n",
    "\n",
    "    def set_game(self,game):\n",
    "        id = game['id']\n",
    "        for prop in game:\n",
    "            self.set_game_property(id,prop,game[prop])\n",
    "    \n",
    "    def make_teams(self,team_ids):\n",
    "\n",
    "        def new_team(id,ind):\n",
    "            t = Team()\n",
    "            t.id = id\n",
    "            t.session_id = ind\n",
    "            return t\n",
    "        \n",
    "        return [new_team(ind,id) for ind,id in enumerate(team_ids)]\n",
    "        \n",
    "    def mcmc_games(self,games,teams):\n",
    "        teams_dict = dict(zip([t.session_id for t in teams],teams))\n",
    "        \n",
    "        def new_game(id):\n",
    "            g = Game()\n",
    "            game = games[id]\n",
    "            g.id = id\n",
    "            g.teams = [teams_dict[game['team_1']],teams_dict[game['team_2']]]\n",
    "            if not game['status'] == 1:\n",
    "                g.scores = None\n",
    "            else:\n",
    "                g.scores = [game['score_1'],game['score_2']]\n",
    "            g.round = game['round']\n",
    "            return g\n",
    "        \n",
    "        return [new_game(id) for id in games]"
   ]
  },
  {
   "cell_type": "code",
   "execution_count": 568,
   "metadata": {
    "collapsed": false
   },
   "outputs": [
    {
     "name": "stdout",
     "output_type": "stream",
     "text": [
      "s:1:game_ids\n",
      "s:1:t_ids:\n",
      "s:1:game:1\n",
      "s:1:strengths:1\n",
      "s:1:game:1:team_1\n"
     ]
    },
    {
     "data": {
      "text/plain": [
       "['0', '1', '2', '3', '4']"
      ]
     },
     "execution_count": 568,
     "metadata": {},
     "output_type": "execute_result"
    }
   ],
   "source": [
    "dc = SessionConnection(session_key,r)\n",
    "print(dc.games_list_key())\n",
    "print(dc.team_list_key())\n",
    "print(dc.game_key(1))\n",
    "print(dc.strength_key(1))\n",
    "print(dc.property_key(1,'team_1'))\n",
    "dc.r_conn.lrange(dc.team_list_key(),0,-1)"
   ]
  },
  {
   "cell_type": "code",
   "execution_count": 295,
   "metadata": {
    "collapsed": false
   },
   "outputs": [
    {
     "data": {
      "text/plain": [
       "-1"
      ]
     },
     "execution_count": 295,
     "metadata": {},
     "output_type": "execute_result"
    }
   ],
   "source": [
    "dc.set_game_property(4,'score_1',-1)\n",
    "dc.get_game_property(4,'score_1')"
   ]
  },
  {
   "cell_type": "code",
   "execution_count": 655,
   "metadata": {
    "collapsed": false
   },
   "outputs": [],
   "source": [
    "r.delete(dc.team_list_key())\n",
    "r.delete(dc.games_list_key())\n",
    "test_games = {0:[1,0,1,3,1,0,0,1],\n",
    "              1:[3,2,1,3,1,0,0,1],\n",
    "              2:[2,0,1,3,2,0,0,1],\n",
    "              3:[3,1,1,5,2,0,0,1],\n",
    "              4:[2,1,0,0,3,0,0,0]}\n",
    "def make_game(id,props):\n",
    "    game = dict(zip(['team_1','team_2','score_1','score_2',\n",
    "                     'round','s_updated','kl_updated','status'],props))\n",
    "    game['id'] = id\n",
    "    return game\n",
    "\n",
    "for k in test_games:\n",
    "   dc.set_game(make_game(k,test_games[k])) \n",
    "   r.rpush(dc.games_list_key(),k)\n",
    "\n",
    "def set_team_ids(ids):\n",
    "    for id in ids:\n",
    "        r.rpush(dc.team_list_key(),id)\n",
    "    \n",
    "set_team_ids([0,1,2,3,4])\n",
    "teams = dc.make_teams(dc.get_team_list())\n",
    "games = dc.get_games()\n",
    "sess = ranking.Seeding(teams)\n",
    "sess.games = dc.mcmc_games(games,teams)\n",
    "sess.games[4].scores\n",
    "sess.mc_points=1000\n",
    "sess.mc_burn = 10"
   ]
  },
  {
   "cell_type": "code",
   "execution_count": 705,
   "metadata": {
    "collapsed": false
   },
   "outputs": [],
   "source": []
  },
  {
   "cell_type": "code",
   "execution_count": 923,
   "metadata": {
    "collapsed": false,
    "scrolled": true
   },
   "outputs": [],
   "source": [
    "def score_choices(max_score):\n",
    "    choices = []\n",
    "    for ii in range(0,max_score):\n",
    "        for jj in range(0,max_score):\n",
    "            choices = choices + [[ii,jj]]\n",
    "    return choices\n",
    "\n",
    "def discrete_lahiri(pr_f,choices):\n",
    "    pr = 0\n",
    "    u = 1\n",
    "    while pr < u:\n",
    "        x = random.choice(choices)\n",
    "        pr = pr_f(x)\n",
    "        u = random.uniform(0,1)\n",
    "    return x\n",
    "\n",
    "def generate_session(n_teams):\n",
    "    teams = []\n",
    "    strengths = [random.uniform(-2,2) for n in range(n_teams)]\n",
    "    strengths = [s-stats.mean(strengths) for s in strengths]\n",
    "    \n",
    "    def m_team(id):\n",
    "        t = Team()\n",
    "        t.id = id\n",
    "        t.session_id = id\n",
    "        t.strength = strengths[id]\n",
    "        return t\n",
    "    teams = map(m_team, range(n_teams))    \n",
    "    sess=ranking.Seeding(teams)\n",
    "    return sess\n",
    "        \n",
    "def generate_round(sess,r):\n",
    "    sess.update_KL_graph()\n",
    "    games = sess.stage_round(r,sess.kl_info_dict())\n",
    "    \n",
    "    \n",
    "    def prob_f(strengths,scores):\n",
    "        return math.exp(sess.prob_func(strengths[1]-strengths[0],sess.scale,scores[1],scores[0]))\n",
    "    \n",
    "    def sample_scores(game):\n",
    "        strengths = [t.strength for t in game.teams]\n",
    "        pr_f = lambda x: prob_f(strengths,x)\n",
    "        return discrete_lahiri(pr_f,score_choices(sess.max_score))\n",
    "    \n",
    "    for g in games:\n",
    "        g.scores = sample_scores(g)\n",
    "        \n",
    "    sess.games = sess.games + games\n",
    "    sess.fit_model()\n",
    "    return sess\n"
   ]
  },
  {
   "cell_type": "code",
   "execution_count": 949,
   "metadata": {
    "collapsed": false
   },
   "outputs": [
    {
     "name": "stdout",
     "output_type": "stream",
     "text": [
      "running MCMC\n",
      " [-----------------100%-----------------] 10000 of 10000 complete in 7.0 secrunning MCMC\n",
      " [-----------------100%-----------------] 10000 of 10000 complete in 6.8 secrunning MCMC\n",
      " [-----------------100%-----------------] 10000 of 10000 complete in 6.7 secrunning MCMC\n",
      " [-----------------100%-----------------] 10000 of 10000 complete in 8.3 secrunning MCMC\n",
      " [-----------------100%-----------------] 10000 of 10000 complete in 7.4 sec"
     ]
    }
   ],
   "source": [
    "s = generate_session(18)\n",
    "s.mc_points = 10000\n",
    "s.mc_burn = 1000\n",
    "s = generate_round(s,1)\n",
    "s = generate_round(s,2)\n",
    "s = generate_round(s,3)\n",
    "s = generate_round(s,4)\n",
    "s = generate_round(s,5)"
   ]
  },
  {
   "cell_type": "code",
   "execution_count": 951,
   "metadata": {
    "collapsed": false
   },
   "outputs": [
    {
     "name": "stdout",
     "output_type": "stream",
     "text": [
      "[ 1.00065598  0.27611595  0.19850202  2.98190163 -0.87536073  1.02531078\n",
      "  2.26385506 -3.17945708 -0.9782268   1.86727937 -2.37186106 -0.56569411\n",
      "  2.14869162 -2.12353871 -1.58751905 -0.54890735 -0.21330575  0.68155823]\n"
     ]
    }
   ],
   "source": [
    "print(s.strengths())\n"
   ]
  },
  {
   "cell_type": "code",
   "execution_count": 961,
   "metadata": {
    "collapsed": false
   },
   "outputs": [
    {
     "name": "stdout",
     "output_type": "stream",
     "text": [
      "array([ 1.00065598,  0.27611595,  0.19850202,  2.98190163, -0.87536073,\n",
      "        1.02531078,  2.26385506, -3.17945708, -0.9782268 ,  1.86727937,\n",
      "       -2.37186106, -0.56569411,  2.14869162, -2.12353871, -1.58751905,\n",
      "       -0.54890735, -0.21330575,  0.68155823])\n",
      "1.58078102961\n"
     ]
    }
   ],
   "source": [
    "pprint(s.strengths())\n",
    "print(s.mcmc.scale.stats()['mean'])"
   ]
  },
  {
   "cell_type": "code",
   "execution_count": 963,
   "metadata": {
    "collapsed": false,
    "scrolled": true
   },
   "outputs": [
    {
     "name": "stdout",
     "output_type": "stream",
     "text": [
      "[   [0, 1.4612338805761724],\n",
      "    [1, -0.12282386997823952],\n",
      "    [2, -1.070688662593081],\n",
      "    [3, 1.5670693813850214],\n",
      "    [4, -0.2144005184177908],\n",
      "    [5, 0.0061031265798519585],\n",
      "    [6, 1.2747228588012662],\n",
      "    [7, -1.2827789506641838],\n",
      "    [8, -0.5819467595480314],\n",
      "    [9, 1.3481465571001405],\n",
      "    [10, -0.8945452908674008],\n",
      "    [11, -0.4808786111266578],\n",
      "    [12, 1.5846592375584323],\n",
      "    [13, -1.864252261068736],\n",
      "    [14, 0.059112062224409956],\n",
      "    [15, -1.7357795031306504],\n",
      "    [16, 0.0992869726141477],\n",
      "    [17, 0.847760350555328]]\n"
     ]
    },
    {
     "data": {
      "text/plain": [
       "0.23095517234868795"
      ]
     },
     "execution_count": 963,
     "metadata": {},
     "output_type": "execute_result"
    }
   ],
   "source": [
    "pprint([[t.id, t.strength] for t in s.teams])\n",
    "math.sqrt(sum([([t.strength for t in s.teams][ind]-st)**2 for ind,st in enumerate(s.strengths())]))/s.n_teams"
   ]
  },
  {
   "cell_type": "code",
   "execution_count": 943,
   "metadata": {
    "collapsed": false
   },
   "outputs": [
    {
     "data": {
      "text/plain": [
       "[[[0, 17], [1, 2], 1],\n",
       " [[1, 16], [6, 0], 1],\n",
       " [[2, 15], [1, 5], 1],\n",
       " [[3, 14], [2, 5], 1],\n",
       " [[4, 13], [1, 3], 1],\n",
       " [[5, 12], [2, 5], 1],\n",
       " [[6, 11], [3, 5], 1],\n",
       " [[7, 10], [0, 2], 1],\n",
       " [[8, 9], [3, 4], 1],\n",
       " [[0, 14], [1, 3], 2],\n",
       " [[1, 17], [0, 3], 2],\n",
       " [[2, 9], [0, 9], 2],\n",
       " [[3, 7], [4, 0], 2],\n",
       " [[4, 16], [6, 0], 2],\n",
       " [[5, 6], [0, 5], 2],\n",
       " [[8, 15], [4, 1], 2],\n",
       " [[10, 13], [0, 8], 2],\n",
       " [[11, 12], [8, 0], 2],\n",
       " [[0, 13], [0, 7], 3],\n",
       " [[1, 12], [3, 3], 3],\n",
       " [[2, 10], [5, 0], 3],\n",
       " [[3, 11], [3, 6], 3],\n",
       " [[4, 17], [4, 1], 3],\n",
       " [[5, 7], [1, 3], 3],\n",
       " [[6, 16], [5, 0], 3],\n",
       " [[8, 14], [3, 3], 3],\n",
       " [[9, 15], [6, 1], 3],\n",
       " [[0, 1], [0, 3], 4],\n",
       " [[2, 14], [0, 2], 4],\n",
       " [[3, 5], [3, 0], 4],\n",
       " [[4, 12], [6, 0], 4],\n",
       " [[6, 13], [0, 5], 4],\n",
       " [[7, 17], [0, 5], 4],\n",
       " [[8, 16], [7, 1], 4],\n",
       " [[9, 11], [2, 1], 4],\n",
       " [[10, 15], [0, 7], 4],\n",
       " [[0, 10], [5, 0], 5],\n",
       " [[1, 11], [1, 4], 5],\n",
       " [[2, 17], [0, 5], 5],\n",
       " [[3, 8], [1, 6], 5],\n",
       " [[4, 9], [4, 0], 5],\n",
       " [[5, 16], [3, 7], 5],\n",
       " [[6, 7], [5, 0], 5],\n",
       " [[12, 15], [0, 4], 5],\n",
       " [[13, 14], [6, 0], 5]]"
      ]
     },
     "execution_count": 943,
     "metadata": {},
     "output_type": "execute_result"
    }
   ],
   "source": [
    "[[[t.id for t in g.teams],g.scores,g.round] for g in s.games]"
   ]
  },
  {
   "cell_type": "code",
   "execution_count": 860,
   "metadata": {
    "collapsed": false
   },
   "outputs": [],
   "source": [
    "pr_f = lambda x: math.exp(s.prob_func(s.teams[3].strength-s.teams[1].strength,1.0,x[0],x[1]))"
   ]
  },
  {
   "cell_type": "code",
   "execution_count": 861,
   "metadata": {
    "collapsed": false
   },
   "outputs": [
    {
     "data": {
      "text/plain": [
       "[[5, 2],\n",
       " [1, 0],\n",
       " [3, 2],\n",
       " [3, 4],\n",
       " [0, 6],\n",
       " [3, 5],\n",
       " [0, 6],\n",
       " [9, 6],\n",
       " [2, 5],\n",
       " [9, 9],\n",
       " [0, 0],\n",
       " [4, 0],\n",
       " [8, 6],\n",
       " [0, 6],\n",
       " [2, 3],\n",
       " [6, 6],\n",
       " [6, 0],\n",
       " [0, 3],\n",
       " [8, 9],\n",
       " [5, 5]]"
      ]
     },
     "execution_count": 861,
     "metadata": {},
     "output_type": "execute_result"
    }
   ],
   "source": [
    "[discrete_lahiri(pr_f,score_choices(10)) for x in range(20)]"
   ]
  },
  {
   "cell_type": "code",
   "execution_count": 859,
   "metadata": {
    "collapsed": false
   },
   "outputs": [
    {
     "data": {
      "text/plain": [
       "2.0"
      ]
     },
     "execution_count": 859,
     "metadata": {},
     "output_type": "execute_result"
    }
   ],
   "source": [
    "s = generate_session(4)\n",
    "s.scale"
   ]
  },
  {
   "cell_type": "code",
   "execution_count": 391,
   "metadata": {
    "collapsed": false
   },
   "outputs": [
    {
     "data": {
      "text/plain": [
       "[2, 4]"
      ]
     },
     "execution_count": 391,
     "metadata": {},
     "output_type": "execute_result"
    }
   ],
   "source": [
    "[t.id for t in sess.stage_round(3)[1].teams]"
   ]
  },
  {
   "cell_type": "code",
   "execution_count": 892,
   "metadata": {
    "collapsed": false
   },
   "outputs": [
    {
     "name": "stdout",
     "output_type": "stream",
     "text": [
      "[0, 2]\n",
      "0.0561291416822\n",
      "0.787541383464\n"
     ]
    }
   ],
   "source": [
    "x = random.choice(score_choices(10))\n",
    "p = pr_f(x)\n",
    "u = random.uniform(0,1)\n",
    "print(x)\n",
    "print(p)\n",
    "print(u)"
   ]
  },
  {
   "cell_type": "code",
   "execution_count": 900,
   "metadata": {
    "collapsed": false
   },
   "outputs": [
    {
     "data": {
      "text/plain": [
       "<module 'conn' from 'conn.pyc'>"
      ]
     },
     "execution_count": 900,
     "metadata": {},
     "output_type": "execute_result"
    }
   ],
   "source": [
    "reload(ranking)\n",
    "reload(worker)\n",
    "reload(evaluate)\n",
    "reload(conn)"
   ]
  },
  {
   "cell_type": "code",
   "execution_count": 918,
   "metadata": {
    "collapsed": false
   },
   "outputs": [],
   "source": [
    "import rq\n",
    "import worker\n",
    "import evaluate\n",
    "import time\n",
    "import conn\n",
    "import statistics as stats"
   ]
  },
  {
   "cell_type": "code",
   "execution_count": 950,
   "metadata": {
    "collapsed": false
   },
   "outputs": [
    {
     "name": "stdout",
     "output_type": "stream",
     "text": [
      "running MCMC\n",
      " [-----------------100%-----------------] 100000 of 100000 complete in 80.0 sec"
     ]
    }
   ],
   "source": [
    "queue = rq.Queue(connection=redis.Redis())\n",
    "s.mc_points=100000\n",
    "s.mc_burn = 10000\n",
    "s.fit_model()\n"
   ]
  },
  {
   "cell_type": "code",
   "execution_count": 520,
   "metadata": {
    "collapsed": false
   },
   "outputs": [],
   "source": [
    "job = queue.enqueue_call(func=evaluate.update_results,args=(sess.games,sess))"
   ]
  },
  {
   "cell_type": "code",
   "execution_count": 519,
   "metadata": {
    "collapsed": false
   },
   "outputs": [],
   "source": [
    "job = queue.enqueue(evaluate.test_func)"
   ]
  },
  {
   "cell_type": "code",
   "execution_count": 642,
   "metadata": {
    "collapsed": false
   },
   "outputs": [
    {
     "name": "stdout",
     "output_type": "stream",
     "text": [
      "running MCMC\n",
      " [-----------------100%-----------------] 1000 of 1000 complete in 0.6 sec"
     ]
    },
    {
     "ename": "AttributeError",
     "evalue": "'int' object has no attribute 'info'",
     "output_type": "error",
     "traceback": [
      "\u001b[0;31m---------------------------------------------------------------------------\u001b[0m",
      "\u001b[0;31mAttributeError\u001b[0m                            Traceback (most recent call last)",
      "\u001b[0;32m<ipython-input-642-997e6fe5bfc1>\u001b[0m in \u001b[0;36m<module>\u001b[0;34m()\u001b[0m\n\u001b[0;32m----> 1\u001b[0;31m \u001b[0mevaluate\u001b[0m\u001b[0;34m.\u001b[0m\u001b[0mupdate_results\u001b[0m\u001b[0;34m(\u001b[0m\u001b[0msession_key\u001b[0m\u001b[0;34m,\u001b[0m\u001b[0mr\u001b[0m\u001b[0;34m)\u001b[0m\u001b[0;34m\u001b[0m\u001b[0m\n\u001b[0m",
      "\u001b[0;32m/Users/achaywa/Developer/anaconda/envs/bayes/swiss/evaluate.pyc\u001b[0m in \u001b[0;36mupdate_results\u001b[0;34m(session_key, r)\u001b[0m\n\u001b[1;32m     23\u001b[0m         \u001b[0msc\u001b[0m\u001b[0;34m.\u001b[0m\u001b[0mset_game_property\u001b[0m\u001b[0;34m(\u001b[0m\u001b[0mid\u001b[0m\u001b[0;34m,\u001b[0m\u001b[0;34m's_updated'\u001b[0m\u001b[0;34m,\u001b[0m\u001b[0;36m1\u001b[0m\u001b[0;34m)\u001b[0m\u001b[0;34m\u001b[0m\u001b[0m\n\u001b[1;32m     24\u001b[0m \u001b[0;34m\u001b[0m\u001b[0m\n\u001b[0;32m---> 25\u001b[0;31m     \u001b[0msess\u001b[0m\u001b[0;34m.\u001b[0m\u001b[0mupdate_KL_graph\u001b[0m\u001b[0;34m(\u001b[0m\u001b[0;34m)\u001b[0m\u001b[0;34m\u001b[0m\u001b[0m\n\u001b[0m\u001b[1;32m     26\u001b[0m \u001b[0;34m\u001b[0m\u001b[0m\n\u001b[1;32m     27\u001b[0m \u001b[0;34m\u001b[0m\u001b[0m\n",
      "\u001b[0;32m/Users/achaywa/Developer/anaconda/envs/bayes/swiss/ranking.pyc\u001b[0m in \u001b[0;36mupdate_KL_graph\u001b[0;34m(self)\u001b[0m\n\u001b[1;32m    106\u001b[0m     \u001b[0;32mdef\u001b[0m \u001b[0mupdate_KL_graph\u001b[0m\u001b[0;34m(\u001b[0m\u001b[0mself\u001b[0m\u001b[0;34m)\u001b[0m\u001b[0;34m:\u001b[0m\u001b[0;34m\u001b[0m\u001b[0m\n\u001b[1;32m    107\u001b[0m         \u001b[0;32mfor\u001b[0m \u001b[0medge\u001b[0m \u001b[0;32min\u001b[0m \u001b[0mself\u001b[0m\u001b[0;34m.\u001b[0m\u001b[0minfoGraph\u001b[0m\u001b[0;34m.\u001b[0m\u001b[0medges\u001b[0m\u001b[0;34m(\u001b[0m\u001b[0;34m)\u001b[0m\u001b[0;34m:\u001b[0m\u001b[0;34m\u001b[0m\u001b[0m\n\u001b[0;32m--> 108\u001b[0;31m             \u001b[0mself\u001b[0m\u001b[0;34m.\u001b[0m\u001b[0minfoGraph\u001b[0m\u001b[0;34m[\u001b[0m\u001b[0medge\u001b[0m\u001b[0;34m[\u001b[0m\u001b[0;36m0\u001b[0m\u001b[0;34m]\u001b[0m\u001b[0;34m]\u001b[0m\u001b[0;34m[\u001b[0m\u001b[0medge\u001b[0m\u001b[0;34m[\u001b[0m\u001b[0;36m1\u001b[0m\u001b[0;34m]\u001b[0m\u001b[0;34m]\u001b[0m\u001b[0;34m[\u001b[0m\u001b[0;34m'weight'\u001b[0m\u001b[0;34m]\u001b[0m\u001b[0;34m.\u001b[0m\u001b[0minfo\u001b[0m\u001b[0;34m\u001b[0m\u001b[0m\n\u001b[0m\u001b[1;32m    109\u001b[0m \u001b[0;34m\u001b[0m\u001b[0m\n\u001b[1;32m    110\u001b[0m     \u001b[0;32mdef\u001b[0m \u001b[0mmake_marginal_mat\u001b[0m\u001b[0;34m(\u001b[0m\u001b[0mself\u001b[0m\u001b[0;34m)\u001b[0m\u001b[0;34m:\u001b[0m\u001b[0;34m\u001b[0m\u001b[0m\n",
      "\u001b[0;31mAttributeError\u001b[0m: 'int' object has no attribute 'info'"
     ]
    }
   ],
   "source": [
    "evaluate.update_results(session_key,r)"
   ]
  },
  {
   "cell_type": "code",
   "execution_count": 740,
   "metadata": {
    "collapsed": false
   },
   "outputs": [
    {
     "data": {
      "text/plain": [
       "[0, 1, 2, 3, 4, 6, 7, 8, 9]"
      ]
     },
     "execution_count": 740,
     "metadata": {},
     "output_type": "execute_result"
    }
   ],
   "source": [
    "filter(lambda x: not x == 5,range(10))"
   ]
  },
  {
   "cell_type": "code",
   "execution_count": 468,
   "metadata": {
    "collapsed": false
   },
   "outputs": [
    {
     "name": "stdout",
     "output_type": "stream",
     "text": [
      "None\n"
     ]
    }
   ],
   "source": [
    "print(job.result)"
   ]
  },
  {
   "cell_type": "code",
   "execution_count": 489,
   "metadata": {
    "collapsed": false
   },
   "outputs": [
    {
     "data": {
      "text/plain": [
       "[u'848e283d-0d6b-47e4-a7a1-9b37899dba0c']"
      ]
     },
     "execution_count": 489,
     "metadata": {},
     "output_type": "execute_result"
    }
   ],
   "source": [
    "queue.get_job_ids()"
   ]
  },
  {
   "cell_type": "code",
   "execution_count": 524,
   "metadata": {
    "collapsed": true
   },
   "outputs": [],
   "source": [
    "import pickle"
   ]
  },
  {
   "cell_type": "code",
   "execution_count": 532,
   "metadata": {
    "collapsed": false
   },
   "outputs": [],
   "source": [
    "p = pickle.Pickler?"
   ]
  },
  {
   "cell_type": "code",
   "execution_count": 536,
   "metadata": {
    "collapsed": false,
    "scrolled": true
   },
   "outputs": [
    {
     "data": {
      "text/plain": [
       "[0, 1, 2, 3, 4]"
      ]
     },
     "execution_count": 536,
     "metadata": {},
     "output_type": "execute_result"
    }
   ],
   "source": [
    "[g.id for g in sess.games]"
   ]
  },
  {
   "cell_type": "code",
   "execution_count": 549,
   "metadata": {
    "collapsed": false
   },
   "outputs": [],
   "source": [
    "g = sess.games[0]\n",
    "g."
   ]
  },
  {
   "cell_type": "code",
   "execution_count": 922,
   "metadata": {
    "collapsed": false
   },
   "outputs": [
    {
     "data": {
      "text/plain": [
       "0.6029027210959689"
      ]
     },
     "execution_count": 922,
     "metadata": {},
     "output_type": "execute_result"
    }
   ],
   "source": [
    "stats.mean([random.uniform(0,1) for x in range(10)])"
   ]
  },
  {
   "cell_type": "code",
   "execution_count": null,
   "metadata": {
    "collapsed": true
   },
   "outputs": [],
   "source": []
  }
 ],
 "metadata": {
  "kernelspec": {
   "display_name": "Python 2",
   "language": "python",
   "name": "python2"
  },
  "language_info": {
   "codemirror_mode": {
    "name": "ipython",
    "version": 2
   },
   "file_extension": ".py",
   "mimetype": "text/x-python",
   "name": "python",
   "nbconvert_exporter": "python",
   "pygments_lexer": "ipython2",
   "version": "2.7.11"
  }
 },
 "nbformat": 4,
 "nbformat_minor": 0
}
