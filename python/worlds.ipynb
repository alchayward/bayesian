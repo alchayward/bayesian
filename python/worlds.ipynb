{
 "cells": [
  {
   "cell_type": "code",
   "execution_count": 7,
   "metadata": {
    "collapsed": false
   },
   "outputs": [],
   "source": [
    "import redis\n",
    "import hiredis\n",
    "import ranking\n",
    "import os\n",
    "import evaluate\n",
    "import conn\n",
    "from rq import Queue\n",
    "import ast\n",
    "from tournament import Team, Game\n",
    "import pprint\n",
    "import random\n",
    "import statistics as stats\n",
    "import math\n",
    "import mock\n",
    "pp = pprint.PrettyPrinter(indent=4)\n",
    "pprint = pp.pprint\n",
    "redis_host = 'localhost'\n",
    "redis_port = '6379'\n",
    "wait_time = '600'\n",
    "r = redis.StrictRedis(host=redis_host, port=redis_port, db=0)\n",
    "session = {'s_ind':1}\n",
    "s_id = session['s_ind']\n",
    "session_key = \"\".join([\"s:\",str(s_id)])\n",
    "\n",
    "dc = conn.SessionConnection(session_key,r)"
   ]
  },
  {
   "cell_type": "code",
   "execution_count": 4,
   "metadata": {
    "collapsed": false
   },
   "outputs": [],
   "source": []
  },
  {
   "cell_type": "code",
   "execution_count": 59,
   "metadata": {
    "collapsed": false
   },
   "outputs": [
    {
     "data": {
      "text/plain": [
       "<module 'conn' from 'conn.py'>"
      ]
     },
     "execution_count": 59,
     "metadata": {},
     "output_type": "execute_result"
    }
   ],
   "source": [
    "reload(conn)"
   ]
  },
  {
   "cell_type": "code",
   "execution_count": 5,
   "metadata": {
    "collapsed": false
   },
   "outputs": [],
   "source": []
  },
  {
   "cell_type": "code",
   "execution_count": 9,
   "metadata": {
    "collapsed": false
   },
   "outputs": [
    {
     "name": "stdout",
     "output_type": "stream",
     "text": [
      "s:1:game_ids\n",
      "s:1:t_ids:\n",
      "s:1:game:1\n",
      "s:1:strengths:1\n",
      "s:1:game:1:team_1\n"
     ]
    },
    {
     "data": {
      "text/plain": [
       "[]"
      ]
     },
     "execution_count": 9,
     "metadata": {},
     "output_type": "execute_result"
    }
   ],
   "source": [
    "print(dc.games_list_key())\n",
    "print(dc.team_list_key())\n",
    "print(dc.game_key(1))\n",
    "print(dc.strength_key(1))\n",
    "print(dc.property_key(1,'team_1'))\n",
    "dc.r_conn.lrange(dc.team_list_key(),0,-1)"
   ]
  },
  {
   "cell_type": "code",
   "execution_count": 3,
   "metadata": {
    "collapsed": false
   },
   "outputs": [],
   "source": [
    "def load_teams():\n",
    "    file = teams_file\n",
    "    pass\n",
    "def initilize_database():\n",
    "    wc_day_1am = {'id':1,'name':'Wildcard: Day 1 AM','type':'swiss'}\n",
    "    wc_day_1pm = {'id':2,'name':'Wildcard: Day 1 PM','type':'swiss'}\n",
    "    wc_day_2am = {'id':3,'name':'Wildcard: Day 2 AM','type':'swiss'}\n",
    "    wc_day_2pm = {'id':4,'name':'Wildcard: Day 2 PM','type':'swiss'}\n",
    "    f_day_1am = {'id':5, 'name':'Worlds: Day 1 AM','type':'swiss'}\n",
    "    f_day_1pm = {'id':6, 'name':'Worlds: Day 1 PM','type':'swiss'}\n",
    "    f_day_2am = {'id':7, 'name':'Worlds: Day 2 AM','type':'swiss'}\n",
    "    f_day_2pm = {'id':8, 'name':'Worlds: Day 2 PM','type':'swiss'}\n",
    "    f_day_3groups = {'id':9, 'name':'Worlds: Day 3 Group Stage','type':'group'}\n",
    "    f_day_3knockout = {'id':10, 'name':'Worlds: Day 3 Knockout Stage','type':'knockout'} \n",
    "\n",
    "    sessions = [wc_day_1am, wc_day_1pm,wc_day_2am,wc_day_2pm,\n",
    "                day_1am,day_1pm,day_2am,day_2pm,day_3groups,day_3knockout]\n",
    "    \n",
    "    \n",
    "    "
   ]
  },
  {
   "cell_type": "code",
   "execution_count": 10,
   "metadata": {
    "collapsed": false
   },
   "outputs": [
    {
     "data": {
      "text/plain": [
       "-1"
      ]
     },
     "execution_count": 10,
     "metadata": {},
     "output_type": "execute_result"
    }
   ],
   "source": [
    "def initilize_session(s_id,name,team_ids,r_conn)\n",
    "    session_key = \"\".join([\"s:\",str(s_id)])\n",
    "    session_name_key = \"\".join([session_key,'name'])\n",
    "    r.set(session_name_key,name)\n",
    "    sc = conn.SessionConnection(session_key,r_conn)\n",
    "    r_conn.set(sc.new_game_id_key(),0)\n",
    "    \n",
    "    for id in team_ids:\n",
    "        r.rpush(sc.team_list_key(),id)\n",
    "\n",
    "    \n"
   ]
  },
  {
   "cell_type": "code",
   "execution_count": 176,
   "metadata": {
    "collapsed": false
   },
   "outputs": [
    {
     "data": {
      "text/plain": [
       "['a', 'c', 'b']"
      ]
     },
     "execution_count": 176,
     "metadata": {},
     "output_type": "execute_result"
    }
   ],
   "source": [
    "teams = list(set([g.teams[0].id for g in sess.games] + [g.teams[1].id for g in sess.games]))\n",
    "d = {'a':1,'b':2,'c':3}\n",
    "d.keys()"
   ]
  },
  {
   "cell_type": "code",
   "execution_count": 26,
   "metadata": {
    "collapsed": false
   },
   "outputs": [
    {
     "name": "stdout",
     "output_type": "stream",
     "text": [
      "running MCMC\n",
      " [-----------------100%-----------------] 1000 of 1000 complete in 1.2 sec"
     ]
    }
   ],
   "source": [
    "r.delete(dc.team_list_key())\n",
    "r.delete(dc.games_list_key())\n",
    "test_games = {0:[1,0,1,3,1,0,0,1],\n",
    "              1:[3,2,1,3,1,0,0,1],\n",
    "              2:[2,0,1,3,2,0,0,1],\n",
    "              3:[3,1,1,5,2,0,0,1],\n",
    "              4:[2,1,0,0,3,0,0,0]}\n",
    "def make_game(id,props):\n",
    "    game = dict(zip(['team_1','team_2','score_1','score_2',\n",
    "                     'round','s_updated','kl_updated','status'],props))\n",
    "    game['id'] = id\n",
    "    return game\n",
    "\n",
    "for k in test_games:\n",
    "   dc.set_game(make_game(k,test_games[k])) \n",
    "   r.rpush(dc.games_list_key(),k)\n",
    "\n",
    "def set_team_ids(ids):\n",
    "    for id in ids:\n",
    "        r.rpush(dc.team_list_key(),id)\n",
    "    \n",
    "set_team_ids([0,1,2,3,4])\n",
    "teams = dc.make_teams(dc.get_team_list())\n",
    "games = dc.get_games()\n",
    "sess = ranking.Seeding(teams)\n",
    "sess.games = dc.mcmc_games(games,teams)\n",
    "sess.games[4].scores\n",
    "sess.mc_points=1000\n",
    "sess.mc_burn = 100\n",
    "sess.fit_model()"
   ]
  },
  {
   "cell_type": "code",
   "execution_count": 29,
   "metadata": {
    "collapsed": false
   },
   "outputs": [
    {
     "name": "stdout",
     "output_type": "stream",
     "text": [
      "running MCMC\n",
      " [-----------------100%-----------------] 1000 of 1000 complete in 1.0 secrunning MCMC\n",
      " [-----------------100%-----------------] 1000 of 1000 complete in 0.8 sec"
     ]
    },
    {
     "data": {
      "text/plain": [
       "0"
      ]
     },
     "execution_count": 29,
     "metadata": {},
     "output_type": "execute_result"
    }
   ],
   "source": [
    "reload(evaluate)\n",
    "reload(ranking)\n",
    "reload(conn)\n",
    "evaluate.update_results(session_key,r)\n",
    "evaluate.update_kl_info(session_key,r)\n",
    "evaluate.get_best_staging(session_key,r,3)\n"
   ]
  },
  {
   "cell_type": "code",
   "execution_count": 205,
   "metadata": {
    "collapsed": false
   },
   "outputs": [
    {
     "data": {
      "text/plain": [
       "[<tournament.Team instance at 0x10b3500e0>,\n",
       " <tournament.Team instance at 0x10b3506c8>,\n",
       " <tournament.Team instance at 0x10b3505a8>,\n",
       " <tournament.Team instance at 0x10b350710>,\n",
       " <tournament.Team instance at 0x10b350758>]"
      ]
     },
     "execution_count": 205,
     "metadata": {},
     "output_type": "execute_result"
    }
   ],
   "source": [
    "dc.get_kl_vec(range(4*3/2))\n",
    "teams = dc.make_teams(dc.get_team_list())\n",
    "sess=ranking.Seeding(teams)\n",
    "sess = evaluate.init_session(teams)\n",
    "dc.get_kl_vec(range(4*3/2))\n"
   ]
  },
  {
   "cell_type": "code",
   "execution_count": 17,
   "metadata": {
    "collapsed": false
   },
   "outputs": [
    {
     "name": "stdout",
     "output_type": "stream",
     "text": [
      "running MCMC\n",
      " [-----------------100%-----------------] 1000 of 1000 complete in 1.1 sec"
     ]
    },
    {
     "data": {
      "text/plain": [
       "{0: 0,\n",
       " 1: -0.0019102709897806755,\n",
       " 2: 0.0015336655197930539,\n",
       " 3: 0.0036279090503453324,\n",
       " 4: 5.3916536667117094e-05}"
      ]
     },
     "execution_count": 17,
     "metadata": {},
     "output_type": "execute_result"
    }
   ],
   "source": [
    "s = evaluate.fit_session(dc)\n",
    "s.strengths()"
   ]
  },
  {
   "cell_type": "code",
   "execution_count": 21,
   "metadata": {
    "collapsed": false
   },
   "outputs": [
    {
     "data": {
      "text/plain": [
       "{0: 0, 1: 1, 2: 2, 3: 3, 4: 4}"
      ]
     },
     "execution_count": 21,
     "metadata": {},
     "output_type": "execute_result"
    }
   ],
   "source": [
    "strengths = dict(zip([t.id for t in s.teams],s.strengths()))\n",
    "strengths."
   ]
  },
  {
   "cell_type": "code",
   "execution_count": 13,
   "metadata": {
    "collapsed": false
   },
   "outputs": [
    {
     "name": "stdout",
     "output_type": "stream",
     "text": [
      "running MCMC\n",
      " [-----------------100%-----------------] 1000 of 1000 complete in 1.1 sec"
     ]
    },
    {
     "data": {
      "text/plain": [
       "0"
      ]
     },
     "execution_count": 13,
     "metadata": {},
     "output_type": "execute_result"
    }
   ],
   "source": [
    "evaluate.update_kl_info(session_key,r)\n"
   ]
  },
  {
   "cell_type": "code",
   "execution_count": 77,
   "metadata": {
    "collapsed": false,
    "scrolled": true
   },
   "outputs": [
    {
     "data": {
      "text/plain": [
       "True"
      ]
     },
     "execution_count": 77,
     "metadata": {},
     "output_type": "execute_result"
    }
   ],
   "source": [
    "new_game_id_key = \"\".join([session_key,\"new_game_id\"])\n",
    "def new_game_id():\n",
    "    id = r.get(new_game_id_key)\n",
    "    r.incr(new_game_id_key)\n",
    "    return int(id)\n",
    "r.set(new_game_id_key,0)\n"
   ]
  },
  {
   "cell_type": "code",
   "execution_count": 130,
   "metadata": {
    "collapsed": false
   },
   "outputs": [
    {
     "name": "stdout",
     "output_type": "stream",
     "text": [
      "running MCMC\n",
      " [-----------------100%-----------------] 1000 of 1000 complete in 0.6 sec0\n",
      "s:1:strengths:0\n",
      "1\n",
      "s:1:strengths:1\n",
      "2\n",
      "s:1:strengths:2\n",
      "3\n",
      "s:1:strengths:3\n",
      "4\n",
      "s:1:strengths:4\n"
     ]
    }
   ],
   "source": [
    "sess=evaluate.fit_session(dc)\n",
    "sess.strengths()\n",
    "strengths = dict(zip([t.id for t in sess.teams],sess.strengths()))\n",
    "for id in strengths:\n",
    "    print(id)\n",
    "    print(dc.strength_key(id))"
   ]
  },
  {
   "cell_type": "code",
   "execution_count": 26,
   "metadata": {
    "collapsed": false,
    "scrolled": true
   },
   "outputs": [
    {
     "name": "stdout",
     "output_type": "stream",
     "text": [
      "running MCMC\n",
      " [-----------------100%-----------------] 10000 of 10000 complete in 5.8 secrunning MCMC\n",
      " [-----------------100%-----------------] 10000 of 10000 complete in 6.0 secrunning MCMC\n",
      " [-----------------100%-----------------] 10000 of 10000 complete in 6.3 sec"
     ]
    }
   ],
   "source": [
    "reload(mock)\n",
    "reload(ranking)\n",
    "s = mock.generate_session(8)\n",
    "s.mc_points = 10000\n",
    "s.mc_burn = 100\n",
    "s = mock.generate_round(s,1)\n",
    "s.fit_model()\n",
    "s = mock.generate_round(s,2)\n",
    "s.fit_model()\n",
    "s = mock.generate_round(s,3)\n",
    "s.fit_model()"
   ]
  },
  {
   "cell_type": "code",
   "execution_count": 28,
   "metadata": {
    "collapsed": false
   },
   "outputs": [
    {
     "name": "stdout",
     "output_type": "stream",
     "text": [
      "running MCMC\n",
      " [-----------------100%-----------------] 10000 of 10000 complete in 3.4 secCPU times: user 45.2 s, sys: 83.8 ms, total: 45.3 s\n",
      "Wall time: 45.2 s\n"
     ]
    }
   ],
   "source": [
    "s = generate_session(28)\n",
    "s.mc_points = 10000\n",
    "s.mc_burn = 1000\n",
    "s = generate_round(s,1)\n",
    "s.fit_model()\n",
    "\n",
    "%time games = s.update_KL_graph()\n"
   ]
  },
  {
   "cell_type": "code",
   "execution_count": 29,
   "metadata": {
    "collapsed": false
   },
   "outputs": [
    {
     "name": "stdout",
     "output_type": "stream",
     "text": [
      "running MCMC\n",
      " [-----------------100%-----------------] 100000 of 100000 complete in 34.4 secCPU times: user 7min 3s, sys: 182 ms, total: 7min 3s\n",
      "Wall time: 7min 3s\n"
     ]
    }
   ],
   "source": [
    "s = generate_session(28)\n",
    "s.mc_points = 100000\n",
    "s.mc_burn = 10000\n",
    "s = generate_round(s,1)\n",
    "s.fit_model()\n",
    "\n",
    "%time games = s.update_KL_graph()\n"
   ]
  },
  {
   "cell_type": "code",
   "execution_count": 149,
   "metadata": {
    "collapsed": false
   },
   "outputs": [],
   "source": [
    "id = dc.new_game_id()\n",
    "id"
   ]
  },
  {
   "cell_type": "code",
   "execution_count": 10,
   "metadata": {
    "collapsed": false
   },
   "outputs": [
    {
     "data": {
      "text/plain": [
       "True"
      ]
     },
     "execution_count": 10,
     "metadata": {},
     "output_type": "execute_result"
    }
   ],
   "source": [
    "r.flushall()\n",
    "r.set(dc.new_game_id_key(),0)"
   ]
  },
  {
   "cell_type": "code",
   "execution_count": 64,
   "metadata": {
    "collapsed": false
   },
   "outputs": [
    {
     "name": "stdout",
     "output_type": "stream",
     "text": [
      "CPU times: user 933 ms, sys: 121 ms, total: 1.05 s\n",
      "Wall time: 5min 21s\n",
      "running MCMC\n",
      " [-----------------100%-----------------] 100000 of 100000 complete in 35.8 secCPU times: user 40.4 s, sys: 27.3 s, total: 1min 7s\n",
      "Wall time: 35.8 s\n"
     ]
    }
   ],
   "source": [
    "f = kl_func(s)\n",
    "%time parmap(f,range(378))\n",
    "%time s.fit_model()"
   ]
  },
  {
   "cell_type": "code",
   "execution_count": 29,
   "metadata": {
    "collapsed": false,
    "scrolled": true
   },
   "outputs": [
    {
     "name": "stdout",
     "output_type": "stream",
     "text": [
      "[   [0, 0.3752943620190973, 0.45426442959151403],\n",
      "    [1, -1.6376178714075802, -2.3115184423612858],\n",
      "    [2, -0.11921177384034226, 0.81934107408149992],\n",
      "    [3, 0.44828581135608675, 0.054955749685839814],\n",
      "    [4, 0.6310517958122059, 0.26132250485710684],\n",
      "    [5, 1.196535761598349, 1.8662282575723685],\n",
      "    [6, 0.6900951751681348, -0.012526869477989833],\n",
      "    [7, -1.584433260705951, -1.1320667039490466]]\n"
     ]
    },
    {
     "data": {
      "text/plain": [
       "0.20839675440988437"
      ]
     },
     "execution_count": 29,
     "metadata": {},
     "output_type": "execute_result"
    }
   ],
   "source": [
    "pprint([[t.id, t.strength, s.strengths()[ind]] for ind,t in enumerate(s.teams)])\n",
    "math.sqrt(sum([([t.strength for t in s.teams][ind]-st)**2 for ind,st in enumerate(s.strengths())]))/s.n_teams"
   ]
  },
  {
   "cell_type": "code",
   "execution_count": 63,
   "metadata": {
    "collapsed": false
   },
   "outputs": [
    {
     "data": {
      "text/plain": [
       "378"
      ]
     },
     "execution_count": 63,
     "metadata": {},
     "output_type": "execute_result"
    }
   ],
   "source": [
    "len(s.marginal_ind)"
   ]
  },
  {
   "cell_type": "code",
   "execution_count": 24,
   "metadata": {
    "collapsed": false
   },
   "outputs": [
    {
     "data": {
      "text/plain": [
       "[[[0, 7], [5, 1], 1],\n",
       " [[1, 6], [0, 0], 1],\n",
       " [[2, 5], [0, 0], 1],\n",
       " [[3, 4], [2, 9], 1]]"
      ]
     },
     "execution_count": 24,
     "metadata": {},
     "output_type": "execute_result"
    }
   ],
   "source": [
    "[[[t.id for t in g.teams],g.scores,g.round] for g in s.games]"
   ]
  },
  {
   "cell_type": "code",
   "execution_count": 860,
   "metadata": {
    "collapsed": false
   },
   "outputs": [],
   "source": [
    "pr_f = lambda x: math.exp(s.prob_func(s.teams[3].strength-s.teams[1].strength,1.0,x[0],x[1]))"
   ]
  },
  {
   "cell_type": "code",
   "execution_count": 861,
   "metadata": {
    "collapsed": false
   },
   "outputs": [
    {
     "data": {
      "text/plain": [
       "[[5, 2],\n",
       " [1, 0],\n",
       " [3, 2],\n",
       " [3, 4],\n",
       " [0, 6],\n",
       " [3, 5],\n",
       " [0, 6],\n",
       " [9, 6],\n",
       " [2, 5],\n",
       " [9, 9],\n",
       " [0, 0],\n",
       " [4, 0],\n",
       " [8, 6],\n",
       " [0, 6],\n",
       " [2, 3],\n",
       " [6, 6],\n",
       " [6, 0],\n",
       " [0, 3],\n",
       " [8, 9],\n",
       " [5, 5]]"
      ]
     },
     "execution_count": 861,
     "metadata": {},
     "output_type": "execute_result"
    }
   ],
   "source": [
    "[discrete_lahiri(pr_f,score_choices(10)) for x in range(20)]"
   ]
  },
  {
   "cell_type": "code",
   "execution_count": 859,
   "metadata": {
    "collapsed": false
   },
   "outputs": [
    {
     "data": {
      "text/plain": [
       "2.0"
      ]
     },
     "execution_count": 859,
     "metadata": {},
     "output_type": "execute_result"
    }
   ],
   "source": [
    "s = generate_session(4)\n",
    "s.scale"
   ]
  },
  {
   "cell_type": "code",
   "execution_count": 391,
   "metadata": {
    "collapsed": false
   },
   "outputs": [
    {
     "data": {
      "text/plain": [
       "[2, 4]"
      ]
     },
     "execution_count": 391,
     "metadata": {},
     "output_type": "execute_result"
    }
   ],
   "source": [
    "[t.id for t in sess.stage_round(3)[1].teams]"
   ]
  },
  {
   "cell_type": "code",
   "execution_count": 892,
   "metadata": {
    "collapsed": false
   },
   "outputs": [
    {
     "name": "stdout",
     "output_type": "stream",
     "text": [
      "[0, 2]\n",
      "0.0561291416822\n",
      "0.787541383464\n"
     ]
    }
   ],
   "source": [
    "x = random.choice(score_choices(10))\n",
    "p = pr_f(x)\n",
    "u = random.uniform(0,1)\n",
    "print(x)\n",
    "print(p)\n",
    "print(u)"
   ]
  },
  {
   "cell_type": "code",
   "execution_count": 900,
   "metadata": {
    "collapsed": false
   },
   "outputs": [
    {
     "data": {
      "text/plain": [
       "<module 'conn' from 'conn.pyc'>"
      ]
     },
     "execution_count": 900,
     "metadata": {},
     "output_type": "execute_result"
    }
   ],
   "source": [
    "reload(ranking)\n",
    "reload(worker)\n",
    "reload(evaluate)\n",
    "reload(conn)"
   ]
  },
  {
   "cell_type": "code",
   "execution_count": 918,
   "metadata": {
    "collapsed": false
   },
   "outputs": [],
   "source": [
    "import rq\n",
    "import worker\n",
    "import evaluate\n",
    "import time\n",
    "import conn\n",
    "import statistics as stats"
   ]
  },
  {
   "cell_type": "code",
   "execution_count": 950,
   "metadata": {
    "collapsed": false
   },
   "outputs": [
    {
     "name": "stdout",
     "output_type": "stream",
     "text": [
      "running MCMC\n",
      " [-----------------100%-----------------] 100000 of 100000 complete in 80.0 sec"
     ]
    }
   ],
   "source": [
    "queue = rq.Queue(connection=redis.Redis())\n",
    "s.mc_points=100000\n",
    "s.mc_burn = 10000\n",
    "s.fit_model()\n"
   ]
  },
  {
   "cell_type": "code",
   "execution_count": 520,
   "metadata": {
    "collapsed": false
   },
   "outputs": [],
   "source": [
    "job = queue.enqueue_call(func=evaluate.update_results,args=(sess.games,sess))"
   ]
  },
  {
   "cell_type": "code",
   "execution_count": 519,
   "metadata": {
    "collapsed": false
   },
   "outputs": [],
   "source": [
    "job = queue.enqueue(evaluate.test_func)"
   ]
  },
  {
   "cell_type": "code",
   "execution_count": 642,
   "metadata": {
    "collapsed": false
   },
   "outputs": [
    {
     "name": "stdout",
     "output_type": "stream",
     "text": [
      "running MCMC\n",
      " [-----------------100%-----------------] 1000 of 1000 complete in 0.6 sec"
     ]
    },
    {
     "ename": "AttributeError",
     "evalue": "'int' object has no attribute 'info'",
     "output_type": "error",
     "traceback": [
      "\u001b[0;31m---------------------------------------------------------------------------\u001b[0m",
      "\u001b[0;31mAttributeError\u001b[0m                            Traceback (most recent call last)",
      "\u001b[0;32m<ipython-input-642-997e6fe5bfc1>\u001b[0m in \u001b[0;36m<module>\u001b[0;34m()\u001b[0m\n\u001b[0;32m----> 1\u001b[0;31m \u001b[0mevaluate\u001b[0m\u001b[0;34m.\u001b[0m\u001b[0mupdate_results\u001b[0m\u001b[0;34m(\u001b[0m\u001b[0msession_key\u001b[0m\u001b[0;34m,\u001b[0m\u001b[0mr\u001b[0m\u001b[0;34m)\u001b[0m\u001b[0;34m\u001b[0m\u001b[0m\n\u001b[0m",
      "\u001b[0;32m/Users/achaywa/Developer/anaconda/envs/bayes/swiss/evaluate.pyc\u001b[0m in \u001b[0;36mupdate_results\u001b[0;34m(session_key, r)\u001b[0m\n\u001b[1;32m     23\u001b[0m         \u001b[0msc\u001b[0m\u001b[0;34m.\u001b[0m\u001b[0mset_game_property\u001b[0m\u001b[0;34m(\u001b[0m\u001b[0mid\u001b[0m\u001b[0;34m,\u001b[0m\u001b[0;34m's_updated'\u001b[0m\u001b[0;34m,\u001b[0m\u001b[0;36m1\u001b[0m\u001b[0;34m)\u001b[0m\u001b[0;34m\u001b[0m\u001b[0m\n\u001b[1;32m     24\u001b[0m \u001b[0;34m\u001b[0m\u001b[0m\n\u001b[0;32m---> 25\u001b[0;31m     \u001b[0msess\u001b[0m\u001b[0;34m.\u001b[0m\u001b[0mupdate_KL_graph\u001b[0m\u001b[0;34m(\u001b[0m\u001b[0;34m)\u001b[0m\u001b[0;34m\u001b[0m\u001b[0m\n\u001b[0m\u001b[1;32m     26\u001b[0m \u001b[0;34m\u001b[0m\u001b[0m\n\u001b[1;32m     27\u001b[0m \u001b[0;34m\u001b[0m\u001b[0m\n",
      "\u001b[0;32m/Users/achaywa/Developer/anaconda/envs/bayes/swiss/ranking.pyc\u001b[0m in \u001b[0;36mupdate_KL_graph\u001b[0;34m(self)\u001b[0m\n\u001b[1;32m    106\u001b[0m     \u001b[0;32mdef\u001b[0m \u001b[0mupdate_KL_graph\u001b[0m\u001b[0;34m(\u001b[0m\u001b[0mself\u001b[0m\u001b[0;34m)\u001b[0m\u001b[0;34m:\u001b[0m\u001b[0;34m\u001b[0m\u001b[0m\n\u001b[1;32m    107\u001b[0m         \u001b[0;32mfor\u001b[0m \u001b[0medge\u001b[0m \u001b[0;32min\u001b[0m \u001b[0mself\u001b[0m\u001b[0;34m.\u001b[0m\u001b[0minfoGraph\u001b[0m\u001b[0;34m.\u001b[0m\u001b[0medges\u001b[0m\u001b[0;34m(\u001b[0m\u001b[0;34m)\u001b[0m\u001b[0;34m:\u001b[0m\u001b[0;34m\u001b[0m\u001b[0m\n\u001b[0;32m--> 108\u001b[0;31m             \u001b[0mself\u001b[0m\u001b[0;34m.\u001b[0m\u001b[0minfoGraph\u001b[0m\u001b[0;34m[\u001b[0m\u001b[0medge\u001b[0m\u001b[0;34m[\u001b[0m\u001b[0;36m0\u001b[0m\u001b[0;34m]\u001b[0m\u001b[0;34m]\u001b[0m\u001b[0;34m[\u001b[0m\u001b[0medge\u001b[0m\u001b[0;34m[\u001b[0m\u001b[0;36m1\u001b[0m\u001b[0;34m]\u001b[0m\u001b[0;34m]\u001b[0m\u001b[0;34m[\u001b[0m\u001b[0;34m'weight'\u001b[0m\u001b[0;34m]\u001b[0m\u001b[0;34m.\u001b[0m\u001b[0minfo\u001b[0m\u001b[0;34m\u001b[0m\u001b[0m\n\u001b[0m\u001b[1;32m    109\u001b[0m \u001b[0;34m\u001b[0m\u001b[0m\n\u001b[1;32m    110\u001b[0m     \u001b[0;32mdef\u001b[0m \u001b[0mmake_marginal_mat\u001b[0m\u001b[0;34m(\u001b[0m\u001b[0mself\u001b[0m\u001b[0;34m)\u001b[0m\u001b[0;34m:\u001b[0m\u001b[0;34m\u001b[0m\u001b[0m\n",
      "\u001b[0;31mAttributeError\u001b[0m: 'int' object has no attribute 'info'"
     ]
    }
   ],
   "source": [
    "evaluate.update_results(session_key,r)"
   ]
  },
  {
   "cell_type": "code",
   "execution_count": 740,
   "metadata": {
    "collapsed": false
   },
   "outputs": [
    {
     "data": {
      "text/plain": [
       "[0, 1, 2, 3, 4, 6, 7, 8, 9]"
      ]
     },
     "execution_count": 740,
     "metadata": {},
     "output_type": "execute_result"
    }
   ],
   "source": [
    "filter(lambda x: not x == 5,range(10))"
   ]
  },
  {
   "cell_type": "code",
   "execution_count": 468,
   "metadata": {
    "collapsed": false
   },
   "outputs": [
    {
     "name": "stdout",
     "output_type": "stream",
     "text": [
      "None\n"
     ]
    }
   ],
   "source": [
    "print(job.result)"
   ]
  },
  {
   "cell_type": "code",
   "execution_count": 489,
   "metadata": {
    "collapsed": false
   },
   "outputs": [
    {
     "data": {
      "text/plain": [
       "[u'848e283d-0d6b-47e4-a7a1-9b37899dba0c']"
      ]
     },
     "execution_count": 489,
     "metadata": {},
     "output_type": "execute_result"
    }
   ],
   "source": [
    "queue.get_job_ids()"
   ]
  },
  {
   "cell_type": "code",
   "execution_count": 524,
   "metadata": {
    "collapsed": true
   },
   "outputs": [],
   "source": [
    "import pickle"
   ]
  },
  {
   "cell_type": "code",
   "execution_count": 35,
   "metadata": {
    "collapsed": false
   },
   "outputs": [],
   "source": []
  },
  {
   "cell_type": "code",
   "execution_count": 38,
   "metadata": {
    "collapsed": false,
    "scrolled": true
   },
   "outputs": [
    {
     "data": {
      "text/plain": [
       "{'t1': 1, 't2': 2, 'val': 2.12321}"
      ]
     },
     "execution_count": 38,
     "metadata": {},
     "output_type": "execute_result"
    }
   ],
   "source": [
    "r.hset('myhash','t1',1)\n",
    "r.hset('myhash','t2',2)\n",
    "r.hset('myhash','val',2.12321)\n",
    "d = r.hgetall('myhash')\n",
    "for key,val in d.iteritems():\n",
    "    d[key] = num(val)\n",
    "d\n"
   ]
  },
  {
   "cell_type": "code",
   "execution_count": 36,
   "metadata": {
    "collapsed": false
   },
   "outputs": [],
   "source": [
    "d={}"
   ]
  },
  {
   "cell_type": "code",
   "execution_count": 922,
   "metadata": {
    "collapsed": false
   },
   "outputs": [
    {
     "data": {
      "text/plain": [
       "0.6029027210959689"
      ]
     },
     "execution_count": 922,
     "metadata": {},
     "output_type": "execute_result"
    }
   ],
   "source": []
  },
  {
   "cell_type": "code",
   "execution_count": 183,
   "metadata": {
    "collapsed": false
   },
   "outputs": [
    {
     "ename": "ValueError",
     "evalue": "'d' is not in list",
     "output_type": "error",
     "traceback": [
      "\u001b[0;31m---------------------------------------------------------------------------\u001b[0m",
      "\u001b[0;31mValueError\u001b[0m                                Traceback (most recent call last)",
      "\u001b[0;32m<ipython-input-183-e1ebaeafec8b>\u001b[0m in \u001b[0;36m<module>\u001b[0;34m()\u001b[0m\n\u001b[1;32m      1\u001b[0m \u001b[0ma\u001b[0m \u001b[0;34m=\u001b[0m \u001b[0;34m[\u001b[0m\u001b[0;36m1\u001b[0m\u001b[0;34m,\u001b[0m\u001b[0;36m2\u001b[0m\u001b[0;34m,\u001b[0m\u001b[0;36m3\u001b[0m\u001b[0;34m,\u001b[0m\u001b[0;36m4\u001b[0m\u001b[0;34m,\u001b[0m\u001b[0;34m'a'\u001b[0m\u001b[0;34m,\u001b[0m\u001b[0;34m'b'\u001b[0m\u001b[0;34m,\u001b[0m\u001b[0;34m'c'\u001b[0m\u001b[0;34m]\u001b[0m\u001b[0;34m\u001b[0m\u001b[0m\n\u001b[0;32m----> 2\u001b[0;31m \u001b[0ma\u001b[0m\u001b[0;34m.\u001b[0m\u001b[0mindex\u001b[0m\u001b[0;34m(\u001b[0m\u001b[0;34m'd'\u001b[0m\u001b[0;34m)\u001b[0m\u001b[0;34m\u001b[0m\u001b[0m\n\u001b[0m",
      "\u001b[0;31mValueError\u001b[0m: 'd' is not in list"
     ]
    }
   ],
   "source": [
    "a = [1,2,3,4,'a','b','c']\n",
    "a.index('d')"
   ]
  },
  {
   "cell_type": "code",
   "execution_count": 39,
   "metadata": {
    "collapsed": false
   },
   "outputs": [
    {
     "data": {
      "text/plain": [
       "<function numpy.core.fromnumeric.mean>"
      ]
     },
     "execution_count": 39,
     "metadata": {},
     "output_type": "execute_result"
    }
   ],
   "source": []
  },
  {
   "cell_type": "code",
   "execution_count": 176,
   "metadata": {
    "collapsed": false,
    "scrolled": true
   },
   "outputs": [],
   "source": [
    "import csv\n",
    "\n",
    "\n",
    "wct = []\n",
    "with open('/Users/achaywa/Developer/clojure/re-frame/swiss/wildcard_teams.csv', 'rb') as csvfile:\n",
    "    spamreader = csv.reader(csvfile, delimiter=',')\n",
    "    for row in spamreader:\n",
    "        wct.append(filter(lambda x:x is not '',row))\n",
    "wc_teams = []\n",
    "for ind,line in enumerate(wct[1:]):\n",
    "    wc_teams.append({'name':line[1],'id':ind,'session':line[2],'wc':True})\n",
    "\n",
    "ft = []\n",
    "with open('/Users/achaywa/Developer/clojure/re-frame/swiss/finals_teams.csv', 'rb') as csvfile:\n",
    "    spamreader = csv.reader(csvfile, delimiter=',',quotechar='\"')\n",
    "    for row in spamreader:\n",
    "        ft.append(filter(lambda x:x is not '',row))\n",
    "\n",
    "f_teams = []\n",
    "for ind,line in enumerate(ft):\n",
    "    if not line[0] == '0':\n",
    "        f_teams.append({'name':line[0],'id':ind+28,'session':'A','wc':False})\n",
    "for ind,line in enumerate(ft):\n",
    "        if not line[1] == '0':\n",
    "            f_teams.append({'name':line[1],'id':ind+13+28,'session':'B','wc':False})\n",
    "\n",
    "        teams = wc_teams + f_teams\n",
    "team_dict = dict(zip([t['id'] for t in teams],teams))\n",
    "\n",
    "\n",
    "with open(\"\".join([pwd,'/teams.csv']), 'wb') as csvfile:\n",
    "\n",
    "    writer = csv.writer(csvfile,delimiter=',')\n",
    "    for line in team_dict.values():\n",
    "           writer.writerow(line.values())\n"
   ]
  },
  {
   "cell_type": "code",
   "execution_count": null,
   "metadata": {
    "collapsed": false
   },
   "outputs": [],
   "source": []
  },
  {
   "cell_type": "code",
   "execution_count": 160,
   "metadata": {
    "collapsed": false
   },
   "outputs": [],
   "source": [
    "import csv\n",
    "import os\n",
    "pwd = os.getcwd()\n",
    "team_file = \"\".join([pwd,'/teams.csv'])\n",
    "def teams_reader():\n",
    "    def kv(row):\n",
    "        return int(row[3]), {'session':row[0],'wc':bool(row[1]=='True'),\n",
    "                        'name':row[2],'id':int(row[3])}\n",
    "\n",
    "    team_dict = {}\n",
    "    with open(team_file, 'rb') as csvfile:\n",
    "        reader = csv.reader(csvfile, delimiter=',')\n",
    "        for row in reader:\n",
    "            k,v = kv(row)\n",
    "            team_dict[k] = v\n",
    "    return team_dict\n",
    "\n",
    "\n",
    "team_dict = teams_reader()\n",
    "\n",
    "def id_to_name(id):\n",
    "    return team_dict[id]['name']\n",
    "\n",
    "wc_teams = [k for k,v in team_dict.iteritems() if v['wc']]\n",
    "f_teams = [k for k,v in team_dict.iteritems() if (not v['wc'])]\n",
    "wc_teamsA = [k for k,v in team_dict.iteritems() if v['wc'] and (v['session']=='A')]\n",
    "wc_teamsB = [k for k,v in team_dict.iteritems() if v['wc'] and (v['session']=='B')]\n",
    "f_teamsA = [k for k,v in team_dict.iteritems() if (not v['wc']) and (v['session']=='A')]\n",
    "f_teamsB = [k for k,v in team_dict.iteritems() if (not v['wc']) and (v['session']=='B')]\n",
    "\n",
    "def initilize_sessions():\n",
    "    wc_day_1am = {'id':1,'name':'Wildcard: Day 1 AM','type':'swiss','teams':wc_teamsA}\n",
    "    wc_day_1pm = {'id':2,'name':'Wildcard: Day 1 PM','type':'swiss','teams':wc_teamsB}\n",
    "    wc_day_2am = {'id':3,'name':'Wildcard: Day 2 AM','type':'swiss','teams':[]}\n",
    "    wc_day_2pm = {'id':4,'name':'Wildcard: Day 2 PM','type':'swiss','teams':[]}\n",
    "    f_day_1am = {'id':5, 'name':'Worlds: Day 1 AM','type':'swiss','teams':f_teamsA}\n",
    "    f_day_1pm = {'id':6, 'name':'Worlds: Day 1 PM','type':'swiss','teams':f_teamsB}\n",
    "    f_day_2am = {'id':7, 'name':'Worlds: Day 2 AM','type':'swiss','teams':[]}\n",
    "    f_day_2pm = {'id':8, 'name':'Worlds: Day 2 PM','type':'swiss','teams':[]}\n",
    "    f_day_3groups = {'id':9, 'name':'Worlds: Day 3 Group Stage','type':'group','teams':[]}\n",
    "    f_day_3knockout = {'id':10, 'name':'Worlds: Day 3 Knockout Stage','type':'knockout','teams':[]} \n",
    "    \n",
    "    sessions = {1:wc_day_1am, 2:wc_day_1pm,3:wc_day_2am,4:wc_day_2pm,\n",
    "                5:f_day_1am,6:f_day_1pm,7:f_day_2am,8:f_day_2pm,\n",
    "                9:f_day_3groups,10:f_day_3knockout}\n",
    "    for v in sessions.values():\n",
    "        v['games'] = []\n",
    "    return sessions\n",
    "\n",
    "\n",
    "Sessions = initilize_sessions()\n",
    "\n",
    "def initilize_games():\n",
    "    games = {}\n",
    "    return games\n",
    "\n",
    "Games = initilize_games()\n",
    "\n"
   ]
  },
  {
   "cell_type": "code",
   "execution_count": 189,
   "metadata": {
    "collapsed": false
   },
   "outputs": [],
   "source": [
    "def print_team(id):\n",
    "    d = team_dict[id]\n",
    "    pprint(''.join([str(d['id']),': ',d['name']]))\n",
    "\n",
    "def print_game(id):\n",
    "    d = Games[id]\n",
    "    if d['score_1'] and d['score_2']:\n",
    "        pprint(\"\".join([str(d['id']),':', 'r', str(d['round']),'  ',\n",
    "                        str(d['score_1']),' -- ',\n",
    "                        team_dict[d['team_1']]['name'],\n",
    "                        ' vs ', team_dict[d['team_2']]['name'], ' -- ',\n",
    "                        str(d['score_2'])]))\n",
    "    else:\n",
    "        pprint(\"\".join([str(d['id']),':','r',str(d['round']),'  ',\n",
    "                team_dict[d['team_1']]['name'],\n",
    "                ' vs ', team_dict[d['team_2']]['name']]))\n",
    "def list_teams(session):\n",
    "    for id in session['teams']:\n",
    "        print_team(id)\n",
    "def list_games(session):\n",
    "    for id in session['games']:\n",
    "        print_game(id)"
   ]
  },
  {
   "cell_type": "code",
   "execution_count": 192,
   "metadata": {
    "collapsed": false
   },
   "outputs": [
    {
     "name": "stdout",
     "output_type": "stream",
     "text": [
      "'1:r1  1 -- Ball Bangers vs Wabbit -- 2'\n"
     ]
    }
   ],
   "source": [
    "Games[0] = {'status':1,'id':1,'team_1':0,'team_2':1,'score_1':1,'score_2':2, 'round':1}\n",
    "Sessions[1]['games'] = [0]\n",
    "list_games(Sessions[1])"
   ]
  },
  {
   "cell_type": "code",
   "execution_count": 186,
   "metadata": {
    "collapsed": false,
    "scrolled": true
   },
   "outputs": [
    {
     "data": {
      "text/plain": [
       "{0: {'id': 0, 'name': 'Ball Bangers', 'session': 'A', 'wc': True},\n",
       " 1: {'id': 1, 'name': 'Wabbit', 'session': 'A', 'wc': True},\n",
       " 2: {'id': 2, 'name': 'Golem', 'session': 'A', 'wc': True},\n",
       " 3: {'id': 3, 'name': 'The Edinburgh Badgers', 'session': 'A', 'wc': True},\n",
       " 4: {'id': 4, 'name': 'JKL', 'session': 'A', 'wc': True},\n",
       " 5: {'id': 5, 'name': 'The Inseminators', 'session': 'A', 'wc': True},\n",
       " 6: {'id': 6, 'name': 'Gentlemans', 'session': 'A', 'wc': True},\n",
       " 7: {'id': 7, 'name': 'Sons of Odin', 'session': 'A', 'wc': True},\n",
       " 8: {'id': 8, 'name': 'Rusty Spoons', 'session': 'A', 'wc': True},\n",
       " 9: {'id': 9, 'name': 'Daft Monks', 'session': 'A', 'wc': True},\n",
       " 10: {'id': 10, 'name': 'The Budgie Smugglers', 'session': 'A', 'wc': True},\n",
       " 11: {'id': 11, 'name': 'Triple Fisted', 'session': 'A', 'wc': True},\n",
       " 12: {'id': 12, 'name': 'With Fire', 'session': 'A', 'wc': True},\n",
       " 13: {'id': 13, 'name': 'Pete un Plomb', 'session': 'A', 'wc': True},\n",
       " 14: {'id': 14, 'name': 'Kitten Pile Crush', 'session': 'B', 'wc': True},\n",
       " 15: {'id': 15, 'name': 'The Royales with Cheese', 'session': 'B', 'wc': True},\n",
       " 16: {'id': 16, 'name': 'The Jamesons', 'session': 'B', 'wc': True},\n",
       " 17: {'id': 17, 'name': 'Elf Death', 'session': 'B', 'wc': True},\n",
       " 18: {'id': 18, 'name': 'Mammoth', 'session': 'B', 'wc': True},\n",
       " 19: {'id': 19, 'name': 'Beware', 'session': 'B', 'wc': True},\n",
       " 20: {'id': 20, 'name': 'Two and a half Men', 'session': 'B', 'wc': True},\n",
       " 21: {'id': 21, 'name': 'Lost Cat', 'session': 'B', 'wc': True},\n",
       " 22: {'id': 22, 'name': 'Mighty Bisons', 'session': 'B', 'wc': True},\n",
       " 23: {'id': 23, 'name': 'Sometimes', 'session': 'B', 'wc': True},\n",
       " 24: {'id': 24, 'name': 'Three Boys', 'session': 'B', 'wc': True},\n",
       " 25: {'id': 25, 'name': 'Gobshites', 'session': 'B', 'wc': True},\n",
       " 26: {'id': 26, 'name': 'Kumaras bravas', 'session': 'B', 'wc': True},\n",
       " 27: {'id': 27, 'name': \"The Caracal's\", 'session': 'B', 'wc': True},\n",
       " 28: {'id': 28, 'name': 'A', 'session': 'A', 'wc': False},\n",
       " 30: {'id': 30, 'name': 'Royals', 'session': 'A', 'wc': False},\n",
       " 31: {'id': 31, 'name': 'Les Beehive Boys', 'session': 'A', 'wc': False},\n",
       " 32: {'id': 32, 'name': 'The Control', 'session': 'A', 'wc': False},\n",
       " 33: {'id': 33, 'name': 'Frenemies', 'session': 'A', 'wc': False},\n",
       " 34: {'id': 34, 'name': 'Prospectors', 'session': 'A', 'wc': False},\n",
       " 35: {'id': 35, 'name': 'TBD', 'session': 'A', 'wc': False},\n",
       " 36: {'id': 36, 'name': 'TEMOILESNICHONS', 'session': 'A', 'wc': False},\n",
       " 37: {'id': 37,\n",
       "  'name': 'LOS BIGOTES HASTA LAS RODILLAS',\n",
       "  'session': 'A',\n",
       "  'wc': False},\n",
       " 38: {'id': 38, 'name': 'YATTARUS', 'session': 'A', 'wc': False},\n",
       " 39: {'id': 39, 'name': 'The Huntsmen', 'session': 'A', 'wc': False},\n",
       " 40: {'id': 40, 'name': 'Majestic', 'session': 'A', 'wc': False},\n",
       " 41: {'id': 41, 'name': 'B', 'session': 'B', 'wc': False},\n",
       " 42: {'id': 42, 'name': 'Call Me Daddy', 'session': 'B', 'wc': False},\n",
       " 43: {'id': 43, 'name': 'Thunder fart', 'session': 'B', 'wc': False},\n",
       " 44: {'id': 44, 'name': 'Ratking', 'session': 'B', 'wc': False},\n",
       " 45: {'id': 45, 'name': 'Portland United', 'session': 'B', 'wc': False},\n",
       " 46: {'id': 46, 'name': 'ChaJean$', 'session': 'B', 'wc': False},\n",
       " 47: {'id': 47, 'name': 'Good Owl Boys', 'session': 'B', 'wc': False},\n",
       " 49: {'id': 49, 'name': 'Team GB', 'session': 'B', 'wc': False},\n",
       " 50: {'id': 50, 'name': 'Outlawz Birds', 'session': 'B', 'wc': False},\n",
       " 51: {'id': 51, 'name': 'POLOBITO', 'session': 'B', 'wc': False},\n",
       " 52: {'id': 52, 'name': 'Sentinels', 'session': 'B', 'wc': False},\n",
       " 53: {'id': 53, 'name': 'ZODIAC', 'session': 'B', 'wc': False},\n",
       " 54: {'id': 54, 'name': 'Fully Torqued', 'session': 'B', 'wc': False},\n",
       " 55: {'id': 55, 'name': 'Ash Samwidch', 'session': 'B', 'wc': False}}"
      ]
     },
     "execution_count": 186,
     "metadata": {},
     "output_type": "execute_result"
    }
   ],
   "source": []
  },
  {
   "cell_type": "code",
   "execution_count": 194,
   "metadata": {
    "collapsed": false
   },
   "outputs": [
    {
     "name": "stdout",
     "output_type": "stream",
     "text": [
      "'1:r1  1 -- Ball Bangers vs Wabbit -- 2'\n",
      "'2:r1  5 -- The Edinburgh Badgers vs Golem -- 2'\n"
     ]
    }
   ],
   "source": [
    "Games[1] = {'status':1,'id':1,'team_1':0,'team_2':1,'score_1':1,'score_2':2, 'round':1}\n",
    "Games[2] = {'status':1,'id':2,'team_1':3,'team_2':2,'score_1':5,'score_2':2, 'round':1}\n",
    "Sessions[1]['games'] = [1,2]\n",
    "list_games(Sessions[1])"
   ]
  },
  {
   "cell_type": "code",
   "execution_count": 65,
   "metadata": {
    "collapsed": false
   },
   "outputs": [],
   "source": []
  },
  {
   "cell_type": "code",
   "execution_count": null,
   "metadata": {
    "collapsed": false
   },
   "outputs": [],
   "source": []
  },
  {
   "cell_type": "code",
   "execution_count": 196,
   "metadata": {
    "collapsed": false
   },
   "outputs": [
    {
     "ename": "IndexError",
     "evalue": "list index out of range",
     "output_type": "error",
     "traceback": [
      "\u001b[0;31m---------------------------------------------------------------------------\u001b[0m",
      "\u001b[0;31mIndexError\u001b[0m                                Traceback (most recent call last)",
      "\u001b[0;32m<ipython-input-196-327b09ff9666>\u001b[0m in \u001b[0;36m<module>\u001b[0;34m()\u001b[0m\n\u001b[1;32m      1\u001b[0m \u001b[0mreload\u001b[0m\u001b[0;34m(\u001b[0m\u001b[0mbayes\u001b[0m\u001b[0;34m)\u001b[0m\u001b[0;34m\u001b[0m\u001b[0m\n\u001b[0;32m----> 2\u001b[0;31m \u001b[0mbayes\u001b[0m\u001b[0;34m.\u001b[0m\u001b[0mfit_session\u001b[0m\u001b[0;34m(\u001b[0m\u001b[0mSessions\u001b[0m\u001b[0;34m[\u001b[0m\u001b[0;36m1\u001b[0m\u001b[0;34m]\u001b[0m\u001b[0;34m,\u001b[0m\u001b[0mGames\u001b[0m\u001b[0;34m)\u001b[0m\u001b[0;34m\u001b[0m\u001b[0m\n\u001b[0m",
      "\u001b[0;32m/Users/achaywa/Developer/clojure/re-frame/swiss/python/bayes.py\u001b[0m in \u001b[0;36mfit_session\u001b[0;34m(session, Games)\u001b[0m\n\u001b[1;32m     39\u001b[0m     \u001b[0mteams\u001b[0m \u001b[0;34m=\u001b[0m \u001b[0mmake_teams\u001b[0m\u001b[0;34m(\u001b[0m\u001b[0msession\u001b[0m\u001b[0;34m[\u001b[0m\u001b[0;34m'teams'\u001b[0m\u001b[0;34m]\u001b[0m\u001b[0;34m)\u001b[0m\u001b[0;34m\u001b[0m\u001b[0m\n\u001b[1;32m     40\u001b[0m     \u001b[0msess\u001b[0m \u001b[0;34m=\u001b[0m \u001b[0minit_session\u001b[0m\u001b[0;34m(\u001b[0m\u001b[0mteams\u001b[0m\u001b[0;34m)\u001b[0m\u001b[0;34m\u001b[0m\u001b[0m\n\u001b[0;32m---> 41\u001b[0;31m     sess.games = mcmc_games([games[id] for id in session['games']],\n\u001b[0m\u001b[1;32m     42\u001b[0m                                 teams)\n\u001b[1;32m     43\u001b[0m     \u001b[0msess\u001b[0m\u001b[0;34m.\u001b[0m\u001b[0mfit_model\u001b[0m\u001b[0;34m(\u001b[0m\u001b[0;34m)\u001b[0m\u001b[0;34m\u001b[0m\u001b[0m\n",
      "\u001b[0;31mIndexError\u001b[0m: list index out of range"
     ]
    }
   ],
   "source": [
    "reload(bayes)\n",
    "bayes.fit_session(Sessions[1],Games)"
   ]
  },
  {
   "cell_type": "code",
   "execution_count": null,
   "metadata": {
    "collapsed": true
   },
   "outputs": [],
   "source": []
  }
 ],
 "metadata": {
  "kernelspec": {
   "display_name": "Python 2",
   "language": "python",
   "name": "python2"
  },
  "language_info": {
   "codemirror_mode": {
    "name": "ipython",
    "version": 2
   },
   "file_extension": ".py",
   "mimetype": "text/x-python",
   "name": "python",
   "nbconvert_exporter": "python",
   "pygments_lexer": "ipython2",
   "version": "2.7.11"
  }
 },
 "nbformat": 4,
 "nbformat_minor": 0
}
