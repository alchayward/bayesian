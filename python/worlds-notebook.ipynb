{
 "cells": [
  {
   "cell_type": "code",
   "execution_count": 407,
   "metadata": {
    "collapsed": false
   },
   "outputs": [],
   "source": [
    "import database\n",
    "import req\n",
    "import pprint\n",
    "import json\n",
    "import os\n",
    "import csv\n",
    "pwd = os.getcwd()\n",
    "pp = pprint.PrettyPrinter(indent=4)\n",
    "\n",
    "dbsavefile = '/DBsave.json'\n",
    "#DB = database.DB_init()\n",
    "\n",
    "def saveDB(db):\n",
    "    with open(\"\".join([pwd,dbsavefile]), 'wb') as jsonfile: \n",
    "            json.dump(db,jsonfile)\n",
    "\n",
    "def num(s):\n",
    "    try:\n",
    "        return int(s)\n",
    "    except ValueError:\n",
    "        try:\n",
    "            return float(s)\n",
    "        except ValueError:\n",
    "            return s\n",
    "\n",
    "def d_or_v(val):\n",
    "    if isinstance(val,dict):\n",
    "        return key_to_int(val)\n",
    "    else:\n",
    "        return val\n",
    "   \n",
    "def key_to_int(d):\n",
    "    return {num(k):d_or_v(v) for k,v in d.iteritems()}   \n",
    "\n",
    "def loadDB():\n",
    "    with open(\"\".join([pwd,dbsavefile]), 'rb') as jsonfile: \n",
    "        db = json.load(jsonfile)\n",
    "    return key_to_int(db)\n",
    "\n",
    "    \n",
    "\n",
    "DB=loadDB()\n",
    "pprint = pp.pprint\n",
    "Teams = DB['Teams']\n",
    "Games = DB['Games']\n",
    "\n"
   ]
  },
  {
   "cell_type": "code",
   "execution_count": 232,
   "metadata": {
    "collapsed": false
   },
   "outputs": [],
   "source": [
    "\n",
    "def print_team(d,score = 0.0):\n",
    "    pprint(''.join([str(d['id']),': ',d['name'],'  strength = ',str(score)]))\n",
    "\n",
    "def print_game(d):\n",
    "    if d['status']==1:\n",
    "        pprint(\"\".join([str(d['id']),':', 'r', str(d['round']),'  ',\n",
    "                        str(d['scores'][d['team_1']]),' -- ',\n",
    "                        DB['Teams'][d['team_1']]['name'],\n",
    "                        ' vs ', DB['Teams'][d['team_2']]['name'], ' -- ',\n",
    "                        str(d['scores'][d['team_2']])]))\n",
    "    else:\n",
    "        pprint(\"\".join([str(d['id']),':','r',str(d['round']),'  ',\n",
    "                DB['Teams'][d['team_1']]['name'],\n",
    "                ' vs ', DB['Teams'][d['team_2']]['name']]))\n",
    "def list_teams(session_id):\n",
    "    session = DB['Sessions'][session_id]\n",
    "    for id in session['teams']:\n",
    "        s = session['strengths'][id]\n",
    "        print_team(DB['Teams'][id],score = s)\n",
    "def list_games(session_id):\n",
    "    session = DB['Sessions'][session_id]\n",
    "    for id in session['games']:\n",
    "        print_game(DB['Games'][id])\n",
    "\n",
    "        \n",
    "def games_played(team_id,session_id):\n",
    "    def count(g,t):\n",
    "        if DB['Games'][g]['status'] == 1 and t in [DB['Games'][g]['team_1'],DB['Games'][g]['team_2']]:\n",
    "            return 1\n",
    "        else:\n",
    "            return 0\n",
    "        \n",
    "    return sum([count(g_id,team_id) for g_id in DB['Sessions'][session_id]['games']])\n",
    "    \n",
    "def export_results(session_id):\n",
    "    session = DB['Sessions'][session_id]\n",
    "    s = session['strengths']\n",
    "    \n",
    "    d = sorted([[id,DB['Teams'][id]['name'],\n",
    "          \"{0:.2f}\".format(session['strengths'][id]),\n",
    "         games_played(id,session_id)] for id in session['teams']],key = lambda x: s[x[0]])\n",
    "\n",
    "    with open(\"\".join([pwd,'/results.csv']), 'wb') as csvfile:\n",
    "\n",
    "        writer = csv.writer(csvfile,delimiter='\\t')\n",
    "    \n",
    "        for line in d:\n",
    "            writer.writerow(line)\n",
    "\n",
    "            \n",
    "def export_games(session_id):\n",
    "    session = DB['Sessions'][session_id]\n",
    "    played_games = [Games[id] for id in session['games'] if Games[id]['status'] == 1]\n",
    "    unplayed_games = [Games[id] for id in session['games'] if not Games[id]['status'] == 1]\n",
    "\n",
    "    pd = [[g['id'],Teams[g['team_1']]['name'],Teams[g['team_2']]['name'],\n",
    "            g['round'],g['scores'][g['team_1']],\n",
    "            g['scores'][g['team_2']]] for g in played_games]    \n",
    "    upd = [[g['id'],Teams[g['team_1']]['name'],Teams[g['team_2']]['name'],\n",
    "            g['round'],'none',\n",
    "            'none'] for g in unplayed_games]    \n",
    "    with open(\"\".join([pwd,'/games.csv']), 'wb') as csvfile:\n",
    "\n",
    "        writer = csv.writer(csvfile,delimiter='\\t')\n",
    "    \n",
    "        for line in pd:\n",
    "           writer.writerow(line)\n",
    "        \n",
    "        for line in upd:\n",
    "           writer.writerow(line)\n",
    "        \n",
    "def export_suggested_games(session_id):\n",
    "    session = DB['Sessions'][session_id]\n",
    "    suggested_games = session['suggestedGames'].values()\n",
    "\n",
    "    pd = [[g['id'],Teams[g['team_1']]['name'],Teams[g['team_2']]['name'],\n",
    "            g['round']] for g in suggested_games]    \n",
    "\n",
    "    with open(\"\".join([pwd,'/suggested_games.csv']), 'wb') as csvfile:\n",
    "\n",
    "        writer = csv.writer(csvfile,delimiter='\\t')\n",
    "    \n",
    "        for line in pd:\n",
    "           writer.writerow(line)\n",
    "        \n",
    "def export_teams_list(session_id):\n",
    "    session = DB['Sessions'][session_id]\n",
    "    teams = [DB['Teams'][id] for id in session['teams']]\n",
    "\n",
    "    pd = [[t['id'],t['name']] for t in teams]    \n",
    "\n",
    "    with open(\"\".join([pwd,'/team_list.csv']),'wb') as csvfile:\n",
    "\n",
    "        writer = csv.writer(csvfile,delimiter='\\t')\n",
    "    \n",
    "        for line in pd:\n",
    "           writer.writerow(line)\n",
    "        \n",
    "\n",
    "\n"
   ]
  },
  {
   "cell_type": "code",
   "execution_count": 480,
   "metadata": {
    "collapsed": false
   },
   "outputs": [],
   "source": [
    "sess_id = 6\n",
    "export_teams_list(sess_id)\n",
    "export_games(sess_id)\n",
    "export_results(sess_id)\n",
    "\n",
    "def compute_strengths():\n",
    "    req.update_strengths(DB,sess_id)\n",
    "    export_results(sess_id)\n",
    "\n",
    "def stage_round(round = 0):\n",
    "    req.get_suggested_games(DB,sess_id,round)\n",
    "    export_suggested_games(sess_id)\n",
    "    print('done')\n",
    "    \n",
    "def update_score(game_id=-1,score_1 = -1, score_2 = -1):\n",
    "    req.update_score(DB,game_id,score_1,score_2)\n",
    "    export_games(sess_id)\n",
    "    print_game(Games[game_id])\n",
    "\n",
    "def add_suggested_games():\n",
    "    req.add_suggested_games(DB,sess_id)\n",
    "    export_games(sess_id)\n",
    "def add_suggested_game(game_id=0):\n",
    "    req.add_game(DB,sess_id,DB['Sessions'][sess_id]['suggestedGames'][game_id])\n",
    "    export_games(sess_id)\n",
    "\n",
    "def add_game(team_1 = 0, team_2 = 0, round = 0):\n",
    "    req.add_game(DB,sess_id,req.new_game(team_1,team_2,round))\n",
    "    export_games(sess_id)\n",
    "\n",
    "def remove_game(game_id=-1):\n",
    "    req.remove_game(DB, sess_id, game_id)\n",
    "    export_games(sess_id)\n",
    "\n",
    "    \n",
    "def check_teams(team_1=0,team_2=0):\n",
    "    games = [Games[id] for id in DB['Sessions'][sess_id]['games']]\n",
    "    for game in games:\n",
    "        if set([game['team_1'],game['team_2']]) == set([team_1,team_2]):\n",
    "            print('played')\n",
    "            return True\n",
    "    print('unplayed')\n",
    "    return False"
   ]
  },
  {
   "cell_type": "code",
   "execution_count": 461,
   "metadata": {
    "collapsed": false
   },
   "outputs": [],
   "source": [
    "#Add a game to the session. Use the team ID to specify the teams\n",
    "add_game(team_1 = 11, team_2 = 25, round = 1 )"
   ]
  },
  {
   "cell_type": "code",
   "execution_count": 473,
   "metadata": {
    "collapsed": false
   },
   "outputs": [
    {
     "name": "stdout",
     "output_type": "stream",
     "text": [
      "unplayed\n"
     ]
    },
    {
     "data": {
      "text/plain": [
       "False"
      ]
     },
     "execution_count": 473,
     "metadata": {},
     "output_type": "execute_result"
    }
   ],
   "source": [
    "check_teams(team_1=11,team_2=25)"
   ]
  },
  {
   "cell_type": "code",
   "execution_count": 467,
   "metadata": {
    "collapsed": false
   },
   "outputs": [
    {
     "name": "stdout",
     "output_type": "stream",
     "text": [
      "u'140:r1  3 -- The Control vs TEMOILESNICHONS -- 0'\n"
     ]
    }
   ],
   "source": [
    "# update the scores in a game. get the game id from the list of games\n",
    "update_score(game_id=140,score_1 =3, score_2 =0)"
   ]
  },
  {
   "cell_type": "code",
   "execution_count": 359,
   "metadata": {
    "collapsed": false
   },
   "outputs": [],
   "source": [
    "# remove a game from the session\n",
    "remove_game(game_id=155)"
   ]
  },
  {
   "cell_type": "code",
   "execution_count": 468,
   "metadata": {
    "collapsed": false
   },
   "outputs": [
    {
     "name": "stdout",
     "output_type": "stream",
     "text": [
      "[]\n",
      "[32, 33, 2, 34, 36, 37, 35, 39, 40, 41, 13, 14, 16, 19, 38, 28, 30, 31]\n",
      "running MCMC\n",
      " [-----------------100%-----------------] 100000 of 100000 complete in 25.8 sec"
     ]
    }
   ],
   "source": [
    "# Compute the strengths of the teams. This may take some time.\n",
    "compute_strengths()"
   ]
  },
  {
   "cell_type": "code",
   "execution_count": 471,
   "metadata": {
    "collapsed": false
   },
   "outputs": [
    {
     "name": "stdout",
     "output_type": "stream",
     "text": [
      "[]\n",
      "[32, 33, 2, 34, 36, 37, 35, 39, 40, 41, 13, 14, 16, 19, 38, 28, 30, 31]\n",
      "running MCMC\n",
      " [-----------------100%-----------------] 100000 of 100000 complete in 25.8 sec[0, 1, 2, 3, 4, 5, 6, 7, 8, 9, 10, 11, 12, 13, 14, 15, 16, 17, 18, 19, 20, 21, 22, 23, 24, 25, 26, 27, 28, 29, 30, 31, 32, 33, 34, 35, 36, 37, 38, 39, 40, 41, 42, 43, 44, 45, 46, 47, 48, 49, 50, 51, 52, 53, 54, 55, 56, 57, 58, 59, 60, 61, 62, 63, 64, 65, 66, 67, 68, 69, 70, 71, 72, 73, 74, 75, 76, 77, 78, 79, 80, 81, 82, 83, 84, 85, 86, 87, 88, 89, 90, 91, 92, 93, 94, 95, 96, 97, 98, 99, 100, 101, 102, 103, 104, 105, 106, 107, 108, 109, 110, 111, 112, 113, 114, 115, 116, 117, 118, 119, 120, 121, 122, 123, 124, 125, 126, 127, 128, 129, 130, 131, 132, 133, 134, 135, 136, 137, 138, 139, 140, 141, 142, 143, 144, 145, 146, 147, 148, 149, 150, 151, 152]\n",
      "[]\n",
      "[32, 33, 2, 34, 36, 37, 35, 39, 40, 41, 13, 14, 16, 19, 38, 28, 30, 31]\n",
      "[[34, 39], [32, 36], [35, 41], [31, 2], [37, 13], [30, 38], [40, 19], [33, 14], [28, 16]]\n",
      "[(32, 33, {'weight': 5.4803286387077854}), (32, 2, {'weight': 5.4991186926317281}), (32, 34, {'weight': 5.6269500316541485}), (32, 37, {'weight': 5.5777384494712923}), (32, 35, {'weight': 5.5555407872138023}), (32, 39, {'weight': 3.8504703149142157}), (32, 40, {'weight': 5.4422462915578045}), (32, 41, {'weight': 5.5126626963704766}), (32, 13, {'weight': 5.454442054716913}), (32, 14, {'weight': 5.3334570800776042}), (32, 16, {'weight': 5.6432878795834327}), (32, 19, {'weight': 5.4970476017141756}), (32, 38, {'weight': 5.4500383263372392}), (32, 28, {'weight': 5.6492243522472592}), (32, 30, {'weight': 5.521181018862853}), (32, 31, {'weight': 5.3452069247308254}), (33, 32, {'weight': 5.4803286387077854}), (33, 2, {'weight': 6.2269760673266141}), (33, 34, {'weight': 5.4708669090541928}), (33, 36, {'weight': 5.4806802779469308}), (33, 37, {'weight': 6.2452624210886141}), (33, 35, {'weight': 6.3128645523838394}), (33, 39, {'weight': 5.5910024177585154}), (33, 40, {'weight': 6.3459139579445623}), (33, 41, {'weight': 6.1584834762368228}), (33, 13, {'weight': 6.2546543455358456}), (33, 16, {'weight': 6.3911881945416198}), (33, 19, {'weight': 6.2377903324107224}), (33, 38, {'weight': 6.3225511354731934}), (33, 28, {'weight': 6.4081374083550227}), (33, 30, {'weight': 6.2942739697580805}), (33, 31, {'weight': 6.2995155210129203}), (2, 32, {'weight': 5.4991186926317281}), (2, 33, {'weight': 6.2269760673266141}), (2, 34, {'weight': 5.4201767655914139}), (2, 36, {'weight': 5.3910868579958846}), (2, 37, {'weight': 6.2252153609584653}), (2, 35, {'weight': 6.203263921735279}), (2, 39, {'weight': 5.3987772873109119}), (2, 40, {'weight': 6.3113307014650992}), (2, 41, {'weight': 6.2098686079090255}), (2, 13, {'weight': 6.2652798468356927}), (2, 14, {'weight': 6.1319769978433278}), (2, 16, {'weight': 6.3056291800964219}), (2, 19, {'weight': 6.2404594646003169}), (2, 38, {'weight': 6.1582663198210623}), (2, 28, {'weight': 6.3293633962807867}), (2, 30, {'weight': 6.1919843778469232}), (34, 32, {'weight': 5.6269500316541485}), (34, 33, {'weight': 5.4708669090541928}), (34, 2, {'weight': 5.4201767655914139}), (34, 36, {'weight': 3.8428381918167864}), (34, 37, {'weight': 5.5997027307758316}), (34, 35, {'weight': 5.5633624523340011}), (34, 40, {'weight': 5.5712031380413052}), (34, 41, {'weight': 5.4564074883766107}), (34, 13, {'weight': 5.4342323541391053}), (34, 14, {'weight': 5.439792641617994}), (34, 16, {'weight': 5.5558626241561342}), (34, 19, {'weight': 5.4232032492251765}), (34, 38, {'weight': 5.4136649960642629}), (34, 28, {'weight': 5.6420091900638001}), (34, 30, {'weight': 5.5074408917897042}), (34, 31, {'weight': 5.3908635366426809}), (36, 33, {'weight': 5.4806802779469308}), (36, 2, {'weight': 5.3910868579958846}), (36, 34, {'weight': 3.8428381918167864}), (36, 37, {'weight': 5.4235167285056605}), (36, 35, {'weight': 5.3838742000554642}), (36, 39, {'weight': 5.6378721358510777}), (36, 40, {'weight': 5.509220414200537}), (36, 41, {'weight': 5.5068152070114644}), (36, 13, {'weight': 5.4618197608096857}), (36, 14, {'weight': 5.374681744954767}), (36, 16, {'weight': 5.512476463853524}), (36, 19, {'weight': 5.5179090382403224}), (36, 38, {'weight': 5.6657144845415921}), (36, 28, {'weight': 5.5700919205567541}), (36, 30, {'weight': 5.5379890073838656}), (36, 31, {'weight': 5.6883441897235389}), (37, 32, {'weight': 5.5777384494712923}), (37, 33, {'weight': 6.2452624210886141}), (37, 2, {'weight': 6.2252153609584653}), (37, 34, {'weight': 5.5997027307758316}), (37, 36, {'weight': 5.4235167285056605}), (37, 35, {'weight': 6.2056271884455736}), (37, 39, {'weight': 5.3915552923464833}), (37, 40, {'weight': 6.3243044323702176}), (37, 41, {'weight': 6.3234924218192425}), (37, 14, {'weight': 6.1443055008867127}), (37, 16, {'weight': 6.297315432528773}), (37, 19, {'weight': 6.2431887884860631}), (37, 38, {'weight': 6.2790850768159459}), (37, 28, {'weight': 6.4199918548273702}), (37, 30, {'weight': 6.2458619793804413}), (37, 31, {'weight': 6.2502679767995399}), (35, 32, {'weight': 5.5555407872138023}), (35, 33, {'weight': 6.3128645523838394}), (35, 2, {'weight': 6.203263921735279}), (35, 34, {'weight': 5.5633624523340011}), (35, 36, {'weight': 5.3838742000554642}), (35, 37, {'weight': 6.2056271884455736}), (35, 39, {'weight': 5.360905074178218}), (35, 40, {'weight': 6.2532218415489851}), (35, 13, {'weight': 6.1455882297891291}), (35, 14, {'weight': 6.2100134483110727}), (35, 16, {'weight': 6.3397970550411511}), (35, 19, {'weight': 6.2679695209212083}), (35, 38, {'weight': 6.2799127342432906}), (35, 28, {'weight': 6.4026931534348908}), (35, 30, {'weight': 6.2679030779641085}), (35, 31, {'weight': 6.250356136320443}), (39, 32, {'weight': 3.8504703149142157}), (39, 33, {'weight': 5.5910024177585154}), (39, 2, {'weight': 5.3987772873109119}), (39, 36, {'weight': 5.6378721358510777}), (39, 37, {'weight': 5.3915552923464833}), (39, 35, {'weight': 5.360905074178218}), (39, 40, {'weight': 5.708784195445519}), (39, 41, {'weight': 5.4614809942259601}), (39, 13, {'weight': 5.4847085955984394}), (39, 14, {'weight': 5.5646330298434563}), (39, 16, {'weight': 5.5935765420013119}), (39, 19, {'weight': 5.4006671286546331}), (39, 38, {'weight': 5.6869775344648055}), (39, 28, {'weight': 5.6886714397676004}), (39, 30, {'weight': 5.5989140893935545}), (39, 31, {'weight': 5.6447333080314408}), (40, 32, {'weight': 5.4422462915578045}), (40, 33, {'weight': 6.3459139579445623}), (40, 2, {'weight': 6.3113307014650992}), (40, 34, {'weight': 5.5712031380413052}), (40, 36, {'weight': 5.509220414200537}), (40, 37, {'weight': 6.3243044323702176}), (40, 35, {'weight': 6.2532218415489851}), (40, 39, {'weight': 5.708784195445519}), (40, 41, {'weight': 6.307840948406815}), (40, 13, {'weight': 6.2490250906004459}), (40, 14, {'weight': 6.2110543795448088}), (40, 16, {'weight': 6.3616060777746224}), (40, 38, {'weight': 6.3235507676352718}), (40, 28, {'weight': 6.4026600632332178}), (40, 30, {'weight': 6.2388355998862952}), (40, 31, {'weight': 6.3223290109651167}), (41, 32, {'weight': 5.5126626963704766}), (41, 33, {'weight': 6.1584834762368228}), (41, 2, {'weight': 6.2098686079090255}), (41, 34, {'weight': 5.4564074883766107}), (41, 36, {'weight': 5.5068152070114644}), (41, 37, {'weight': 6.3234924218192425}), (41, 39, {'weight': 5.4614809942259601}), (41, 40, {'weight': 6.307840948406815}), (41, 13, {'weight': 6.1923191460940519}), (41, 14, {'weight': 6.1433053951114083}), (41, 16, {'weight': 6.2329244676481927}), (41, 19, {'weight': 6.1774367142236812}), (41, 38, {'weight': 6.1399057164417954}), (41, 28, {'weight': 6.2548826446048391}), (41, 30, {'weight': 6.2324248139404261}), (41, 31, {'weight': 6.1529314048904791}), (13, 32, {'weight': 5.454442054716913}), (13, 33, {'weight': 6.2546543455358456}), (13, 2, {'weight': 6.2652798468356927}), (13, 34, {'weight': 5.4342323541391053}), (13, 36, {'weight': 5.4618197608096857}), (13, 35, {'weight': 6.1455882297891291}), (13, 39, {'weight': 5.4847085955984394}), (13, 40, {'weight': 6.2490250906004459}), (13, 41, {'weight': 6.1923191460940519}), (13, 14, {'weight': 6.1217525708242935}), (13, 16, {'weight': 6.3776375883751282}), (13, 19, {'weight': 6.2528385243644209}), (13, 38, {'weight': 6.2467638798732503}), (13, 28, {'weight': 6.275202319403542}), (13, 30, {'weight': 6.25263926457494}), (13, 31, {'weight': 6.2732284063223744}), (14, 32, {'weight': 5.3334570800776042}), (14, 2, {'weight': 6.1319769978433278}), (14, 34, {'weight': 5.439792641617994}), (14, 36, {'weight': 5.374681744954767}), (14, 37, {'weight': 6.1443055008867127}), (14, 35, {'weight': 6.2100134483110727}), (14, 39, {'weight': 5.5646330298434563}), (14, 40, {'weight': 6.2110543795448088}), (14, 41, {'weight': 6.1433053951114083}), (14, 13, {'weight': 6.1217525708242935}), (14, 16, {'weight': 6.3273606378123359}), (14, 19, {'weight': 6.2232932388604256}), (14, 38, {'weight': 6.2435236569979491}), (14, 28, {'weight': 6.2981335672385859}), (14, 30, {'weight': 6.2901578926760848}), (14, 31, {'weight': 6.2114373765418787}), (16, 32, {'weight': 5.6432878795834327}), (16, 33, {'weight': 6.3911881945416198}), (16, 2, {'weight': 6.3056291800964219}), (16, 34, {'weight': 5.5558626241561342}), (16, 36, {'weight': 5.512476463853524}), (16, 37, {'weight': 6.297315432528773}), (16, 35, {'weight': 6.3397970550411511}), (16, 39, {'weight': 5.5935765420013119}), (16, 40, {'weight': 6.3616060777746224}), (16, 41, {'weight': 6.2329244676481927}), (16, 13, {'weight': 6.3776375883751282}), (16, 14, {'weight': 6.3273606378123359}), (16, 19, {'weight': 6.4216829241255571}), (16, 38, {'weight': 6.3735857649019945}), (16, 30, {'weight': 6.2934633128916033}), (16, 31, {'weight': 6.2955712720808652}), (19, 32, {'weight': 5.4970476017141756}), (19, 33, {'weight': 6.2377903324107224}), (19, 2, {'weight': 6.2404594646003169}), (19, 34, {'weight': 5.4232032492251765}), (19, 36, {'weight': 5.5179090382403224}), (19, 37, {'weight': 6.2431887884860631}), (19, 35, {'weight': 6.2679695209212083}), (19, 39, {'weight': 5.4006671286546331}), (19, 41, {'weight': 6.1774367142236812}), (19, 13, {'weight': 6.2528385243644209}), (19, 14, {'weight': 6.2232932388604256}), (19, 16, {'weight': 6.4216829241255571}), (19, 38, {'weight': 6.1514423963471394}), (19, 28, {'weight': 6.2724805024018284}), (19, 30, {'weight': 6.2036243517660115}), (19, 31, {'weight': 6.2351718783663834}), (38, 32, {'weight': 5.4500383263372392}), (38, 33, {'weight': 6.3225511354731934}), (38, 2, {'weight': 6.1582663198210623}), (38, 34, {'weight': 5.4136649960642629}), (38, 36, {'weight': 5.6657144845415921}), (38, 37, {'weight': 6.2790850768159459}), (38, 35, {'weight': 6.2799127342432906}), (38, 39, {'weight': 5.6869775344648055}), (38, 40, {'weight': 6.3235507676352718}), (38, 41, {'weight': 6.1399057164417954}), (38, 13, {'weight': 6.2467638798732503}), (38, 14, {'weight': 6.2435236569979491}), (38, 16, {'weight': 6.3735857649019945}), (38, 19, {'weight': 6.1514423963471394}), (38, 28, {'weight': 6.3903325725501112}), (38, 31, {'weight': 6.2935708529556686}), (28, 32, {'weight': 5.6492243522472592}), (28, 33, {'weight': 6.4081374083550227}), (28, 2, {'weight': 6.3293633962807867}), (28, 34, {'weight': 5.6420091900638001}), (28, 36, {'weight': 5.5700919205567541}), (28, 37, {'weight': 6.4199918548273702}), (28, 35, {'weight': 6.4026931534348908}), (28, 39, {'weight': 5.6886714397676004}), (28, 40, {'weight': 6.4026600632332178}), (28, 41, {'weight': 6.2548826446048391}), (28, 13, {'weight': 6.275202319403542}), (28, 14, {'weight': 6.2981335672385859}), (28, 19, {'weight': 6.2724805024018284}), (28, 38, {'weight': 6.3903325725501112}), (28, 30, {'weight': 6.3001471011646242}), (28, 31, {'weight': 6.3123058895154891}), (30, 32, {'weight': 5.521181018862853}), (30, 33, {'weight': 6.2942739697580805}), (30, 2, {'weight': 6.1919843778469232}), (30, 34, {'weight': 5.5074408917897042}), (30, 36, {'weight': 5.5379890073838656}), (30, 37, {'weight': 6.2458619793804413}), (30, 35, {'weight': 6.2679030779641085}), (30, 39, {'weight': 5.5989140893935545}), (30, 40, {'weight': 6.2388355998862952}), (30, 41, {'weight': 6.2324248139404261}), (30, 13, {'weight': 6.25263926457494}), (30, 14, {'weight': 6.2901578926760848}), (30, 16, {'weight': 6.2934633128916033}), (30, 19, {'weight': 6.2036243517660115}), (30, 28, {'weight': 6.3001471011646242}), (30, 31, {'weight': 6.2277445335673765}), (31, 32, {'weight': 5.3452069247308254}), (31, 33, {'weight': 6.2995155210129203}), (31, 34, {'weight': 5.3908635366426809}), (31, 36, {'weight': 5.6883441897235389}), (31, 37, {'weight': 6.2502679767995399}), (31, 35, {'weight': 6.250356136320443}), (31, 39, {'weight': 5.6447333080314408}), (31, 40, {'weight': 6.3223290109651167}), (31, 41, {'weight': 6.1529314048904791}), (31, 13, {'weight': 6.2732284063223744}), (31, 14, {'weight': 6.2114373765418787}), (31, 16, {'weight': 6.2955712720808652}), (31, 19, {'weight': 6.2351718783663834}), (31, 38, {'weight': 6.2935708529556686}), (31, 28, {'weight': 6.3123058895154891}), (31, 30, {'weight': 6.2277445335673765})]\n",
      "done\n"
     ]
    }
   ],
   "source": [
    "#Suggest games for the next round. This may take quite some time.\n",
    "stage_round(round  =2)"
   ]
  },
  {
   "cell_type": "code",
   "execution_count": 472,
   "metadata": {
    "collapsed": false
   },
   "outputs": [],
   "source": [
    "#This will add the suggested games to the list of games\n",
    "add_suggested_games()"
   ]
  },
  {
   "cell_type": "code",
   "execution_count": 346,
   "metadata": {
    "collapsed": false
   },
   "outputs": [],
   "source": [
    "#add one of the suggested games to the list of games\n",
    "add_suggested_game(game_id=2)"
   ]
  },
  {
   "cell_type": "code",
   "execution_count": 291,
   "metadata": {
    "collapsed": false
   },
   "outputs": [
    {
     "name": "stdout",
     "output_type": "stream",
     "text": [
      "unplayed\n"
     ]
    },
    {
     "data": {
      "text/plain": [
       "False"
      ]
     },
     "execution_count": 291,
     "metadata": {},
     "output_type": "execute_result"
    }
   ],
   "source": []
  },
  {
   "cell_type": "code",
   "execution_count": 307,
   "metadata": {
    "collapsed": false
   },
   "outputs": [],
   "source": [
    "saveDB(DB)"
   ]
  },
  {
   "cell_type": "code",
   "execution_count": 233,
   "metadata": {
    "collapsed": false
   },
   "outputs": [],
   "source": [
    "export_results(sess_id)"
   ]
  },
  {
   "cell_type": "code",
   "execution_count": 224,
   "metadata": {
    "collapsed": false
   },
   "outputs": [],
   "source": [
    "export_games(sess_id)"
   ]
  },
  {
   "cell_type": "code",
   "execution_count": 198,
   "metadata": {
    "collapsed": true
   },
   "outputs": [],
   "source": [
    "export_games(1)"
   ]
  },
  {
   "cell_type": "code",
   "execution_count": 470,
   "metadata": {
    "collapsed": false
   },
   "outputs": [
    {
     "data": {
      "text/plain": [
       "<module 'ranking' from 'ranking.py'>"
      ]
     },
     "execution_count": 470,
     "metadata": {},
     "output_type": "execute_result"
    }
   ],
   "source": [
    "import bayes\n",
    "reload(req)\n",
    "reload(bayes)\n",
    "import ranking\n",
    "reload(ranking)"
   ]
  },
  {
   "cell_type": "code",
   "execution_count": 165,
   "metadata": {
    "collapsed": false,
    "scrolled": true
   },
   "outputs": [
    {
     "name": "stdout",
     "output_type": "stream",
     "text": [
      "unplayed\n"
     ]
    },
    {
     "ename": "NameError",
     "evalue": "global name 'false' is not defined",
     "output_type": "error",
     "traceback": [
      "\u001b[1;31m---------------------------------------------------------------------------\u001b[0m",
      "\u001b[1;31mNameError\u001b[0m                                 Traceback (most recent call last)",
      "\u001b[1;32m<ipython-input-165-dcad533369b0>\u001b[0m in \u001b[0;36m<module>\u001b[1;34m()\u001b[0m\n\u001b[1;32m----> 1\u001b[1;33m \u001b[0mcheck_teams\u001b[0m\u001b[1;33m(\u001b[0m\u001b[0mteam_1\u001b[0m\u001b[1;33m=\u001b[0m\u001b[1;36m19\u001b[0m\u001b[1;33m,\u001b[0m\u001b[0mteam_2\u001b[0m\u001b[1;33m=\u001b[0m\u001b[1;36m1\u001b[0m\u001b[1;33m)\u001b[0m\u001b[1;33m\u001b[0m\u001b[0m\n\u001b[0m",
      "\u001b[1;32m<ipython-input-164-cad8943b4ce4>\u001b[0m in \u001b[0;36mcheck_teams\u001b[1;34m(team_1, team_2)\u001b[0m\n\u001b[0;32m     40\u001b[0m             \u001b[1;32mreturn\u001b[0m \u001b[0mtrue\u001b[0m\u001b[1;33m\u001b[0m\u001b[0m\n\u001b[0;32m     41\u001b[0m     \u001b[1;32mprint\u001b[0m\u001b[1;33m(\u001b[0m\u001b[1;34m'unplayed'\u001b[0m\u001b[1;33m)\u001b[0m\u001b[1;33m\u001b[0m\u001b[0m\n\u001b[1;32m---> 42\u001b[1;33m     \u001b[1;32mreturn\u001b[0m \u001b[0mfalse\u001b[0m\u001b[1;33m\u001b[0m\u001b[0m\n\u001b[0m",
      "\u001b[1;31mNameError\u001b[0m: global name 'false' is not defined"
     ]
    }
   ],
   "source": []
  },
  {
   "cell_type": "code",
   "execution_count": 42,
   "metadata": {
    "collapsed": false
   },
   "outputs": [],
   "source": [
    "DB['Sessions'][3]['games'] = DB['Sessions'][1]['games'] + DB ['Sessions'][4]['games']\n",
    "DB['Sessions'][4]['games'] = DB['Sessions'][1]['games'] + DB ['Sessions'][4]['games']\n",
    "\n",
    "DB['Sessions'][3]['teams'] = [2,19,1,16,11,18,6,15,8,21,0,22,4,27]\n",
    "DB['Sessions'][4]['teams'] = [24,13,14,9,25,7,17,12,23,3,20,10,26,5]"
   ]
  },
  {
   "cell_type": "code",
   "execution_count": 270,
   "metadata": {
    "collapsed": true
   },
   "outputs": [],
   "source": [
    "DB['Sessions'][4]['games'] = list(set(DB['Sessions'][3]['games']+DB['Sessions'][4]['games']))"
   ]
  },
  {
   "cell_type": "code",
   "execution_count": 374,
   "metadata": {
    "collapsed": false
   },
   "outputs": [
    {
     "name": "stdout",
     "output_type": "stream",
     "text": [
      "[2, 1, 8, 11, 0, 4, 6, 15, 19, 16, 21, 18, 22, 27, 2, 1, 11, 0, 4, 8, 6, 1, 0, 4, 2, 11, 6, 8, 2, 11, 0, 4, 8, 6, 1, 0, 1, 11, 2, 4, 8, 6, 16, 19, 21, 15, 27, 18, 22, 21, 15, 16, 19, 18, 22, 27, 18, 16, 19, 15, 21, 27, 22, 27, 15, 16, 18, 19, 21, 22, 2, 19, 1, 16, 11, 18, 6, 15, 8, 21, 0, 22, 4, 27, 16, 6, 2, 1, 11, 19, 8, 15, 18, 21, 22, 4, 0, 27, 2, 16, 1, 19, 11, 6, 22, 8, 27, 15, 18, 0, 4, 21, 0, 21, 1, 27, 2, 22, 4, 19, 6, 18, 8, 16, 11, 15]\n",
      "[3, 5, 7, 9, 10, 12, 13, 14, 17, 20, 23, 24, 25, 26]\n"
     ]
    }
   ],
   "source": [
    "import bayes\n",
    "import ranking\n",
    "\n",
    "teams = bayes.make_teams(DB['Sessions'][4]['teams'])\n",
    "sess = bayes.init_session(teams)\n",
    "sess.games = bayes.mcmc_games([DB['Games'][id] for id in DB['Sessions'][4]['games']],teams)\n"
   ]
  },
  {
   "cell_type": "code",
   "execution_count": 375,
   "metadata": {
    "collapsed": false
   },
   "outputs": [
    {
     "name": "stdout",
     "output_type": "stream",
     "text": [
      "running MCMC\n",
      " [-----------------100%-----------------] 100000 of 100000 complete in 54.7 sec"
     ]
    }
   ],
   "source": [
    "sess.fit_model()\n"
   ]
  },
  {
   "cell_type": "code",
   "execution_count": 143,
   "metadata": {
    "collapsed": false
   },
   "outputs": [
    {
     "name": "stdout",
     "output_type": "stream",
     "text": [
      "[0, 1, 3, 5, 7, 10, 14, 15, 17, 18, 20, 21, 26, 27, 29, 31, 33, 36, 40, 41, 43, 44, 46, 47, 52, 54, 56, 58, 61, 65, 66, 68, 69, 71, 72, 77, 103, 105, 108, 112, 113, 115, 116, 118, 119, 124, 148, 151, 155, 156, 158, 159, 161, 162, 167, 190, 194, 195, 197, 198, 200, 201, 206, 245, 246, 248, 249, 251, 252, 257, 300, 302, 303, 305, 306, 311, 313, 314, 316, 317, 322, 333, 335, 336, 341, 343, 344, 349, 357, 362, 367]\n"
     ]
    }
   ],
   "source": [
    "\"{0:.2f}\".format(a)\n"
   ]
  },
  {
   "cell_type": "code",
   "execution_count": 376,
   "metadata": {
    "collapsed": false
   },
   "outputs": [
    {
     "name": "stdout",
     "output_type": "stream",
     "text": [
      "[79, 81, 83, 84, 86, 87, 88, 91, 94, 97, 98, 99, 100, 126, 128, 129, 131, 132, 133, 136, 139, 142, 143, 144, 145, 169, 170, 172, 173, 174, 177, 180, 183, 184, 185, 186, 207, 209, 210, 211, 214, 217, 220, 221, 222, 223, 226, 227, 228, 231, 234, 237, 238, 239, 240, 258, 259, 262, 265, 268, 269, 270, 271, 273, 276, 279, 282, 283, 284, 285, 289, 292, 295, 296, 297, 298, 325, 328, 329, 330, 331, 352, 353, 354, 355, 368, 369, 370, 372, 373, 375]\n"
     ]
    }
   ],
   "source": [
    "kl = sess.kl_info_vec()"
   ]
  },
  {
   "cell_type": "code",
   "execution_count": 240,
   "metadata": {
    "collapsed": false
   },
   "outputs": [
    {
     "name": "stdout",
     "output_type": "stream",
     "text": [
      "[[2, 9], [1, 13], [7, 10], [12, 8], [11, 0], [3, 4], [6, 5], [15, 25], [19, 24], [16, 21], [17, 18], [23, 14], [20, 22], [26, 27], [13, 2], [1, 9], [7, 12], [11, 3], [0, 4], [8, 5], [6, 10], [1, 12], [13, 0], [9, 4], [2, 11], [5, 7], [6, 8], [3, 10], [2, 7], [11, 13], [0, 10], [4, 5], [3, 8], [12, 9], [6, 1], [0, 12], [1, 11], [2, 10], [4, 8], [5, 9], [13, 7], [6, 3], [24, 16], [19, 21], [14, 25], [15, 23], [20, 26], [17, 27], [18, 22], [21, 15], [24, 25], [16, 19], [20, 14], [18, 23], [17, 26], [22, 27], [20, 25], [18, 24], [23, 16], [14, 19], [17, 15], [21, 27], [26, 22], [14, 27], [15, 26], [16, 25], [17, 24], [18, 20], [19, 23], [21, 22], [2, 19], [1, 16], [11, 18], [6, 15], [8, 21], [0, 22], [4, 27], [16, 6], [2, 1], [11, 19], [8, 15], [18, 21], [22, 4], [0, 27], [2, 16], [1, 19], [11, 6], [22, 8], [27, 15], [18, 0], [4, 21]]\n"
     ]
    }
   ],
   "source": [
    "sg = sess.stage_round(9,kl)"
   ]
  },
  {
   "cell_type": "code",
   "execution_count": 272,
   "metadata": {
    "collapsed": false
   },
   "outputs": [
    {
     "data": {
      "text/plain": [
       "5"
      ]
     },
     "execution_count": 272,
     "metadata": {},
     "output_type": "execute_result"
    }
   ],
   "source": [
    "sess.games[1].teams[0].id"
   ]
  },
  {
   "cell_type": "code",
   "execution_count": 116,
   "metadata": {
    "collapsed": false
   },
   "outputs": [
    {
     "data": {
      "text/plain": [
       "[2, 9]"
      ]
     },
     "execution_count": 116,
     "metadata": {},
     "output_type": "execute_result"
    }
   ],
   "source": [
    "import networkx as nx\n"
   ]
  },
  {
   "cell_type": "code",
   "execution_count": 377,
   "metadata": {
    "collapsed": false
   },
   "outputs": [
    {
     "data": {
      "text/plain": [
       "[{'t1': 3, 't2': 5, 'weight': 0.65755606172977288},\n",
       " {'t1': 3, 't2': 7, 'weight': 0.28291531421372973},\n",
       " {'t1': 3, 't2': 9, 'weight': 0.65739725038030317},\n",
       " {'t1': 3, 't2': 10, 'weight': 0.61963651383695506},\n",
       " {'t1': 3, 't2': 12, 'weight': 0.45181971355212447},\n",
       " {'t1': 3, 't2': 13, 'weight': 0.06017572176421071},\n",
       " {'t1': 3, 't2': 14, 'weight': 1.2706118120200185},\n",
       " {'t1': 3, 't2': 17, 'weight': 0.46754267301143182},\n",
       " {'t1': 3, 't2': 20, 'weight': 0.47935738115702708},\n",
       " {'t1': 3, 't2': 23, 'weight': 0.50020920703107397},\n",
       " {'t1': 3, 't2': 24, 'weight': 0.12925136413117944},\n",
       " {'t1': 3, 't2': 25, 'weight': 0.23700356508793563},\n",
       " {'t1': 3, 't2': 26, 'weight': 0.39631276105718971},\n",
       " {'t1': 5, 't2': 7, 'weight': 0.65119804051288543},\n",
       " {'t1': 5, 't2': 9, 'weight': 1.0214900964932667},\n",
       " {'t1': 5, 't2': 10, 'weight': 1.0543956291238805},\n",
       " {'t1': 5, 't2': 12, 'weight': 0.88326052158818946},\n",
       " {'t1': 5, 't2': 13, 'weight': 0.20935278339641306},\n",
       " {'t1': 5, 't2': 14, 'weight': 1.7758902622097614},\n",
       " {'t1': 5, 't2': 17, 'weight': 0.97538553108072046},\n",
       " {'t1': 5, 't2': 20, 'weight': 0.67318369378650988},\n",
       " {'t1': 5, 't2': 23, 'weight': 0.85498613155849768},\n",
       " {'t1': 5, 't2': 24, 'weight': 0.49574328417976421},\n",
       " {'t1': 5, 't2': 25, 'weight': 0.6831124008802516},\n",
       " {'t1': 5, 't2': 26, 'weight': 0.4457623731085576},\n",
       " {'t1': 7, 't2': 9, 'weight': 2.9210669416819823},\n",
       " {'t1': 7, 't2': 10, 'weight': 0.39809803015597423},\n",
       " {'t1': 7, 't2': 12, 'weight': 0.56817691363821998},\n",
       " {'t1': 7, 't2': 13, 'weight': 0.70777344656462793},\n",
       " {'t1': 7, 't2': 14, 'weight': 2.1029114231763426},\n",
       " {'t1': 7, 't2': 17, 'weight': 1.1885562419630089},\n",
       " {'t1': 7, 't2': 20, 'weight': 0.17631599298978395},\n",
       " {'t1': 7, 't2': 23, 'weight': 0.2596511774154604},\n",
       " {'t1': 7, 't2': 24, 'weight': 1.073332589766117},\n",
       " {'t1': 7, 't2': 25, 'weight': 0.96806689701518733},\n",
       " {'t1': 7, 't2': 26, 'weight': 0.07306882879136678},\n",
       " {'t1': 9, 't2': 10, 'weight': 1.0424496778682273},\n",
       " {'t1': 9, 't2': 12, 'weight': 0.65409432293288239},\n",
       " {'t1': 9, 't2': 13, 'weight': 0.96069975701454391},\n",
       " {'t1': 9, 't2': 14, 'weight': 0.39556160542289476},\n",
       " {'t1': 9, 't2': 17, 'weight': 1.1138191223002338},\n",
       " {'t1': 9, 't2': 20, 'weight': 0.38461598864753466},\n",
       " {'t1': 9, 't2': 23, 'weight': 0.35855459531966538},\n",
       " {'t1': 9, 't2': 24, 'weight': 1.5782462717298933},\n",
       " {'t1': 9, 't2': 25, 'weight': 1.4789079617331602},\n",
       " {'t1': 9, 't2': 26, 'weight': 0.15925954028186817},\n",
       " {'t1': 10, 't2': 12, 'weight': 0.62190516175397725},\n",
       " {'t1': 10, 't2': 13, 'weight': 0.088162245888768531},\n",
       " {'t1': 10, 't2': 14, 'weight': 1.4206916864576531},\n",
       " {'t1': 10, 't2': 17, 'weight': 0.63141628804618799},\n",
       " {'t1': 10, 't2': 20, 'weight': 0.35342318391309435},\n",
       " {'t1': 10, 't2': 23, 'weight': 0.57258048416950613},\n",
       " {'t1': 10, 't2': 24, 'weight': 0.17737427364576641},\n",
       " {'t1': 10, 't2': 25, 'weight': 0.41957206872377117},\n",
       " {'t1': 10, 't2': 26, 'weight': 0.21856276357590732},\n",
       " {'t1': 12, 't2': 13, 'weight': 0.064050817572748553},\n",
       " {'t1': 12, 't2': 14, 'weight': 1.0159058085355825},\n",
       " {'t1': 12, 't2': 17, 'weight': 0.34755852936467768},\n",
       " {'t1': 12, 't2': 20, 'weight': 0.30446546236755845},\n",
       " {'t1': 12, 't2': 23, 'weight': 0.36317859385979334},\n",
       " {'t1': 12, 't2': 24, 'weight': 0.15863137095657764},\n",
       " {'t1': 12, 't2': 25, 'weight': 0.22540667042289408},\n",
       " {'t1': 12, 't2': 26, 'weight': 0.19272959260830058},\n",
       " {'t1': 13, 't2': 14, 'weight': 0.21672019483929006},\n",
       " {'t1': 13, 't2': 17, 'weight': 0.13799487167031632},\n",
       " {'t1': 13, 't2': 20, 'weight': 0.036343745166063535},\n",
       " {'t1': 13, 't2': 23, 'weight': 0.038924275057286017},\n",
       " {'t1': 13, 't2': 24, 'weight': 0.40441924604391177},\n",
       " {'t1': 13, 't2': 25, 'weight': 0.16130255881686217},\n",
       " {'t1': 13, 't2': 26, 'weight': 0.023896414249052533},\n",
       " {'t1': 14, 't2': 17, 'weight': 1.0290129987264711},\n",
       " {'t1': 14, 't2': 20, 'weight': 0.77523707902798522},\n",
       " {'t1': 14, 't2': 23, 'weight': 0.76422944772457679},\n",
       " {'t1': 14, 't2': 24, 'weight': 0.51535091303681524},\n",
       " {'t1': 14, 't2': 25, 'weight': 1.1350861222221833},\n",
       " {'t1': 14, 't2': 26, 'weight': 0.35820054003947677},\n",
       " {'t1': 17, 't2': 20, 'weight': 0.26267665013007147},\n",
       " {'t1': 17, 't2': 23, 'weight': 0.29386101696418354},\n",
       " {'t1': 17, 't2': 24, 'weight': 0.27065056097213569},\n",
       " {'t1': 17, 't2': 25, 'weight': 0.44441206250754739},\n",
       " {'t1': 17, 't2': 26, 'weight': 0.15388864578829509},\n",
       " {'t1': 20, 't2': 23, 'weight': 0.54957127016070428},\n",
       " {'t1': 20, 't2': 24, 'weight': 0.071626579594908257},\n",
       " {'t1': 20, 't2': 25, 'weight': 0.12770518304728151},\n",
       " {'t1': 20, 't2': 26, 'weight': 0.34142889100437213},\n",
       " {'t1': 23, 't2': 24, 'weight': 0.074407219477164332},\n",
       " {'t1': 23, 't2': 25, 'weight': 0.15517214615340436},\n",
       " {'t1': 23, 't2': 26, 'weight': 0.52219570640031954},\n",
       " {'t1': 24, 't2': 25, 'weight': 0.27932892838724088},\n",
       " {'t1': 24, 't2': 26, 'weight': 0.045124947162855644},\n",
       " {'t1': 25, 't2': 26, 'weight': 0.082627791349746627}]"
      ]
     },
     "execution_count": 377,
     "metadata": {},
     "output_type": "execute_result"
    }
   ],
   "source": [
    "kl"
   ]
  },
  {
   "cell_type": "code",
   "execution_count": 329,
   "metadata": {
    "collapsed": false
   },
   "outputs": [
    {
     "data": {
      "text/plain": [
       "{0: 1.240902108482105,\n",
       " 1: -1.7313163712697726,\n",
       " 2: -2.8765658394250044,\n",
       " 3: 1.1288194903466013,\n",
       " 4: 1.4651319018689322,\n",
       " 5: 2.4161783699511941,\n",
       " 6: 0.14419265791853592,\n",
       " 7: -0.053151918012899063,\n",
       " 8: 0.96596172161713834,\n",
       " 9: -1.1502022887057295,\n",
       " 10: 1.2421464553926431,\n",
       " 11: -1.0857910719168931,\n",
       " 12: 0.40310069577556018,\n",
       " 13: -2.1094059120224267,\n",
       " 14: 0,\n",
       " 15: 0,\n",
       " 16: 0,\n",
       " 17: 0,\n",
       " 18: 0,\n",
       " 19: 0,\n",
       " 20: 0,\n",
       " 21: 0,\n",
       " 22: 0,\n",
       " 23: 0,\n",
       " 24: 0,\n",
       " 25: 0,\n",
       " 26: 0,\n",
       " 27: 0}"
      ]
     },
     "execution_count": 329,
     "metadata": {},
     "output_type": "execute_result"
    }
   ],
   "source": [
    "x['Sessions'][2]['strengths']"
   ]
  },
  {
   "cell_type": "code",
   "execution_count": 115,
   "metadata": {
    "collapsed": false
   },
   "outputs": [],
   "source": [
    "DB['Sessions'][4]['games'] = list(set(DB['Sessions'][4]['games']\n",
    "                                 + DB['Sessions'][1]['games']\n",
    "                                 + DB ['Sessions'][2]['games']))"
   ]
  },
  {
   "cell_type": "code",
   "execution_count": 2,
   "metadata": {
    "collapsed": false
   },
   "outputs": [
    {
     "data": {
      "text/plain": [
       "'/home/ubuntu/bayesian/python'"
      ]
     },
     "execution_count": 2,
     "metadata": {},
     "output_type": "execute_result"
    }
   ],
   "source": [
    "pwd"
   ]
  },
  {
   "cell_type": "code",
   "execution_count": 16,
   "metadata": {
    "collapsed": true
   },
   "outputs": [],
   "source": [
    "\n",
    "DB['Sessions'][3]['teams'] = [2,19,1,16,11,18,6,15,8,21,0,22,4,27]\n",
    "DB['Sessions'][4]['teams'] = [24,13,14,9,25,7,17,12,23,3,20,10,26,5]\n",
    "DB['Sessions'][3]['strengths'] = {k:0.0 for k in DB['Sessions'][3]['teams']}\n",
    "DB['Sessions'][4]['strengths'] = {k:0.0 for k in DB['Sessions'][4]['teams']}"
   ]
  },
  {
   "cell_type": "code",
   "execution_count": 144,
   "metadata": {
    "collapsed": true
   },
   "outputs": [],
   "source": [
    "saveDB(DB)"
   ]
  },
  {
   "cell_type": "code",
   "execution_count": 51,
   "metadata": {
    "collapsed": false,
    "scrolled": true
   },
   "outputs": [
    {
     "name": "stdout",
     "output_type": "stream",
     "text": [
      "u'2: Golem  strength = 0.0'\n",
      "u'19: Beware  strength = 0.0'\n",
      "u'1: Wabbit  strength = 0.0'\n",
      "u'16: The Jamesons  strength = 0.0'\n",
      "u'11: Triple Fisted  strength = 0.0'\n",
      "u'18: Mammoth  strength = 0.0'\n",
      "u'6: Gentlemans  strength = 0.0'\n",
      "u'15: The Royales with Cheese  strength = 0.0'\n",
      "u'8: Rusty Spoons  strength = 0.0'\n",
      "u'21: Lost Cat  strength = 0.0'\n",
      "u'0: Ball Bangers  strength = 0.0'\n",
      "u'22: Mighty Bisons  strength = 0.0'\n",
      "u'4: JKL  strength = 0.0'\n",
      "u\"27: The Caracal's  strength = 0.0\"\n"
     ]
    }
   ],
   "source": [
    "list_teams(3)"
   ]
  },
  {
   "cell_type": "code",
   "execution_count": null,
   "metadata": {
    "collapsed": false
   },
   "outputs": [],
   "source": []
  },
  {
   "cell_type": "code",
   "execution_count": 19,
   "metadata": {
    "collapsed": false
   },
   "outputs": [
    {
     "name": "stdout",
     "output_type": "stream",
     "text": [
      "u'24: Three Boys  strength = 0.0'\n",
      "u'13: Pete un Plomb  strength = 0.0'\n",
      "u'14: Kitten Pile Crush  strength = 0.0'\n",
      "u'9: Daft Monks  strength = 0.0'\n",
      "u'25: Gobshites  strength = 0.0'\n",
      "u'7: Sons of Odin  strength = 0.0'\n",
      "u'17: Elf Death  strength = 0.0'\n",
      "u'12: With Fire  strength = 0.0'\n",
      "u'23: Sometimes  strength = 0.0'\n",
      "u'3: The Edinburgh Badgers  strength = 0.0'\n",
      "u'20: Two and a half Men  strength = 0.0'\n",
      "u'10: The Budgie Smugglers  strength = 0.0'\n",
      "u'26: Kumaras bravas  strength = 0.0'\n",
      "u'5: The Inseminators  strength = 0.0'\n"
     ]
    }
   ],
   "source": [
    "list_teams(4)"
   ]
  },
  {
   "cell_type": "code",
   "execution_count": 55,
   "metadata": {
    "collapsed": false
   },
   "outputs": [],
   "source": [
    "export_games(4)"
   ]
  },
  {
   "cell_type": "code",
   "execution_count": 395,
   "metadata": {
    "collapsed": false
   },
   "outputs": [
    {
     "name": "stdout",
     "output_type": "stream",
     "text": [
      "[2, 1, 8, 11, 0, 4, 6, 15, 19, 16, 21, 18, 22, 27, 2, 1, 11, 0, 4, 8, 6, 1, 0, 4, 2, 11, 6, 8, 2, 11, 0, 4, 8, 6, 1, 0, 1, 11, 2, 4, 8, 6, 16, 19, 21, 15, 27, 18, 22, 21, 15, 16, 19, 18, 22, 27, 18, 16, 19, 15, 21, 27, 22, 27, 15, 16, 18, 19, 21, 22, 2, 19, 1, 16, 11, 18, 6, 15, 8, 21, 0, 22, 4, 27, 16, 6, 2, 1, 11, 19, 8, 15, 18, 21, 22, 4, 0, 27, 2, 16, 1, 19, 11, 6, 22, 8, 27, 15, 18, 0, 4, 21, 0, 21, 1, 27, 2, 22, 4, 19, 6, 18, 8, 16, 11, 15]\n",
      "[3, 5, 7, 9, 10, 12, 13, 14, 17, 20, 23, 24, 25, 26]\n",
      "running MCMC\n",
      " [-----------------100%-----------------] 100000 of 100000 complete in 54.5 sec"
     ]
    },
    {
     "ename": "AttributeError",
     "evalue": "log",
     "output_type": "error",
     "traceback": [
      "\u001b[1;31m---------------------------------------------------------------------------\u001b[0m",
      "\u001b[1;31mAttributeError\u001b[0m                            Traceback (most recent call last)",
      "\u001b[1;32m<ipython-input-395-2f87d8e8e4de>\u001b[0m in \u001b[0;36m<module>\u001b[1;34m()\u001b[0m\n\u001b[0;32m      9\u001b[0m \u001b[0mfac\u001b[0m \u001b[1;33m=\u001b[0m \u001b[0msess\u001b[0m\u001b[1;33m.\u001b[0m\u001b[0mmcmc\u001b[0m\u001b[1;33m.\u001b[0m\u001b[0mscale\u001b[0m\u001b[1;33m.\u001b[0m\u001b[0mstats\u001b[0m\u001b[1;33m(\u001b[0m\u001b[1;33m)\u001b[0m\u001b[1;33m[\u001b[0m\u001b[1;34m'mean'\u001b[0m\u001b[1;33m]\u001b[0m\u001b[1;33m\u001b[0m\u001b[0m\n\u001b[0;32m     10\u001b[0m \u001b[0mg_fun\u001b[0m \u001b[1;33m=\u001b[0m \u001b[1;32mlambda\u001b[0m \u001b[0ms1\u001b[0m\u001b[1;33m,\u001b[0m\u001b[0ms2\u001b[0m\u001b[1;33m,\u001b[0m\u001b[0mdelta\u001b[0m\u001b[1;33m:\u001b[0m\u001b[0mranking\u001b[0m\u001b[1;33m.\u001b[0m\u001b[0mlog_2_pois_like\u001b[0m\u001b[1;33m(\u001b[0m\u001b[0mdelta\u001b[0m\u001b[1;33m,\u001b[0m\u001b[0mst\u001b[0m\u001b[1;33m,\u001b[0m\u001b[0ms1\u001b[0m\u001b[1;33m,\u001b[0m\u001b[0ms2\u001b[0m\u001b[1;33m)\u001b[0m\u001b[1;33m\u001b[0m\u001b[0m\n\u001b[1;32m---> 11\u001b[1;33m \u001b[1;33m[\u001b[0m\u001b[0mg_fun\u001b[0m\u001b[1;33m(\u001b[0m\u001b[0mg\u001b[0m\u001b[1;33m[\u001b[0m\u001b[1;34m'scores'\u001b[0m\u001b[1;33m]\u001b[0m\u001b[1;33m[\u001b[0m\u001b[0mg\u001b[0m\u001b[1;33m[\u001b[0m\u001b[1;34m'team_1'\u001b[0m\u001b[1;33m]\u001b[0m\u001b[1;33m]\u001b[0m\u001b[1;33m,\u001b[0m\u001b[0mg\u001b[0m\u001b[1;33m[\u001b[0m\u001b[1;34m'scores'\u001b[0m\u001b[1;33m]\u001b[0m\u001b[1;33m[\u001b[0m\u001b[0mg\u001b[0m\u001b[1;33m[\u001b[0m\u001b[1;34m'team_2'\u001b[0m\u001b[1;33m]\u001b[0m\u001b[1;33m]\u001b[0m\u001b[1;33m,\u001b[0m\u001b[0mst\u001b[0m\u001b[1;33m[\u001b[0m\u001b[0mg\u001b[0m\u001b[1;33m[\u001b[0m\u001b[1;34m'team_1'\u001b[0m\u001b[1;33m]\u001b[0m\u001b[1;33m]\u001b[0m\u001b[1;33m-\u001b[0m\u001b[0mst\u001b[0m\u001b[1;33m[\u001b[0m\u001b[0mg\u001b[0m\u001b[1;33m[\u001b[0m\u001b[1;34m'team_2'\u001b[0m\u001b[1;33m]\u001b[0m\u001b[1;33m]\u001b[0m\u001b[1;33m)\u001b[0m \u001b[1;32mfor\u001b[0m \u001b[0mg\u001b[0m \u001b[1;32min\u001b[0m \u001b[0mDB\u001b[0m\u001b[1;33m[\u001b[0m\u001b[1;34m'Games'\u001b[0m\u001b[1;33m]\u001b[0m\u001b[1;33m.\u001b[0m\u001b[0mvalues\u001b[0m\u001b[1;33m(\u001b[0m\u001b[1;33m)\u001b[0m\u001b[1;33m]\u001b[0m\u001b[1;33m\u001b[0m\u001b[0m\n\u001b[0m",
      "\u001b[1;32m<ipython-input-395-2f87d8e8e4de>\u001b[0m in \u001b[0;36m<lambda>\u001b[1;34m(s1, s2, delta)\u001b[0m\n\u001b[0;32m      8\u001b[0m \u001b[0mst\u001b[0m \u001b[1;33m=\u001b[0m \u001b[0msess\u001b[0m\u001b[1;33m.\u001b[0m\u001b[0mstrengths\u001b[0m\u001b[1;33m(\u001b[0m\u001b[1;33m)\u001b[0m\u001b[1;33m\u001b[0m\u001b[0m\n\u001b[0;32m      9\u001b[0m \u001b[0mfac\u001b[0m \u001b[1;33m=\u001b[0m \u001b[0msess\u001b[0m\u001b[1;33m.\u001b[0m\u001b[0mmcmc\u001b[0m\u001b[1;33m.\u001b[0m\u001b[0mscale\u001b[0m\u001b[1;33m.\u001b[0m\u001b[0mstats\u001b[0m\u001b[1;33m(\u001b[0m\u001b[1;33m)\u001b[0m\u001b[1;33m[\u001b[0m\u001b[1;34m'mean'\u001b[0m\u001b[1;33m]\u001b[0m\u001b[1;33m\u001b[0m\u001b[0m\n\u001b[1;32m---> 10\u001b[1;33m \u001b[0mg_fun\u001b[0m \u001b[1;33m=\u001b[0m \u001b[1;32mlambda\u001b[0m \u001b[0ms1\u001b[0m\u001b[1;33m,\u001b[0m\u001b[0ms2\u001b[0m\u001b[1;33m,\u001b[0m\u001b[0mdelta\u001b[0m\u001b[1;33m:\u001b[0m\u001b[0mranking\u001b[0m\u001b[1;33m.\u001b[0m\u001b[0mlog_2_pois_like\u001b[0m\u001b[1;33m(\u001b[0m\u001b[0mdelta\u001b[0m\u001b[1;33m,\u001b[0m\u001b[0mst\u001b[0m\u001b[1;33m,\u001b[0m\u001b[0ms1\u001b[0m\u001b[1;33m,\u001b[0m\u001b[0ms2\u001b[0m\u001b[1;33m)\u001b[0m\u001b[1;33m\u001b[0m\u001b[0m\n\u001b[0m\u001b[0;32m     11\u001b[0m \u001b[1;33m[\u001b[0m\u001b[0mg_fun\u001b[0m\u001b[1;33m(\u001b[0m\u001b[0mg\u001b[0m\u001b[1;33m[\u001b[0m\u001b[1;34m'scores'\u001b[0m\u001b[1;33m]\u001b[0m\u001b[1;33m[\u001b[0m\u001b[0mg\u001b[0m\u001b[1;33m[\u001b[0m\u001b[1;34m'team_1'\u001b[0m\u001b[1;33m]\u001b[0m\u001b[1;33m]\u001b[0m\u001b[1;33m,\u001b[0m\u001b[0mg\u001b[0m\u001b[1;33m[\u001b[0m\u001b[1;34m'scores'\u001b[0m\u001b[1;33m]\u001b[0m\u001b[1;33m[\u001b[0m\u001b[0mg\u001b[0m\u001b[1;33m[\u001b[0m\u001b[1;34m'team_2'\u001b[0m\u001b[1;33m]\u001b[0m\u001b[1;33m]\u001b[0m\u001b[1;33m,\u001b[0m\u001b[0mst\u001b[0m\u001b[1;33m[\u001b[0m\u001b[0mg\u001b[0m\u001b[1;33m[\u001b[0m\u001b[1;34m'team_1'\u001b[0m\u001b[1;33m]\u001b[0m\u001b[1;33m]\u001b[0m\u001b[1;33m-\u001b[0m\u001b[0mst\u001b[0m\u001b[1;33m[\u001b[0m\u001b[0mg\u001b[0m\u001b[1;33m[\u001b[0m\u001b[1;34m'team_2'\u001b[0m\u001b[1;33m]\u001b[0m\u001b[1;33m]\u001b[0m\u001b[1;33m)\u001b[0m \u001b[1;32mfor\u001b[0m \u001b[0mg\u001b[0m \u001b[1;32min\u001b[0m \u001b[0mDB\u001b[0m\u001b[1;33m[\u001b[0m\u001b[1;34m'Games'\u001b[0m\u001b[1;33m]\u001b[0m\u001b[1;33m.\u001b[0m\u001b[0mvalues\u001b[0m\u001b[1;33m(\u001b[0m\u001b[1;33m)\u001b[0m\u001b[1;33m]\u001b[0m\u001b[1;33m\u001b[0m\u001b[0m\n",
      "\u001b[1;32m/home/ubuntu/bayesian/python/ranking.pyc\u001b[0m in \u001b[0;36mlog_2_pois_like\u001b[1;34m(d, a, s1, s2)\u001b[0m\n\u001b[0;32m     42\u001b[0m     \u001b[0mdp\u001b[0m \u001b[1;33m=\u001b[0m \u001b[1;36m1.0\u001b[0m\u001b[1;33m*\u001b[0m\u001b[0mnp\u001b[0m\u001b[1;33m.\u001b[0m\u001b[0marctan\u001b[0m\u001b[1;33m(\u001b[0m\u001b[0md\u001b[0m\u001b[1;33m)\u001b[0m\u001b[1;33m\u001b[0m\u001b[0m\n\u001b[0;32m     43\u001b[0m     return ( log(a)*(s1+s2)+dp*(s2-s1) -2*a*cosh(dp) -\n\u001b[1;32m---> 44\u001b[1;33m              gammaln(s1+1) - gammaln(s2+1) )\n\u001b[0m\u001b[0;32m     45\u001b[0m \u001b[1;33m\u001b[0m\u001b[0m\n\u001b[0;32m     46\u001b[0m \u001b[1;32mdef\u001b[0m \u001b[0mlog_diff_exp_likr\u001b[0m\u001b[1;33m(\u001b[0m\u001b[0md\u001b[0m\u001b[1;33m,\u001b[0m\u001b[0ma\u001b[0m\u001b[1;33m,\u001b[0m\u001b[0ms1\u001b[0m\u001b[1;33m,\u001b[0m\u001b[0ms2\u001b[0m\u001b[1;33m)\u001b[0m\u001b[1;33m:\u001b[0m\u001b[1;33m\u001b[0m\u001b[0m\n",
      "\u001b[1;32m/home/ubuntu/venv/lib/python2.7/site-packages/numpy/lib/scimath.pyc\u001b[0m in \u001b[0;36mlog\u001b[1;34m(x)\u001b[0m\n\u001b[0;32m    260\u001b[0m     \"\"\"\n\u001b[0;32m    261\u001b[0m     \u001b[0mx\u001b[0m \u001b[1;33m=\u001b[0m \u001b[0m_fix_real_lt_zero\u001b[0m\u001b[1;33m(\u001b[0m\u001b[0mx\u001b[0m\u001b[1;33m)\u001b[0m\u001b[1;33m\u001b[0m\u001b[0m\n\u001b[1;32m--> 262\u001b[1;33m     \u001b[1;32mreturn\u001b[0m \u001b[0mnx\u001b[0m\u001b[1;33m.\u001b[0m\u001b[0mlog\u001b[0m\u001b[1;33m(\u001b[0m\u001b[0mx\u001b[0m\u001b[1;33m)\u001b[0m\u001b[1;33m\u001b[0m\u001b[0m\n\u001b[0m\u001b[0;32m    263\u001b[0m \u001b[1;33m\u001b[0m\u001b[0m\n\u001b[0;32m    264\u001b[0m \u001b[1;32mdef\u001b[0m \u001b[0mlog10\u001b[0m\u001b[1;33m(\u001b[0m\u001b[0mx\u001b[0m\u001b[1;33m)\u001b[0m\u001b[1;33m:\u001b[0m\u001b[1;33m\u001b[0m\u001b[0m\n",
      "\u001b[1;31mAttributeError\u001b[0m: log"
     ]
    }
   ],
   "source": [
    "import ranking\n",
    "\n",
    "teamids = bayes.make_teams(DB['Sessions'][1]['teams'] + DB['Sessions'][2]['teams'])\n",
    "\n",
    "sess = bayes.init_session(teamids)\n",
    "sess.games = bayes.mcmc_games([DB['Games'][id] for id in DB['Sessions'][4]['games']],teams)\n",
    "sess.fit_model()\n",
    "st = sess.strengths()\n",
    "fac = sess.mcmc.scale.stats()['mean']\n",
    "g_fun = lambda s1,s2,delta:ranking.log_2_pois_like(delta,st,s1,s2)\n",
    "[g_fun(g['scores'][g['team_1']],g['scores'][g['team_2']],st[g['team_1']]-st[g['team_2']]) for g in DB['Games'].values()]\n"
   ]
  },
  {
   "cell_type": "code",
   "execution_count": 403,
   "metadata": {
    "collapsed": false
   },
   "outputs": [
    {
     "ename": "KeyError",
     "evalue": "'scores'",
     "output_type": "error",
     "traceback": [
      "\u001b[1;31m---------------------------------------------------------------------------\u001b[0m",
      "\u001b[1;31mKeyError\u001b[0m                                  Traceback (most recent call last)",
      "\u001b[1;32m<ipython-input-403-a372b7e55609>\u001b[0m in \u001b[0;36m<module>\u001b[1;34m()\u001b[0m\n\u001b[1;32m----> 1\u001b[1;33m \u001b[1;33m[\u001b[0m\u001b[1;33m(\u001b[0m\u001b[0mg\u001b[0m\u001b[1;33m[\u001b[0m\u001b[1;34m'scores'\u001b[0m\u001b[1;33m]\u001b[0m\u001b[1;33m[\u001b[0m\u001b[0mg\u001b[0m\u001b[1;33m[\u001b[0m\u001b[1;34m'team_1'\u001b[0m\u001b[1;33m]\u001b[0m\u001b[1;33m]\u001b[0m\u001b[1;33m,\u001b[0m\u001b[0mg\u001b[0m\u001b[1;33m[\u001b[0m\u001b[1;34m'scores'\u001b[0m\u001b[1;33m]\u001b[0m\u001b[1;33m[\u001b[0m\u001b[0mg\u001b[0m\u001b[1;33m[\u001b[0m\u001b[1;34m'team_2'\u001b[0m\u001b[1;33m]\u001b[0m\u001b[1;33m]\u001b[0m\u001b[1;33m,\u001b[0m\u001b[0mst\u001b[0m\u001b[1;33m[\u001b[0m\u001b[0mg\u001b[0m\u001b[1;33m[\u001b[0m\u001b[1;34m'team_1'\u001b[0m\u001b[1;33m]\u001b[0m\u001b[1;33m]\u001b[0m\u001b[1;33m-\u001b[0m\u001b[0mst\u001b[0m\u001b[1;33m[\u001b[0m\u001b[0mg\u001b[0m\u001b[1;33m[\u001b[0m\u001b[1;34m'team_2'\u001b[0m\u001b[1;33m]\u001b[0m\u001b[1;33m]\u001b[0m\u001b[1;33m)\u001b[0m \u001b[1;32mfor\u001b[0m \u001b[0mg\u001b[0m \u001b[1;32min\u001b[0m \u001b[0mDB\u001b[0m\u001b[1;33m[\u001b[0m\u001b[1;34m'Games'\u001b[0m\u001b[1;33m]\u001b[0m\u001b[1;33m.\u001b[0m\u001b[0mvalues\u001b[0m\u001b[1;33m(\u001b[0m\u001b[1;33m)\u001b[0m\u001b[1;33m]\u001b[0m\u001b[1;33m\u001b[0m\u001b[0m\n\u001b[0m",
      "\u001b[1;31mKeyError\u001b[0m: 'scores'"
     ]
    }
   ],
   "source": [
    "[(g['scores'][g['team_1']],g['scores'][g['team_2']],\n",
    "  st[g['team_1']]-st[g['team_2']]) for g in DB['Games'].values()]"
   ]
  },
  {
   "cell_type": "code",
   "execution_count": null,
   "metadata": {
    "collapsed": true
   },
   "outputs": [],
   "source": [
    "teams = bayes.make_teams(DB['Sessions'][3]['teams'])\n",
    "sess = bayes.init_session(teams)\n",
    "sess.games = bayes.mcmc_games([DB['Games'][id] for id in DB['Sessions'][3]['games']],teams)"
   ]
  },
  {
   "cell_type": "code",
   "execution_count": 392,
   "metadata": {
    "collapsed": false
   },
   "outputs": [
    {
     "data": {
      "text/plain": [
       "{u'id': 0,\n",
       " u'round': 1,\n",
       " u'scores': {2: 6, 9: 2},\n",
       " u'status': 1,\n",
       " u'team_1': 2,\n",
       " u'team_2': 9}"
      ]
     },
     "execution_count": 392,
     "metadata": {},
     "output_type": "execute_result"
    }
   ],
   "source": [
    "DB['Games'][0]"
   ]
  },
  {
   "cell_type": "code",
   "execution_count": 406,
   "metadata": {
    "collapsed": false
   },
   "outputs": [
    {
     "data": {
      "text/plain": [
       "[{u'id': 0,\n",
       "  u'round': 1,\n",
       "  u'scores': {2: 6, 9: 2},\n",
       "  u'status': 1,\n",
       "  u'team_1': 2,\n",
       "  u'team_2': 9},\n",
       " {u'id': 1,\n",
       "  u'round': 1,\n",
       "  u'scores': {1: 2, 13: 4},\n",
       "  u'status': 1,\n",
       "  u'team_1': 1,\n",
       "  u'team_2': 13},\n",
       " {u'id': 2,\n",
       "  u'round': 1,\n",
       "  u'scores': {7: 3, 10: 2},\n",
       "  u'status': 1,\n",
       "  u'team_1': 7,\n",
       "  u'team_2': 10},\n",
       " {u'id': 3,\n",
       "  u'round': 1,\n",
       "  u'scores': {8: 3, 12: 5},\n",
       "  u'status': 1,\n",
       "  u'team_1': 12,\n",
       "  u'team_2': 8},\n",
       " {u'id': 4,\n",
       "  u'round': 1,\n",
       "  u'scores': {0: 1, 11: 11},\n",
       "  u'status': 1,\n",
       "  u'team_1': 11,\n",
       "  u'team_2': 0},\n",
       " {u'id': 5,\n",
       "  u'round': 1,\n",
       "  u'scores': {3: 2, 4: 1},\n",
       "  u'status': 1,\n",
       "  u'team_1': 3,\n",
       "  u'team_2': 4},\n",
       " {u'id': 6,\n",
       "  u'round': 1,\n",
       "  u'scores': {5: 2, 6: 5},\n",
       "  u'status': 1,\n",
       "  u'team_1': 6,\n",
       "  u'team_2': 5},\n",
       " {u'id': 7,\n",
       "  u'round': 1,\n",
       "  u'scores': {15: 1, 25: 5},\n",
       "  u'status': 1,\n",
       "  u'team_1': 15,\n",
       "  u'team_2': 25},\n",
       " {u'id': 8,\n",
       "  u'round': 1,\n",
       "  u'scores': {19: 2, 24: 3},\n",
       "  u'status': 1,\n",
       "  u'team_1': 19,\n",
       "  u'team_2': 24},\n",
       " {u'id': 9,\n",
       "  u'round': 1,\n",
       "  u'scores': {16: 4, 21: 2},\n",
       "  u'status': 1,\n",
       "  u'team_1': 16,\n",
       "  u'team_2': 21},\n",
       " {u'id': 10,\n",
       "  u'round': 1,\n",
       "  u'scores': {17: 1, 18: 2},\n",
       "  u'status': 1,\n",
       "  u'team_1': 17,\n",
       "  u'team_2': 18},\n",
       " {u'id': 11,\n",
       "  u'round': 1,\n",
       "  u'scores': {14: 3, 23: 1},\n",
       "  u'status': 1,\n",
       "  u'team_1': 23,\n",
       "  u'team_2': 14},\n",
       " {u'id': 12,\n",
       "  u'round': 1,\n",
       "  u'scores': {20: 4, 22: 1},\n",
       "  u'status': 1,\n",
       "  u'team_1': 20,\n",
       "  u'team_2': 22},\n",
       " {u'id': 13,\n",
       "  u'round': 1,\n",
       "  u'scores': {26: 2, 27: 1},\n",
       "  u'status': 1,\n",
       "  u'team_1': 26,\n",
       "  u'team_2': 27},\n",
       " {u'id': 14,\n",
       "  u'round': 1,\n",
       "  u'scores': {2: 0, 13: 0},\n",
       "  u'status': 0,\n",
       "  u'team_1': 13,\n",
       "  u'team_2': 2},\n",
       " {u'id': 15,\n",
       "  u'round': 1,\n",
       "  u'scores': {1: 0, 9: 0},\n",
       "  u'status': 0,\n",
       "  u'team_1': 1,\n",
       "  u'team_2': 9},\n",
       " {u'id': 16,\n",
       "  u'round': 2,\n",
       "  u'scores': {2: 3, 13: 1},\n",
       "  u'status': 1,\n",
       "  u'team_1': 13,\n",
       "  u'team_2': 2},\n",
       " {u'id': 17,\n",
       "  u'round': 2,\n",
       "  u'scores': {1: 4, 9: 2},\n",
       "  u'status': 1,\n",
       "  u'team_1': 1,\n",
       "  u'team_2': 9},\n",
       " {u'id': 18,\n",
       "  u'round': 2,\n",
       "  u'scores': {7: 2, 12: 0},\n",
       "  u'status': 1,\n",
       "  u'team_1': 7,\n",
       "  u'team_2': 12},\n",
       " {u'id': 19,\n",
       "  u'round': 2,\n",
       "  u'scores': {3: 0, 11: 9},\n",
       "  u'status': 1,\n",
       "  u'team_1': 11,\n",
       "  u'team_2': 3},\n",
       " {u'id': 20,\n",
       "  u'round': 2,\n",
       "  u'scores': {0: 3, 4: 1},\n",
       "  u'status': 1,\n",
       "  u'team_1': 0,\n",
       "  u'team_2': 4},\n",
       " {u'id': 21,\n",
       "  u'round': 2,\n",
       "  u'scores': {5: 2, 8: 6},\n",
       "  u'status': 1,\n",
       "  u'team_1': 8,\n",
       "  u'team_2': 5},\n",
       " {u'id': 22,\n",
       "  u'round': 2,\n",
       "  u'scores': {6: 5, 10: 3},\n",
       "  u'status': 1,\n",
       "  u'team_1': 6,\n",
       "  u'team_2': 10},\n",
       " {u'id': 23,\n",
       "  u'round': 3,\n",
       "  u'scores': {2: 0, 11: 0},\n",
       "  u'status': 0,\n",
       "  u'team_1': 2,\n",
       "  u'team_2': 11},\n",
       " {u'id': 24,\n",
       "  u'round': 3,\n",
       "  u'scores': {1: 3, 12: 1},\n",
       "  u'status': 1,\n",
       "  u'team_1': 1,\n",
       "  u'team_2': 12},\n",
       " {u'id': 25,\n",
       "  u'round': 3,\n",
       "  u'scores': {0: 1, 13: 7},\n",
       "  u'status': 1,\n",
       "  u'team_1': 13,\n",
       "  u'team_2': 0},\n",
       " {u'id': 26,\n",
       "  u'round': 3,\n",
       "  u'scores': {4: 1, 9: 6},\n",
       "  u'status': 1,\n",
       "  u'team_1': 9,\n",
       "  u'team_2': 4},\n",
       " {u'id': 27,\n",
       "  u'round': 3,\n",
       "  u'scores': {2: 4, 11: 0},\n",
       "  u'status': 1,\n",
       "  u'team_1': 2,\n",
       "  u'team_2': 11},\n",
       " {u'id': 28,\n",
       "  u'round': 3,\n",
       "  u'scores': {5: 1, 7: 6},\n",
       "  u'status': 1,\n",
       "  u'team_1': 5,\n",
       "  u'team_2': 7},\n",
       " {u'id': 29,\n",
       "  u'round': 3,\n",
       "  u'scores': {6: 2, 8: 1},\n",
       "  u'status': 1,\n",
       "  u'team_1': 6,\n",
       "  u'team_2': 8},\n",
       " {u'id': 30,\n",
       "  u'round': 3,\n",
       "  u'scores': {3: 3, 10: 1},\n",
       "  u'status': 1,\n",
       "  u'team_1': 3,\n",
       "  u'team_2': 10},\n",
       " {u'id': 31,\n",
       "  u'round': 4,\n",
       "  u'scores': {2: 7, 7: 1},\n",
       "  u'status': 1,\n",
       "  u'team_1': 2,\n",
       "  u'team_2': 7},\n",
       " {u'id': 32,\n",
       "  u'round': 4,\n",
       "  u'scores': {11: 1, 13: 4},\n",
       "  u'status': 1,\n",
       "  u'team_1': 11,\n",
       "  u'team_2': 13},\n",
       " {u'id': 33,\n",
       "  u'round': 4,\n",
       "  u'scores': {0: 1, 10: 1},\n",
       "  u'status': 1,\n",
       "  u'team_1': 0,\n",
       "  u'team_2': 10},\n",
       " {u'id': 34,\n",
       "  u'round': 4,\n",
       "  u'scores': {4: 8, 5: 5},\n",
       "  u'status': 1,\n",
       "  u'team_1': 4,\n",
       "  u'team_2': 5},\n",
       " {u'id': 35,\n",
       "  u'round': 4,\n",
       "  u'scores': {3: 2, 8: 2},\n",
       "  u'status': 1,\n",
       "  u'team_1': 3,\n",
       "  u'team_2': 8},\n",
       " {u'id': 36,\n",
       "  u'round': 4,\n",
       "  u'scores': {9: 6, 12: 0},\n",
       "  u'status': 1,\n",
       "  u'team_1': 12,\n",
       "  u'team_2': 9},\n",
       " {u'id': 37,\n",
       "  u'round': 4,\n",
       "  u'scores': {1: 4, 6: 1},\n",
       "  u'status': 1,\n",
       "  u'team_1': 6,\n",
       "  u'team_2': 1},\n",
       " {u'id': 38,\n",
       "  u'round': 5,\n",
       "  u'scoores': {0: 0, 12: 0},\n",
       "  u'score_1': None,\n",
       "  u'score_2': None,\n",
       "  u'scores': {0: 1, 12: 4},\n",
       "  u'status': 1,\n",
       "  u'team_1': 0,\n",
       "  u'team_2': 12},\n",
       " {u'id': 39,\n",
       "  u'round': 5,\n",
       "  u'scoores': {1: 0, 11: 0},\n",
       "  u'score_1': None,\n",
       "  u'score_2': None,\n",
       "  u'scores': {1: 4, 11: 0},\n",
       "  u'status': 1,\n",
       "  u'team_1': 1,\n",
       "  u'team_2': 11},\n",
       " {u'id': 40,\n",
       "  u'round': 5,\n",
       "  u'scoores': {2: 0, 10: 0},\n",
       "  u'score_1': None,\n",
       "  u'score_2': None,\n",
       "  u'scores': {2: 9, 10: 0},\n",
       "  u'status': 1,\n",
       "  u'team_1': 2,\n",
       "  u'team_2': 10},\n",
       " {u'id': 41,\n",
       "  u'round': 5,\n",
       "  u'scoores': {3: 0, 13: 0},\n",
       "  u'score_1': None,\n",
       "  u'score_2': None,\n",
       "  u'status': 0,\n",
       "  u'team_1': 3,\n",
       "  u'team_2': 13},\n",
       " {u'id': 42,\n",
       "  u'round': 5,\n",
       "  u'scoores': {4: 0, 8: 0},\n",
       "  u'score_1': None,\n",
       "  u'score_2': None,\n",
       "  u'scores': {4: 0, 8: 1},\n",
       "  u'status': 1,\n",
       "  u'team_1': 4,\n",
       "  u'team_2': 8},\n",
       " {u'id': 43,\n",
       "  u'round': 5,\n",
       "  u'scoores': {5: 0, 9: 0},\n",
       "  u'score_1': None,\n",
       "  u'score_2': None,\n",
       "  u'scores': {5: 2, 9: 8},\n",
       "  u'status': 1,\n",
       "  u'team_1': 5,\n",
       "  u'team_2': 9},\n",
       " {u'id': 44,\n",
       "  u'round': 5,\n",
       "  u'scoores': {6: 0, 7: 0},\n",
       "  u'score_1': None,\n",
       "  u'score_2': None,\n",
       "  u'status': 0,\n",
       "  u'team_1': 6,\n",
       "  u'team_2': 7},\n",
       " {u'id': 45,\n",
       "  u'round': 5,\n",
       "  u'scores': {7: 0, 13: 3},\n",
       "  u'status': 1,\n",
       "  u'team_1': 13,\n",
       "  u'team_2': 7},\n",
       " {u'id': 46,\n",
       "  u'round': 5,\n",
       "  u'scores': {3: 0, 6: 5},\n",
       "  u'status': 1,\n",
       "  u'team_1': 6,\n",
       "  u'team_2': 3},\n",
       " {u'id': 47,\n",
       "  u'round': 6,\n",
       "  u'scores': {7: 0, 12: 0},\n",
       "  u'status': 0,\n",
       "  u'team_1': 7,\n",
       "  u'team_2': 12},\n",
       " {u'id': 48,\n",
       "  u'round': 6,\n",
       "  u'scores': {1: 0, 8: 0},\n",
       "  u'status': 0,\n",
       "  u'team_1': 8,\n",
       "  u'team_2': 1},\n",
       " {u'id': 49,\n",
       "  u'round': 2,\n",
       "  u'scores': {16: 1, 24: 5},\n",
       "  u'status': 1,\n",
       "  u'team_1': 24,\n",
       "  u'team_2': 16},\n",
       " {u'id': 50,\n",
       "  u'round': 2,\n",
       "  u'scores': {19: 3, 21: 0},\n",
       "  u'status': 1,\n",
       "  u'team_1': 19,\n",
       "  u'team_2': 21},\n",
       " {u'id': 51,\n",
       "  u'round': 2,\n",
       "  u'scores': {14: 1, 25: 1},\n",
       "  u'status': 1,\n",
       "  u'team_1': 14,\n",
       "  u'team_2': 25},\n",
       " {u'id': 52,\n",
       "  u'round': 2,\n",
       "  u'scores': {15: 2, 23: 2},\n",
       "  u'status': 1,\n",
       "  u'team_1': 15,\n",
       "  u'team_2': 23},\n",
       " {u'id': 53,\n",
       "  u'round': 2,\n",
       "  u'scores': {18: 0, 26: 0},\n",
       "  u'status': 0,\n",
       "  u'team_1': 18,\n",
       "  u'team_2': 26},\n",
       " {u'id': 54,\n",
       "  u'round': 2,\n",
       "  u'scores': {17: 0, 27: 0},\n",
       "  u'status': 0,\n",
       "  u'team_1': 17,\n",
       "  u'team_2': 27},\n",
       " {u'id': 55,\n",
       "  u'round': 2,\n",
       "  u'scores': {20: 2, 26: 0},\n",
       "  u'status': 1,\n",
       "  u'team_1': 20,\n",
       "  u'team_2': 26},\n",
       " {u'id': 56,\n",
       "  u'round': 2,\n",
       "  u'scores': {17: 11, 27: 0},\n",
       "  u'status': 1,\n",
       "  u'team_1': 17,\n",
       "  u'team_2': 27},\n",
       " {u'id': 57,\n",
       "  u'round': 2,\n",
       "  u'scores': {18: 8, 22: 0},\n",
       "  u'status': 1,\n",
       "  u'team_1': 18,\n",
       "  u'team_2': 22},\n",
       " {u'id': 58,\n",
       "  u'round': 3,\n",
       "  u'scores': {15: 4, 21: 3},\n",
       "  u'status': 1,\n",
       "  u'team_1': 21,\n",
       "  u'team_2': 15},\n",
       " {u'id': 59,\n",
       "  u'round': 3,\n",
       "  u'scores': {24: 4, 25: 1},\n",
       "  u'status': 1,\n",
       "  u'team_1': 24,\n",
       "  u'team_2': 25},\n",
       " {u'id': 60,\n",
       "  u'round': 3,\n",
       "  u'scores': {16: 1, 19: 2},\n",
       "  u'status': 1,\n",
       "  u'team_1': 16,\n",
       "  u'team_2': 19},\n",
       " {u'id': 61,\n",
       "  u'round': 3,\n",
       "  u'scores': {14: 7, 20: 0},\n",
       "  u'status': 1,\n",
       "  u'team_1': 20,\n",
       "  u'team_2': 14},\n",
       " {u'id': 62,\n",
       "  u'round': 3,\n",
       "  u'scores': {18: 6, 23: 0},\n",
       "  u'status': 1,\n",
       "  u'team_1': 18,\n",
       "  u'team_2': 23},\n",
       " {u'id': 63,\n",
       "  u'round': 3,\n",
       "  u'scores': {17: 3, 26: 2},\n",
       "  u'status': 1,\n",
       "  u'team_1': 17,\n",
       "  u'team_2': 26},\n",
       " {u'id': 64,\n",
       "  u'round': 3,\n",
       "  u'scores': {22: 10, 27: 2},\n",
       "  u'status': 1,\n",
       "  u'team_1': 22,\n",
       "  u'team_2': 27},\n",
       " {u'id': 65,\n",
       "  u'round': 4,\n",
       "  u'scores': {20: 0, 25: 12},\n",
       "  u'status': 1,\n",
       "  u'team_1': 20,\n",
       "  u'team_2': 25},\n",
       " {u'id': 66,\n",
       "  u'round': 4,\n",
       "  u'scores': {18: 0, 24: 7},\n",
       "  u'status': 1,\n",
       "  u'team_1': 18,\n",
       "  u'team_2': 24},\n",
       " {u'id': 67,\n",
       "  u'round': 4,\n",
       "  u'scores': {16: 5, 23: 4},\n",
       "  u'status': 1,\n",
       "  u'team_1': 23,\n",
       "  u'team_2': 16},\n",
       " {u'id': 68,\n",
       "  u'round': 4,\n",
       "  u'scores': {14: 2, 19: 2},\n",
       "  u'status': 1,\n",
       "  u'team_1': 14,\n",
       "  u'team_2': 19},\n",
       " {u'id': 69,\n",
       "  u'round': 4,\n",
       "  u'scores': {15: 0, 17: 3},\n",
       "  u'status': 1,\n",
       "  u'team_1': 17,\n",
       "  u'team_2': 15},\n",
       " {u'id': 70,\n",
       "  u'round': 4,\n",
       "  u'scores': {21: 7, 27: 1},\n",
       "  u'status': 1,\n",
       "  u'team_1': 21,\n",
       "  u'team_2': 27},\n",
       " {u'id': 71,\n",
       "  u'round': 4,\n",
       "  u'scores': {22: 4, 26: 2},\n",
       "  u'status': 1,\n",
       "  u'team_1': 26,\n",
       "  u'team_2': 22},\n",
       " {u'id': 72,\n",
       "  u'round': 5,\n",
       "  u'scoores': {14: 0, 27: 0},\n",
       "  u'score_1': None,\n",
       "  u'score_2': None,\n",
       "  u'scores': {14: 10, 27: 0},\n",
       "  u'status': 1,\n",
       "  u'team_1': 14,\n",
       "  u'team_2': 27},\n",
       " {u'id': 73,\n",
       "  u'round': 5,\n",
       "  u'scoores': {15: 0, 26: 0},\n",
       "  u'score_1': None,\n",
       "  u'score_2': None,\n",
       "  u'scores': {15: 4, 26: 1},\n",
       "  u'status': 1,\n",
       "  u'team_1': 15,\n",
       "  u'team_2': 26},\n",
       " {u'id': 74,\n",
       "  u'round': 5,\n",
       "  u'scoores': {16: 0, 25: 0},\n",
       "  u'score_1': None,\n",
       "  u'score_2': None,\n",
       "  u'scores': {16: 2, 25: 0},\n",
       "  u'status': 1,\n",
       "  u'team_1': 16,\n",
       "  u'team_2': 25},\n",
       " {u'id': 75,\n",
       "  u'round': 5,\n",
       "  u'scoores': {17: 0, 24: 0},\n",
       "  u'score_1': None,\n",
       "  u'score_2': None,\n",
       "  u'scores': {17: 2, 24: 4},\n",
       "  u'status': 1,\n",
       "  u'team_1': 17,\n",
       "  u'team_2': 24},\n",
       " {u'id': 76,\n",
       "  u'round': 5,\n",
       "  u'scoores': {18: 0, 20: 0},\n",
       "  u'score_1': None,\n",
       "  u'score_2': None,\n",
       "  u'scores': {18: 6, 20: 2},\n",
       "  u'status': 1,\n",
       "  u'team_1': 18,\n",
       "  u'team_2': 20},\n",
       " {u'id': 77,\n",
       "  u'round': 5,\n",
       "  u'scoores': {19: 0, 23: 0},\n",
       "  u'score_1': None,\n",
       "  u'score_2': None,\n",
       "  u'scores': {19: 7, 23: 0},\n",
       "  u'status': 1,\n",
       "  u'team_1': 19,\n",
       "  u'team_2': 23},\n",
       " {u'id': 78,\n",
       "  u'round': 5,\n",
       "  u'scoores': {21: 0, 22: 0},\n",
       "  u'score_1': None,\n",
       "  u'score_2': None,\n",
       "  u'scores': {21: 3, 22: 1},\n",
       "  u'status': 1,\n",
       "  u'team_1': 21,\n",
       "  u'team_2': 22},\n",
       " {u'id': 79,\n",
       "  u'round': 6,\n",
       "  u'scores': {2: 0, 16: 0},\n",
       "  u'status': 0,\n",
       "  u'team_1': 2,\n",
       "  u'team_2': 16},\n",
       " {u'id': 80,\n",
       "  u'round': 6,\n",
       "  u'scores': {2: 0, 19: 0},\n",
       "  u'status': 0,\n",
       "  u'team_1': 2,\n",
       "  u'team_2': 19},\n",
       " {u'id': 81,\n",
       "  u'round': 6,\n",
       "  u'scores': {1: 0, 16: 0},\n",
       "  u'status': 0,\n",
       "  u'team_1': 1,\n",
       "  u'team_2': 16},\n",
       " {u'id': 82,\n",
       "  u'round': 6,\n",
       "  u'scores': {11: 0, 18: 0},\n",
       "  u'status': 0,\n",
       "  u'team_1': 11,\n",
       "  u'team_2': 18},\n",
       " {u'id': 83,\n",
       "  u'round': 6,\n",
       "  u'scores': {6: 0, 15: 0},\n",
       "  u'status': 0,\n",
       "  u'team_1': 6,\n",
       "  u'team_2': 15},\n",
       " {u'id': 84,\n",
       "  u'round': 6,\n",
       "  u'scores': {8: 0, 21: 0},\n",
       "  u'status': 0,\n",
       "  u'team_1': 8,\n",
       "  u'team_2': 21},\n",
       " {u'id': 85,\n",
       "  u'round': 6,\n",
       "  u'scores': {0: 0, 22: 0},\n",
       "  u'status': 0,\n",
       "  u'team_1': 0,\n",
       "  u'team_2': 22},\n",
       " {u'id': 86,\n",
       "  u'round': 6,\n",
       "  u'scores': {4: 0, 27: 0},\n",
       "  u'status': 0,\n",
       "  u'team_1': 4,\n",
       "  u'team_2': 27},\n",
       " {u'id': 87,\n",
       "  u'round': 6,\n",
       "  u'scores': {13: 4, 24: 3},\n",
       "  u'status': 1,\n",
       "  u'team_1': 24,\n",
       "  u'team_2': 13},\n",
       " {u'id': 88,\n",
       "  u'round': 6,\n",
       "  u'scores': {9: 6, 14: 1},\n",
       "  u'status': 1,\n",
       "  u'team_1': 14,\n",
       "  u'team_2': 9},\n",
       " {u'id': 89,\n",
       "  u'round': 6,\n",
       "  u'scores': {7: 3, 25: 3},\n",
       "  u'status': 1,\n",
       "  u'team_1': 25,\n",
       "  u'team_2': 7},\n",
       " {u'id': 90,\n",
       "  u'round': 6,\n",
       "  u'scores': {12: 0, 17: 3},\n",
       "  u'status': 1,\n",
       "  u'team_1': 17,\n",
       "  u'team_2': 12},\n",
       " {u'id': 91,\n",
       "  u'round': 6,\n",
       "  u'scores': {3: 2, 23: 4},\n",
       "  u'status': 1,\n",
       "  u'team_1': 23,\n",
       "  u'team_2': 3},\n",
       " {u'id': 92,\n",
       "  u'round': 6,\n",
       "  u'scores': {3: 3, 20: 10},\n",
       "  u'status': 1,\n",
       "  u'team_1': 3,\n",
       "  u'team_2': 20},\n",
       " {u'id': 93,\n",
       "  u'round': 6,\n",
       "  u'scores': {10: 10, 20: 3},\n",
       "  u'status': 1,\n",
       "  u'team_1': 20,\n",
       "  u'team_2': 10},\n",
       " {u'id': 94,\n",
       "  u'round': 6,\n",
       "  u'scores': {5: 3, 26: 1},\n",
       "  u'status': 1,\n",
       "  u'team_1': 26,\n",
       "  u'team_2': 5},\n",
       " {u'id': 95,\n",
       "  u'round': 6,\n",
       "  u'scores': {13: 0, 24: 0},\n",
       "  u'status': 0,\n",
       "  u'team_1': 24,\n",
       "  u'team_2': 13},\n",
       " {u'id': 96,\n",
       "  u'round': 6,\n",
       "  u'scores': {9: 0, 14: 0},\n",
       "  u'status': 0,\n",
       "  u'team_1': 14,\n",
       "  u'team_2': 9},\n",
       " {u'id': 97,\n",
       "  u'round': 6,\n",
       "  u'scores': {7: 0, 25: 0},\n",
       "  u'status': 0,\n",
       "  u'team_1': 25,\n",
       "  u'team_2': 7},\n",
       " {u'id': 98,\n",
       "  u'round': 6,\n",
       "  u'scores': {12: 0, 17: 0},\n",
       "  u'status': 0,\n",
       "  u'team_1': 17,\n",
       "  u'team_2': 12},\n",
       " {u'id': 99,\n",
       "  u'round': 6,\n",
       "  u'scores': {3: 0, 23: 0},\n",
       "  u'status': 0,\n",
       "  u'team_1': 23,\n",
       "  u'team_2': 3},\n",
       " {u'id': 100,\n",
       "  u'round': 6,\n",
       "  u'scores': {10: 0, 20: 0},\n",
       "  u'status': 0,\n",
       "  u'team_1': 20,\n",
       "  u'team_2': 10},\n",
       " {u'id': 101,\n",
       "  u'round': 6,\n",
       "  u'scores': {5: 0, 26: 0},\n",
       "  u'status': 0,\n",
       "  u'team_1': 26,\n",
       "  u'team_2': 5},\n",
       " {u'id': 102,\n",
       "  u'round': 6,\n",
       "  u'scores': {2: 8, 19: 1},\n",
       "  u'status': 1,\n",
       "  u'team_1': 2,\n",
       "  u'team_2': 19},\n",
       " {u'id': 103,\n",
       "  u'round': 6,\n",
       "  u'scores': {1: 10, 16: 3},\n",
       "  u'status': 1,\n",
       "  u'team_1': 1,\n",
       "  u'team_2': 16},\n",
       " {u'id': 104,\n",
       "  u'round': 6,\n",
       "  u'scores': {11: 7, 18: 0},\n",
       "  u'status': 1,\n",
       "  u'team_1': 11,\n",
       "  u'team_2': 18},\n",
       " {u'id': 105,\n",
       "  u'round': 6,\n",
       "  u'scores': {6: 5, 15: 2},\n",
       "  u'status': 1,\n",
       "  u'team_1': 6,\n",
       "  u'team_2': 15},\n",
       " {u'id': 106,\n",
       "  u'round': 6,\n",
       "  u'scores': {8: 3, 21: 2},\n",
       "  u'status': 1,\n",
       "  u'team_1': 8,\n",
       "  u'team_2': 21},\n",
       " {u'id': 107,\n",
       "  u'round': 6,\n",
       "  u'scores': {0: 2, 22: 3},\n",
       "  u'status': 1,\n",
       "  u'team_1': 0,\n",
       "  u'team_2': 22},\n",
       " {u'id': 108,\n",
       "  u'round': 6,\n",
       "  u'scores': {4: 7, 27: 0},\n",
       "  u'status': 1,\n",
       "  u'team_1': 4,\n",
       "  u'team_2': 27},\n",
       " {'id': 109,\n",
       "  'round': 7,\n",
       "  'scores': {6: 2, 16: 6},\n",
       "  'status': 1,\n",
       "  'team_1': 16,\n",
       "  'team_2': 6},\n",
       " {'id': 110,\n",
       "  'round': 7,\n",
       "  'scores': {1: 3, 2: 4},\n",
       "  'status': 1,\n",
       "  'team_1': 2,\n",
       "  'team_2': 1},\n",
       " {'id': 111,\n",
       "  'round': 7,\n",
       "  'scores': {11: 1, 19: 2},\n",
       "  'status': 1,\n",
       "  'team_1': 11,\n",
       "  'team_2': 19},\n",
       " {'id': 112,\n",
       "  'round': 7,\n",
       "  'scores': {8: 4, 15: 2},\n",
       "  'status': 1,\n",
       "  'team_1': 8,\n",
       "  'team_2': 15},\n",
       " {'id': 113,\n",
       "  'round': 7,\n",
       "  'scores': {18: 4, 21: 0},\n",
       "  'status': 1,\n",
       "  'team_1': 18,\n",
       "  'team_2': 21},\n",
       " {'id': 114,\n",
       "  'round': 7,\n",
       "  'scores': {4: 4, 22: 5},\n",
       "  'status': 1,\n",
       "  'team_1': 22,\n",
       "  'team_2': 4},\n",
       " {'id': 115,\n",
       "  'round': 7,\n",
       "  'scores': {0: 6, 27: 0},\n",
       "  'status': 1,\n",
       "  'team_1': 0,\n",
       "  'team_2': 27},\n",
       " {'id': 116,\n",
       "  'round': 8,\n",
       "  'scores': {2: 3, 16: 0},\n",
       "  'status': 1,\n",
       "  'team_1': 2,\n",
       "  'team_2': 16},\n",
       " {'id': 117,\n",
       "  'round': 8,\n",
       "  'scores': {1: 2, 19: 4},\n",
       "  'status': 1,\n",
       "  'team_1': 1,\n",
       "  'team_2': 19},\n",
       " {'id': 118,\n",
       "  'round': 8,\n",
       "  'scores': {6: 3, 11: 4},\n",
       "  'status': 1,\n",
       "  'team_1': 11,\n",
       "  'team_2': 6},\n",
       " {'id': 119,\n",
       "  'round': 8,\n",
       "  'scores': {8: 3, 22: 3},\n",
       "  'status': 1,\n",
       "  'team_1': 22,\n",
       "  'team_2': 8},\n",
       " {'id': 120,\n",
       "  'round': 8,\n",
       "  'scores': {4: 0, 18: 0},\n",
       "  'status': 0,\n",
       "  'team_1': 18,\n",
       "  'team_2': 4},\n",
       " {'id': 121,\n",
       "  'round': 8,\n",
       "  'scores': {0: 0, 21: 0},\n",
       "  'status': 0,\n",
       "  'team_1': 0,\n",
       "  'team_2': 21},\n",
       " {'id': 122,\n",
       "  'round': 8,\n",
       "  'scores': {15: 5, 27: 0},\n",
       "  'status': 1,\n",
       "  'team_1': 27,\n",
       "  'team_2': 15},\n",
       " {'id': 123,\n",
       "  'round': 8,\n",
       "  'scores': {0: 1, 18: 11},\n",
       "  'status': 1,\n",
       "  'team_1': 18,\n",
       "  'team_2': 0},\n",
       " {'id': 124,\n",
       "  'round': 8,\n",
       "  'scores': {4: 4, 21: 2},\n",
       "  'status': 1,\n",
       "  'team_1': 4,\n",
       "  'team_2': 21},\n",
       " {'id': 125,\n",
       "  'round': 9,\n",
       "  'scoores': {0: 0, 21: 0},\n",
       "  'score_1': None,\n",
       "  'score_2': None,\n",
       "  'scores': {0: 2, 21: 2},\n",
       "  'status': 1,\n",
       "  'team_1': 0,\n",
       "  'team_2': 21},\n",
       " {'id': 126,\n",
       "  'round': 9,\n",
       "  'scoores': {1: 0, 27: 0},\n",
       "  'score_1': None,\n",
       "  'score_2': None,\n",
       "  'scores': {1: 14, 27: 0},\n",
       "  'status': 1,\n",
       "  'team_1': 1,\n",
       "  'team_2': 27},\n",
       " {'id': 127,\n",
       "  'round': 9,\n",
       "  'scoores': {2: 0, 22: 0},\n",
       "  'score_1': None,\n",
       "  'score_2': None,\n",
       "  'scores': {2: 15, 22: 1},\n",
       "  'status': 1,\n",
       "  'team_1': 2,\n",
       "  'team_2': 22},\n",
       " {'id': 128,\n",
       "  'round': 9,\n",
       "  'scoores': {4: 0, 19: 0},\n",
       "  'score_1': None,\n",
       "  'score_2': None,\n",
       "  'scores': {4: 0, 19: 8},\n",
       "  'status': 1,\n",
       "  'team_1': 4,\n",
       "  'team_2': 19},\n",
       " {'id': 129,\n",
       "  'round': 9,\n",
       "  'scoores': {6: 0, 18: 0},\n",
       "  'score_1': None,\n",
       "  'score_2': None,\n",
       "  'scores': {6: 4, 18: 0},\n",
       "  'status': 1,\n",
       "  'team_1': 6,\n",
       "  'team_2': 18},\n",
       " {'id': 130,\n",
       "  'round': 9,\n",
       "  'scoores': {8: 0, 16: 0},\n",
       "  'score_1': None,\n",
       "  'score_2': None,\n",
       "  'scores': {8: 1, 16: 2},\n",
       "  'status': 1,\n",
       "  'team_1': 8,\n",
       "  'team_2': 16},\n",
       " {'id': 131,\n",
       "  'round': 9,\n",
       "  'scoores': {11: 0, 15: 0},\n",
       "  'score_1': None,\n",
       "  'score_2': None,\n",
       "  'scores': {11: 10, 15: 1},\n",
       "  'status': 1,\n",
       "  'team_1': 11,\n",
       "  'team_2': 15},\n",
       " {'id': 132,\n",
       "  'round': 6,\n",
       "  'scores': {13: 5, 14: 0},\n",
       "  'status': 1,\n",
       "  'team_1': 13,\n",
       "  'team_2': 14},\n",
       " {'id': 133,\n",
       "  'round': 6,\n",
       "  'scores': {9: 4, 24: 1},\n",
       "  'status': 1,\n",
       "  'team_1': 24,\n",
       "  'team_2': 9},\n",
       " {'id': 134,\n",
       "  'round': 6,\n",
       "  'scores': {17: 5, 25: 2},\n",
       "  'status': 1,\n",
       "  'team_1': 25,\n",
       "  'team_2': 17},\n",
       " {'id': 135,\n",
       "  'round': 6,\n",
       "  'scores': {7: 4, 23: 1},\n",
       "  'status': 1,\n",
       "  'team_1': 7,\n",
       "  'team_2': 23},\n",
       " {'id': 136,\n",
       "  'round': 6,\n",
       "  'scores': {3: 1, 12: 6},\n",
       "  'status': 1,\n",
       "  'team_1': 12,\n",
       "  'team_2': 3},\n",
       " {'id': 137,\n",
       "  'round': 6,\n",
       "  'scores': {10: 10, 26: 2},\n",
       "  'status': 1,\n",
       "  'team_1': 10,\n",
       "  'team_2': 26},\n",
       " {'id': 138,\n",
       "  'round': 6,\n",
       "  'scores': {5: 2, 20: 5},\n",
       "  'status': 1,\n",
       "  'team_1': 20,\n",
       "  'team_2': 5},\n",
       " {'id': 139,\n",
       "  'round': 8,\n",
       "  'scores': {9: 0, 24: 0},\n",
       "  'status': 0,\n",
       "  'team_1': 9,\n",
       "  'team_2': 24},\n",
       " {'id': 140,\n",
       "  'round': 8,\n",
       "  'scores': {9: 3, 13: 3},\n",
       "  'status': 1,\n",
       "  'team_1': 9,\n",
       "  'team_2': 13},\n",
       " {'id': 141,\n",
       "  'round': 8,\n",
       "  'scores': {14: 1, 24: 1},\n",
       "  'status': 1,\n",
       "  'team_1': 24,\n",
       "  'team_2': 14},\n",
       " {'id': 142,\n",
       "  'round': 8,\n",
       "  'scoores': {3: 0, 25: 0},\n",
       "  'score_1': None,\n",
       "  'score_2': None,\n",
       "  'scores': {3: 1, 25: 6},\n",
       "  'status': 1,\n",
       "  'team_1': 3,\n",
       "  'team_2': 25},\n",
       " {'id': 143,\n",
       "  'round': 8,\n",
       "  'scoores': {5: 0, 12: 0},\n",
       "  'score_1': None,\n",
       "  'score_2': None,\n",
       "  'scores': {5: 2, 12: 5},\n",
       "  'status': 1,\n",
       "  'team_1': 5,\n",
       "  'team_2': 12},\n",
       " {'id': 144,\n",
       "  'round': 8,\n",
       "  'scoores': {7: 0, 26: 0},\n",
       "  'score_1': None,\n",
       "  'score_2': None,\n",
       "  'scores': {7: 6, 26: 0},\n",
       "  'status': 1,\n",
       "  'team_1': 7,\n",
       "  'team_2': 26},\n",
       " {'id': 145,\n",
       "  'round': 8,\n",
       "  'scoores': {10: 0, 23: 0},\n",
       "  'score_1': None,\n",
       "  'score_2': None,\n",
       "  'scores': {10: 2, 23: 3},\n",
       "  'status': 1,\n",
       "  'team_1': 10,\n",
       "  'team_2': 23},\n",
       " {'id': 146,\n",
       "  'round': 8,\n",
       "  'scoores': {17: 0, 20: 0},\n",
       "  'score_1': None,\n",
       "  'score_2': None,\n",
       "  'scores': {17: 3, 20: 3},\n",
       "  'status': 1,\n",
       "  'team_1': 17,\n",
       "  'team_2': 20},\n",
       " {'id': 147,\n",
       "  'round': 9,\n",
       "  'scoores': {7: 0, 24: 0},\n",
       "  'score_1': None,\n",
       "  'score_2': None,\n",
       "  'status': 0,\n",
       "  'team_1': 7,\n",
       "  'team_2': 24},\n",
       " {'id': 148,\n",
       "  'round': 8,\n",
       "  'scores': {7: 0, 14: 0},\n",
       "  'status': 0,\n",
       "  'team_1': 14,\n",
       "  'team_2': 7},\n",
       " {'id': 149,\n",
       "  'round': 8,\n",
       "  'scores': {12: 0, 25: 0},\n",
       "  'status': 0,\n",
       "  'team_1': 12,\n",
       "  'team_2': 25},\n",
       " {'id': 150,\n",
       "  'round': 9,\n",
       "  'scores': {7: 3, 14: 3},\n",
       "  'status': 1,\n",
       "  'team_1': 14,\n",
       "  'team_2': 7},\n",
       " {'id': 151,\n",
       "  'round': 9,\n",
       "  'scores': {12: 0, 25: 5},\n",
       "  'status': 1,\n",
       "  'team_1': 12,\n",
       "  'team_2': 25},\n",
       " {'id': 152,\n",
       "  'round': 9,\n",
       "  'scoores': {3: 0, 17: 0},\n",
       "  'score_1': None,\n",
       "  'score_2': None,\n",
       "  'scores': {3: 2, 17: 6},\n",
       "  'status': 1,\n",
       "  'team_1': 3,\n",
       "  'team_2': 17},\n",
       " {'id': 153,\n",
       "  'round': 9,\n",
       "  'scoores': {5: 0, 23: 0},\n",
       "  'score_1': None,\n",
       "  'score_2': None,\n",
       "  'scores': {5: 7, 23: 2},\n",
       "  'status': 1,\n",
       "  'team_1': 5,\n",
       "  'team_2': 23},\n",
       " {'id': 154,\n",
       "  'round': 9,\n",
       "  'scoores': {9: 0, 20: 0},\n",
       "  'score_1': None,\n",
       "  'score_2': None,\n",
       "  'scores': {9: 11, 20: 2},\n",
       "  'status': 1,\n",
       "  'team_1': 9,\n",
       "  'team_2': 20},\n",
       " {'id': 155,\n",
       "  'round': 9,\n",
       "  'scoores': {10: 0, 13: 0},\n",
       "  'score_1': None,\n",
       "  'score_2': None,\n",
       "  'scores': {10: 1, 13: 10},\n",
       "  'status': 1,\n",
       "  'team_1': 10,\n",
       "  'team_2': 13},\n",
       " {'id': 156,\n",
       "  'round': 9,\n",
       "  'scoores': {24: 0, 26: 0},\n",
       "  'score_1': None,\n",
       "  'score_2': None,\n",
       "  'scores': {24: 7, 26: 0},\n",
       "  'status': 1,\n",
       "  'team_1': 24,\n",
       "  'team_2': 26}]"
      ]
     },
     "execution_count": 406,
     "metadata": {},
     "output_type": "execute_result"
    }
   ],
   "source": [
    "[g for g in DB['Games'].values()]"
   ]
  },
  {
   "cell_type": "code",
   "execution_count": 424,
   "metadata": {
    "collapsed": false
   },
   "outputs": [
    {
     "data": {
      "text/plain": [
       "[[0, u'Ball Bangers'],\n",
       " [1, u'Wabbit'],\n",
       " [2, u'Golem'],\n",
       " [3, u'The Edinburgh Badgers'],\n",
       " [4, u'JKL'],\n",
       " [5, u'The Inseminators'],\n",
       " [6, u'Gentlemans'],\n",
       " [7, u'Sons of Odin'],\n",
       " [8, u'Rusty Spoons'],\n",
       " [9, u'Daft Monks'],\n",
       " [10, u'The Budgie Smugglers'],\n",
       " [11, u'Triple Fisted'],\n",
       " [12, u'With Fire'],\n",
       " [13, u'Pete un Plomb'],\n",
       " [14, u'Kitten Pile Crush'],\n",
       " [15, u'The Royales with Cheese'],\n",
       " [16, u'The Jamesons'],\n",
       " [17, u'Elf Death'],\n",
       " [18, u'Mammoth'],\n",
       " [19, u'Beware'],\n",
       " [20, u'Two and a half Men'],\n",
       " [21, u'Lost Cat'],\n",
       " [22, u'Mighty Bisons'],\n",
       " [23, u'Sometimes'],\n",
       " [24, u'Three Boys'],\n",
       " [25, u'Gobshites'],\n",
       " [26, u'Kumaras bravas'],\n",
       " [27, u\"The Caracal's\"],\n",
       " [28, u'3UP'],\n",
       " [30, u'Royals'],\n",
       " [31, u'Les Beehive Boys'],\n",
       " [32, u'The Control'],\n",
       " [33, u'Frenemies'],\n",
       " [34, u'Prospectors'],\n",
       " [35, u'TBD'],\n",
       " [36, u'TEMOILESNICHONS'],\n",
       " [37, u'LOS BIGOTES HASTA LAS RODILLAS'],\n",
       " [38, u'YATTARUS'],\n",
       " [39, u'The Huntsmen'],\n",
       " [40, u'Majestic'],\n",
       " [41, u'B'],\n",
       " [42, u'Call Me Daddy'],\n",
       " [43, u'Thunder fart'],\n",
       " [44, u'Ratking'],\n",
       " [45, u'Portland United'],\n",
       " [46, u'ChaJean$'],\n",
       " [47, u'Good Owl Boys'],\n",
       " [49, u'Team GB'],\n",
       " [50, u'Outlawz Birds'],\n",
       " [51, u'POLOBITO'],\n",
       " [52, u'Sentinels'],\n",
       " [53, u'ZODIAC'],\n",
       " [54, u'Fully Torqued'],\n",
       " [55, u'Ash Samwidch']]"
      ]
     },
     "execution_count": 424,
     "metadata": {},
     "output_type": "execute_result"
    }
   ],
   "source": [
    "[[t['id'],t['name']] for t in DB['Teams'].values()]"
   ]
  },
  {
   "cell_type": "code",
   "execution_count": 479,
   "metadata": {
    "collapsed": true
   },
   "outputs": [],
   "source": [
    "DB['Sessions'][5]['teams'] = [28,41,19,33,2,14,31,37,40,13,34,30,35,36,32,39,16,38]\n",
    "DB['Sessions'][6]['teams'] = [55,42,46,9,54,25,47,49,50,51,45,44,52,24,43,11,1,53]\n",
    "DB['Sessions'][5]['strengths']={}\n",
    "DB['Sessions'][6]['strengths']={}\n",
    "\n",
    "for id in DB['Sessions'][5]['teams']:\n",
    "    DB['Sessions'][5]['strengths'][id]=0.0\n",
    "    \n",
    "for id in DB['Sessions'][6]['teams']:\n",
    "    DB['Sessions'][6]['strengths'][id]=0.0"
   ]
  },
  {
   "cell_type": "code",
   "execution_count": 450,
   "metadata": {
    "collapsed": false
   },
   "outputs": [],
   "source": [
    "DB['Teams'][41]['name'] = 'Auckland Justice'"
   ]
  },
  {
   "cell_type": "code",
   "execution_count": 428,
   "metadata": {
    "collapsed": false
   },
   "outputs": [],
   "source": [
    "DB['Teams'][56] = {'id': 46,\n",
    " 'name': u'Fully Torqued',\n",
    " 'session': 'B',\n",
    " 'strength': 0,\n",
    " 'wc': False}"
   ]
  },
  {
   "cell_type": "code",
   "execution_count": 478,
   "metadata": {
    "collapsed": false
   },
   "outputs": [
    {
     "data": {
      "text/plain": [
       "{u'games': [],\n",
       " u'id': 6,\n",
       " u'name': u'Worlds: Day 1 PM',\n",
       " u'strengths': {'id': 0.0},\n",
       " u'suggestedGames': [],\n",
       " u'teams': [55,\n",
       "  42,\n",
       "  46,\n",
       "  9,\n",
       "  54,\n",
       "  25,\n",
       "  47,\n",
       "  49,\n",
       "  50,\n",
       "  51,\n",
       "  45,\n",
       "  44,\n",
       "  52,\n",
       "  24,\n",
       "  43,\n",
       "  11,\n",
       "  1,\n",
       "  53],\n",
       " u'type': u'swiss'}"
      ]
     },
     "execution_count": 478,
     "metadata": {},
     "output_type": "execute_result"
    }
   ],
   "source": [
    "DB['Sessions'][6]"
   ]
  },
  {
   "cell_type": "code",
   "execution_count": 462,
   "metadata": {
    "collapsed": false
   },
   "outputs": [],
   "source": [
    "saveDB(DB)"
   ]
  },
  {
   "cell_type": "code",
   "execution_count": 463,
   "metadata": {
    "collapsed": false
   },
   "outputs": [
    {
     "data": {
      "text/plain": [
       "{'id': 139,\n",
       " 'round': 1,\n",
       " 'scores': {34: 0, 39: 0},\n",
       " 'status': 0,\n",
       " 'team_1': 34,\n",
       " 'team_2': 39}"
      ]
     },
     "execution_count": 463,
     "metadata": {},
     "output_type": "execute_result"
    }
   ],
   "source": [
    "DB['Games'][139]"
   ]
  },
  {
   "cell_type": "code",
   "execution_count": null,
   "metadata": {
    "collapsed": true
   },
   "outputs": [],
   "source": []
  }
 ],
 "metadata": {
  "kernelspec": {
   "display_name": "Python 2",
   "language": "python",
   "name": "python2"
  },
  "language_info": {
   "codemirror_mode": {
    "name": "ipython",
    "version": 2
   },
   "file_extension": ".py",
   "mimetype": "text/x-python",
   "name": "python",
   "nbconvert_exporter": "python",
   "pygments_lexer": "ipython2",
   "version": "2.7.6"
  }
 },
 "nbformat": 4,
 "nbformat_minor": 0
}
