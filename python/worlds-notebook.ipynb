{
 "cells": [
  {
   "cell_type": "code",
   "execution_count": 110,
   "metadata": {
    "collapsed": false
   },
   "outputs": [],
   "source": [
    "import database\n",
    "import req\n",
    "import pprint\n",
    "import json\n",
    "import os\n",
    "import csv\n",
    "pwd = os.getcwd()\n",
    "pp = pprint.PrettyPrinter(indent=4)\n",
    "\n",
    "dbsavefile = '/DBsave.json'\n",
    "#DB = database.DB_init()\n",
    "\n",
    "def saveDB(db):\n",
    "    with open(\"\".join([pwd,dbsavefile]), 'wb') as jsonfile: \n",
    "            json.dump(db,jsonfile)\n",
    "\n",
    "def num(s):\n",
    "    try:\n",
    "        return int(s)\n",
    "    except ValueError:\n",
    "        try:\n",
    "            return float(s)\n",
    "        except ValueError:\n",
    "            return s\n",
    "\n",
    "def d_or_v(val):\n",
    "    if isinstance(val,dict):\n",
    "        return key_to_int(val)\n",
    "    else:\n",
    "        return val\n",
    "   \n",
    "def key_to_int(d):\n",
    "    return {num(k):d_or_v(v) for k,v in d.iteritems()}   \n",
    "\n",
    "def loadDB():\n",
    "    with open(\"\".join([pwd,dbsavefile]), 'rb') as jsonfile: \n",
    "        db = json.load(jsonfile)\n",
    "    return key_to_int(db)\n",
    "\n",
    "    \n",
    "\n",
    "DB=loadDB()\n",
    "pprint = pp.pprint\n",
    "Teams = DB['Teams']\n",
    "Games = DB['Games']\n",
    "\n"
   ]
  },
  {
   "cell_type": "code",
   "execution_count": 111,
   "metadata": {
    "collapsed": false
   },
   "outputs": [],
   "source": [
    "\n",
    "def print_team(d,score = 0.0):\n",
    "    pprint(''.join([str(d['id']),': ',d['name'],'  strength = ',str(score)]))\n",
    "\n",
    "def print_game(d):\n",
    "    if d['status']==1:\n",
    "        pprint(\"\".join([str(d['id']),':', 'r', str(d['round']),'  ',\n",
    "                        str(d['scores'][d['team_1']]),' -- ',\n",
    "                        DB['Teams'][d['team_1']]['name'],\n",
    "                        ' vs ', DB['Teams'][d['team_2']]['name'], ' -- ',\n",
    "                        str(d['scores'][d['team_2']])]))\n",
    "    else:\n",
    "        pprint(\"\".join([str(d['id']),':','r',str(d['round']),'  ',\n",
    "                DB['Teams'][d['team_1']]['name'],\n",
    "                ' vs ', DB['Teams'][d['team_2']]['name']]))\n",
    "def list_teams(session_id):\n",
    "    session = DB['Sessions'][session_id]\n",
    "    for id in session['teams']:\n",
    "        s = session['strengths'][id]\n",
    "        print_team(DB['Teams'][id],score = s)\n",
    "def list_games(session_id):\n",
    "    session = DB['Sessions'][session_id]\n",
    "    for id in session['games']:\n",
    "        print_game(DB['Games'][id])\n",
    "\n",
    "        \n",
    "def games_played(team_id,session_id):\n",
    "    def count(g,t):\n",
    "        if DB['Games'][g]['status'] == 1 and t in [DB['Games'][g]['team_1'],DB['Games'][g]['team_2']]:\n",
    "            return 1\n",
    "        else:\n",
    "            return 0\n",
    "        \n",
    "    return sum([count(g_id,team_id) for g_id in DB['Sessions'][session_id]['games']])\n",
    "    \n",
    "def export_results(session_id):\n",
    "    session = DB['Sessions'][session_id]\n",
    "    \n",
    "    d = [[id,DB['Teams'][id]['name'],\n",
    "          session['strengths'][id],\n",
    "         games_played(id,session_id)] for id in session['teams']]\n",
    "\n",
    "    with open(\"\".join([pwd,'/results.csv']), 'wb') as csvfile:\n",
    "\n",
    "        writer = csv.writer(csvfile,delimiter='\\t')\n",
    "    \n",
    "        for line in d:\n",
    "            writer.writerow(line)\n",
    "\n",
    "            \n",
    "def export_games(session_id):\n",
    "    session = DB['Sessions'][session_id]\n",
    "    played_games = [Games[id] for id in session['games'] if Games[id]['status'] == 1]\n",
    "    unplayed_games = [Games[id] for id in session['games'] if not Games[id]['status'] == 1]\n",
    "\n",
    "    pd = [[g['id'],Teams[g['team_1']]['name'],Teams[g['team_2']]['name'],\n",
    "            g['round'],g['scores'][g['team_1']],\n",
    "            g['scores'][g['team_2']]] for g in played_games]    \n",
    "    upd = [[g['id'],Teams[g['team_1']]['name'],Teams[g['team_2']]['name'],\n",
    "            g['round'],'none',\n",
    "            'none'] for g in unplayed_games]    \n",
    "    with open(\"\".join([pwd,'/games.csv']), 'wb') as csvfile:\n",
    "\n",
    "        writer = csv.writer(csvfile,delimiter='\\t')\n",
    "    \n",
    "        for line in pd:\n",
    "           writer.writerow(line)\n",
    "        \n",
    "        for line in upd:\n",
    "           writer.writerow(line)\n",
    "        \n",
    "def export_suggested_games(session_id):\n",
    "    session = DB['Sessions'][session_id]\n",
    "    suggested_games = session['suggestedGames'].values()\n",
    "\n",
    "    pd = [[g['id'],Teams[g['team_1']]['name'],Teams[g['team_2']]['name'],\n",
    "            g['round']] for g in suggested_games]    \n",
    "\n",
    "    with open(\"\".join([pwd,'/suggested_games.csv']), 'wb') as csvfile:\n",
    "\n",
    "        writer = csv.writer(csvfile,delimiter='\\t')\n",
    "    \n",
    "        for line in pd:\n",
    "           writer.writerow(line)\n",
    "        \n",
    "def export_teams_list(session_id):\n",
    "    session = DB['Sessions'][session_id]\n",
    "    teams = [DB['Teams'][id] for id in session['teams']]\n",
    "\n",
    "    pd = [[t['id'],t['name']] for t in teams]    \n",
    "\n",
    "    with open(\"\".join([pwd,'/team_list.csv']),'wb') as csvfile:\n",
    "\n",
    "        writer = csv.writer(csvfile,delimiter='\\t')\n",
    "    \n",
    "        for line in pd:\n",
    "           writer.writerow(line)\n",
    "        \n",
    "\n",
    "\n"
   ]
  },
  {
   "cell_type": "code",
   "execution_count": 118,
   "metadata": {
    "collapsed": false
   },
   "outputs": [],
   "source": [
    "sess_id = 3\n",
    "export_teams_list(sess_id)\n",
    "export_games(sess_id)\n",
    "\n",
    "def compute_strengths():\n",
    "    req.update_strengths(DB,sess_id)\n",
    "    export_results(sess_id)\n",
    "\n",
    "def stage_round(round = 0):\n",
    "    req.get_suggested_games(DB,sess_id,round)\n",
    "    export_suggested_games(sess_id)\n",
    "    print('done')\n",
    "    \n",
    "def update_score(game_id=-1,score_1 = -1, score_2 = -1):\n",
    "    req.update_score(DB,game_id,score_1,score_2)\n",
    "    export_games(sess_id)\n",
    "    print_game(Games[game_id])\n",
    "\n",
    "def add_suggested_games():\n",
    "    req.add_suggested_games(DB,sess_id)\n",
    "    export_games(sess_id)\n",
    "def add_suggested_game(game_id=0):\n",
    "    req.add_game(DB,sess_id,DB['Sessions'][sess_id]['suggestedGames'][game_id])\n",
    "    export_games(sess_id)\n",
    "\n",
    "def add_game(team_1 = 0, team_2 = 0, round = 0):\n",
    "    req.add_game(DB,sess_id,req.new_game(team_1,team_2,round))\n",
    "    export_games(sess_id)\n",
    "\n",
    "def remove_game(game_id=-1):\n",
    "    req.remove_game(DB, sess_id, game_id)\n",
    "    export_games(sess_id)\n"
   ]
  },
  {
   "cell_type": "code",
   "execution_count": 79,
   "metadata": {
    "collapsed": false
   },
   "outputs": [],
   "source": [
    "#Add a game to the session. Use the team ID to specify the teams\n",
    "add_game(team_1 = 4, team_2 = 27, round = 6 )"
   ]
  },
  {
   "cell_type": "code",
   "execution_count": 119,
   "metadata": {
    "collapsed": false
   },
   "outputs": [
    {
     "name": "stdout",
     "output_type": "stream",
     "text": [
      "u'103:r6  1 -- Wabbit vs The Jamesons -- 2'\n"
     ]
    }
   ],
   "source": [
    "# update the scores in a game. get the game id from the list of games\n",
    "update_score(game_id=103,score_1 =1, score_2 =2)"
   ]
  },
  {
   "cell_type": "code",
   "execution_count": 72,
   "metadata": {
    "collapsed": false
   },
   "outputs": [],
   "source": [
    "# remove a game from the session\n",
    "remove_game(game_id=94)"
   ]
  },
  {
   "cell_type": "code",
   "execution_count": 120,
   "metadata": {
    "collapsed": false
   },
   "outputs": [
    {
     "name": "stdout",
     "output_type": "stream",
     "text": [
      "[{u'status': 1, u'team_1': 2, u'team_2': 9, u'round': 1, u'scores': {9: 2, 2: 6}, u'id': 0}, {u'status': 1, u'team_1': 1, u'team_2': 13, u'round': 1, u'scores': {1: 2, 13: 4}, u'id': 1}, {u'status': 1, u'team_1': 7, u'team_2': 10, u'round': 1, u'scores': {10: 2, 7: 3}, u'id': 2}, {u'status': 1, u'team_1': 12, u'team_2': 8, u'round': 1, u'scores': {8: 3, 12: 5}, u'id': 3}, {u'status': 1, u'team_1': 11, u'team_2': 0, u'round': 1, u'scores': {0: 1, 11: 11}, u'id': 4}, {u'status': 1, u'team_1': 3, u'team_2': 4, u'round': 1, u'scores': {3: 2, 4: 1}, u'id': 5}, {u'status': 1, u'team_1': 6, u'team_2': 5, u'round': 1, u'scores': {5: 2, 6: 5}, u'id': 6}, {u'status': 1, u'team_1': 15, u'team_2': 25, u'round': 1, u'scores': {25: 5, 15: 1}, u'id': 7}, {u'status': 1, u'team_1': 19, u'team_2': 24, u'round': 1, u'scores': {24: 3, 19: 2}, u'id': 8}, {u'status': 1, u'team_1': 16, u'team_2': 21, u'round': 1, u'scores': {16: 4, 21: 2}, u'id': 9}, {u'status': 1, u'team_1': 17, u'team_2': 18, u'round': 1, u'scores': {17: 1, 18: 2}, u'id': 10}, {u'status': 1, u'team_1': 23, u'team_2': 14, u'round': 1, u'scores': {14: 3, 23: 1}, u'id': 11}, {u'status': 1, u'team_1': 20, u'team_2': 22, u'round': 1, u'scores': {20: 4, 22: 1}, u'id': 12}, {u'status': 1, u'team_1': 26, u'team_2': 27, u'round': 1, u'scores': {26: 2, 27: 1}, u'id': 13}, {u'status': 1, u'team_1': 13, u'team_2': 2, u'round': 2, u'scores': {2: 3, 13: 1}, u'id': 16}, {u'status': 1, u'team_1': 1, u'team_2': 9, u'round': 2, u'scores': {1: 4, 9: 2}, u'id': 17}, {u'status': 1, u'team_1': 7, u'team_2': 12, u'round': 2, u'scores': {12: 0, 7: 2}, u'id': 18}, {u'status': 1, u'team_1': 11, u'team_2': 3, u'round': 2, u'scores': {3: 0, 11: 9}, u'id': 19}, {u'status': 1, u'team_1': 0, u'team_2': 4, u'round': 2, u'scores': {0: 3, 4: 1}, u'id': 20}, {u'status': 1, u'team_1': 8, u'team_2': 5, u'round': 2, u'scores': {8: 6, 5: 2}, u'id': 21}, {u'status': 1, u'team_1': 6, u'team_2': 10, u'round': 2, u'scores': {10: 3, 6: 5}, u'id': 22}, {u'status': 1, u'team_1': 1, u'team_2': 12, u'round': 3, u'scores': {1: 3, 12: 1}, u'id': 24}, {u'status': 1, u'team_1': 13, u'team_2': 0, u'round': 3, u'scores': {0: 1, 13: 7}, u'id': 25}, {u'status': 1, u'team_1': 9, u'team_2': 4, u'round': 3, u'scores': {9: 6, 4: 1}, u'id': 26}, {u'status': 1, u'team_1': 2, u'team_2': 11, u'round': 3, u'scores': {2: 4, 11: 0}, u'id': 27}, {u'status': 1, u'team_1': 5, u'team_2': 7, u'round': 3, u'scores': {5: 1, 7: 6}, u'id': 28}, {u'status': 1, u'team_1': 6, u'team_2': 8, u'round': 3, u'scores': {8: 1, 6: 2}, u'id': 29}, {u'status': 1, u'team_1': 3, u'team_2': 10, u'round': 3, u'scores': {10: 1, 3: 3}, u'id': 30}, {u'status': 1, u'team_1': 2, u'team_2': 7, u'round': 4, u'scores': {2: 7, 7: 1}, u'id': 31}, {u'status': 1, u'team_1': 11, u'team_2': 13, u'round': 4, u'scores': {11: 1, 13: 4}, u'id': 32}, {u'status': 1, u'team_1': 0, u'team_2': 10, u'round': 4, u'scores': {0: 1, 10: 1}, u'id': 33}, {u'status': 1, u'team_1': 4, u'team_2': 5, u'round': 4, u'scores': {4: 8, 5: 5}, u'id': 34}, {u'status': 1, u'team_1': 3, u'team_2': 8, u'round': 4, u'scores': {8: 2, 3: 2}, u'id': 35}, {u'status': 1, u'team_1': 12, u'team_2': 9, u'round': 4, u'scores': {9: 6, 12: 0}, u'id': 36}, {u'status': 1, u'team_1': 6, u'team_2': 1, u'round': 4, u'scores': {1: 4, 6: 1}, u'id': 37}, {u'status': 1, u'scoores': {0: 0, 12: 0}, u'score_2': None, u'team_1': 0, u'team_2': 12, u'score_1': None, u'id': 38, u'scores': {0: 1, 12: 4}, u'round': 5}, {u'status': 1, u'scoores': {1: 0, 11: 0}, u'score_2': None, u'team_1': 1, u'team_2': 11, u'score_1': None, u'id': 39, u'scores': {1: 4, 11: 0}, u'round': 5}, {u'status': 1, u'scoores': {10: 0, 2: 0}, u'score_2': None, u'team_1': 2, u'team_2': 10, u'score_1': None, u'id': 40, u'scores': {10: 0, 2: 9}, u'round': 5}, {u'status': 1, u'scoores': {8: 0, 4: 0}, u'score_2': None, u'team_1': 4, u'team_2': 8, u'score_1': None, u'id': 42, u'scores': {8: 1, 4: 0}, u'round': 5}, {u'status': 1, u'scoores': {9: 0, 5: 0}, u'score_2': None, u'team_1': 5, u'team_2': 9, u'score_1': None, u'id': 43, u'scores': {9: 8, 5: 2}, u'round': 5}, {u'status': 1, u'team_1': 13, u'team_2': 7, u'round': 5, u'scores': {13: 3, 7: 0}, u'id': 45}, {u'status': 1, u'team_1': 6, u'team_2': 3, u'round': 5, u'scores': {3: 0, 6: 5}, u'id': 46}, {u'status': 1, u'team_1': 24, u'team_2': 16, u'round': 2, u'scores': {24: 5, 16: 1}, u'id': 49}, {u'status': 1, u'team_1': 19, u'team_2': 21, u'round': 2, u'scores': {19: 3, 21: 0}, u'id': 50}, {u'status': 1, u'team_1': 14, u'team_2': 25, u'round': 2, u'scores': {25: 1, 14: 1}, u'id': 51}, {u'status': 1, u'team_1': 15, u'team_2': 23, u'round': 2, u'scores': {23: 2, 15: 2}, u'id': 52}, {u'status': 1, u'team_1': 20, u'team_2': 26, u'round': 2, u'scores': {26: 0, 20: 2}, u'id': 55}, {u'status': 1, u'team_1': 17, u'team_2': 27, u'round': 2, u'scores': {17: 11, 27: 0}, u'id': 56}, {u'status': 1, u'team_1': 18, u'team_2': 22, u'round': 2, u'scores': {18: 8, 22: 0}, u'id': 57}, {u'status': 1, u'team_1': 21, u'team_2': 15, u'round': 3, u'scores': {21: 3, 15: 4}, u'id': 58}, {u'status': 1, u'team_1': 24, u'team_2': 25, u'round': 3, u'scores': {24: 4, 25: 1}, u'id': 59}, {u'status': 1, u'team_1': 16, u'team_2': 19, u'round': 3, u'scores': {16: 1, 19: 2}, u'id': 60}, {u'status': 1, u'team_1': 20, u'team_2': 14, u'round': 3, u'scores': {20: 0, 14: 7}, u'id': 61}, {u'status': 1, u'team_1': 18, u'team_2': 23, u'round': 3, u'scores': {18: 6, 23: 0}, u'id': 62}, {u'status': 1, u'team_1': 17, u'team_2': 26, u'round': 3, u'scores': {17: 3, 26: 2}, u'id': 63}, {u'status': 1, u'team_1': 22, u'team_2': 27, u'round': 3, u'scores': {27: 2, 22: 10}, u'id': 64}, {u'status': 1, u'team_1': 20, u'team_2': 25, u'round': 4, u'scores': {25: 12, 20: 0}, u'id': 65}, {u'status': 1, u'team_1': 18, u'team_2': 24, u'round': 4, u'scores': {24: 7, 18: 0}, u'id': 66}, {u'status': 1, u'team_1': 23, u'team_2': 16, u'round': 4, u'scores': {16: 5, 23: 4}, u'id': 67}, {u'status': 1, u'team_1': 14, u'team_2': 19, u'round': 4, u'scores': {19: 2, 14: 2}, u'id': 68}, {u'status': 1, u'team_1': 17, u'team_2': 15, u'round': 4, u'scores': {17: 3, 15: 0}, u'id': 69}, {u'status': 1, u'team_1': 21, u'team_2': 27, u'round': 4, u'scores': {27: 1, 21: 7}, u'id': 70}, {u'status': 1, u'team_1': 26, u'team_2': 22, u'round': 4, u'scores': {26: 2, 22: 4}, u'id': 71}, {u'status': 1, u'scoores': {27: 0, 14: 0}, u'score_2': None, u'team_1': 14, u'team_2': 27, u'score_1': None, u'id': 72, u'scores': {27: 0, 14: 10}, u'round': 5}, {u'status': 1, u'scoores': {26: 0, 15: 0}, u'score_2': None, u'team_1': 15, u'team_2': 26, u'score_1': None, u'id': 73, u'scores': {26: 1, 15: 4}, u'round': 5}, {u'status': 1, u'scoores': {16: 0, 25: 0}, u'score_2': None, u'team_1': 16, u'team_2': 25, u'score_1': None, u'id': 74, u'scores': {16: 2, 25: 0}, u'round': 5}, {u'status': 1, u'scoores': {24: 0, 17: 0}, u'score_2': None, u'team_1': 17, u'team_2': 24, u'score_1': None, u'id': 75, u'scores': {24: 4, 17: 2}, u'round': 5}, {u'status': 1, u'scoores': {18: 0, 20: 0}, u'score_2': None, u'team_1': 18, u'team_2': 20, u'score_1': None, u'id': 76, u'scores': {18: 6, 20: 2}, u'round': 5}, {u'status': 1, u'scoores': {19: 0, 23: 0}, u'score_2': None, u'team_1': 19, u'team_2': 23, u'score_1': None, u'id': 77, u'scores': {19: 7, 23: 0}, u'round': 5}, {u'status': 1, u'scoores': {21: 0, 22: 0}, u'score_2': None, u'team_1': 21, u'team_2': 22, u'score_1': None, u'id': 78, u'scores': {21: 3, 22: 1}, u'round': 5}, {u'status': 1, u'team_1': 2, u'team_2': 19, u'round': 6, u'scores': {2: 1, 19: 2}, u'id': 102}, {u'status': 1, u'team_1': 1, u'team_2': 16, u'round': 6, u'scores': {16: 2, 1: 1}, u'id': 103}, {u'status': 0, u'team_1': 11, u'team_2': 18, u'round': 6, u'scores': {18: 0, 11: 0}, u'id': 104}, {u'status': 0, u'team_1': 6, u'team_2': 15, u'round': 6, u'scores': {6: 0, 15: 0}, u'id': 105}, {u'status': 0, u'team_1': 8, u'team_2': 21, u'round': 6, u'scores': {8: 0, 21: 0}, u'id': 106}, {u'status': 0, u'team_1': 0, u'team_2': 22, u'round': 6, u'scores': {0: 0, 22: 0}, u'id': 107}, {u'status': 0, u'team_1': 4, u'team_2': 27, u'round': 6, u'scores': {27: 0, 4: 0}, u'id': 108}]\n",
      "{0: <tournament.Team instance at 0x7fe0249db050>, 1: <tournament.Team instance at 0x7fe024a8bb00>, 2: <tournament.Team instance at 0x7fe0249db170>, 4: <tournament.Team instance at 0x7fe0249db998>, 6: <tournament.Team instance at 0x7fe0249db9e0>, 8: <tournament.Team instance at 0x7fe0249db878>, 11: <tournament.Team instance at 0x7fe024a03f80>, 15: <tournament.Team instance at 0x7fe024a8bf38>, 16: <tournament.Team instance at 0x7fe0249dbbd8>, 18: <tournament.Team instance at 0x7fe024a033b0>, 19: <tournament.Team instance at 0x7fe024a8bc20>, 21: <tournament.Team instance at 0x7fe024a03368>, 22: <tournament.Team instance at 0x7fe024a8bb90>, 27: <tournament.Team instance at 0x7fe024a8bd40>}\n"
     ]
    },
    {
     "ename": "KeyError",
     "evalue": "9",
     "output_type": "error",
     "traceback": [
      "\u001b[1;31m---------------------------------------------------------------------------\u001b[0m",
      "\u001b[1;31mKeyError\u001b[0m                                  Traceback (most recent call last)",
      "\u001b[1;32m<ipython-input-120-2c7290830330>\u001b[0m in \u001b[0;36m<module>\u001b[1;34m()\u001b[0m\n\u001b[0;32m      1\u001b[0m \u001b[1;31m# Compute the strengths of the teams. This may take some time.\u001b[0m\u001b[1;33m\u001b[0m\u001b[1;33m\u001b[0m\u001b[0m\n\u001b[1;32m----> 2\u001b[1;33m \u001b[0mcompute_strengths\u001b[0m\u001b[1;33m(\u001b[0m\u001b[1;33m)\u001b[0m\u001b[1;33m\u001b[0m\u001b[0m\n\u001b[0m",
      "\u001b[1;32m<ipython-input-118-7477f827a436>\u001b[0m in \u001b[0;36mcompute_strengths\u001b[1;34m()\u001b[0m\n\u001b[0;32m      4\u001b[0m \u001b[1;33m\u001b[0m\u001b[0m\n\u001b[0;32m      5\u001b[0m \u001b[1;32mdef\u001b[0m \u001b[0mcompute_strengths\u001b[0m\u001b[1;33m(\u001b[0m\u001b[1;33m)\u001b[0m\u001b[1;33m:\u001b[0m\u001b[1;33m\u001b[0m\u001b[0m\n\u001b[1;32m----> 6\u001b[1;33m     \u001b[0mreq\u001b[0m\u001b[1;33m.\u001b[0m\u001b[0mupdate_strengths\u001b[0m\u001b[1;33m(\u001b[0m\u001b[0mDB\u001b[0m\u001b[1;33m,\u001b[0m\u001b[0msess_id\u001b[0m\u001b[1;33m)\u001b[0m\u001b[1;33m\u001b[0m\u001b[0m\n\u001b[0m\u001b[0;32m      7\u001b[0m     \u001b[0mexport_results\u001b[0m\u001b[1;33m(\u001b[0m\u001b[0msess_id\u001b[0m\u001b[1;33m)\u001b[0m\u001b[1;33m\u001b[0m\u001b[0m\n\u001b[0;32m      8\u001b[0m \u001b[1;33m\u001b[0m\u001b[0m\n",
      "\u001b[1;32m/home/ubuntu/bayesian/python/req.pyc\u001b[0m in \u001b[0;36mupdate_strengths\u001b[1;34m(db, session_id)\u001b[0m\n\u001b[0;32m     16\u001b[0m \u001b[1;32mdef\u001b[0m \u001b[0mupdate_strengths\u001b[0m\u001b[1;33m(\u001b[0m\u001b[0mdb\u001b[0m\u001b[1;33m,\u001b[0m\u001b[0msession_id\u001b[0m\u001b[1;33m)\u001b[0m\u001b[1;33m:\u001b[0m\u001b[1;33m\u001b[0m\u001b[0m\n\u001b[0;32m     17\u001b[0m     \u001b[0msess\u001b[0m \u001b[1;33m=\u001b[0m \u001b[0mdb\u001b[0m\u001b[1;33m[\u001b[0m\u001b[1;34m'Sessions'\u001b[0m\u001b[1;33m]\u001b[0m\u001b[1;33m[\u001b[0m\u001b[0msession_id\u001b[0m\u001b[1;33m]\u001b[0m\u001b[1;33m\u001b[0m\u001b[0m\n\u001b[1;32m---> 18\u001b[1;33m     \u001b[0mstr_dict\u001b[0m \u001b[1;33m=\u001b[0m \u001b[0mbayes\u001b[0m\u001b[1;33m.\u001b[0m\u001b[0mupdate_results\u001b[0m\u001b[1;33m(\u001b[0m\u001b[0msess\u001b[0m\u001b[1;33m,\u001b[0m\u001b[0mdb\u001b[0m\u001b[1;33m[\u001b[0m\u001b[1;34m'Games'\u001b[0m\u001b[1;33m]\u001b[0m\u001b[1;33m)\u001b[0m\u001b[1;33m\u001b[0m\u001b[0m\n\u001b[0m\u001b[0;32m     19\u001b[0m     \u001b[1;32mfor\u001b[0m \u001b[0mk\u001b[0m\u001b[1;33m,\u001b[0m\u001b[0mv\u001b[0m \u001b[1;32min\u001b[0m \u001b[0mstr_dict\u001b[0m\u001b[1;33m.\u001b[0m\u001b[0miteritems\u001b[0m\u001b[1;33m(\u001b[0m\u001b[1;33m)\u001b[0m\u001b[1;33m:\u001b[0m\u001b[1;33m\u001b[0m\u001b[0m\n\u001b[0;32m     20\u001b[0m         \u001b[0msess\u001b[0m\u001b[1;33m[\u001b[0m\u001b[1;34m'strengths'\u001b[0m\u001b[1;33m]\u001b[0m\u001b[1;33m[\u001b[0m\u001b[0mk\u001b[0m\u001b[1;33m]\u001b[0m \u001b[1;33m=\u001b[0m \u001b[0mv\u001b[0m\u001b[1;33m\u001b[0m\u001b[0m\n",
      "\u001b[1;32m/home/ubuntu/bayesian/python/bayes.py\u001b[0m in \u001b[0;36mupdate_results\u001b[1;34m(session, Games)\u001b[0m\n\u001b[0;32m     64\u001b[0m \u001b[1;32mdef\u001b[0m \u001b[0mupdate_results\u001b[0m\u001b[1;33m(\u001b[0m\u001b[0msession\u001b[0m\u001b[1;33m,\u001b[0m\u001b[0mGames\u001b[0m\u001b[1;33m)\u001b[0m\u001b[1;33m:\u001b[0m\u001b[1;33m\u001b[0m\u001b[0m\n\u001b[0;32m     65\u001b[0m \u001b[1;33m\u001b[0m\u001b[0m\n\u001b[1;32m---> 66\u001b[1;33m     \u001b[0msess\u001b[0m \u001b[1;33m=\u001b[0m \u001b[0mfit_session\u001b[0m\u001b[1;33m(\u001b[0m\u001b[0msession\u001b[0m\u001b[1;33m,\u001b[0m\u001b[0mGames\u001b[0m\u001b[1;33m)\u001b[0m\u001b[1;33m\u001b[0m\u001b[0m\n\u001b[0m\u001b[0;32m     67\u001b[0m \u001b[1;33m\u001b[0m\u001b[0m\n\u001b[0;32m     68\u001b[0m \u001b[1;33m\u001b[0m\u001b[0m\n",
      "\u001b[1;32m/home/ubuntu/bayesian/python/bayes.py\u001b[0m in \u001b[0;36mfit_session\u001b[1;34m(session, Games)\u001b[0m\n\u001b[0;32m     58\u001b[0m     \u001b[0msess\u001b[0m \u001b[1;33m=\u001b[0m \u001b[0minit_session\u001b[0m\u001b[1;33m(\u001b[0m\u001b[0mteams\u001b[0m\u001b[1;33m)\u001b[0m\u001b[1;33m\u001b[0m\u001b[0m\n\u001b[0;32m     59\u001b[0m     sess.games = mcmc_games([Games[id] for id in games],\n\u001b[1;32m---> 60\u001b[1;33m                                 teams)\n\u001b[0m\u001b[0;32m     61\u001b[0m     \u001b[0msess\u001b[0m\u001b[1;33m.\u001b[0m\u001b[0mfit_model\u001b[0m\u001b[1;33m(\u001b[0m\u001b[1;33m)\u001b[0m\u001b[1;33m\u001b[0m\u001b[0m\n\u001b[0;32m     62\u001b[0m     \u001b[1;32mreturn\u001b[0m \u001b[0msess\u001b[0m\u001b[1;33m\u001b[0m\u001b[0m\n",
      "\u001b[1;32m/home/ubuntu/bayesian/python/bayes.py\u001b[0m in \u001b[0;36mmcmc_games\u001b[1;34m(games, teams)\u001b[0m\n\u001b[0;32m     47\u001b[0m         \u001b[1;32mreturn\u001b[0m \u001b[0mg\u001b[0m\u001b[1;33m\u001b[0m\u001b[0m\n\u001b[0;32m     48\u001b[0m \u001b[1;33m\u001b[0m\u001b[0m\n\u001b[1;32m---> 49\u001b[1;33m     \u001b[1;32mreturn\u001b[0m \u001b[1;33m[\u001b[0m\u001b[0mnew_game\u001b[0m\u001b[1;33m(\u001b[0m\u001b[0mg\u001b[0m\u001b[1;33m)\u001b[0m \u001b[1;32mfor\u001b[0m \u001b[0mg\u001b[0m \u001b[1;32min\u001b[0m \u001b[0mgames\u001b[0m\u001b[1;33m]\u001b[0m\u001b[1;33m\u001b[0m\u001b[0m\n\u001b[0m\u001b[0;32m     50\u001b[0m \u001b[1;33m\u001b[0m\u001b[0m\n\u001b[0;32m     51\u001b[0m \u001b[1;32mdef\u001b[0m \u001b[0minit_session\u001b[0m\u001b[1;33m(\u001b[0m\u001b[0mteams\u001b[0m\u001b[1;33m)\u001b[0m\u001b[1;33m:\u001b[0m\u001b[1;33m\u001b[0m\u001b[0m\n",
      "\u001b[1;32m/home/ubuntu/bayesian/python/bayes.py\u001b[0m in \u001b[0;36mnew_game\u001b[1;34m(game)\u001b[0m\n\u001b[0;32m     38\u001b[0m         \u001b[0mt1\u001b[0m \u001b[1;33m=\u001b[0m \u001b[0mgame\u001b[0m\u001b[1;33m[\u001b[0m\u001b[1;34m'team_1'\u001b[0m\u001b[1;33m]\u001b[0m\u001b[1;33m\u001b[0m\u001b[0m\n\u001b[0;32m     39\u001b[0m         \u001b[0mt2\u001b[0m \u001b[1;33m=\u001b[0m \u001b[0mgame\u001b[0m\u001b[1;33m[\u001b[0m\u001b[1;34m'team_2'\u001b[0m\u001b[1;33m]\u001b[0m\u001b[1;33m\u001b[0m\u001b[0m\n\u001b[1;32m---> 40\u001b[1;33m         \u001b[0mg\u001b[0m\u001b[1;33m.\u001b[0m\u001b[0mteams\u001b[0m \u001b[1;33m=\u001b[0m \u001b[1;33m[\u001b[0m\u001b[0mteams\u001b[0m\u001b[1;33m[\u001b[0m\u001b[0mt1\u001b[0m\u001b[1;33m]\u001b[0m\u001b[1;33m,\u001b[0m\u001b[0mteams\u001b[0m\u001b[1;33m[\u001b[0m\u001b[0mt2\u001b[0m\u001b[1;33m]\u001b[0m\u001b[1;33m]\u001b[0m\u001b[1;33m\u001b[0m\u001b[0m\n\u001b[0m\u001b[0;32m     41\u001b[0m         \u001b[1;32mif\u001b[0m \u001b[1;32mnot\u001b[0m \u001b[0mgame\u001b[0m\u001b[1;33m[\u001b[0m\u001b[1;34m'status'\u001b[0m\u001b[1;33m]\u001b[0m \u001b[1;33m==\u001b[0m \u001b[1;36m1\u001b[0m\u001b[1;33m:\u001b[0m\u001b[1;33m\u001b[0m\u001b[0m\n\u001b[0;32m     42\u001b[0m             \u001b[0mg\u001b[0m\u001b[1;33m.\u001b[0m\u001b[0mscores\u001b[0m \u001b[1;33m=\u001b[0m \u001b[0mNone\u001b[0m\u001b[1;33m\u001b[0m\u001b[0m\n",
      "\u001b[1;31mKeyError\u001b[0m: 9"
     ]
    }
   ],
   "source": [
    "# Compute the strengths of the teams. This may take some time.\n",
    "compute_strengths()"
   ]
  },
  {
   "cell_type": "code",
   "execution_count": 357,
   "metadata": {
    "collapsed": false
   },
   "outputs": [
    {
     "name": "stdout",
     "output_type": "stream",
     "text": [
      "running MCMC\n",
      " [-----------------100%-----------------] 100000 of 100000 complete in 29.4 sec[[15, 25], [19, 24], [16, 21], [17, 18], [23, 14], [20, 22], [26, 27], [24, 16], [19, 21], [14, 25], [15, 23], [20, 26], [17, 27], [18, 22], [21, 15], [24, 25], [16, 19], [20, 14], [18, 23], [17, 26], [22, 27], [20, 25], [18, 24], [23, 16], [14, 19], [17, 15], [21, 27], [26, 22]]\n",
      "done\n"
     ]
    }
   ],
   "source": [
    "#Suggest games for the next round. This may take quite some time.\n",
    "stage_round(round  =5)"
   ]
  },
  {
   "cell_type": "code",
   "execution_count": 359,
   "metadata": {
    "collapsed": false
   },
   "outputs": [],
   "source": [
    "#This will add the suggested games to the list of games\n",
    "add_suggested_games()"
   ]
  },
  {
   "cell_type": "code",
   "execution_count": 161,
   "metadata": {
    "collapsed": false
   },
   "outputs": [],
   "source": [
    "#add one of the suggested games to the list of games\n",
    "add_suggested_game(game_id=0)"
   ]
  },
  {
   "cell_type": "code",
   "execution_count": 117,
   "metadata": {
    "collapsed": false
   },
   "outputs": [],
   "source": [
    "saveDB(DB)"
   ]
  },
  {
   "cell_type": "code",
   "execution_count": 205,
   "metadata": {
    "collapsed": false
   },
   "outputs": [],
   "source": [
    "export_results(sess_id)"
   ]
  },
  {
   "cell_type": "code",
   "execution_count": 224,
   "metadata": {
    "collapsed": false
   },
   "outputs": [],
   "source": [
    "export_games(sess_id)"
   ]
  },
  {
   "cell_type": "code",
   "execution_count": 198,
   "metadata": {
    "collapsed": true
   },
   "outputs": [],
   "source": [
    "export_games(1)"
   ]
  },
  {
   "cell_type": "code",
   "execution_count": 105,
   "metadata": {
    "collapsed": false
   },
   "outputs": [
    {
     "data": {
      "text/plain": [
       "<module 'ranking' from 'ranking.pyc'>"
      ]
     },
     "execution_count": 105,
     "metadata": {},
     "output_type": "execute_result"
    }
   ],
   "source": [
    "import bayes\n",
    "reload(req)\n",
    "reload(bayes)\n",
    "import ranking\n",
    "reload(ranking)"
   ]
  },
  {
   "cell_type": "code",
   "execution_count": 95,
   "metadata": {
    "collapsed": false,
    "scrolled": true
   },
   "outputs": [
    {
     "data": {
      "text/plain": [
       "[1, 2, 3, 1]"
      ]
     },
     "execution_count": 95,
     "metadata": {},
     "output_type": "execute_result"
    }
   ],
   "source": [
    "x = [1,2,3]\n",
    "x.append(1)\n",
    "x"
   ]
  },
  {
   "cell_type": "code",
   "execution_count": 42,
   "metadata": {
    "collapsed": false
   },
   "outputs": [],
   "source": [
    "DB['Sessions'][3]['games'] = DB['Sessions'][1]['games'] + DB ['Sessions'][4]['games']\n",
    "DB['Sessions'][4]['games'] = DB['Sessions'][1]['games'] + DB ['Sessions'][4]['games']\n",
    "\n",
    "DB['Sessions'][3]['teams'] = [2,19,1,16,11,18,6,15,8,21,0,22,4,27]\n",
    "DB['Sessions'][4]['teams'] = [24,13,14,9,25,7,17,12,23,3,20,10,26,5]"
   ]
  },
  {
   "cell_type": "code",
   "execution_count": 331,
   "metadata": {
    "collapsed": false
   },
   "outputs": [
    {
     "data": {
      "text/plain": [
       "[<tournament.Game instance at 0x7f0c9c648f38>,\n",
       " <tournament.Game instance at 0x7f0c9c648f80>,\n",
       " <tournament.Game instance at 0x7f0c9c648fc8>,\n",
       " <tournament.Game instance at 0x7f0c9c651050>,\n",
       " <tournament.Game instance at 0x7f0c9c6416c8>,\n",
       " <tournament.Game instance at 0x7f0c9c6415f0>,\n",
       " <tournament.Game instance at 0x7f0c9c641638>,\n",
       " <tournament.Game instance at 0x7f0c9c641680>,\n",
       " <tournament.Game instance at 0x7f0c9c651098>,\n",
       " <tournament.Game instance at 0x7f0c9c6510e0>,\n",
       " <tournament.Game instance at 0x7f0c9c651128>,\n",
       " <tournament.Game instance at 0x7f0c9c651170>,\n",
       " <tournament.Game instance at 0x7f0c9c6511b8>,\n",
       " <tournament.Game instance at 0x7f0c9c651200>,\n",
       " <tournament.Game instance at 0x7f0c9c651248>,\n",
       " <tournament.Game instance at 0x7f0c9c651290>,\n",
       " <tournament.Game instance at 0x7f0c9c6512d8>,\n",
       " <tournament.Game instance at 0x7f0c9c651320>,\n",
       " <tournament.Game instance at 0x7f0c9c651368>,\n",
       " <tournament.Game instance at 0x7f0c9c6513b0>,\n",
       " <tournament.Game instance at 0x7f0c9c6513f8>,\n",
       " <tournament.Game instance at 0x7f0c9c651440>,\n",
       " <tournament.Game instance at 0x7f0c9c651488>,\n",
       " <tournament.Game instance at 0x7f0c9c6514d0>]"
      ]
     },
     "execution_count": 331,
     "metadata": {},
     "output_type": "execute_result"
    }
   ],
   "source": [
    "import bayes\n",
    "import ranking\n",
    "\n",
    "teams = bayes.make_teams(DB['Sessions'][2]['teams'])\n",
    "sess = bayes.init_session(teams)\n",
    "sess.games = bayes.mcmc_games([DB['Games'][id] for id in DB['Sessions'][2]['games']],teams)\n"
   ]
  },
  {
   "cell_type": "code",
   "execution_count": 332,
   "metadata": {
    "collapsed": false
   },
   "outputs": [
    {
     "name": "stdout",
     "output_type": "stream",
     "text": [
      "running MCMC\n",
      " [-----------------100%-----------------] 100000 of 100000 complete in 28.9 sec"
     ]
    }
   ],
   "source": [
    "sess.fit_model()\n"
   ]
  },
  {
   "cell_type": "code",
   "execution_count": 158,
   "metadata": {
    "collapsed": false
   },
   "outputs": [
    {
     "name": "stdout",
     "output_type": "stream",
     "text": [
      "[[2, 9], [1, 13], [7, 10], [12, 8], [11, 0], [3, 4], [6, 5], [13, 2], [1, 9], [7, 12], [11, 3], [0, 4], [8, 5], [6, 10], [1, 12], [13, 0], [9, 4], [2, 11], [5, 7], [6, 8], [3, 10]]\n"
     ]
    },
    {
     "data": {
      "text/plain": [
       "[]"
      ]
     },
     "execution_count": 158,
     "metadata": {},
     "output_type": "execute_result"
    }
   ],
   "source": [
    "kl = sess.kl_info_vec()\n",
    "sess.stage_round(3,kl)"
   ]
  },
  {
   "cell_type": "code",
   "execution_count": 308,
   "metadata": {
    "collapsed": false
   },
   "outputs": [
    {
     "data": {
      "text/plain": [
       "array([-1.62747166,  0.6548901 , -0.26899063, -1.81805333, -2.54009176,\n",
       "       -1.26907531,  0.9887355 ,  1.17901925,  3.02039566,  0.43067404,\n",
       "       -2.61601751, -1.2592841 ,  2.0404588 ,  3.08481095])"
      ]
     },
     "execution_count": 308,
     "metadata": {},
     "output_type": "execute_result"
    }
   ],
   "source": [
    "sess.mcmc.theta.stats()['mean']"
   ]
  },
  {
   "cell_type": "code",
   "execution_count": 320,
   "metadata": {
    "collapsed": false
   },
   "outputs": [
    {
     "data": {
      "text/plain": [
       "{14: -1.6290111640573144,\n",
       " 15: 0.85073872077611212,\n",
       " 16: -0.12824846678074364,\n",
       " 17: -2.286252118675657,\n",
       " 18: -3.0303234839973849,\n",
       " 19: -1.0436787132556462,\n",
       " 20: 1.0064076546206735,\n",
       " 21: 1.2730101290977505,\n",
       " 22: 2.8477374351200555,\n",
       " 23: 0.73790117714597259,\n",
       " 24: -2.458718520858064,\n",
       " 25: -1.1123013870008245,\n",
       " 26: 2.0759859218401853,\n",
       " 27: 2.8967528160247915}"
      ]
     },
     "execution_count": 320,
     "metadata": {},
     "output_type": "execute_result"
    }
   ],
   "source": [
    "sess.strengths()"
   ]
  },
  {
   "cell_type": "code",
   "execution_count": 272,
   "metadata": {
    "collapsed": false
   },
   "outputs": [
    {
     "data": {
      "text/plain": [
       "5"
      ]
     },
     "execution_count": 272,
     "metadata": {},
     "output_type": "execute_result"
    }
   ],
   "source": [
    "sess.games[1].teams[0].id"
   ]
  },
  {
   "cell_type": "code",
   "execution_count": 116,
   "metadata": {
    "collapsed": false
   },
   "outputs": [
    {
     "data": {
      "text/plain": [
       "[2, 9]"
      ]
     },
     "execution_count": 116,
     "metadata": {},
     "output_type": "execute_result"
    }
   ],
   "source": [
    "g= sess.games[0]\n",
    "[t.id for t in g.teams]"
   ]
  },
  {
   "cell_type": "code",
   "execution_count": 328,
   "metadata": {
    "collapsed": false
   },
   "outputs": [
    {
     "name": "stdout",
     "output_type": "stream",
     "text": [
      "running MCMC\n",
      " [-----------------100%-----------------] 100000 of 100000 complete in 30.1 sec"
     ]
    }
   ],
   "source": [
    "x=req.update_strengths(DB,2)"
   ]
  },
  {
   "cell_type": "code",
   "execution_count": 329,
   "metadata": {
    "collapsed": false
   },
   "outputs": [
    {
     "data": {
      "text/plain": [
       "{0: 1.240902108482105,\n",
       " 1: -1.7313163712697726,\n",
       " 2: -2.8765658394250044,\n",
       " 3: 1.1288194903466013,\n",
       " 4: 1.4651319018689322,\n",
       " 5: 2.4161783699511941,\n",
       " 6: 0.14419265791853592,\n",
       " 7: -0.053151918012899063,\n",
       " 8: 0.96596172161713834,\n",
       " 9: -1.1502022887057295,\n",
       " 10: 1.2421464553926431,\n",
       " 11: -1.0857910719168931,\n",
       " 12: 0.40310069577556018,\n",
       " 13: -2.1094059120224267,\n",
       " 14: 0,\n",
       " 15: 0,\n",
       " 16: 0,\n",
       " 17: 0,\n",
       " 18: 0,\n",
       " 19: 0,\n",
       " 20: 0,\n",
       " 21: 0,\n",
       " 22: 0,\n",
       " 23: 0,\n",
       " 24: 0,\n",
       " 25: 0,\n",
       " 26: 0,\n",
       " 27: 0}"
      ]
     },
     "execution_count": 329,
     "metadata": {},
     "output_type": "execute_result"
    }
   ],
   "source": [
    "x['Sessions'][2]['strengths']"
   ]
  },
  {
   "cell_type": "code",
   "execution_count": 115,
   "metadata": {
    "collapsed": false
   },
   "outputs": [],
   "source": [
    "DB['Sessions'][4]['games'] = list(set(DB['Sessions'][4]['games']\n",
    "                                 + DB['Sessions'][1]['games']\n",
    "                                 + DB ['Sessions'][2]['games']))"
   ]
  },
  {
   "cell_type": "code",
   "execution_count": 2,
   "metadata": {
    "collapsed": false
   },
   "outputs": [
    {
     "data": {
      "text/plain": [
       "'/home/ubuntu/bayesian/python'"
      ]
     },
     "execution_count": 2,
     "metadata": {},
     "output_type": "execute_result"
    }
   ],
   "source": [
    "pwd"
   ]
  },
  {
   "cell_type": "code",
   "execution_count": 16,
   "metadata": {
    "collapsed": true
   },
   "outputs": [],
   "source": [
    "\n",
    "DB['Sessions'][3]['teams'] = [2,19,1,16,11,18,6,15,8,21,0,22,4,27]\n",
    "DB['Sessions'][4]['teams'] = [24,13,14,9,25,7,17,12,23,3,20,10,26,5]\n",
    "DB['Sessions'][3]['strengths'] = {k:0.0 for k in DB['Sessions'][3]['teams']}\n",
    "DB['Sessions'][4]['strengths'] = {k:0.0 for k in DB['Sessions'][4]['teams']}"
   ]
  },
  {
   "cell_type": "code",
   "execution_count": 107,
   "metadata": {
    "collapsed": true
   },
   "outputs": [],
   "source": [
    "saveDB(DB)"
   ]
  },
  {
   "cell_type": "code",
   "execution_count": 51,
   "metadata": {
    "collapsed": false
   },
   "outputs": [
    {
     "name": "stdout",
     "output_type": "stream",
     "text": [
      "u'2: Golem  strength = 0.0'\n",
      "u'19: Beware  strength = 0.0'\n",
      "u'1: Wabbit  strength = 0.0'\n",
      "u'16: The Jamesons  strength = 0.0'\n",
      "u'11: Triple Fisted  strength = 0.0'\n",
      "u'18: Mammoth  strength = 0.0'\n",
      "u'6: Gentlemans  strength = 0.0'\n",
      "u'15: The Royales with Cheese  strength = 0.0'\n",
      "u'8: Rusty Spoons  strength = 0.0'\n",
      "u'21: Lost Cat  strength = 0.0'\n",
      "u'0: Ball Bangers  strength = 0.0'\n",
      "u'22: Mighty Bisons  strength = 0.0'\n",
      "u'4: JKL  strength = 0.0'\n",
      "u\"27: The Caracal's  strength = 0.0\"\n"
     ]
    }
   ],
   "source": [
    "list_teams(3)"
   ]
  },
  {
   "cell_type": "code",
   "execution_count": null,
   "metadata": {
    "collapsed": false
   },
   "outputs": [],
   "source": []
  },
  {
   "cell_type": "code",
   "execution_count": 19,
   "metadata": {
    "collapsed": false
   },
   "outputs": [
    {
     "name": "stdout",
     "output_type": "stream",
     "text": [
      "u'24: Three Boys  strength = 0.0'\n",
      "u'13: Pete un Plomb  strength = 0.0'\n",
      "u'14: Kitten Pile Crush  strength = 0.0'\n",
      "u'9: Daft Monks  strength = 0.0'\n",
      "u'25: Gobshites  strength = 0.0'\n",
      "u'7: Sons of Odin  strength = 0.0'\n",
      "u'17: Elf Death  strength = 0.0'\n",
      "u'12: With Fire  strength = 0.0'\n",
      "u'23: Sometimes  strength = 0.0'\n",
      "u'3: The Edinburgh Badgers  strength = 0.0'\n",
      "u'20: Two and a half Men  strength = 0.0'\n",
      "u'10: The Budgie Smugglers  strength = 0.0'\n",
      "u'26: Kumaras bravas  strength = 0.0'\n",
      "u'5: The Inseminators  strength = 0.0'\n"
     ]
    }
   ],
   "source": [
    "list_teams(4)"
   ]
  },
  {
   "cell_type": "code",
   "execution_count": 55,
   "metadata": {
    "collapsed": false
   },
   "outputs": [],
   "source": [
    "export_games(4)"
   ]
  },
  {
   "cell_type": "code",
   "execution_count": 104,
   "metadata": {
    "collapsed": false
   },
   "outputs": [
    {
     "data": {
      "text/plain": [
       "{u'games': [0,\n",
       "  1,\n",
       "  2,\n",
       "  3,\n",
       "  4,\n",
       "  5,\n",
       "  6,\n",
       "  16,\n",
       "  17,\n",
       "  18,\n",
       "  19,\n",
       "  20,\n",
       "  21,\n",
       "  22,\n",
       "  24,\n",
       "  25,\n",
       "  26,\n",
       "  27,\n",
       "  28,\n",
       "  29,\n",
       "  30,\n",
       "  31,\n",
       "  32,\n",
       "  33,\n",
       "  34,\n",
       "  35,\n",
       "  36,\n",
       "  37,\n",
       "  38,\n",
       "  39,\n",
       "  40,\n",
       "  42,\n",
       "  43,\n",
       "  45,\n",
       "  46,\n",
       "  102,\n",
       "  103,\n",
       "  104,\n",
       "  105,\n",
       "  106,\n",
       "  107,\n",
       "  108],\n",
       " u'id': 3,\n",
       " u'name': u'Wildcard: Day 2 AM',\n",
       " u'strengths': {0: 0.0,\n",
       "  1: 0.0,\n",
       "  2: 0.0,\n",
       "  4: 0.0,\n",
       "  6: 0.0,\n",
       "  8: 0.0,\n",
       "  11: 0.0,\n",
       "  15: 0.0,\n",
       "  16: 0.0,\n",
       "  18: 0.0,\n",
       "  19: 0.0,\n",
       "  21: 0.0,\n",
       "  22: 0.0,\n",
       "  27: 0.0},\n",
       " u'suggestedGames': [],\n",
       " u'teams': [2, 19, 1, 16, 11, 18, 6, 15, 8, 21, 0, 22, 4, 27],\n",
       " u'type': u'swiss'}"
      ]
     },
     "execution_count": 104,
     "metadata": {},
     "output_type": "execute_result"
    }
   ],
   "source": [
    "session['games']"
   ]
  },
  {
   "cell_type": "code",
   "execution_count": null,
   "metadata": {
    "collapsed": true
   },
   "outputs": [],
   "source": []
  }
 ],
 "metadata": {
  "kernelspec": {
   "display_name": "Python 2",
   "language": "python",
   "name": "python2"
  },
  "language_info": {
   "codemirror_mode": {
    "name": "ipython",
    "version": 2
   },
   "file_extension": ".py",
   "mimetype": "text/x-python",
   "name": "python",
   "nbconvert_exporter": "python",
   "pygments_lexer": "ipython2",
   "version": "2.7.6"
  }
 },
 "nbformat": 4,
 "nbformat_minor": 0
}
