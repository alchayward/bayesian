{
 "cells": [
  {
   "cell_type": "code",
   "execution_count": 1,
   "metadata": {
    "collapsed": false
   },
   "outputs": [],
   "source": [
    "import database\n",
    "import req\n",
    "import pprint\n",
    "import json\n",
    "import os\n",
    "import csv\n",
    "pwd = os.getcwd()\n",
    "pp = pprint.PrettyPrinter(indent=4)\n",
    "\n",
    "dbsavefile = '/DBsave.json'\n",
    "#DB = database.DB_init()\n",
    "\n",
    "def saveDB(db):\n",
    "    with open(\"\".join([pwd,dbsavefile]), 'wb') as jsonfile: \n",
    "            json.dump(db,jsonfile)\n",
    "\n",
    "def num(s):\n",
    "    try:\n",
    "        return int(s)\n",
    "    except ValueError:\n",
    "        try:\n",
    "            return float(s)\n",
    "        except ValueError:\n",
    "            return s\n",
    "\n",
    "def d_or_v(val):\n",
    "    if isinstance(val,dict):\n",
    "        return key_to_int(val)\n",
    "    else:\n",
    "        return val\n",
    "   \n",
    "def key_to_int(d):\n",
    "    return {num(k):d_or_v(v) for k,v in d.iteritems()}   \n",
    "\n",
    "def loadDB():\n",
    "    with open(\"\".join([pwd,dbsavefile]), 'rb') as jsonfile: \n",
    "        db = json.load(jsonfile)\n",
    "    return key_to_int(db)\n",
    "\n",
    "    \n",
    "\n",
    "DB=loadDB()\n",
    "pprint = pp.pprint\n",
    "Teams = DB['Teams']\n",
    "Games = DB['Games']\n",
    "\n"
   ]
  },
  {
   "cell_type": "code",
   "execution_count": 2,
   "metadata": {
    "collapsed": false
   },
   "outputs": [],
   "source": [
    "\n",
    "def print_team(d,score = 0.0):\n",
    "    pprint(''.join([str(d['id']),': ',d['name'],'  strength = ',str(score)]))\n",
    "\n",
    "def print_game(d):\n",
    "    if d['status']==1:\n",
    "        pprint(\"\".join([str(d['id']),':', 'r', str(d['round']),'  ',\n",
    "                        str(d['scores'][d['team_1']]),' -- ',\n",
    "                        DB['Teams'][d['team_1']]['name'],\n",
    "                        ' vs ', DB['Teams'][d['team_2']]['name'], ' -- ',\n",
    "                        str(d['scores'][d['team_2']])]))\n",
    "    else:\n",
    "        pprint(\"\".join([str(d['id']),':','r',str(d['round']),'  ',\n",
    "                DB['Teams'][d['team_1']]['name'],\n",
    "                ' vs ', DB['Teams'][d['team_2']]['name']]))\n",
    "def list_teams(session_id):\n",
    "    session = DB['Sessions'][session_id]\n",
    "    for id in session['teams']:\n",
    "        s = session['strengths'][id]\n",
    "        print_team(DB['Teams'][id],score = s)\n",
    "def list_games(session_id):\n",
    "    session = DB['Sessions'][session_id]\n",
    "    for id in session['games']:\n",
    "        print_game(DB['Games'][id])\n",
    "\n",
    "        \n",
    "def games_played(team_id,session_id):\n",
    "    def count(g,t):\n",
    "        if DB['Games'][g]['status'] == 1 and t in [DB['Games'][g]['team_1'],DB['Games'][g]['team_2']]:\n",
    "            return 1\n",
    "        else:\n",
    "            return 0\n",
    "        \n",
    "    return sum([count(g_id,team_id) for g_id in DB['Sessions'][session_id]['games']])\n",
    "    \n",
    "def export_results(session_id):\n",
    "    session = DB['Sessions'][session_id]\n",
    "    s = session['strengths']\n",
    "    \n",
    "    d = sorted([[id,DB['Teams'][id]['name'],\n",
    "          \"{0:.2f}\".format(session['strengths'][id]),\n",
    "         games_played(id,session_id)] for id in session['teams']],key = lambda x: s[x[0]])\n",
    "\n",
    "    with open(\"\".join([pwd,'/results.csv']), 'wb') as csvfile:\n",
    "\n",
    "        writer = csv.writer(csvfile,delimiter='\\t')\n",
    "    \n",
    "        for line in d:\n",
    "            writer.writerow(line)\n",
    "\n",
    "            \n",
    "def export_games(session_id):\n",
    "    session = DB['Sessions'][session_id]\n",
    "    played_games = [Games[id] for id in session['games'] if Games[id]['status'] == 1]\n",
    "    unplayed_games = [Games[id] for id in session['games'] if not Games[id]['status'] == 1]\n",
    "\n",
    "    pd = [[g['id'],Teams[g['team_1']]['name'],Teams[g['team_2']]['name'],\n",
    "            g['round'],g['scores'][g['team_1']],\n",
    "            g['scores'][g['team_2']]] for g in played_games]    \n",
    "    upd = [[g['id'],Teams[g['team_1']]['name'],Teams[g['team_2']]['name'],\n",
    "            g['round'],'none',\n",
    "            'none'] for g in unplayed_games]    \n",
    "    with open(\"\".join([pwd,'/games.csv']), 'wb') as csvfile:\n",
    "\n",
    "        writer = csv.writer(csvfile,delimiter='\\t')\n",
    "    \n",
    "        for line in pd:\n",
    "           writer.writerow(line)\n",
    "        \n",
    "        for line in upd:\n",
    "           writer.writerow(line)\n",
    "        \n",
    "def export_suggested_games(session_id):\n",
    "    session = DB['Sessions'][session_id]\n",
    "    suggested_games = session['suggestedGames'].values()\n",
    "\n",
    "    pd = [[g['id'],Teams[g['team_1']]['name'],Teams[g['team_2']]['name'],\n",
    "            g['round']] for g in suggested_games]    \n",
    "\n",
    "    with open(\"\".join([pwd,'/suggested_games.csv']), 'wb') as csvfile:\n",
    "\n",
    "        writer = csv.writer(csvfile,delimiter='\\t')\n",
    "    \n",
    "        for line in pd:\n",
    "           writer.writerow(line)\n",
    "        \n",
    "def export_teams_list(session_id):\n",
    "    session = DB['Sessions'][session_id]\n",
    "    teams = [DB['Teams'][id] for id in session['teams']]\n",
    "\n",
    "    pd = [[t['id'],t['name']] for t in teams]    \n",
    "\n",
    "    with open(\"\".join([pwd,'/team_list.csv']),'wb') as csvfile:\n",
    "\n",
    "        writer = csv.writer(csvfile,delimiter='\\t')\n",
    "    \n",
    "        for line in pd:\n",
    "           writer.writerow(line)\n",
    "        \n",
    "\n",
    "\n"
   ]
  },
  {
   "cell_type": "code",
   "execution_count": 3,
   "metadata": {
    "collapsed": false
   },
   "outputs": [],
   "source": [
    "sess_id = 8\n",
    "export_teams_list(sess_id)\n",
    "export_games(sess_id)\n",
    "export_results(sess_id)\n",
    "\n",
    "def compute_strengths():\n",
    "    req.update_strengths(DB,sess_id)\n",
    "    export_results(sess_id)\n",
    "\n",
    "def stage_round(round = 0):\n",
    "    req.get_suggested_games(DB,sess_id,round)\n",
    "    export_suggested_games(sess_id)\n",
    "    print('done')\n",
    "    \n",
    "def update_score(game_id=-1,score_1 = -1, score_2 = -1):\n",
    "    req.update_score(DB,game_id,score_1,score_2)\n",
    "    export_games(sess_id)\n",
    "    print_game(Games[game_id])\n",
    "\n",
    "def add_suggested_games():\n",
    "    req.add_suggested_games(DB,sess_id)\n",
    "    export_games(sess_id)\n",
    "def add_suggested_game(game_id=0):\n",
    "    req.add_game(DB,sess_id,DB['Sessions'][sess_id]['suggestedGames'][game_id])\n",
    "    export_games(sess_id)\n",
    "\n",
    "def add_game(team_1 = 0, team_2 = 0, round = 0):\n",
    "    req.add_game(DB,sess_id,req.new_game(team_1,team_2,round))\n",
    "    export_games(sess_id)\n",
    "\n",
    "def remove_game(game_id=-1):\n",
    "    req.remove_game(DB, sess_id, game_id)\n",
    "    export_games(sess_id)\n",
    "\n",
    "    \n",
    "def check_teams(team_1=0,team_2=0):\n",
    "    games = [Games[id] for id in DB['Sessions'][sess_id]['games']]\n",
    "    for game in games:\n",
    "        if set([game['team_1'],game['team_2']]) == set([team_1,team_2]):\n",
    "            print('played')\n",
    "            return True\n",
    "    print('unplayed')\n",
    "    return False"
   ]
  },
  {
   "cell_type": "code",
   "execution_count": 263,
   "metadata": {
    "collapsed": false
   },
   "outputs": [],
   "source": [
    "#Add a game to the session. Use the team ID to specify the teams\n",
    "add_game(team_1 = 25, team_2 = 14, round = 6)"
   ]
  },
  {
   "cell_type": "code",
   "execution_count": 473,
   "metadata": {
    "collapsed": false
   },
   "outputs": [
    {
     "name": "stdout",
     "output_type": "stream",
     "text": [
      "unplayed\n"
     ]
    },
    {
     "data": {
      "text/plain": [
       "False"
      ]
     },
     "execution_count": 473,
     "metadata": {},
     "output_type": "execute_result"
    }
   ],
   "source": [
    "check_teams(team_1=11,team_2=25)"
   ]
  },
  {
   "cell_type": "code",
   "execution_count": 6,
   "metadata": {
    "collapsed": false
   },
   "outputs": [
    {
     "name": "stdout",
     "output_type": "stream",
     "text": [
      "u'305:r8  3 -- The Jamesons vs Gobshites -- 5'\n"
     ]
    }
   ],
   "source": [
    "# update the scores in a game. get the game id from the list of games\n",
    "update_score(game_id=305,score_1 =3, score_2 =5)"
   ]
  },
  {
   "cell_type": "code",
   "execution_count": 53,
   "metadata": {
    "collapsed": false
   },
   "outputs": [],
   "source": [
    "# remove a game from the session\n",
    "remove_game(game_id=)"
   ]
  },
  {
   "cell_type": "code",
   "execution_count": 8,
   "metadata": {
    "collapsed": false
   },
   "outputs": [
    {
     "name": "stdout",
     "output_type": "stream",
     "text": [
      "[42, 52, 55, 1, 51, 9, 46, 54, 49, 1, 9, 46, 42, 54, 55, 49, 52, 51, 1, 54, 9, 42, 49, 46, 55, 51, 52, 1, 55, 9, 42, 52, 46, 54, 49, 51, 1, 9, 51, 42, 54, 52, 46, 49, 55, 34, 39, 32, 35, 31, 2, 30, 19, 33, 32, 34, 33, 2, 35, 39, 31, 30, 19, 2, 32, 34, 39, 30, 31, 35, 33, 19, 33, 34, 2, 39, 31, 19, 32, 30, 35, 32, 30, 33, 34, 35, 19, 2, 31, 39, 32, 42, 34, 52, 30, 54, 2, 1, 39, 51, 31, 55, 19, 9, 35, 49, 33, 46, 32, 52, 1, 19, 34, 54, 35, 51, 33, 55, 9, 2, 42, 30, 39, 49, 46, 31, 32, 1, 34, 19, 35, 2, 51, 46, 33, 54, 9, 30, 42, 31, 39, 52, 49, 55, 32, 39, 1, 46, 2, 52, 35, 42, 51, 49, 33, 9, 34, 55, 19, 30, 54, 31]\n",
      "[11, 36, 37, 38, 40, 41, 43, 44, 45, 14, 47, 16, 50, 53, 24, 25, 28, 13]\n",
      "running MCMC\n",
      " [-----------------100%-----------------] 100000 of 100000 complete in 59.8 sec"
     ]
    }
   ],
   "source": [
    "# Compute the strengths of the teams. This may take some time.\n",
    "compute_strengths()"
   ]
  },
  {
   "cell_type": "code",
   "execution_count": 7,
   "metadata": {
    "collapsed": false
   },
   "outputs": [
    {
     "name": "stdout",
     "output_type": "stream",
     "text": [
      "[42, 52, 55, 1, 51, 9, 46, 54, 49, 1, 9, 46, 42, 54, 55, 49, 52, 51, 1, 54, 9, 42, 49, 46, 55, 51, 52, 1, 55, 9, 42, 52, 46, 54, 49, 51, 1, 9, 51, 42, 54, 52, 46, 49, 55, 34, 39, 32, 35, 31, 2, 30, 19, 33, 32, 34, 33, 2, 35, 39, 31, 30, 19, 2, 32, 34, 39, 30, 31, 35, 33, 19, 33, 34, 2, 39, 31, 19, 32, 30, 35, 32, 30, 33, 34, 35, 19, 2, 31, 39, 32, 42, 34, 52, 30, 54, 2, 1, 39, 51, 31, 55, 19, 9, 35, 49, 33, 46, 32, 52, 1, 19, 34, 54, 35, 51, 33, 55, 9, 2, 42, 30, 39, 49, 46, 31, 32, 1, 34, 19, 35, 2, 51, 46, 33, 54, 9, 30, 42, 31, 39, 52, 49, 55, 32, 39, 1, 46, 2, 52, 35, 42, 51, 49, 33, 9, 34, 55, 19, 30, 54, 31]\n",
      "[11, 36, 37, 38, 40, 41, 43, 44, 45, 14, 47, 16, 50, 53, 24, 25, 28, 13]\n",
      "running MCMC\n",
      " [-----------------100%-----------------] 100000 of 100000 complete in 58.4 sec[102, 103, 104, 106, 107, 108, 115, 116, 117, 119, 120, 122, 123, 124, 126, 128, 131, 134, 135, 137, 138, 139, 146, 147, 148, 150, 151, 153, 154, 155, 157, 159, 162, 165, 167, 168, 169, 176, 177, 178, 180, 181, 183, 184, 185, 187, 189, 192, 196, 197, 198, 205, 206, 207, 209, 210, 212, 213, 214, 216, 218, 221, 252, 253, 260, 261, 262, 264, 265, 267, 268, 269, 271, 273, 276, 279, 286, 287, 288, 290, 291, 293, 294, 295, 297, 299, 302, 311, 312, 313, 315, 316, 318, 319, 320, 322, 324, 327, 459, 460, 462, 463, 465, 466, 467, 469, 471, 474, 477, 479, 480, 482, 483, 484, 486, 488, 491, 495, 496, 498, 499, 500, 502, 504, 507, 525, 527, 528, 529, 531, 533, 536, 540, 541, 542, 544, 546, 549, 564, 565, 567, 569, 572, 575, 577, 579, 582, 586, 588, 591, 603, 606, 617]\n",
      "[42, 52, 55, 1, 51, 9, 46, 54, 49, 1, 9, 46, 42, 54, 55, 49, 52, 51, 1, 54, 9, 42, 49, 46, 55, 51, 52, 1, 55, 9, 42, 52, 46, 54, 49, 51, 1, 9, 51, 42, 54, 52, 46, 49, 55, 34, 39, 32, 35, 31, 2, 30, 19, 33, 32, 34, 33, 2, 35, 39, 31, 30, 19, 2, 32, 34, 39, 30, 31, 35, 33, 19, 33, 34, 2, 39, 31, 19, 32, 30, 35, 32, 30, 33, 34, 35, 19, 2, 31, 39, 32, 42, 34, 52, 30, 54, 2, 1, 39, 51, 31, 55, 19, 9, 35, 49, 33, 46, 32, 52, 1, 19, 34, 54, 35, 51, 33, 55, 9, 2, 42, 30, 39, 49, 46, 31, 32, 1, 34, 19, 35, 2, 51, 46, 33, 54, 9, 30, 42, 31, 39, 52, 49, 55, 32, 39, 1, 46, 2, 52, 35, 42, 51, 49, 33, 9, 34, 55, 19, 30, 54, 31]\n",
      "[11, 36, 37, 38, 40, 41, 43, 44, 45, 14, 47, 16, 50, 53, 24, 25, 28, 13]\n",
      "[[42, 44], [50, 52], [45, 55], [53, 1], [51, 9], [43, 24], [46, 25], [47, 54], [11, 49], [1, 11], [9, 46], [42, 45], [43, 54], [44, 55], [47, 24], [49, 52], [50, 51], [53, 25], [1, 45], [11, 54], [9, 25], [42, 50], [43, 53], [44, 49], [46, 55], [47, 51], [52, 24], [1, 47], [43, 55], [9, 24], [42, 52], [11, 46], [44, 54], [45, 50], [49, 25], [51, 53], [1, 9], [43, 51], [42, 54], [11, 25], [44, 53], [45, 52], [46, 49], [47, 50], [55, 24], [34, 39], [32, 36], [35, 41], [31, 2], [37, 13], [30, 38], [40, 19], [33, 14], [28, 16], [32, 34], [33, 38], [2, 13], [35, 28], [36, 39], [37, 41], [40, 31], [14, 30], [16, 19], [2, 32], [36, 34], [38, 13], [39, 37], [40, 28], [30, 31], [35, 33], [41, 16], [19, 14], [33, 28], [34, 13], [37, 2], [39, 31], [40, 14], [41, 19], [32, 38], [30, 36], [35, 16], [32, 30], [33, 41], [34, 38], [35, 19], [36, 2], [37, 31], [39, 28], [40, 13], [14, 16], [32, 42], [34, 52], [30, 54], [2, 1], [39, 51], [31, 55], [19, 9], [35, 49], [33, 46], [32, 52], [1, 19], [34, 54], [35, 51], [33, 55], [9, 2], [42, 30], [39, 49], [46, 31], [32, 1], [34, 19], [35, 2], [51, 46], [33, 54], [9, 30], [42, 31], [39, 52], [49, 55], [32, 39], [1, 46], [2, 52], [35, 42], [51, 49], [33, 9], [34, 55], [19, 30], [54, 31], [16, 24], [11, 41], [44, 37], [47, 13], [53, 40], [43, 28], [50, 36], [45, 38], [25, 14], [11, 40], [36, 47], [37, 53], [38, 41], [43, 50], [44, 16], [45, 28], [14, 24], [13, 25], [45, 43], [36, 53], [37, 50], [38, 40], [41, 13], [11, 24], [44, 47], [14, 28], [16, 25]]\n",
      "[(11, 36, {'weight': 0.34697109686160932}), (11, 37, {'weight': 0.28055351082405}), (11, 38, {'weight': 0.34801609570649417}), (11, 43, {'weight': 0.39516087862271387}), (11, 44, {'weight': 0.32997523420602048}), (11, 45, {'weight': 0.67712692420969223}), (11, 14, {'weight': 0.24721310921361495}), (11, 47, {'weight': 0.24224538822097408}), (11, 16, {'weight': 0.36310328556059623}), (11, 50, {'weight': 0.35200188136833876}), (11, 53, {'weight': 0.27867609039794772}), (11, 28, {'weight': 0.36918397337270425}), (11, 13, {'weight': 0.27921519261171568}), (36, 11, {'weight': 0.34697109686160932}), (36, 37, {'weight': 0.42488140314770195}), (36, 38, {'weight': 0.34698523412917703}), (36, 40, {'weight': 0.36464933213145256}), (36, 41, {'weight': 0.61544040460568494}), (36, 43, {'weight': 0.22544179577569867}), (36, 44, {'weight': 0.35133606904942782}), (36, 45, {'weight': 0.31716058132523672}), (36, 14, {'weight': 0.11530704781308287}), (36, 16, {'weight': 0.52709952039336239}), (36, 24, {'weight': 0.35465839883635342}), (36, 25, {'weight': 0.32727930863001031}), (36, 28, {'weight': 0.40436247694923555}), (36, 13, {'weight': 0.55445170208146566}), (37, 11, {'weight': 0.28055351082405}), (37, 36, {'weight': 0.42488140314770195}), (37, 38, {'weight': 0.3059930403140303}), (37, 40, {'weight': 0.27525256416961064}), (37, 43, {'weight': 0.35936048334333259}), (37, 45, {'weight': 0.56669821193012826}), (37, 14, {'weight': 0.10572810738227734}), (37, 47, {'weight': 0.30818534095386996}), (37, 16, {'weight': 0.40532783329469524}), (37, 24, {'weight': 0.31540732777142644}), (37, 25, {'weight': 0.26180214553447101}), (37, 28, {'weight': 0.33705424636803105}), (38, 11, {'weight': 0.34801609570649417}), (38, 36, {'weight': 0.34698523412917703}), (38, 37, {'weight': 0.3059930403140303}), (38, 43, {'weight': 0.37392569549355592}), (38, 44, {'weight': 0.35376645072271895}), (38, 14, {'weight': 0.15222046262098576}), (38, 47, {'weight': 0.29826563346047186}), (38, 16, {'weight': 0.52931181257804027}), (38, 50, {'weight': 0.27590932605929464}), (38, 53, {'weight': 0.34736803801805571}), (38, 24, {'weight': 0.32977198375244399}), (38, 25, {'weight': 0.30227912495030518}), (38, 28, {'weight': 0.32489162720035392}), (40, 36, {'weight': 0.36464933213145256}), (40, 37, {'weight': 0.27525256416961064}), (40, 41, {'weight': 0.54275388730109464}), (40, 43, {'weight': 0.34591733948842673}), (40, 44, {'weight': 0.36004223328380114}), (40, 45, {'weight': 0.51745845589718087}), (40, 47, {'weight': 0.26308793708271772}), (40, 16, {'weight': 0.43418827914421909}), (40, 50, {'weight': 0.31573047917572561}), (40, 24, {'weight': 0.27048669277570614}), (40, 25, {'weight': 0.26796721595878026}), (41, 36, {'weight': 0.61544040460568494}), (41, 40, {'weight': 0.54275388730109464}), (41, 43, {'weight': 0.77795383216664504}), (41, 44, {'weight': 0.54947666914483451}), (41, 45, {'weight': 1.0752711315001746}), (41, 14, {'weight': 0.45945025710414322}), (41, 47, {'weight': 0.43875777649021597}), (41, 50, {'weight': 0.56970029901716268}), (41, 53, {'weight': 0.51744836012746687}), (41, 24, {'weight': 0.58613183386089851}), (41, 25, {'weight': 0.56945773710433745}), (41, 28, {'weight': 0.56730205204153972}), (43, 11, {'weight': 0.39516087862271387}), (43, 36, {'weight': 0.22544179577569867}), (43, 37, {'weight': 0.35936048334333259}), (43, 38, {'weight': 0.37392569549355592}), (43, 40, {'weight': 0.34591733948842673}), (43, 41, {'weight': 0.77795383216664504}), (43, 44, {'weight': 0.3094084659568046}), (43, 14, {'weight': 0.18454866147892046}), (43, 47, {'weight': 0.34473908910570072}), (43, 16, {'weight': 0.64710808472999393}), (43, 25, {'weight': 0.41820522181874065}), (43, 13, {'weight': 0.52096222992745789}), (44, 11, {'weight': 0.32997523420602048}), (44, 36, {'weight': 0.35133606904942782}), (44, 38, {'weight': 0.35376645072271895}), (44, 40, {'weight': 0.36004223328380114}), (44, 41, {'weight': 0.54947666914483451}), (44, 43, {'weight': 0.3094084659568046}), (44, 45, {'weight': 0.54171496949528564}), (44, 14, {'weight': 0.11458336685446247}), (44, 50, {'weight': 0.50143862242572679}), (44, 24, {'weight': 0.35479372471305748}), (44, 25, {'weight': 0.33217927625318211}), (44, 28, {'weight': 0.38392835247264134}), (44, 13, {'weight': 0.49692445938017871}), (45, 11, {'weight': 0.67712692420969223}), (45, 36, {'weight': 0.31716058132523672}), (45, 37, {'weight': 0.56669821193012826}), (45, 40, {'weight': 0.51745845589718087}), (45, 41, {'weight': 1.0752711315001746}), (45, 44, {'weight': 0.54171496949528564}), (45, 14, {'weight': 0.23063956910601702}), (45, 47, {'weight': 0.59710874573385064}), (45, 16, {'weight': 0.93745426788209629}), (45, 53, {'weight': 0.61224730464104393}), (45, 24, {'weight': 0.58968583200030089}), (45, 25, {'weight': 0.57382421078833268}), (45, 13, {'weight': 0.83400049539735965}), (14, 11, {'weight': 0.24721310921361495}), (14, 36, {'weight': 0.11530704781308287}), (14, 37, {'weight': 0.10572810738227734}), (14, 38, {'weight': 0.15222046262098576}), (14, 41, {'weight': 0.45945025710414322}), (14, 43, {'weight': 0.18454866147892046}), (14, 44, {'weight': 0.11458336685446247}), (14, 45, {'weight': 0.23063956910601702}), (14, 47, {'weight': 0.095368636476746982}), (14, 50, {'weight': 0.10104786821107714}), (14, 53, {'weight': 0.12035586372036766}), (14, 13, {'weight': 0.12006944357553717}), (47, 11, {'weight': 0.24224538822097408}), (47, 37, {'weight': 0.30818534095386996}), (47, 38, {'weight': 0.29826563346047186}), (47, 40, {'weight': 0.26308793708271772}), (47, 41, {'weight': 0.43875777649021597}), (47, 43, {'weight': 0.34473908910570072}), (47, 45, {'weight': 0.59710874573385064}), (47, 14, {'weight': 0.095368636476746982}), (47, 16, {'weight': 0.38025868810063557}), (47, 53, {'weight': 0.26521610748006275}), (47, 25, {'weight': 0.25070096284174159}), (47, 28, {'weight': 0.31307148568015064}), (16, 11, {'weight': 0.36310328556059623}), (16, 36, {'weight': 0.52709952039336239}), (16, 37, {'weight': 0.40532783329469524}), (16, 38, {'weight': 0.52931181257804027}), (16, 40, {'weight': 0.43418827914421909}), (16, 43, {'weight': 0.64710808472999393}), (16, 45, {'weight': 0.93745426788209629}), (16, 47, {'weight': 0.38025868810063557}), (16, 50, {'weight': 0.48988510468435642}), (16, 53, {'weight': 0.43944549878507777}), (16, 13, {'weight': 0.30913608534358428}), (50, 11, {'weight': 0.35200188136833876}), (50, 38, {'weight': 0.27590932605929464}), (50, 40, {'weight': 0.31573047917572561}), (50, 41, {'weight': 0.56970029901716268}), (50, 44, {'weight': 0.50143862242572679}), (50, 14, {'weight': 0.10104786821107714}), (50, 16, {'weight': 0.48988510468435642}), (50, 53, {'weight': 0.44770309038317757}), (50, 24, {'weight': 0.33002470063366562}), (50, 25, {'weight': 0.28391903442688848}), (50, 28, {'weight': 0.37423189105336485}), (50, 13, {'weight': 0.59673257444019567}), (53, 11, {'weight': 0.27867609039794772}), (53, 38, {'weight': 0.34736803801805571}), (53, 41, {'weight': 0.51744836012746687}), (53, 45, {'weight': 0.61224730464104393}), (53, 14, {'weight': 0.12035586372036766}), (53, 47, {'weight': 0.26521610748006275}), (53, 16, {'weight': 0.43944549878507777}), (53, 50, {'weight': 0.44770309038317757}), (53, 24, {'weight': 0.31573342725100151}), (53, 28, {'weight': 0.3658041780183523}), (53, 13, {'weight': 0.36371229046827791}), (24, 36, {'weight': 0.35465839883635342}), (24, 37, {'weight': 0.31540732777142644}), (24, 38, {'weight': 0.32977198375244399}), (24, 40, {'weight': 0.27048669277570614}), (24, 41, {'weight': 0.58613183386089851}), (24, 44, {'weight': 0.35479372471305748}), (24, 45, {'weight': 0.58968583200030089}), (24, 50, {'weight': 0.33002470063366562}), (24, 53, {'weight': 0.31573342725100151}), (24, 25, {'weight': 0.31364582725512946}), (24, 28, {'weight': 0.36949255228837252}), (24, 13, {'weight': 0.3511576230173552}), (25, 36, {'weight': 0.32727930863001031}), (25, 37, {'weight': 0.26180214553447101}), (25, 38, {'weight': 0.30227912495030518}), (25, 40, {'weight': 0.26796721595878026}), (25, 41, {'weight': 0.56945773710433745}), (25, 43, {'weight': 0.41820522181874065}), (25, 44, {'weight': 0.33217927625318211}), (25, 45, {'weight': 0.57382421078833268}), (25, 47, {'weight': 0.25070096284174159}), (25, 50, {'weight': 0.28391903442688848}), (25, 24, {'weight': 0.31364582725512946}), (25, 28, {'weight': 0.34822527975212703}), (28, 11, {'weight': 0.36918397337270425}), (28, 36, {'weight': 0.40436247694923555}), (28, 37, {'weight': 0.33705424636803105}), (28, 38, {'weight': 0.32489162720035392}), (28, 41, {'weight': 0.56730205204153972}), (28, 44, {'weight': 0.38392835247264134}), (28, 47, {'weight': 0.31307148568015064}), (28, 50, {'weight': 0.37423189105336485}), (28, 53, {'weight': 0.3658041780183523}), (28, 24, {'weight': 0.36949255228837252}), (28, 25, {'weight': 0.34822527975212703}), (28, 13, {'weight': 0.3625771318058848}), (13, 11, {'weight': 0.27921519261171568}), (13, 36, {'weight': 0.55445170208146566}), (13, 43, {'weight': 0.52096222992745789}), (13, 44, {'weight': 0.49692445938017871}), (13, 45, {'weight': 0.83400049539735965}), (13, 14, {'weight': 0.12006944357553717}), (13, 16, {'weight': 0.30913608534358428}), (13, 50, {'weight': 0.59673257444019567}), (13, 53, {'weight': 0.36371229046827791}), (13, 24, {'weight': 0.3511576230173552}), (13, 28, {'weight': 0.3625771318058848})]\n",
      "done\n"
     ]
    }
   ],
   "source": [
    "#Suggest games for the next round. This may take quite some time.\n",
    "stage_round(round=9)"
   ]
  },
  {
   "cell_type": "code",
   "execution_count": 9,
   "metadata": {
    "collapsed": false
   },
   "outputs": [],
   "source": [
    "#This will add the suggested games to the list of games\n",
    "add_suggested_games()"
   ]
  },
  {
   "cell_type": "code",
   "execution_count": 346,
   "metadata": {
    "collapsed": false
   },
   "outputs": [],
   "source": [
    "#add one of the suggested games to the list of games\n",
    "add_suggested_game(game_id=2)"
   ]
  },
  {
   "cell_type": "code",
   "execution_count": 90,
   "metadata": {
    "collapsed": false,
    "scrolled": true
   },
   "outputs": [
    {
     "data": {
      "text/plain": [
       "{u'id': 165,\n",
       " u'round': 1,\n",
       " u'scores': {11: 3, 49: 0},\n",
       " u'status': 1,\n",
       " u'team_1': 11,\n",
       " u'team_2': 49}"
      ]
     },
     "execution_count": 90,
     "metadata": {},
     "output_type": "execute_result"
    }
   ],
   "source": [
    "DB['Games'][165]"
   ]
  },
  {
   "cell_type": "code",
   "execution_count": 10,
   "metadata": {
    "collapsed": false
   },
   "outputs": [],
   "source": [
    "saveDB(DB)"
   ]
  },
  {
   "cell_type": "code",
   "execution_count": 233,
   "metadata": {
    "collapsed": false
   },
   "outputs": [],
   "source": [
    "export_results(sess_id)"
   ]
  },
  {
   "cell_type": "code",
   "execution_count": 224,
   "metadata": {
    "collapsed": false
   },
   "outputs": [],
   "source": [
    "export_games(sess_id)"
   ]
  },
  {
   "cell_type": "code",
   "execution_count": 198,
   "metadata": {
    "collapsed": true
   },
   "outputs": [],
   "source": [
    "export_games(1)"
   ]
  },
  {
   "cell_type": "code",
   "execution_count": 470,
   "metadata": {
    "collapsed": false
   },
   "outputs": [
    {
     "data": {
      "text/plain": [
       "<module 'ranking' from 'ranking.py'>"
      ]
     },
     "execution_count": 470,
     "metadata": {},
     "output_type": "execute_result"
    }
   ],
   "source": [
    "import bayes\n",
    "reload(req)\n",
    "reload(bayes)\n",
    "import ranking\n",
    "reload(ranking)"
   ]
  },
  {
   "cell_type": "code",
   "execution_count": 97,
   "metadata": {
    "collapsed": false,
    "scrolled": true
   },
   "outputs": [],
   "source": [
    "DB['Games'][164]['status'] = 0"
   ]
  },
  {
   "cell_type": "code",
   "execution_count": 42,
   "metadata": {
    "collapsed": false
   },
   "outputs": [],
   "source": [
    "DB['Sessions'][3]['games'] = DB['Sessions'][1]['games'] + DB ['Sessions'][4]['games']\n",
    "DB['Sessions'][4]['games'] = DB['Sessions'][1]['games'] + DB ['Sessions'][4]['games']\n",
    "\n",
    "DB['Sessions'][3]['teams'] = [2,19,1,16,11,18,6,15,8,21,0,22,4,27]\n",
    "DB['Sessions'][4]['teams'] = [24,13,14,9,25,7,17,12,23,3,20,10,26,5]"
   ]
  },
  {
   "cell_type": "code",
   "execution_count": 270,
   "metadata": {
    "collapsed": true
   },
   "outputs": [],
   "source": [
    "DB['Sessions'][4]['games'] = list(set(DB['Sessions'][3]['games']+DB['Sessions'][4]['games']))"
   ]
  },
  {
   "cell_type": "code",
   "execution_count": 374,
   "metadata": {
    "collapsed": false
   },
   "outputs": [
    {
     "name": "stdout",
     "output_type": "stream",
     "text": [
      "[2, 1, 8, 11, 0, 4, 6, 15, 19, 16, 21, 18, 22, 27, 2, 1, 11, 0, 4, 8, 6, 1, 0, 4, 2, 11, 6, 8, 2, 11, 0, 4, 8, 6, 1, 0, 1, 11, 2, 4, 8, 6, 16, 19, 21, 15, 27, 18, 22, 21, 15, 16, 19, 18, 22, 27, 18, 16, 19, 15, 21, 27, 22, 27, 15, 16, 18, 19, 21, 22, 2, 19, 1, 16, 11, 18, 6, 15, 8, 21, 0, 22, 4, 27, 16, 6, 2, 1, 11, 19, 8, 15, 18, 21, 22, 4, 0, 27, 2, 16, 1, 19, 11, 6, 22, 8, 27, 15, 18, 0, 4, 21, 0, 21, 1, 27, 2, 22, 4, 19, 6, 18, 8, 16, 11, 15]\n",
      "[3, 5, 7, 9, 10, 12, 13, 14, 17, 20, 23, 24, 25, 26]\n"
     ]
    }
   ],
   "source": [
    "import bayes\n",
    "import ranking\n",
    "\n",
    "teams = bayes.make_teams(DB['Sessions'][4]['teams'])\n",
    "sess = bayes.init_session(teams)\n",
    "sess.games = bayes.mcmc_games([DB['Games'][id] for id in DB['Sessions'][4]['games']],teams)\n"
   ]
  },
  {
   "cell_type": "code",
   "execution_count": 99,
   "metadata": {
    "collapsed": false
   },
   "outputs": [],
   "source": [
    "export_games(sess_id)"
   ]
  },
  {
   "cell_type": "code",
   "execution_count": 143,
   "metadata": {
    "collapsed": false
   },
   "outputs": [
    {
     "name": "stdout",
     "output_type": "stream",
     "text": [
      "[0, 1, 3, 5, 7, 10, 14, 15, 17, 18, 20, 21, 26, 27, 29, 31, 33, 36, 40, 41, 43, 44, 46, 47, 52, 54, 56, 58, 61, 65, 66, 68, 69, 71, 72, 77, 103, 105, 108, 112, 113, 115, 116, 118, 119, 124, 148, 151, 155, 156, 158, 159, 161, 162, 167, 190, 194, 195, 197, 198, 200, 201, 206, 245, 246, 248, 249, 251, 252, 257, 300, 302, 303, 305, 306, 311, 313, 314, 316, 317, 322, 333, 335, 336, 341, 343, 344, 349, 357, 362, 367]\n"
     ]
    }
   ],
   "source": [
    "\"{0:.2f}\".format(a)\n"
   ]
  },
  {
   "cell_type": "code",
   "execution_count": 376,
   "metadata": {
    "collapsed": false
   },
   "outputs": [
    {
     "name": "stdout",
     "output_type": "stream",
     "text": [
      "[79, 81, 83, 84, 86, 87, 88, 91, 94, 97, 98, 99, 100, 126, 128, 129, 131, 132, 133, 136, 139, 142, 143, 144, 145, 169, 170, 172, 173, 174, 177, 180, 183, 184, 185, 186, 207, 209, 210, 211, 214, 217, 220, 221, 222, 223, 226, 227, 228, 231, 234, 237, 238, 239, 240, 258, 259, 262, 265, 268, 269, 270, 271, 273, 276, 279, 282, 283, 284, 285, 289, 292, 295, 296, 297, 298, 325, 328, 329, 330, 331, 352, 353, 354, 355, 368, 369, 370, 372, 373, 375]\n"
     ]
    }
   ],
   "source": [
    "kl = sess.kl_info_vec()"
   ]
  },
  {
   "cell_type": "code",
   "execution_count": 240,
   "metadata": {
    "collapsed": false
   },
   "outputs": [
    {
     "name": "stdout",
     "output_type": "stream",
     "text": [
      "[[2, 9], [1, 13], [7, 10], [12, 8], [11, 0], [3, 4], [6, 5], [15, 25], [19, 24], [16, 21], [17, 18], [23, 14], [20, 22], [26, 27], [13, 2], [1, 9], [7, 12], [11, 3], [0, 4], [8, 5], [6, 10], [1, 12], [13, 0], [9, 4], [2, 11], [5, 7], [6, 8], [3, 10], [2, 7], [11, 13], [0, 10], [4, 5], [3, 8], [12, 9], [6, 1], [0, 12], [1, 11], [2, 10], [4, 8], [5, 9], [13, 7], [6, 3], [24, 16], [19, 21], [14, 25], [15, 23], [20, 26], [17, 27], [18, 22], [21, 15], [24, 25], [16, 19], [20, 14], [18, 23], [17, 26], [22, 27], [20, 25], [18, 24], [23, 16], [14, 19], [17, 15], [21, 27], [26, 22], [14, 27], [15, 26], [16, 25], [17, 24], [18, 20], [19, 23], [21, 22], [2, 19], [1, 16], [11, 18], [6, 15], [8, 21], [0, 22], [4, 27], [16, 6], [2, 1], [11, 19], [8, 15], [18, 21], [22, 4], [0, 27], [2, 16], [1, 19], [11, 6], [22, 8], [27, 15], [18, 0], [4, 21]]\n"
     ]
    }
   ],
   "source": [
    "sg = sess.stage_round(9,kl)"
   ]
  },
  {
   "cell_type": "code",
   "execution_count": 272,
   "metadata": {
    "collapsed": false
   },
   "outputs": [
    {
     "data": {
      "text/plain": [
       "5"
      ]
     },
     "execution_count": 272,
     "metadata": {},
     "output_type": "execute_result"
    }
   ],
   "source": [
    "sess.games[1].teams[0].id"
   ]
  },
  {
   "cell_type": "code",
   "execution_count": 116,
   "metadata": {
    "collapsed": false
   },
   "outputs": [
    {
     "data": {
      "text/plain": [
       "[2, 9]"
      ]
     },
     "execution_count": 116,
     "metadata": {},
     "output_type": "execute_result"
    }
   ],
   "source": [
    "import networkx as nx\n"
   ]
  },
  {
   "cell_type": "code",
   "execution_count": 377,
   "metadata": {
    "collapsed": false
   },
   "outputs": [
    {
     "data": {
      "text/plain": [
       "[{'t1': 3, 't2': 5, 'weight': 0.65755606172977288},\n",
       " {'t1': 3, 't2': 7, 'weight': 0.28291531421372973},\n",
       " {'t1': 3, 't2': 9, 'weight': 0.65739725038030317},\n",
       " {'t1': 3, 't2': 10, 'weight': 0.61963651383695506},\n",
       " {'t1': 3, 't2': 12, 'weight': 0.45181971355212447},\n",
       " {'t1': 3, 't2': 13, 'weight': 0.06017572176421071},\n",
       " {'t1': 3, 't2': 14, 'weight': 1.2706118120200185},\n",
       " {'t1': 3, 't2': 17, 'weight': 0.46754267301143182},\n",
       " {'t1': 3, 't2': 20, 'weight': 0.47935738115702708},\n",
       " {'t1': 3, 't2': 23, 'weight': 0.50020920703107397},\n",
       " {'t1': 3, 't2': 24, 'weight': 0.12925136413117944},\n",
       " {'t1': 3, 't2': 25, 'weight': 0.23700356508793563},\n",
       " {'t1': 3, 't2': 26, 'weight': 0.39631276105718971},\n",
       " {'t1': 5, 't2': 7, 'weight': 0.65119804051288543},\n",
       " {'t1': 5, 't2': 9, 'weight': 1.0214900964932667},\n",
       " {'t1': 5, 't2': 10, 'weight': 1.0543956291238805},\n",
       " {'t1': 5, 't2': 12, 'weight': 0.88326052158818946},\n",
       " {'t1': 5, 't2': 13, 'weight': 0.20935278339641306},\n",
       " {'t1': 5, 't2': 14, 'weight': 1.7758902622097614},\n",
       " {'t1': 5, 't2': 17, 'weight': 0.97538553108072046},\n",
       " {'t1': 5, 't2': 20, 'weight': 0.67318369378650988},\n",
       " {'t1': 5, 't2': 23, 'weight': 0.85498613155849768},\n",
       " {'t1': 5, 't2': 24, 'weight': 0.49574328417976421},\n",
       " {'t1': 5, 't2': 25, 'weight': 0.6831124008802516},\n",
       " {'t1': 5, 't2': 26, 'weight': 0.4457623731085576},\n",
       " {'t1': 7, 't2': 9, 'weight': 2.9210669416819823},\n",
       " {'t1': 7, 't2': 10, 'weight': 0.39809803015597423},\n",
       " {'t1': 7, 't2': 12, 'weight': 0.56817691363821998},\n",
       " {'t1': 7, 't2': 13, 'weight': 0.70777344656462793},\n",
       " {'t1': 7, 't2': 14, 'weight': 2.1029114231763426},\n",
       " {'t1': 7, 't2': 17, 'weight': 1.1885562419630089},\n",
       " {'t1': 7, 't2': 20, 'weight': 0.17631599298978395},\n",
       " {'t1': 7, 't2': 23, 'weight': 0.2596511774154604},\n",
       " {'t1': 7, 't2': 24, 'weight': 1.073332589766117},\n",
       " {'t1': 7, 't2': 25, 'weight': 0.96806689701518733},\n",
       " {'t1': 7, 't2': 26, 'weight': 0.07306882879136678},\n",
       " {'t1': 9, 't2': 10, 'weight': 1.0424496778682273},\n",
       " {'t1': 9, 't2': 12, 'weight': 0.65409432293288239},\n",
       " {'t1': 9, 't2': 13, 'weight': 0.96069975701454391},\n",
       " {'t1': 9, 't2': 14, 'weight': 0.39556160542289476},\n",
       " {'t1': 9, 't2': 17, 'weight': 1.1138191223002338},\n",
       " {'t1': 9, 't2': 20, 'weight': 0.38461598864753466},\n",
       " {'t1': 9, 't2': 23, 'weight': 0.35855459531966538},\n",
       " {'t1': 9, 't2': 24, 'weight': 1.5782462717298933},\n",
       " {'t1': 9, 't2': 25, 'weight': 1.4789079617331602},\n",
       " {'t1': 9, 't2': 26, 'weight': 0.15925954028186817},\n",
       " {'t1': 10, 't2': 12, 'weight': 0.62190516175397725},\n",
       " {'t1': 10, 't2': 13, 'weight': 0.088162245888768531},\n",
       " {'t1': 10, 't2': 14, 'weight': 1.4206916864576531},\n",
       " {'t1': 10, 't2': 17, 'weight': 0.63141628804618799},\n",
       " {'t1': 10, 't2': 20, 'weight': 0.35342318391309435},\n",
       " {'t1': 10, 't2': 23, 'weight': 0.57258048416950613},\n",
       " {'t1': 10, 't2': 24, 'weight': 0.17737427364576641},\n",
       " {'t1': 10, 't2': 25, 'weight': 0.41957206872377117},\n",
       " {'t1': 10, 't2': 26, 'weight': 0.21856276357590732},\n",
       " {'t1': 12, 't2': 13, 'weight': 0.064050817572748553},\n",
       " {'t1': 12, 't2': 14, 'weight': 1.0159058085355825},\n",
       " {'t1': 12, 't2': 17, 'weight': 0.34755852936467768},\n",
       " {'t1': 12, 't2': 20, 'weight': 0.30446546236755845},\n",
       " {'t1': 12, 't2': 23, 'weight': 0.36317859385979334},\n",
       " {'t1': 12, 't2': 24, 'weight': 0.15863137095657764},\n",
       " {'t1': 12, 't2': 25, 'weight': 0.22540667042289408},\n",
       " {'t1': 12, 't2': 26, 'weight': 0.19272959260830058},\n",
       " {'t1': 13, 't2': 14, 'weight': 0.21672019483929006},\n",
       " {'t1': 13, 't2': 17, 'weight': 0.13799487167031632},\n",
       " {'t1': 13, 't2': 20, 'weight': 0.036343745166063535},\n",
       " {'t1': 13, 't2': 23, 'weight': 0.038924275057286017},\n",
       " {'t1': 13, 't2': 24, 'weight': 0.40441924604391177},\n",
       " {'t1': 13, 't2': 25, 'weight': 0.16130255881686217},\n",
       " {'t1': 13, 't2': 26, 'weight': 0.023896414249052533},\n",
       " {'t1': 14, 't2': 17, 'weight': 1.0290129987264711},\n",
       " {'t1': 14, 't2': 20, 'weight': 0.77523707902798522},\n",
       " {'t1': 14, 't2': 23, 'weight': 0.76422944772457679},\n",
       " {'t1': 14, 't2': 24, 'weight': 0.51535091303681524},\n",
       " {'t1': 14, 't2': 25, 'weight': 1.1350861222221833},\n",
       " {'t1': 14, 't2': 26, 'weight': 0.35820054003947677},\n",
       " {'t1': 17, 't2': 20, 'weight': 0.26267665013007147},\n",
       " {'t1': 17, 't2': 23, 'weight': 0.29386101696418354},\n",
       " {'t1': 17, 't2': 24, 'weight': 0.27065056097213569},\n",
       " {'t1': 17, 't2': 25, 'weight': 0.44441206250754739},\n",
       " {'t1': 17, 't2': 26, 'weight': 0.15388864578829509},\n",
       " {'t1': 20, 't2': 23, 'weight': 0.54957127016070428},\n",
       " {'t1': 20, 't2': 24, 'weight': 0.071626579594908257},\n",
       " {'t1': 20, 't2': 25, 'weight': 0.12770518304728151},\n",
       " {'t1': 20, 't2': 26, 'weight': 0.34142889100437213},\n",
       " {'t1': 23, 't2': 24, 'weight': 0.074407219477164332},\n",
       " {'t1': 23, 't2': 25, 'weight': 0.15517214615340436},\n",
       " {'t1': 23, 't2': 26, 'weight': 0.52219570640031954},\n",
       " {'t1': 24, 't2': 25, 'weight': 0.27932892838724088},\n",
       " {'t1': 24, 't2': 26, 'weight': 0.045124947162855644},\n",
       " {'t1': 25, 't2': 26, 'weight': 0.082627791349746627}]"
      ]
     },
     "execution_count": 377,
     "metadata": {},
     "output_type": "execute_result"
    }
   ],
   "source": [
    "kl"
   ]
  },
  {
   "cell_type": "code",
   "execution_count": 329,
   "metadata": {
    "collapsed": false
   },
   "outputs": [
    {
     "data": {
      "text/plain": [
       "{0: 1.240902108482105,\n",
       " 1: -1.7313163712697726,\n",
       " 2: -2.8765658394250044,\n",
       " 3: 1.1288194903466013,\n",
       " 4: 1.4651319018689322,\n",
       " 5: 2.4161783699511941,\n",
       " 6: 0.14419265791853592,\n",
       " 7: -0.053151918012899063,\n",
       " 8: 0.96596172161713834,\n",
       " 9: -1.1502022887057295,\n",
       " 10: 1.2421464553926431,\n",
       " 11: -1.0857910719168931,\n",
       " 12: 0.40310069577556018,\n",
       " 13: -2.1094059120224267,\n",
       " 14: 0,\n",
       " 15: 0,\n",
       " 16: 0,\n",
       " 17: 0,\n",
       " 18: 0,\n",
       " 19: 0,\n",
       " 20: 0,\n",
       " 21: 0,\n",
       " 22: 0,\n",
       " 23: 0,\n",
       " 24: 0,\n",
       " 25: 0,\n",
       " 26: 0,\n",
       " 27: 0}"
      ]
     },
     "execution_count": 329,
     "metadata": {},
     "output_type": "execute_result"
    }
   ],
   "source": [
    "x['Sessions'][2]['strengths']"
   ]
  },
  {
   "cell_type": "code",
   "execution_count": 115,
   "metadata": {
    "collapsed": false
   },
   "outputs": [],
   "source": [
    "DB['Sessions'][4]['games'] = list(set(DB['Sessions'][4]['games']\n",
    "                                 + DB['Sessions'][1]['games']\n",
    "                                 + DB ['Sessions'][2]['games']))"
   ]
  },
  {
   "cell_type": "code",
   "execution_count": 2,
   "metadata": {
    "collapsed": false
   },
   "outputs": [
    {
     "data": {
      "text/plain": [
       "'/home/ubuntu/bayesian/python'"
      ]
     },
     "execution_count": 2,
     "metadata": {},
     "output_type": "execute_result"
    }
   ],
   "source": [
    "pwd"
   ]
  },
  {
   "cell_type": "code",
   "execution_count": 16,
   "metadata": {
    "collapsed": true
   },
   "outputs": [],
   "source": [
    "\n",
    "DB['Sessions'][3]['teams'] = [2,19,1,16,11,18,6,15,8,21,0,22,4,27]\n",
    "DB['Sessions'][4]['teams'] = [24,13,14,9,25,7,17,12,23,3,20,10,26,5]\n",
    "DB['Sessions'][3]['strengths'] = {k:0.0 for k in DB['Sessions'][3]['teams']}\n",
    "DB['Sessions'][4]['strengths'] = {k:0.0 for k in DB['Sessions'][4]['teams']}"
   ]
  },
  {
   "cell_type": "code",
   "execution_count": 11,
   "metadata": {
    "collapsed": true
   },
   "outputs": [],
   "source": [
    "saveDB(DB)"
   ]
  },
  {
   "cell_type": "code",
   "execution_count": 51,
   "metadata": {
    "collapsed": false,
    "scrolled": true
   },
   "outputs": [
    {
     "name": "stdout",
     "output_type": "stream",
     "text": [
      "u'2: Golem  strength = 0.0'\n",
      "u'19: Beware  strength = 0.0'\n",
      "u'1: Wabbit  strength = 0.0'\n",
      "u'16: The Jamesons  strength = 0.0'\n",
      "u'11: Triple Fisted  strength = 0.0'\n",
      "u'18: Mammoth  strength = 0.0'\n",
      "u'6: Gentlemans  strength = 0.0'\n",
      "u'15: The Royales with Cheese  strength = 0.0'\n",
      "u'8: Rusty Spoons  strength = 0.0'\n",
      "u'21: Lost Cat  strength = 0.0'\n",
      "u'0: Ball Bangers  strength = 0.0'\n",
      "u'22: Mighty Bisons  strength = 0.0'\n",
      "u'4: JKL  strength = 0.0'\n",
      "u\"27: The Caracal's  strength = 0.0\"\n"
     ]
    }
   ],
   "source": [
    "list_teams(3)"
   ]
  },
  {
   "cell_type": "code",
   "execution_count": null,
   "metadata": {
    "collapsed": false
   },
   "outputs": [],
   "source": []
  },
  {
   "cell_type": "code",
   "execution_count": 19,
   "metadata": {
    "collapsed": false
   },
   "outputs": [
    {
     "name": "stdout",
     "output_type": "stream",
     "text": [
      "u'24: Three Boys  strength = 0.0'\n",
      "u'13: Pete un Plomb  strength = 0.0'\n",
      "u'14: Kitten Pile Crush  strength = 0.0'\n",
      "u'9: Daft Monks  strength = 0.0'\n",
      "u'25: Gobshites  strength = 0.0'\n",
      "u'7: Sons of Odin  strength = 0.0'\n",
      "u'17: Elf Death  strength = 0.0'\n",
      "u'12: With Fire  strength = 0.0'\n",
      "u'23: Sometimes  strength = 0.0'\n",
      "u'3: The Edinburgh Badgers  strength = 0.0'\n",
      "u'20: Two and a half Men  strength = 0.0'\n",
      "u'10: The Budgie Smugglers  strength = 0.0'\n",
      "u'26: Kumaras bravas  strength = 0.0'\n",
      "u'5: The Inseminators  strength = 0.0'\n"
     ]
    }
   ],
   "source": [
    "list_teams(4)"
   ]
  },
  {
   "cell_type": "code",
   "execution_count": 55,
   "metadata": {
    "collapsed": false
   },
   "outputs": [],
   "source": [
    "export_games(4)"
   ]
  },
  {
   "cell_type": "code",
   "execution_count": 395,
   "metadata": {
    "collapsed": false
   },
   "outputs": [
    {
     "name": "stdout",
     "output_type": "stream",
     "text": [
      "[2, 1, 8, 11, 0, 4, 6, 15, 19, 16, 21, 18, 22, 27, 2, 1, 11, 0, 4, 8, 6, 1, 0, 4, 2, 11, 6, 8, 2, 11, 0, 4, 8, 6, 1, 0, 1, 11, 2, 4, 8, 6, 16, 19, 21, 15, 27, 18, 22, 21, 15, 16, 19, 18, 22, 27, 18, 16, 19, 15, 21, 27, 22, 27, 15, 16, 18, 19, 21, 22, 2, 19, 1, 16, 11, 18, 6, 15, 8, 21, 0, 22, 4, 27, 16, 6, 2, 1, 11, 19, 8, 15, 18, 21, 22, 4, 0, 27, 2, 16, 1, 19, 11, 6, 22, 8, 27, 15, 18, 0, 4, 21, 0, 21, 1, 27, 2, 22, 4, 19, 6, 18, 8, 16, 11, 15]\n",
      "[3, 5, 7, 9, 10, 12, 13, 14, 17, 20, 23, 24, 25, 26]\n",
      "running MCMC\n",
      " [-----------------100%-----------------] 100000 of 100000 complete in 54.5 sec"
     ]
    },
    {
     "ename": "AttributeError",
     "evalue": "log",
     "output_type": "error",
     "traceback": [
      "\u001b[1;31m---------------------------------------------------------------------------\u001b[0m",
      "\u001b[1;31mAttributeError\u001b[0m                            Traceback (most recent call last)",
      "\u001b[1;32m<ipython-input-395-2f87d8e8e4de>\u001b[0m in \u001b[0;36m<module>\u001b[1;34m()\u001b[0m\n\u001b[0;32m      9\u001b[0m \u001b[0mfac\u001b[0m \u001b[1;33m=\u001b[0m \u001b[0msess\u001b[0m\u001b[1;33m.\u001b[0m\u001b[0mmcmc\u001b[0m\u001b[1;33m.\u001b[0m\u001b[0mscale\u001b[0m\u001b[1;33m.\u001b[0m\u001b[0mstats\u001b[0m\u001b[1;33m(\u001b[0m\u001b[1;33m)\u001b[0m\u001b[1;33m[\u001b[0m\u001b[1;34m'mean'\u001b[0m\u001b[1;33m]\u001b[0m\u001b[1;33m\u001b[0m\u001b[0m\n\u001b[0;32m     10\u001b[0m \u001b[0mg_fun\u001b[0m \u001b[1;33m=\u001b[0m \u001b[1;32mlambda\u001b[0m \u001b[0ms1\u001b[0m\u001b[1;33m,\u001b[0m\u001b[0ms2\u001b[0m\u001b[1;33m,\u001b[0m\u001b[0mdelta\u001b[0m\u001b[1;33m:\u001b[0m\u001b[0mranking\u001b[0m\u001b[1;33m.\u001b[0m\u001b[0mlog_2_pois_like\u001b[0m\u001b[1;33m(\u001b[0m\u001b[0mdelta\u001b[0m\u001b[1;33m,\u001b[0m\u001b[0mst\u001b[0m\u001b[1;33m,\u001b[0m\u001b[0ms1\u001b[0m\u001b[1;33m,\u001b[0m\u001b[0ms2\u001b[0m\u001b[1;33m)\u001b[0m\u001b[1;33m\u001b[0m\u001b[0m\n\u001b[1;32m---> 11\u001b[1;33m \u001b[1;33m[\u001b[0m\u001b[0mg_fun\u001b[0m\u001b[1;33m(\u001b[0m\u001b[0mg\u001b[0m\u001b[1;33m[\u001b[0m\u001b[1;34m'scores'\u001b[0m\u001b[1;33m]\u001b[0m\u001b[1;33m[\u001b[0m\u001b[0mg\u001b[0m\u001b[1;33m[\u001b[0m\u001b[1;34m'team_1'\u001b[0m\u001b[1;33m]\u001b[0m\u001b[1;33m]\u001b[0m\u001b[1;33m,\u001b[0m\u001b[0mg\u001b[0m\u001b[1;33m[\u001b[0m\u001b[1;34m'scores'\u001b[0m\u001b[1;33m]\u001b[0m\u001b[1;33m[\u001b[0m\u001b[0mg\u001b[0m\u001b[1;33m[\u001b[0m\u001b[1;34m'team_2'\u001b[0m\u001b[1;33m]\u001b[0m\u001b[1;33m]\u001b[0m\u001b[1;33m,\u001b[0m\u001b[0mst\u001b[0m\u001b[1;33m[\u001b[0m\u001b[0mg\u001b[0m\u001b[1;33m[\u001b[0m\u001b[1;34m'team_1'\u001b[0m\u001b[1;33m]\u001b[0m\u001b[1;33m]\u001b[0m\u001b[1;33m-\u001b[0m\u001b[0mst\u001b[0m\u001b[1;33m[\u001b[0m\u001b[0mg\u001b[0m\u001b[1;33m[\u001b[0m\u001b[1;34m'team_2'\u001b[0m\u001b[1;33m]\u001b[0m\u001b[1;33m]\u001b[0m\u001b[1;33m)\u001b[0m \u001b[1;32mfor\u001b[0m \u001b[0mg\u001b[0m \u001b[1;32min\u001b[0m \u001b[0mDB\u001b[0m\u001b[1;33m[\u001b[0m\u001b[1;34m'Games'\u001b[0m\u001b[1;33m]\u001b[0m\u001b[1;33m.\u001b[0m\u001b[0mvalues\u001b[0m\u001b[1;33m(\u001b[0m\u001b[1;33m)\u001b[0m\u001b[1;33m]\u001b[0m\u001b[1;33m\u001b[0m\u001b[0m\n\u001b[0m",
      "\u001b[1;32m<ipython-input-395-2f87d8e8e4de>\u001b[0m in \u001b[0;36m<lambda>\u001b[1;34m(s1, s2, delta)\u001b[0m\n\u001b[0;32m      8\u001b[0m \u001b[0mst\u001b[0m \u001b[1;33m=\u001b[0m \u001b[0msess\u001b[0m\u001b[1;33m.\u001b[0m\u001b[0mstrengths\u001b[0m\u001b[1;33m(\u001b[0m\u001b[1;33m)\u001b[0m\u001b[1;33m\u001b[0m\u001b[0m\n\u001b[0;32m      9\u001b[0m \u001b[0mfac\u001b[0m \u001b[1;33m=\u001b[0m \u001b[0msess\u001b[0m\u001b[1;33m.\u001b[0m\u001b[0mmcmc\u001b[0m\u001b[1;33m.\u001b[0m\u001b[0mscale\u001b[0m\u001b[1;33m.\u001b[0m\u001b[0mstats\u001b[0m\u001b[1;33m(\u001b[0m\u001b[1;33m)\u001b[0m\u001b[1;33m[\u001b[0m\u001b[1;34m'mean'\u001b[0m\u001b[1;33m]\u001b[0m\u001b[1;33m\u001b[0m\u001b[0m\n\u001b[1;32m---> 10\u001b[1;33m \u001b[0mg_fun\u001b[0m \u001b[1;33m=\u001b[0m \u001b[1;32mlambda\u001b[0m \u001b[0ms1\u001b[0m\u001b[1;33m,\u001b[0m\u001b[0ms2\u001b[0m\u001b[1;33m,\u001b[0m\u001b[0mdelta\u001b[0m\u001b[1;33m:\u001b[0m\u001b[0mranking\u001b[0m\u001b[1;33m.\u001b[0m\u001b[0mlog_2_pois_like\u001b[0m\u001b[1;33m(\u001b[0m\u001b[0mdelta\u001b[0m\u001b[1;33m,\u001b[0m\u001b[0mst\u001b[0m\u001b[1;33m,\u001b[0m\u001b[0ms1\u001b[0m\u001b[1;33m,\u001b[0m\u001b[0ms2\u001b[0m\u001b[1;33m)\u001b[0m\u001b[1;33m\u001b[0m\u001b[0m\n\u001b[0m\u001b[0;32m     11\u001b[0m \u001b[1;33m[\u001b[0m\u001b[0mg_fun\u001b[0m\u001b[1;33m(\u001b[0m\u001b[0mg\u001b[0m\u001b[1;33m[\u001b[0m\u001b[1;34m'scores'\u001b[0m\u001b[1;33m]\u001b[0m\u001b[1;33m[\u001b[0m\u001b[0mg\u001b[0m\u001b[1;33m[\u001b[0m\u001b[1;34m'team_1'\u001b[0m\u001b[1;33m]\u001b[0m\u001b[1;33m]\u001b[0m\u001b[1;33m,\u001b[0m\u001b[0mg\u001b[0m\u001b[1;33m[\u001b[0m\u001b[1;34m'scores'\u001b[0m\u001b[1;33m]\u001b[0m\u001b[1;33m[\u001b[0m\u001b[0mg\u001b[0m\u001b[1;33m[\u001b[0m\u001b[1;34m'team_2'\u001b[0m\u001b[1;33m]\u001b[0m\u001b[1;33m]\u001b[0m\u001b[1;33m,\u001b[0m\u001b[0mst\u001b[0m\u001b[1;33m[\u001b[0m\u001b[0mg\u001b[0m\u001b[1;33m[\u001b[0m\u001b[1;34m'team_1'\u001b[0m\u001b[1;33m]\u001b[0m\u001b[1;33m]\u001b[0m\u001b[1;33m-\u001b[0m\u001b[0mst\u001b[0m\u001b[1;33m[\u001b[0m\u001b[0mg\u001b[0m\u001b[1;33m[\u001b[0m\u001b[1;34m'team_2'\u001b[0m\u001b[1;33m]\u001b[0m\u001b[1;33m]\u001b[0m\u001b[1;33m)\u001b[0m \u001b[1;32mfor\u001b[0m \u001b[0mg\u001b[0m \u001b[1;32min\u001b[0m \u001b[0mDB\u001b[0m\u001b[1;33m[\u001b[0m\u001b[1;34m'Games'\u001b[0m\u001b[1;33m]\u001b[0m\u001b[1;33m.\u001b[0m\u001b[0mvalues\u001b[0m\u001b[1;33m(\u001b[0m\u001b[1;33m)\u001b[0m\u001b[1;33m]\u001b[0m\u001b[1;33m\u001b[0m\u001b[0m\n",
      "\u001b[1;32m/home/ubuntu/bayesian/python/ranking.pyc\u001b[0m in \u001b[0;36mlog_2_pois_like\u001b[1;34m(d, a, s1, s2)\u001b[0m\n\u001b[0;32m     42\u001b[0m     \u001b[0mdp\u001b[0m \u001b[1;33m=\u001b[0m \u001b[1;36m1.0\u001b[0m\u001b[1;33m*\u001b[0m\u001b[0mnp\u001b[0m\u001b[1;33m.\u001b[0m\u001b[0marctan\u001b[0m\u001b[1;33m(\u001b[0m\u001b[0md\u001b[0m\u001b[1;33m)\u001b[0m\u001b[1;33m\u001b[0m\u001b[0m\n\u001b[0;32m     43\u001b[0m     return ( log(a)*(s1+s2)+dp*(s2-s1) -2*a*cosh(dp) -\n\u001b[1;32m---> 44\u001b[1;33m              gammaln(s1+1) - gammaln(s2+1) )\n\u001b[0m\u001b[0;32m     45\u001b[0m \u001b[1;33m\u001b[0m\u001b[0m\n\u001b[0;32m     46\u001b[0m \u001b[1;32mdef\u001b[0m \u001b[0mlog_diff_exp_likr\u001b[0m\u001b[1;33m(\u001b[0m\u001b[0md\u001b[0m\u001b[1;33m,\u001b[0m\u001b[0ma\u001b[0m\u001b[1;33m,\u001b[0m\u001b[0ms1\u001b[0m\u001b[1;33m,\u001b[0m\u001b[0ms2\u001b[0m\u001b[1;33m)\u001b[0m\u001b[1;33m:\u001b[0m\u001b[1;33m\u001b[0m\u001b[0m\n",
      "\u001b[1;32m/home/ubuntu/venv/lib/python2.7/site-packages/numpy/lib/scimath.pyc\u001b[0m in \u001b[0;36mlog\u001b[1;34m(x)\u001b[0m\n\u001b[0;32m    260\u001b[0m     \"\"\"\n\u001b[0;32m    261\u001b[0m     \u001b[0mx\u001b[0m \u001b[1;33m=\u001b[0m \u001b[0m_fix_real_lt_zero\u001b[0m\u001b[1;33m(\u001b[0m\u001b[0mx\u001b[0m\u001b[1;33m)\u001b[0m\u001b[1;33m\u001b[0m\u001b[0m\n\u001b[1;32m--> 262\u001b[1;33m     \u001b[1;32mreturn\u001b[0m \u001b[0mnx\u001b[0m\u001b[1;33m.\u001b[0m\u001b[0mlog\u001b[0m\u001b[1;33m(\u001b[0m\u001b[0mx\u001b[0m\u001b[1;33m)\u001b[0m\u001b[1;33m\u001b[0m\u001b[0m\n\u001b[0m\u001b[0;32m    263\u001b[0m \u001b[1;33m\u001b[0m\u001b[0m\n\u001b[0;32m    264\u001b[0m \u001b[1;32mdef\u001b[0m \u001b[0mlog10\u001b[0m\u001b[1;33m(\u001b[0m\u001b[0mx\u001b[0m\u001b[1;33m)\u001b[0m\u001b[1;33m:\u001b[0m\u001b[1;33m\u001b[0m\u001b[0m\n",
      "\u001b[1;31mAttributeError\u001b[0m: log"
     ]
    }
   ],
   "source": [
    "import ranking\n",
    "\n",
    "teamids = bayes.make_teams(DB['Sessions'][1]['teams'] + DB['Sessions'][2]['teams'])\n",
    "\n",
    "sess = bayes.init_session(teamids)\n",
    "sess.games = bayes.mcmc_games([DB['Games'][id] for id in DB['Sessions'][4]['games']],teams)\n",
    "sess.fit_model()\n",
    "st = sess.strengths()\n",
    "fac = sess.mcmc.scale.stats()['mean']\n",
    "g_fun = lambda s1,s2,delta:ranking.log_2_pois_like(delta,st,s1,s2)\n",
    "[g_fun(g['scores'][g['team_1']],g['scores'][g['team_2']],st[g['team_1']]-st[g['team_2']]) for g in DB['Games'].values()]\n"
   ]
  },
  {
   "cell_type": "code",
   "execution_count": 403,
   "metadata": {
    "collapsed": false
   },
   "outputs": [
    {
     "ename": "KeyError",
     "evalue": "'scores'",
     "output_type": "error",
     "traceback": [
      "\u001b[1;31m---------------------------------------------------------------------------\u001b[0m",
      "\u001b[1;31mKeyError\u001b[0m                                  Traceback (most recent call last)",
      "\u001b[1;32m<ipython-input-403-a372b7e55609>\u001b[0m in \u001b[0;36m<module>\u001b[1;34m()\u001b[0m\n\u001b[1;32m----> 1\u001b[1;33m \u001b[1;33m[\u001b[0m\u001b[1;33m(\u001b[0m\u001b[0mg\u001b[0m\u001b[1;33m[\u001b[0m\u001b[1;34m'scores'\u001b[0m\u001b[1;33m]\u001b[0m\u001b[1;33m[\u001b[0m\u001b[0mg\u001b[0m\u001b[1;33m[\u001b[0m\u001b[1;34m'team_1'\u001b[0m\u001b[1;33m]\u001b[0m\u001b[1;33m]\u001b[0m\u001b[1;33m,\u001b[0m\u001b[0mg\u001b[0m\u001b[1;33m[\u001b[0m\u001b[1;34m'scores'\u001b[0m\u001b[1;33m]\u001b[0m\u001b[1;33m[\u001b[0m\u001b[0mg\u001b[0m\u001b[1;33m[\u001b[0m\u001b[1;34m'team_2'\u001b[0m\u001b[1;33m]\u001b[0m\u001b[1;33m]\u001b[0m\u001b[1;33m,\u001b[0m\u001b[0mst\u001b[0m\u001b[1;33m[\u001b[0m\u001b[0mg\u001b[0m\u001b[1;33m[\u001b[0m\u001b[1;34m'team_1'\u001b[0m\u001b[1;33m]\u001b[0m\u001b[1;33m]\u001b[0m\u001b[1;33m-\u001b[0m\u001b[0mst\u001b[0m\u001b[1;33m[\u001b[0m\u001b[0mg\u001b[0m\u001b[1;33m[\u001b[0m\u001b[1;34m'team_2'\u001b[0m\u001b[1;33m]\u001b[0m\u001b[1;33m]\u001b[0m\u001b[1;33m)\u001b[0m \u001b[1;32mfor\u001b[0m \u001b[0mg\u001b[0m \u001b[1;32min\u001b[0m \u001b[0mDB\u001b[0m\u001b[1;33m[\u001b[0m\u001b[1;34m'Games'\u001b[0m\u001b[1;33m]\u001b[0m\u001b[1;33m.\u001b[0m\u001b[0mvalues\u001b[0m\u001b[1;33m(\u001b[0m\u001b[1;33m)\u001b[0m\u001b[1;33m]\u001b[0m\u001b[1;33m\u001b[0m\u001b[0m\n\u001b[0m",
      "\u001b[1;31mKeyError\u001b[0m: 'scores'"
     ]
    }
   ],
   "source": [
    "[(g['scores'][g['team_1']],g['scores'][g['team_2']],\n",
    "  st[g['team_1']]-st[g['team_2']]) for g in DB['Games'].values()]"
   ]
  },
  {
   "cell_type": "code",
   "execution_count": null,
   "metadata": {
    "collapsed": true
   },
   "outputs": [],
   "source": [
    "teams = bayes.make_teams(DB['Sessions'][3]['teams'])\n",
    "sess = bayes.init_session(teams)\n",
    "sess.games = bayes.mcmc_games([DB['Games'][id] for id in DB['Sessions'][3]['games']],teams)"
   ]
  },
  {
   "cell_type": "code",
   "execution_count": 392,
   "metadata": {
    "collapsed": false
   },
   "outputs": [
    {
     "data": {
      "text/plain": [
       "{u'id': 0,\n",
       " u'round': 1,\n",
       " u'scores': {2: 6, 9: 2},\n",
       " u'status': 1,\n",
       " u'team_1': 2,\n",
       " u'team_2': 9}"
      ]
     },
     "execution_count": 392,
     "metadata": {},
     "output_type": "execute_result"
    }
   ],
   "source": [
    "DB['Games'][0]"
   ]
  },
  {
   "cell_type": "code",
   "execution_count": 406,
   "metadata": {
    "collapsed": false
   },
   "outputs": [
    {
     "data": {
      "text/plain": [
       "[{u'id': 0,\n",
       "  u'round': 1,\n",
       "  u'scores': {2: 6, 9: 2},\n",
       "  u'status': 1,\n",
       "  u'team_1': 2,\n",
       "  u'team_2': 9},\n",
       " {u'id': 1,\n",
       "  u'round': 1,\n",
       "  u'scores': {1: 2, 13: 4},\n",
       "  u'status': 1,\n",
       "  u'team_1': 1,\n",
       "  u'team_2': 13},\n",
       " {u'id': 2,\n",
       "  u'round': 1,\n",
       "  u'scores': {7: 3, 10: 2},\n",
       "  u'status': 1,\n",
       "  u'team_1': 7,\n",
       "  u'team_2': 10},\n",
       " {u'id': 3,\n",
       "  u'round': 1,\n",
       "  u'scores': {8: 3, 12: 5},\n",
       "  u'status': 1,\n",
       "  u'team_1': 12,\n",
       "  u'team_2': 8},\n",
       " {u'id': 4,\n",
       "  u'round': 1,\n",
       "  u'scores': {0: 1, 11: 11},\n",
       "  u'status': 1,\n",
       "  u'team_1': 11,\n",
       "  u'team_2': 0},\n",
       " {u'id': 5,\n",
       "  u'round': 1,\n",
       "  u'scores': {3: 2, 4: 1},\n",
       "  u'status': 1,\n",
       "  u'team_1': 3,\n",
       "  u'team_2': 4},\n",
       " {u'id': 6,\n",
       "  u'round': 1,\n",
       "  u'scores': {5: 2, 6: 5},\n",
       "  u'status': 1,\n",
       "  u'team_1': 6,\n",
       "  u'team_2': 5},\n",
       " {u'id': 7,\n",
       "  u'round': 1,\n",
       "  u'scores': {15: 1, 25: 5},\n",
       "  u'status': 1,\n",
       "  u'team_1': 15,\n",
       "  u'team_2': 25},\n",
       " {u'id': 8,\n",
       "  u'round': 1,\n",
       "  u'scores': {19: 2, 24: 3},\n",
       "  u'status': 1,\n",
       "  u'team_1': 19,\n",
       "  u'team_2': 24},\n",
       " {u'id': 9,\n",
       "  u'round': 1,\n",
       "  u'scores': {16: 4, 21: 2},\n",
       "  u'status': 1,\n",
       "  u'team_1': 16,\n",
       "  u'team_2': 21},\n",
       " {u'id': 10,\n",
       "  u'round': 1,\n",
       "  u'scores': {17: 1, 18: 2},\n",
       "  u'status': 1,\n",
       "  u'team_1': 17,\n",
       "  u'team_2': 18},\n",
       " {u'id': 11,\n",
       "  u'round': 1,\n",
       "  u'scores': {14: 3, 23: 1},\n",
       "  u'status': 1,\n",
       "  u'team_1': 23,\n",
       "  u'team_2': 14},\n",
       " {u'id': 12,\n",
       "  u'round': 1,\n",
       "  u'scores': {20: 4, 22: 1},\n",
       "  u'status': 1,\n",
       "  u'team_1': 20,\n",
       "  u'team_2': 22},\n",
       " {u'id': 13,\n",
       "  u'round': 1,\n",
       "  u'scores': {26: 2, 27: 1},\n",
       "  u'status': 1,\n",
       "  u'team_1': 26,\n",
       "  u'team_2': 27},\n",
       " {u'id': 14,\n",
       "  u'round': 1,\n",
       "  u'scores': {2: 0, 13: 0},\n",
       "  u'status': 0,\n",
       "  u'team_1': 13,\n",
       "  u'team_2': 2},\n",
       " {u'id': 15,\n",
       "  u'round': 1,\n",
       "  u'scores': {1: 0, 9: 0},\n",
       "  u'status': 0,\n",
       "  u'team_1': 1,\n",
       "  u'team_2': 9},\n",
       " {u'id': 16,\n",
       "  u'round': 2,\n",
       "  u'scores': {2: 3, 13: 1},\n",
       "  u'status': 1,\n",
       "  u'team_1': 13,\n",
       "  u'team_2': 2},\n",
       " {u'id': 17,\n",
       "  u'round': 2,\n",
       "  u'scores': {1: 4, 9: 2},\n",
       "  u'status': 1,\n",
       "  u'team_1': 1,\n",
       "  u'team_2': 9},\n",
       " {u'id': 18,\n",
       "  u'round': 2,\n",
       "  u'scores': {7: 2, 12: 0},\n",
       "  u'status': 1,\n",
       "  u'team_1': 7,\n",
       "  u'team_2': 12},\n",
       " {u'id': 19,\n",
       "  u'round': 2,\n",
       "  u'scores': {3: 0, 11: 9},\n",
       "  u'status': 1,\n",
       "  u'team_1': 11,\n",
       "  u'team_2': 3},\n",
       " {u'id': 20,\n",
       "  u'round': 2,\n",
       "  u'scores': {0: 3, 4: 1},\n",
       "  u'status': 1,\n",
       "  u'team_1': 0,\n",
       "  u'team_2': 4},\n",
       " {u'id': 21,\n",
       "  u'round': 2,\n",
       "  u'scores': {5: 2, 8: 6},\n",
       "  u'status': 1,\n",
       "  u'team_1': 8,\n",
       "  u'team_2': 5},\n",
       " {u'id': 22,\n",
       "  u'round': 2,\n",
       "  u'scores': {6: 5, 10: 3},\n",
       "  u'status': 1,\n",
       "  u'team_1': 6,\n",
       "  u'team_2': 10},\n",
       " {u'id': 23,\n",
       "  u'round': 3,\n",
       "  u'scores': {2: 0, 11: 0},\n",
       "  u'status': 0,\n",
       "  u'team_1': 2,\n",
       "  u'team_2': 11},\n",
       " {u'id': 24,\n",
       "  u'round': 3,\n",
       "  u'scores': {1: 3, 12: 1},\n",
       "  u'status': 1,\n",
       "  u'team_1': 1,\n",
       "  u'team_2': 12},\n",
       " {u'id': 25,\n",
       "  u'round': 3,\n",
       "  u'scores': {0: 1, 13: 7},\n",
       "  u'status': 1,\n",
       "  u'team_1': 13,\n",
       "  u'team_2': 0},\n",
       " {u'id': 26,\n",
       "  u'round': 3,\n",
       "  u'scores': {4: 1, 9: 6},\n",
       "  u'status': 1,\n",
       "  u'team_1': 9,\n",
       "  u'team_2': 4},\n",
       " {u'id': 27,\n",
       "  u'round': 3,\n",
       "  u'scores': {2: 4, 11: 0},\n",
       "  u'status': 1,\n",
       "  u'team_1': 2,\n",
       "  u'team_2': 11},\n",
       " {u'id': 28,\n",
       "  u'round': 3,\n",
       "  u'scores': {5: 1, 7: 6},\n",
       "  u'status': 1,\n",
       "  u'team_1': 5,\n",
       "  u'team_2': 7},\n",
       " {u'id': 29,\n",
       "  u'round': 3,\n",
       "  u'scores': {6: 2, 8: 1},\n",
       "  u'status': 1,\n",
       "  u'team_1': 6,\n",
       "  u'team_2': 8},\n",
       " {u'id': 30,\n",
       "  u'round': 3,\n",
       "  u'scores': {3: 3, 10: 1},\n",
       "  u'status': 1,\n",
       "  u'team_1': 3,\n",
       "  u'team_2': 10},\n",
       " {u'id': 31,\n",
       "  u'round': 4,\n",
       "  u'scores': {2: 7, 7: 1},\n",
       "  u'status': 1,\n",
       "  u'team_1': 2,\n",
       "  u'team_2': 7},\n",
       " {u'id': 32,\n",
       "  u'round': 4,\n",
       "  u'scores': {11: 1, 13: 4},\n",
       "  u'status': 1,\n",
       "  u'team_1': 11,\n",
       "  u'team_2': 13},\n",
       " {u'id': 33,\n",
       "  u'round': 4,\n",
       "  u'scores': {0: 1, 10: 1},\n",
       "  u'status': 1,\n",
       "  u'team_1': 0,\n",
       "  u'team_2': 10},\n",
       " {u'id': 34,\n",
       "  u'round': 4,\n",
       "  u'scores': {4: 8, 5: 5},\n",
       "  u'status': 1,\n",
       "  u'team_1': 4,\n",
       "  u'team_2': 5},\n",
       " {u'id': 35,\n",
       "  u'round': 4,\n",
       "  u'scores': {3: 2, 8: 2},\n",
       "  u'status': 1,\n",
       "  u'team_1': 3,\n",
       "  u'team_2': 8},\n",
       " {u'id': 36,\n",
       "  u'round': 4,\n",
       "  u'scores': {9: 6, 12: 0},\n",
       "  u'status': 1,\n",
       "  u'team_1': 12,\n",
       "  u'team_2': 9},\n",
       " {u'id': 37,\n",
       "  u'round': 4,\n",
       "  u'scores': {1: 4, 6: 1},\n",
       "  u'status': 1,\n",
       "  u'team_1': 6,\n",
       "  u'team_2': 1},\n",
       " {u'id': 38,\n",
       "  u'round': 5,\n",
       "  u'scoores': {0: 0, 12: 0},\n",
       "  u'score_1': None,\n",
       "  u'score_2': None,\n",
       "  u'scores': {0: 1, 12: 4},\n",
       "  u'status': 1,\n",
       "  u'team_1': 0,\n",
       "  u'team_2': 12},\n",
       " {u'id': 39,\n",
       "  u'round': 5,\n",
       "  u'scoores': {1: 0, 11: 0},\n",
       "  u'score_1': None,\n",
       "  u'score_2': None,\n",
       "  u'scores': {1: 4, 11: 0},\n",
       "  u'status': 1,\n",
       "  u'team_1': 1,\n",
       "  u'team_2': 11},\n",
       " {u'id': 40,\n",
       "  u'round': 5,\n",
       "  u'scoores': {2: 0, 10: 0},\n",
       "  u'score_1': None,\n",
       "  u'score_2': None,\n",
       "  u'scores': {2: 9, 10: 0},\n",
       "  u'status': 1,\n",
       "  u'team_1': 2,\n",
       "  u'team_2': 10},\n",
       " {u'id': 41,\n",
       "  u'round': 5,\n",
       "  u'scoores': {3: 0, 13: 0},\n",
       "  u'score_1': None,\n",
       "  u'score_2': None,\n",
       "  u'status': 0,\n",
       "  u'team_1': 3,\n",
       "  u'team_2': 13},\n",
       " {u'id': 42,\n",
       "  u'round': 5,\n",
       "  u'scoores': {4: 0, 8: 0},\n",
       "  u'score_1': None,\n",
       "  u'score_2': None,\n",
       "  u'scores': {4: 0, 8: 1},\n",
       "  u'status': 1,\n",
       "  u'team_1': 4,\n",
       "  u'team_2': 8},\n",
       " {u'id': 43,\n",
       "  u'round': 5,\n",
       "  u'scoores': {5: 0, 9: 0},\n",
       "  u'score_1': None,\n",
       "  u'score_2': None,\n",
       "  u'scores': {5: 2, 9: 8},\n",
       "  u'status': 1,\n",
       "  u'team_1': 5,\n",
       "  u'team_2': 9},\n",
       " {u'id': 44,\n",
       "  u'round': 5,\n",
       "  u'scoores': {6: 0, 7: 0},\n",
       "  u'score_1': None,\n",
       "  u'score_2': None,\n",
       "  u'status': 0,\n",
       "  u'team_1': 6,\n",
       "  u'team_2': 7},\n",
       " {u'id': 45,\n",
       "  u'round': 5,\n",
       "  u'scores': {7: 0, 13: 3},\n",
       "  u'status': 1,\n",
       "  u'team_1': 13,\n",
       "  u'team_2': 7},\n",
       " {u'id': 46,\n",
       "  u'round': 5,\n",
       "  u'scores': {3: 0, 6: 5},\n",
       "  u'status': 1,\n",
       "  u'team_1': 6,\n",
       "  u'team_2': 3},\n",
       " {u'id': 47,\n",
       "  u'round': 6,\n",
       "  u'scores': {7: 0, 12: 0},\n",
       "  u'status': 0,\n",
       "  u'team_1': 7,\n",
       "  u'team_2': 12},\n",
       " {u'id': 48,\n",
       "  u'round': 6,\n",
       "  u'scores': {1: 0, 8: 0},\n",
       "  u'status': 0,\n",
       "  u'team_1': 8,\n",
       "  u'team_2': 1},\n",
       " {u'id': 49,\n",
       "  u'round': 2,\n",
       "  u'scores': {16: 1, 24: 5},\n",
       "  u'status': 1,\n",
       "  u'team_1': 24,\n",
       "  u'team_2': 16},\n",
       " {u'id': 50,\n",
       "  u'round': 2,\n",
       "  u'scores': {19: 3, 21: 0},\n",
       "  u'status': 1,\n",
       "  u'team_1': 19,\n",
       "  u'team_2': 21},\n",
       " {u'id': 51,\n",
       "  u'round': 2,\n",
       "  u'scores': {14: 1, 25: 1},\n",
       "  u'status': 1,\n",
       "  u'team_1': 14,\n",
       "  u'team_2': 25},\n",
       " {u'id': 52,\n",
       "  u'round': 2,\n",
       "  u'scores': {15: 2, 23: 2},\n",
       "  u'status': 1,\n",
       "  u'team_1': 15,\n",
       "  u'team_2': 23},\n",
       " {u'id': 53,\n",
       "  u'round': 2,\n",
       "  u'scores': {18: 0, 26: 0},\n",
       "  u'status': 0,\n",
       "  u'team_1': 18,\n",
       "  u'team_2': 26},\n",
       " {u'id': 54,\n",
       "  u'round': 2,\n",
       "  u'scores': {17: 0, 27: 0},\n",
       "  u'status': 0,\n",
       "  u'team_1': 17,\n",
       "  u'team_2': 27},\n",
       " {u'id': 55,\n",
       "  u'round': 2,\n",
       "  u'scores': {20: 2, 26: 0},\n",
       "  u'status': 1,\n",
       "  u'team_1': 20,\n",
       "  u'team_2': 26},\n",
       " {u'id': 56,\n",
       "  u'round': 2,\n",
       "  u'scores': {17: 11, 27: 0},\n",
       "  u'status': 1,\n",
       "  u'team_1': 17,\n",
       "  u'team_2': 27},\n",
       " {u'id': 57,\n",
       "  u'round': 2,\n",
       "  u'scores': {18: 8, 22: 0},\n",
       "  u'status': 1,\n",
       "  u'team_1': 18,\n",
       "  u'team_2': 22},\n",
       " {u'id': 58,\n",
       "  u'round': 3,\n",
       "  u'scores': {15: 4, 21: 3},\n",
       "  u'status': 1,\n",
       "  u'team_1': 21,\n",
       "  u'team_2': 15},\n",
       " {u'id': 59,\n",
       "  u'round': 3,\n",
       "  u'scores': {24: 4, 25: 1},\n",
       "  u'status': 1,\n",
       "  u'team_1': 24,\n",
       "  u'team_2': 25},\n",
       " {u'id': 60,\n",
       "  u'round': 3,\n",
       "  u'scores': {16: 1, 19: 2},\n",
       "  u'status': 1,\n",
       "  u'team_1': 16,\n",
       "  u'team_2': 19},\n",
       " {u'id': 61,\n",
       "  u'round': 3,\n",
       "  u'scores': {14: 7, 20: 0},\n",
       "  u'status': 1,\n",
       "  u'team_1': 20,\n",
       "  u'team_2': 14},\n",
       " {u'id': 62,\n",
       "  u'round': 3,\n",
       "  u'scores': {18: 6, 23: 0},\n",
       "  u'status': 1,\n",
       "  u'team_1': 18,\n",
       "  u'team_2': 23},\n",
       " {u'id': 63,\n",
       "  u'round': 3,\n",
       "  u'scores': {17: 3, 26: 2},\n",
       "  u'status': 1,\n",
       "  u'team_1': 17,\n",
       "  u'team_2': 26},\n",
       " {u'id': 64,\n",
       "  u'round': 3,\n",
       "  u'scores': {22: 10, 27: 2},\n",
       "  u'status': 1,\n",
       "  u'team_1': 22,\n",
       "  u'team_2': 27},\n",
       " {u'id': 65,\n",
       "  u'round': 4,\n",
       "  u'scores': {20: 0, 25: 12},\n",
       "  u'status': 1,\n",
       "  u'team_1': 20,\n",
       "  u'team_2': 25},\n",
       " {u'id': 66,\n",
       "  u'round': 4,\n",
       "  u'scores': {18: 0, 24: 7},\n",
       "  u'status': 1,\n",
       "  u'team_1': 18,\n",
       "  u'team_2': 24},\n",
       " {u'id': 67,\n",
       "  u'round': 4,\n",
       "  u'scores': {16: 5, 23: 4},\n",
       "  u'status': 1,\n",
       "  u'team_1': 23,\n",
       "  u'team_2': 16},\n",
       " {u'id': 68,\n",
       "  u'round': 4,\n",
       "  u'scores': {14: 2, 19: 2},\n",
       "  u'status': 1,\n",
       "  u'team_1': 14,\n",
       "  u'team_2': 19},\n",
       " {u'id': 69,\n",
       "  u'round': 4,\n",
       "  u'scores': {15: 0, 17: 3},\n",
       "  u'status': 1,\n",
       "  u'team_1': 17,\n",
       "  u'team_2': 15},\n",
       " {u'id': 70,\n",
       "  u'round': 4,\n",
       "  u'scores': {21: 7, 27: 1},\n",
       "  u'status': 1,\n",
       "  u'team_1': 21,\n",
       "  u'team_2': 27},\n",
       " {u'id': 71,\n",
       "  u'round': 4,\n",
       "  u'scores': {22: 4, 26: 2},\n",
       "  u'status': 1,\n",
       "  u'team_1': 26,\n",
       "  u'team_2': 22},\n",
       " {u'id': 72,\n",
       "  u'round': 5,\n",
       "  u'scoores': {14: 0, 27: 0},\n",
       "  u'score_1': None,\n",
       "  u'score_2': None,\n",
       "  u'scores': {14: 10, 27: 0},\n",
       "  u'status': 1,\n",
       "  u'team_1': 14,\n",
       "  u'team_2': 27},\n",
       " {u'id': 73,\n",
       "  u'round': 5,\n",
       "  u'scoores': {15: 0, 26: 0},\n",
       "  u'score_1': None,\n",
       "  u'score_2': None,\n",
       "  u'scores': {15: 4, 26: 1},\n",
       "  u'status': 1,\n",
       "  u'team_1': 15,\n",
       "  u'team_2': 26},\n",
       " {u'id': 74,\n",
       "  u'round': 5,\n",
       "  u'scoores': {16: 0, 25: 0},\n",
       "  u'score_1': None,\n",
       "  u'score_2': None,\n",
       "  u'scores': {16: 2, 25: 0},\n",
       "  u'status': 1,\n",
       "  u'team_1': 16,\n",
       "  u'team_2': 25},\n",
       " {u'id': 75,\n",
       "  u'round': 5,\n",
       "  u'scoores': {17: 0, 24: 0},\n",
       "  u'score_1': None,\n",
       "  u'score_2': None,\n",
       "  u'scores': {17: 2, 24: 4},\n",
       "  u'status': 1,\n",
       "  u'team_1': 17,\n",
       "  u'team_2': 24},\n",
       " {u'id': 76,\n",
       "  u'round': 5,\n",
       "  u'scoores': {18: 0, 20: 0},\n",
       "  u'score_1': None,\n",
       "  u'score_2': None,\n",
       "  u'scores': {18: 6, 20: 2},\n",
       "  u'status': 1,\n",
       "  u'team_1': 18,\n",
       "  u'team_2': 20},\n",
       " {u'id': 77,\n",
       "  u'round': 5,\n",
       "  u'scoores': {19: 0, 23: 0},\n",
       "  u'score_1': None,\n",
       "  u'score_2': None,\n",
       "  u'scores': {19: 7, 23: 0},\n",
       "  u'status': 1,\n",
       "  u'team_1': 19,\n",
       "  u'team_2': 23},\n",
       " {u'id': 78,\n",
       "  u'round': 5,\n",
       "  u'scoores': {21: 0, 22: 0},\n",
       "  u'score_1': None,\n",
       "  u'score_2': None,\n",
       "  u'scores': {21: 3, 22: 1},\n",
       "  u'status': 1,\n",
       "  u'team_1': 21,\n",
       "  u'team_2': 22},\n",
       " {u'id': 79,\n",
       "  u'round': 6,\n",
       "  u'scores': {2: 0, 16: 0},\n",
       "  u'status': 0,\n",
       "  u'team_1': 2,\n",
       "  u'team_2': 16},\n",
       " {u'id': 80,\n",
       "  u'round': 6,\n",
       "  u'scores': {2: 0, 19: 0},\n",
       "  u'status': 0,\n",
       "  u'team_1': 2,\n",
       "  u'team_2': 19},\n",
       " {u'id': 81,\n",
       "  u'round': 6,\n",
       "  u'scores': {1: 0, 16: 0},\n",
       "  u'status': 0,\n",
       "  u'team_1': 1,\n",
       "  u'team_2': 16},\n",
       " {u'id': 82,\n",
       "  u'round': 6,\n",
       "  u'scores': {11: 0, 18: 0},\n",
       "  u'status': 0,\n",
       "  u'team_1': 11,\n",
       "  u'team_2': 18},\n",
       " {u'id': 83,\n",
       "  u'round': 6,\n",
       "  u'scores': {6: 0, 15: 0},\n",
       "  u'status': 0,\n",
       "  u'team_1': 6,\n",
       "  u'team_2': 15},\n",
       " {u'id': 84,\n",
       "  u'round': 6,\n",
       "  u'scores': {8: 0, 21: 0},\n",
       "  u'status': 0,\n",
       "  u'team_1': 8,\n",
       "  u'team_2': 21},\n",
       " {u'id': 85,\n",
       "  u'round': 6,\n",
       "  u'scores': {0: 0, 22: 0},\n",
       "  u'status': 0,\n",
       "  u'team_1': 0,\n",
       "  u'team_2': 22},\n",
       " {u'id': 86,\n",
       "  u'round': 6,\n",
       "  u'scores': {4: 0, 27: 0},\n",
       "  u'status': 0,\n",
       "  u'team_1': 4,\n",
       "  u'team_2': 27},\n",
       " {u'id': 87,\n",
       "  u'round': 6,\n",
       "  u'scores': {13: 4, 24: 3},\n",
       "  u'status': 1,\n",
       "  u'team_1': 24,\n",
       "  u'team_2': 13},\n",
       " {u'id': 88,\n",
       "  u'round': 6,\n",
       "  u'scores': {9: 6, 14: 1},\n",
       "  u'status': 1,\n",
       "  u'team_1': 14,\n",
       "  u'team_2': 9},\n",
       " {u'id': 89,\n",
       "  u'round': 6,\n",
       "  u'scores': {7: 3, 25: 3},\n",
       "  u'status': 1,\n",
       "  u'team_1': 25,\n",
       "  u'team_2': 7},\n",
       " {u'id': 90,\n",
       "  u'round': 6,\n",
       "  u'scores': {12: 0, 17: 3},\n",
       "  u'status': 1,\n",
       "  u'team_1': 17,\n",
       "  u'team_2': 12},\n",
       " {u'id': 91,\n",
       "  u'round': 6,\n",
       "  u'scores': {3: 2, 23: 4},\n",
       "  u'status': 1,\n",
       "  u'team_1': 23,\n",
       "  u'team_2': 3},\n",
       " {u'id': 92,\n",
       "  u'round': 6,\n",
       "  u'scores': {3: 3, 20: 10},\n",
       "  u'status': 1,\n",
       "  u'team_1': 3,\n",
       "  u'team_2': 20},\n",
       " {u'id': 93,\n",
       "  u'round': 6,\n",
       "  u'scores': {10: 10, 20: 3},\n",
       "  u'status': 1,\n",
       "  u'team_1': 20,\n",
       "  u'team_2': 10},\n",
       " {u'id': 94,\n",
       "  u'round': 6,\n",
       "  u'scores': {5: 3, 26: 1},\n",
       "  u'status': 1,\n",
       "  u'team_1': 26,\n",
       "  u'team_2': 5},\n",
       " {u'id': 95,\n",
       "  u'round': 6,\n",
       "  u'scores': {13: 0, 24: 0},\n",
       "  u'status': 0,\n",
       "  u'team_1': 24,\n",
       "  u'team_2': 13},\n",
       " {u'id': 96,\n",
       "  u'round': 6,\n",
       "  u'scores': {9: 0, 14: 0},\n",
       "  u'status': 0,\n",
       "  u'team_1': 14,\n",
       "  u'team_2': 9},\n",
       " {u'id': 97,\n",
       "  u'round': 6,\n",
       "  u'scores': {7: 0, 25: 0},\n",
       "  u'status': 0,\n",
       "  u'team_1': 25,\n",
       "  u'team_2': 7},\n",
       " {u'id': 98,\n",
       "  u'round': 6,\n",
       "  u'scores': {12: 0, 17: 0},\n",
       "  u'status': 0,\n",
       "  u'team_1': 17,\n",
       "  u'team_2': 12},\n",
       " {u'id': 99,\n",
       "  u'round': 6,\n",
       "  u'scores': {3: 0, 23: 0},\n",
       "  u'status': 0,\n",
       "  u'team_1': 23,\n",
       "  u'team_2': 3},\n",
       " {u'id': 100,\n",
       "  u'round': 6,\n",
       "  u'scores': {10: 0, 20: 0},\n",
       "  u'status': 0,\n",
       "  u'team_1': 20,\n",
       "  u'team_2': 10},\n",
       " {u'id': 101,\n",
       "  u'round': 6,\n",
       "  u'scores': {5: 0, 26: 0},\n",
       "  u'status': 0,\n",
       "  u'team_1': 26,\n",
       "  u'team_2': 5},\n",
       " {u'id': 102,\n",
       "  u'round': 6,\n",
       "  u'scores': {2: 8, 19: 1},\n",
       "  u'status': 1,\n",
       "  u'team_1': 2,\n",
       "  u'team_2': 19},\n",
       " {u'id': 103,\n",
       "  u'round': 6,\n",
       "  u'scores': {1: 10, 16: 3},\n",
       "  u'status': 1,\n",
       "  u'team_1': 1,\n",
       "  u'team_2': 16},\n",
       " {u'id': 104,\n",
       "  u'round': 6,\n",
       "  u'scores': {11: 7, 18: 0},\n",
       "  u'status': 1,\n",
       "  u'team_1': 11,\n",
       "  u'team_2': 18},\n",
       " {u'id': 105,\n",
       "  u'round': 6,\n",
       "  u'scores': {6: 5, 15: 2},\n",
       "  u'status': 1,\n",
       "  u'team_1': 6,\n",
       "  u'team_2': 15},\n",
       " {u'id': 106,\n",
       "  u'round': 6,\n",
       "  u'scores': {8: 3, 21: 2},\n",
       "  u'status': 1,\n",
       "  u'team_1': 8,\n",
       "  u'team_2': 21},\n",
       " {u'id': 107,\n",
       "  u'round': 6,\n",
       "  u'scores': {0: 2, 22: 3},\n",
       "  u'status': 1,\n",
       "  u'team_1': 0,\n",
       "  u'team_2': 22},\n",
       " {u'id': 108,\n",
       "  u'round': 6,\n",
       "  u'scores': {4: 7, 27: 0},\n",
       "  u'status': 1,\n",
       "  u'team_1': 4,\n",
       "  u'team_2': 27},\n",
       " {'id': 109,\n",
       "  'round': 7,\n",
       "  'scores': {6: 2, 16: 6},\n",
       "  'status': 1,\n",
       "  'team_1': 16,\n",
       "  'team_2': 6},\n",
       " {'id': 110,\n",
       "  'round': 7,\n",
       "  'scores': {1: 3, 2: 4},\n",
       "  'status': 1,\n",
       "  'team_1': 2,\n",
       "  'team_2': 1},\n",
       " {'id': 111,\n",
       "  'round': 7,\n",
       "  'scores': {11: 1, 19: 2},\n",
       "  'status': 1,\n",
       "  'team_1': 11,\n",
       "  'team_2': 19},\n",
       " {'id': 112,\n",
       "  'round': 7,\n",
       "  'scores': {8: 4, 15: 2},\n",
       "  'status': 1,\n",
       "  'team_1': 8,\n",
       "  'team_2': 15},\n",
       " {'id': 113,\n",
       "  'round': 7,\n",
       "  'scores': {18: 4, 21: 0},\n",
       "  'status': 1,\n",
       "  'team_1': 18,\n",
       "  'team_2': 21},\n",
       " {'id': 114,\n",
       "  'round': 7,\n",
       "  'scores': {4: 4, 22: 5},\n",
       "  'status': 1,\n",
       "  'team_1': 22,\n",
       "  'team_2': 4},\n",
       " {'id': 115,\n",
       "  'round': 7,\n",
       "  'scores': {0: 6, 27: 0},\n",
       "  'status': 1,\n",
       "  'team_1': 0,\n",
       "  'team_2': 27},\n",
       " {'id': 116,\n",
       "  'round': 8,\n",
       "  'scores': {2: 3, 16: 0},\n",
       "  'status': 1,\n",
       "  'team_1': 2,\n",
       "  'team_2': 16},\n",
       " {'id': 117,\n",
       "  'round': 8,\n",
       "  'scores': {1: 2, 19: 4},\n",
       "  'status': 1,\n",
       "  'team_1': 1,\n",
       "  'team_2': 19},\n",
       " {'id': 118,\n",
       "  'round': 8,\n",
       "  'scores': {6: 3, 11: 4},\n",
       "  'status': 1,\n",
       "  'team_1': 11,\n",
       "  'team_2': 6},\n",
       " {'id': 119,\n",
       "  'round': 8,\n",
       "  'scores': {8: 3, 22: 3},\n",
       "  'status': 1,\n",
       "  'team_1': 22,\n",
       "  'team_2': 8},\n",
       " {'id': 120,\n",
       "  'round': 8,\n",
       "  'scores': {4: 0, 18: 0},\n",
       "  'status': 0,\n",
       "  'team_1': 18,\n",
       "  'team_2': 4},\n",
       " {'id': 121,\n",
       "  'round': 8,\n",
       "  'scores': {0: 0, 21: 0},\n",
       "  'status': 0,\n",
       "  'team_1': 0,\n",
       "  'team_2': 21},\n",
       " {'id': 122,\n",
       "  'round': 8,\n",
       "  'scores': {15: 5, 27: 0},\n",
       "  'status': 1,\n",
       "  'team_1': 27,\n",
       "  'team_2': 15},\n",
       " {'id': 123,\n",
       "  'round': 8,\n",
       "  'scores': {0: 1, 18: 11},\n",
       "  'status': 1,\n",
       "  'team_1': 18,\n",
       "  'team_2': 0},\n",
       " {'id': 124,\n",
       "  'round': 8,\n",
       "  'scores': {4: 4, 21: 2},\n",
       "  'status': 1,\n",
       "  'team_1': 4,\n",
       "  'team_2': 21},\n",
       " {'id': 125,\n",
       "  'round': 9,\n",
       "  'scoores': {0: 0, 21: 0},\n",
       "  'score_1': None,\n",
       "  'score_2': None,\n",
       "  'scores': {0: 2, 21: 2},\n",
       "  'status': 1,\n",
       "  'team_1': 0,\n",
       "  'team_2': 21},\n",
       " {'id': 126,\n",
       "  'round': 9,\n",
       "  'scoores': {1: 0, 27: 0},\n",
       "  'score_1': None,\n",
       "  'score_2': None,\n",
       "  'scores': {1: 14, 27: 0},\n",
       "  'status': 1,\n",
       "  'team_1': 1,\n",
       "  'team_2': 27},\n",
       " {'id': 127,\n",
       "  'round': 9,\n",
       "  'scoores': {2: 0, 22: 0},\n",
       "  'score_1': None,\n",
       "  'score_2': None,\n",
       "  'scores': {2: 15, 22: 1},\n",
       "  'status': 1,\n",
       "  'team_1': 2,\n",
       "  'team_2': 22},\n",
       " {'id': 128,\n",
       "  'round': 9,\n",
       "  'scoores': {4: 0, 19: 0},\n",
       "  'score_1': None,\n",
       "  'score_2': None,\n",
       "  'scores': {4: 0, 19: 8},\n",
       "  'status': 1,\n",
       "  'team_1': 4,\n",
       "  'team_2': 19},\n",
       " {'id': 129,\n",
       "  'round': 9,\n",
       "  'scoores': {6: 0, 18: 0},\n",
       "  'score_1': None,\n",
       "  'score_2': None,\n",
       "  'scores': {6: 4, 18: 0},\n",
       "  'status': 1,\n",
       "  'team_1': 6,\n",
       "  'team_2': 18},\n",
       " {'id': 130,\n",
       "  'round': 9,\n",
       "  'scoores': {8: 0, 16: 0},\n",
       "  'score_1': None,\n",
       "  'score_2': None,\n",
       "  'scores': {8: 1, 16: 2},\n",
       "  'status': 1,\n",
       "  'team_1': 8,\n",
       "  'team_2': 16},\n",
       " {'id': 131,\n",
       "  'round': 9,\n",
       "  'scoores': {11: 0, 15: 0},\n",
       "  'score_1': None,\n",
       "  'score_2': None,\n",
       "  'scores': {11: 10, 15: 1},\n",
       "  'status': 1,\n",
       "  'team_1': 11,\n",
       "  'team_2': 15},\n",
       " {'id': 132,\n",
       "  'round': 6,\n",
       "  'scores': {13: 5, 14: 0},\n",
       "  'status': 1,\n",
       "  'team_1': 13,\n",
       "  'team_2': 14},\n",
       " {'id': 133,\n",
       "  'round': 6,\n",
       "  'scores': {9: 4, 24: 1},\n",
       "  'status': 1,\n",
       "  'team_1': 24,\n",
       "  'team_2': 9},\n",
       " {'id': 134,\n",
       "  'round': 6,\n",
       "  'scores': {17: 5, 25: 2},\n",
       "  'status': 1,\n",
       "  'team_1': 25,\n",
       "  'team_2': 17},\n",
       " {'id': 135,\n",
       "  'round': 6,\n",
       "  'scores': {7: 4, 23: 1},\n",
       "  'status': 1,\n",
       "  'team_1': 7,\n",
       "  'team_2': 23},\n",
       " {'id': 136,\n",
       "  'round': 6,\n",
       "  'scores': {3: 1, 12: 6},\n",
       "  'status': 1,\n",
       "  'team_1': 12,\n",
       "  'team_2': 3},\n",
       " {'id': 137,\n",
       "  'round': 6,\n",
       "  'scores': {10: 10, 26: 2},\n",
       "  'status': 1,\n",
       "  'team_1': 10,\n",
       "  'team_2': 26},\n",
       " {'id': 138,\n",
       "  'round': 6,\n",
       "  'scores': {5: 2, 20: 5},\n",
       "  'status': 1,\n",
       "  'team_1': 20,\n",
       "  'team_2': 5},\n",
       " {'id': 139,\n",
       "  'round': 8,\n",
       "  'scores': {9: 0, 24: 0},\n",
       "  'status': 0,\n",
       "  'team_1': 9,\n",
       "  'team_2': 24},\n",
       " {'id': 140,\n",
       "  'round': 8,\n",
       "  'scores': {9: 3, 13: 3},\n",
       "  'status': 1,\n",
       "  'team_1': 9,\n",
       "  'team_2': 13},\n",
       " {'id': 141,\n",
       "  'round': 8,\n",
       "  'scores': {14: 1, 24: 1},\n",
       "  'status': 1,\n",
       "  'team_1': 24,\n",
       "  'team_2': 14},\n",
       " {'id': 142,\n",
       "  'round': 8,\n",
       "  'scoores': {3: 0, 25: 0},\n",
       "  'score_1': None,\n",
       "  'score_2': None,\n",
       "  'scores': {3: 1, 25: 6},\n",
       "  'status': 1,\n",
       "  'team_1': 3,\n",
       "  'team_2': 25},\n",
       " {'id': 143,\n",
       "  'round': 8,\n",
       "  'scoores': {5: 0, 12: 0},\n",
       "  'score_1': None,\n",
       "  'score_2': None,\n",
       "  'scores': {5: 2, 12: 5},\n",
       "  'status': 1,\n",
       "  'team_1': 5,\n",
       "  'team_2': 12},\n",
       " {'id': 144,\n",
       "  'round': 8,\n",
       "  'scoores': {7: 0, 26: 0},\n",
       "  'score_1': None,\n",
       "  'score_2': None,\n",
       "  'scores': {7: 6, 26: 0},\n",
       "  'status': 1,\n",
       "  'team_1': 7,\n",
       "  'team_2': 26},\n",
       " {'id': 145,\n",
       "  'round': 8,\n",
       "  'scoores': {10: 0, 23: 0},\n",
       "  'score_1': None,\n",
       "  'score_2': None,\n",
       "  'scores': {10: 2, 23: 3},\n",
       "  'status': 1,\n",
       "  'team_1': 10,\n",
       "  'team_2': 23},\n",
       " {'id': 146,\n",
       "  'round': 8,\n",
       "  'scoores': {17: 0, 20: 0},\n",
       "  'score_1': None,\n",
       "  'score_2': None,\n",
       "  'scores': {17: 3, 20: 3},\n",
       "  'status': 1,\n",
       "  'team_1': 17,\n",
       "  'team_2': 20},\n",
       " {'id': 147,\n",
       "  'round': 9,\n",
       "  'scoores': {7: 0, 24: 0},\n",
       "  'score_1': None,\n",
       "  'score_2': None,\n",
       "  'status': 0,\n",
       "  'team_1': 7,\n",
       "  'team_2': 24},\n",
       " {'id': 148,\n",
       "  'round': 8,\n",
       "  'scores': {7: 0, 14: 0},\n",
       "  'status': 0,\n",
       "  'team_1': 14,\n",
       "  'team_2': 7},\n",
       " {'id': 149,\n",
       "  'round': 8,\n",
       "  'scores': {12: 0, 25: 0},\n",
       "  'status': 0,\n",
       "  'team_1': 12,\n",
       "  'team_2': 25},\n",
       " {'id': 150,\n",
       "  'round': 9,\n",
       "  'scores': {7: 3, 14: 3},\n",
       "  'status': 1,\n",
       "  'team_1': 14,\n",
       "  'team_2': 7},\n",
       " {'id': 151,\n",
       "  'round': 9,\n",
       "  'scores': {12: 0, 25: 5},\n",
       "  'status': 1,\n",
       "  'team_1': 12,\n",
       "  'team_2': 25},\n",
       " {'id': 152,\n",
       "  'round': 9,\n",
       "  'scoores': {3: 0, 17: 0},\n",
       "  'score_1': None,\n",
       "  'score_2': None,\n",
       "  'scores': {3: 2, 17: 6},\n",
       "  'status': 1,\n",
       "  'team_1': 3,\n",
       "  'team_2': 17},\n",
       " {'id': 153,\n",
       "  'round': 9,\n",
       "  'scoores': {5: 0, 23: 0},\n",
       "  'score_1': None,\n",
       "  'score_2': None,\n",
       "  'scores': {5: 7, 23: 2},\n",
       "  'status': 1,\n",
       "  'team_1': 5,\n",
       "  'team_2': 23},\n",
       " {'id': 154,\n",
       "  'round': 9,\n",
       "  'scoores': {9: 0, 20: 0},\n",
       "  'score_1': None,\n",
       "  'score_2': None,\n",
       "  'scores': {9: 11, 20: 2},\n",
       "  'status': 1,\n",
       "  'team_1': 9,\n",
       "  'team_2': 20},\n",
       " {'id': 155,\n",
       "  'round': 9,\n",
       "  'scoores': {10: 0, 13: 0},\n",
       "  'score_1': None,\n",
       "  'score_2': None,\n",
       "  'scores': {10: 1, 13: 10},\n",
       "  'status': 1,\n",
       "  'team_1': 10,\n",
       "  'team_2': 13},\n",
       " {'id': 156,\n",
       "  'round': 9,\n",
       "  'scoores': {24: 0, 26: 0},\n",
       "  'score_1': None,\n",
       "  'score_2': None,\n",
       "  'scores': {24: 7, 26: 0},\n",
       "  'status': 1,\n",
       "  'team_1': 24,\n",
       "  'team_2': 26}]"
      ]
     },
     "execution_count": 406,
     "metadata": {},
     "output_type": "execute_result"
    }
   ],
   "source": [
    "[g for g in DB['Games'].values()]"
   ]
  },
  {
   "cell_type": "code",
   "execution_count": 249,
   "metadata": {
    "collapsed": false
   },
   "outputs": [
    {
     "data": {
      "text/plain": [
       "[[0, u'Ball Bangers'],\n",
       " [1, u'Wabbit'],\n",
       " [2, u'Golem'],\n",
       " [3, u'The Edinburgh Badgers'],\n",
       " [4, u'JKL'],\n",
       " [5, u'The Inseminators'],\n",
       " [6, u'Gentlemans'],\n",
       " [7, u'Sons of Odin'],\n",
       " [8, u'Rusty Spoons'],\n",
       " [9, u'Daft Monks'],\n",
       " [10, u'The Budgie Smugglers'],\n",
       " [11, u'Triple Fisted'],\n",
       " [12, u'With Fire'],\n",
       " [13, u'Pete un Plomb'],\n",
       " [14, u'Kitten Pile Crush'],\n",
       " [15, u'The Royales with Cheese'],\n",
       " [16, u'The Jamesons'],\n",
       " [17, u'Elf Death'],\n",
       " [18, u'Mammoth'],\n",
       " [19, u'Beware'],\n",
       " [20, u'Two and a half Men'],\n",
       " [21, u'Lost Cat'],\n",
       " [22, u'Mighty Bisons'],\n",
       " [23, u'Sometimes'],\n",
       " [24, u'Three Boys'],\n",
       " [25, u'Gobshites'],\n",
       " [26, u'Kumaras bravas'],\n",
       " [27, u\"The Caracal's\"],\n",
       " [28, u'3UP'],\n",
       " [30, u'Royals'],\n",
       " [31, u'Les Beehive Boys'],\n",
       " [32, u'The Control'],\n",
       " [33, u'Frenemies'],\n",
       " [34, u'Prospectors'],\n",
       " [35, u'TBD'],\n",
       " [36, u'TEMOILESNICHONS'],\n",
       " [37, u'LOS BIGOTES HASTA LAS RODILLAS'],\n",
       " [38, u'YATTARUS'],\n",
       " [39, u'The Huntsmen'],\n",
       " [40, u'Majestic'],\n",
       " [41, u'Auckland Justice'],\n",
       " [42, u'Call Me Daddy'],\n",
       " [43, u'Thunder fart'],\n",
       " [44, u'Ratking'],\n",
       " [45, u'Portland United'],\n",
       " [46, u'ChaJean$'],\n",
       " [47, u'Good Owl Boys'],\n",
       " [49, u'No Ones Home'],\n",
       " [50, u'Outlawz Birds'],\n",
       " [51, u'POLOBITO'],\n",
       " [52, u'Sentinels'],\n",
       " [53, u'ZODIAC'],\n",
       " [54, u'Fully Torqued'],\n",
       " [55, u'Ash Samwidch'],\n",
       " [46, u'Fully Torqued']]"
      ]
     },
     "execution_count": 249,
     "metadata": {},
     "output_type": "execute_result"
    }
   ],
   "source": [
    "[[t['id'],t['name']] for t in DB['Teams'].values()]"
   ]
  },
  {
   "cell_type": "code",
   "execution_count": 250,
   "metadata": {
    "collapsed": true
   },
   "outputs": [],
   "source": [
    "DB['Sessions'][8]['teams'] = [50,36,45,38,44,37,47,13,53,40,43,28,24,16,11,41,25,14]"
   ]
  },
  {
   "cell_type": "code",
   "execution_count": 479,
   "metadata": {
    "collapsed": true
   },
   "outputs": [],
   "source": [
    "DB['Sessions'][5]['teams'] = [28,41,19,33,2,14,31,37,40,13,34,30,35,36,32,39,16,38]\n",
    "DB['Sessions'][6]['teams'] = [55,42,46,9,54,25,47,49,50,51,45,44,52,24,43,11,1,53]\n",
    "DB['Sessions'][5]['strengths']={}\n",
    "DB['Sessions'][6]['strengths']={}\n",
    "\n",
    "for id in DB['Sessions'][5]['teams']:\n",
    "    DB['Sessions'][5]['strengths'][id]=0.0\n",
    "    \n",
    "for id in DB['Sessions'][6]['teams']:\n",
    "    DB['Sessions'][6]['strengths'][id]=0.0"
   ]
  },
  {
   "cell_type": "code",
   "execution_count": 450,
   "metadata": {
    "collapsed": false
   },
   "outputs": [],
   "source": [
    "DB['Teams'][41]['name'] = 'Auckland Justice'"
   ]
  },
  {
   "cell_type": "code",
   "execution_count": 428,
   "metadata": {
    "collapsed": false
   },
   "outputs": [],
   "source": [
    "DB['Teams'][56] = {'id': 46,\n",
    " 'name': u'Fully Torqued',\n",
    " 'session': 'B',\n",
    " 'strength': 0,\n",
    " 'wc': False}"
   ]
  },
  {
   "cell_type": "code",
   "execution_count": 478,
   "metadata": {
    "collapsed": false
   },
   "outputs": [
    {
     "data": {
      "text/plain": [
       "{u'games': [],\n",
       " u'id': 6,\n",
       " u'name': u'Worlds: Day 1 PM',\n",
       " u'strengths': {'id': 0.0},\n",
       " u'suggestedGames': [],\n",
       " u'teams': [55,\n",
       "  42,\n",
       "  46,\n",
       "  9,\n",
       "  54,\n",
       "  25,\n",
       "  47,\n",
       "  49,\n",
       "  50,\n",
       "  51,\n",
       "  45,\n",
       "  44,\n",
       "  52,\n",
       "  24,\n",
       "  43,\n",
       "  11,\n",
       "  1,\n",
       "  53],\n",
       " u'type': u'swiss'}"
      ]
     },
     "execution_count": 478,
     "metadata": {},
     "output_type": "execute_result"
    }
   ],
   "source": [
    "DB['Sessions'][6]"
   ]
  },
  {
   "cell_type": "code",
   "execution_count": 291,
   "metadata": {
    "collapsed": false
   },
   "outputs": [],
   "source": [
    "saveDB(DB)"
   ]
  },
  {
   "cell_type": "code",
   "execution_count": 247,
   "metadata": {
    "collapsed": false
   },
   "outputs": [],
   "source": [
    "DB['Sessions'][8]['games'] = DB['Sessions'][7]['games']"
   ]
  },
  {
   "cell_type": "code",
   "execution_count": 251,
   "metadata": {
    "collapsed": true
   },
   "outputs": [],
   "source": [
    "for id in DB['Sessions'][8]['teams']:\n",
    "    DB['Sessions'][8]['strengths'][id]=0.0"
   ]
  },
  {
   "cell_type": "code",
   "execution_count": null,
   "metadata": {
    "collapsed": true
   },
   "outputs": [],
   "source": [
    "DB['Sessions'][8]['teams'] = [32,42,34,52,30,54,2,1,39,51,31,55,19,9,35,49,33,46]"
   ]
  },
  {
   "cell_type": "code",
   "execution_count": 303,
   "metadata": {
    "collapsed": false
   },
   "outputs": [
    {
     "name": "stdout",
     "output_type": "stream",
     "text": [
      "[]\n",
      "[1, 2, 9, 11, 13, 14, 16, 19, 24, 25, 28, 30, 31, 32, 33, 34, 35, 36, 37, 38, 39, 40, 41, 42, 43, 44, 45, 46, 47, 49, 50, 51, 52, 53, 54, 55]\n",
      "running MCMC\n",
      " [-----------------100%-----------------] 1000000 of 1000000 complete in 606.0 sec"
     ]
    }
   ],
   "source": [
    "import ranking\n",
    "import bayes\n",
    "teamids = bayes.make_teams(DB['Sessions'][5]['teams'] + DB['Sessions'][6]['teams'])\n",
    "\n",
    "sess = bayes.init_session(teamids)\n",
    "games = DB['Sessions'][8]['games']\n",
    "sess.games = bayes.mcmc_games([DB['Games'][id] for id in games],teamids)\n",
    "sess.mc_points = 1000*1000\n",
    "sess.fit_model()\n",
    "st = sess.strengths()\n"
   ]
  },
  {
   "cell_type": "code",
   "execution_count": 304,
   "metadata": {
    "collapsed": false
   },
   "outputs": [
    {
     "data": {
      "text/plain": [
       "[[u'Outlawz Birds', -0.95112102948000588],\n",
       " [u'The Control', -0.80423209598098144],\n",
       " [u'Call Me Daddy', -0.74764008825147932],\n",
       " [u'Prospectors', -0.73998525911507274],\n",
       " [u'TEMOILESNICHONS', -0.65255481736114895],\n",
       " [u'Portland United', -0.49571577317190157],\n",
       " [u'Sentinels', -0.49539199397201211],\n",
       " [u'Ratking', -0.34663030059641781],\n",
       " [u'Good Owl Boys', -0.23022683187561907],\n",
       " [u'Golem', -0.21470571242412681],\n",
       " [u'ZODIAC', -0.21320276604785188],\n",
       " [u'Thunder fart', -0.21292426417584548],\n",
       " [u'LOS BIGOTES HASTA LAS RODILLAS', -0.15891740325198106],\n",
       " [u'Fully Torqued', -0.15478316123860958],\n",
       " [u'Wabbit', -0.15314131199983899],\n",
       " [u'Royals', -0.10124844005939648],\n",
       " [u'YATTARUS', -0.10026221500263532],\n",
       " [u'POLOBITO', -0.094680994548388575],\n",
       " [u'Les Beehive Boys', -0.077661159472756328],\n",
       " [u'The Huntsmen', -0.058031499209452615],\n",
       " [u'Pete un Plomb', -0.036419829985207167],\n",
       " [u'Majestic', 0.094944254330580041],\n",
       " [u'Three Boys', 0.12339836612640906],\n",
       " [u'Daft Monks', 0.1938757878906],\n",
       " [u'Beware', 0.24052452433769528],\n",
       " [u'3UP', 0.24118574667946596],\n",
       " [u'Ash Samwidch', 0.24670319260005114],\n",
       " [u'TBD', 0.39642652439347159],\n",
       " [u'Triple Fisted', 0.4197966279456159],\n",
       " [u'Gobshites', 0.44278759515164756],\n",
       " [u'The Jamesons', 0.54283869271019158],\n",
       " [u'No Ones Home', 0.54832402432450056],\n",
       " [u'Auckland Justice', 0.67465297867665452],\n",
       " [u'Frenemies', 0.79685223217508538],\n",
       " [u'Kitten Pile Crush', 1.0217134469941613],\n",
       " [u'ChaJean$', 1.0554529528846812]]"
      ]
     },
     "execution_count": 304,
     "metadata": {},
     "output_type": "execute_result"
    }
   ],
   "source": [
    "sorted([[DB['Teams'][id]['name'], st[id]] for id in teamids],key=lambda x: x[1])"
   ]
  },
  {
   "cell_type": "code",
   "execution_count": 302,
   "metadata": {
    "collapsed": false
   },
   "outputs": [
    {
     "data": {
      "text/plain": [
       "[[u'Outlawz Birds', -0.93984485452719513],\n",
       " [u'The Control', -0.78591321238019185],\n",
       " [u'Call Me Daddy', -0.74806292257365414],\n",
       " [u'Prospectors', -0.74070766836743362],\n",
       " [u'TEMOILESNICHONS', -0.65862138271052917],\n",
       " [u'Sentinels', -0.49085151905152091],\n",
       " [u'Portland United', -0.49055325728651861],\n",
       " [u'Ratking', -0.34096869067706875],\n",
       " [u'Good Owl Boys', -0.23867510786103788],\n",
       " [u'ZODIAC', -0.2212495045281874],\n",
       " [u'Thunder fart', -0.21401025340367888],\n",
       " [u'Golem', -0.20917690833838834],\n",
       " [u'LOS BIGOTES HASTA LAS RODILLAS', -0.15896885807889616],\n",
       " [u'Fully Torqued', -0.1480092173329223],\n",
       " [u'Wabbit', -0.13983151523064519],\n",
       " [u'YATTARUS', -0.11329862496169678],\n",
       " [u'Royals', -0.11063337361294336],\n",
       " [u'POLOBITO', -0.10636482848952385],\n",
       " [u'Les Beehive Boys', -0.088253396801933934],\n",
       " [u'The Huntsmen', -0.065352173994848203],\n",
       " [u'Pete un Plomb', -0.044130238047641865],\n",
       " [u'Majestic', 0.083694737745335243],\n",
       " [u'Three Boys', 0.13056952694037224],\n",
       " [u'Daft Monks', 0.18663468109770862],\n",
       " [u'Beware', 0.23338606094453501],\n",
       " [u'3UP', 0.23739886664870213],\n",
       " [u'Ash Samwidch', 0.24027341943637204],\n",
       " [u'TBD', 0.38970800867381555],\n",
       " [u'Triple Fisted', 0.42153034953775609],\n",
       " [u'Gobshites', 0.44768169461737323],\n",
       " [u'The Jamesons', 0.54878294529507987],\n",
       " [u'No Ones Home', 0.55647851680818927],\n",
       " [u'Auckland Justice', 0.68107730307613146],\n",
       " [u'Frenemies', 0.79384146453405224],\n",
       " [u'Kitten Pile Crush', 1.0365675889939661],\n",
       " [u'ChaJean$', 1.0658523439071741]]"
      ]
     },
     "execution_count": 302,
     "metadata": {},
     "output_type": "execute_result"
    }
   ],
   "source": [
    "sorted([[DB['Teams'][id]['name'], st[id]] for id in teamids],key=lambda x: x[1])"
   ]
  },
  {
   "cell_type": "code",
   "execution_count": null,
   "metadata": {
    "collapsed": true
   },
   "outputs": [],
   "source": []
  }
 ],
 "metadata": {
  "kernelspec": {
   "display_name": "Python 3",
   "language": "python",
   "name": "python3"
  },
  "language_info": {
   "codemirror_mode": {
    "name": "ipython",
    "version": 3
   },
   "file_extension": ".py",
   "mimetype": "text/x-python",
   "name": "python",
   "nbconvert_exporter": "python",
   "pygments_lexer": "ipython3",
   "version": "3.4.5"
  }
 },
 "nbformat": 4,
 "nbformat_minor": 0
}
