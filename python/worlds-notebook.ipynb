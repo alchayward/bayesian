{
 "cells": [
  {
   "cell_type": "code",
   "execution_count": 110,
   "metadata": {
    "collapsed": false
   },
   "outputs": [],
   "source": [
    "import database\n",
    "import req\n",
    "import pprint\n",
    "import json\n",
    "import os\n",
    "import csv\n",
    "pwd = os.getcwd()\n",
    "pp = pprint.PrettyPrinter(indent=4)\n",
    "\n",
    "dbsavefile = '/DBsave.json'\n",
    "#DB = database.DB_init()\n",
    "\n",
    "def saveDB(db):\n",
    "    with open(\"\".join([pwd,dbsavefile]), 'wb') as jsonfile: \n",
    "            json.dump(db,jsonfile)\n",
    "\n",
    "def num(s):\n",
    "    try:\n",
    "        return int(s)\n",
    "    except ValueError:\n",
    "        try:\n",
    "            return float(s)\n",
    "        except ValueError:\n",
    "            return s\n",
    "\n",
    "def d_or_v(val):\n",
    "    if isinstance(val,dict):\n",
    "        return key_to_int(val)\n",
    "    else:\n",
    "        return val\n",
    "   \n",
    "def key_to_int(d):\n",
    "    return {num(k):d_or_v(v) for k,v in d.iteritems()}   \n",
    "\n",
    "def loadDB():\n",
    "    with open(\"\".join([pwd,dbsavefile]), 'rb') as jsonfile: \n",
    "        db = json.load(jsonfile)\n",
    "    return key_to_int(db)\n",
    "\n",
    "    \n",
    "\n",
    "DB=loadDB()\n",
    "pprint = pp.pprint\n",
    "Teams = DB['Teams']\n",
    "Games = DB['Games']\n",
    "\n"
   ]
  },
  {
   "cell_type": "code",
   "execution_count": 133,
   "metadata": {
    "collapsed": false
   },
   "outputs": [],
   "source": [
    "\n",
    "def print_team(d,score = 0.0):\n",
    "    pprint(''.join([str(d['id']),': ',d['name'],'  strength = ',str(score)]))\n",
    "\n",
    "def print_game(d):\n",
    "    if d['status']==1:\n",
    "        pprint(\"\".join([str(d['id']),':', 'r', str(d['round']),'  ',\n",
    "                        str(d['scores'][d['team_1']]),' -- ',\n",
    "                        DB['Teams'][d['team_1']]['name'],\n",
    "                        ' vs ', DB['Teams'][d['team_2']]['name'], ' -- ',\n",
    "                        str(d['scores'][d['team_2']])]))\n",
    "    else:\n",
    "        pprint(\"\".join([str(d['id']),':','r',str(d['round']),'  ',\n",
    "                DB['Teams'][d['team_1']]['name'],\n",
    "                ' vs ', DB['Teams'][d['team_2']]['name']]))\n",
    "def list_teams(session_id):\n",
    "    session = DB['Sessions'][session_id]\n",
    "    for id in session['teams']:\n",
    "        s = session['strengths'][id]\n",
    "        print_team(DB['Teams'][id],score = s)\n",
    "def list_games(session_id):\n",
    "    session = DB['Sessions'][session_id]\n",
    "    for id in session['games']:\n",
    "        print_game(DB['Games'][id])\n",
    "\n",
    "        \n",
    "def games_played(team_id,session_id):\n",
    "    def count(g,t):\n",
    "        if DB['Games'][g]['status'] == 1 and t in [DB['Games'][g]['team_1'],DB['Games'][g]['team_2']]:\n",
    "            return 1\n",
    "        else:\n",
    "            return 0\n",
    "        \n",
    "    return sum([count(g_id,team_id) for g_id in DB['Sessions'][session_id]['games']])\n",
    "    \n",
    "def export_results(session_id):\n",
    "    session = DB['Sessions'][session_id]\n",
    "    \n",
    "    \n",
    "    d = sorted([[id,DB['Teams'][id]['name'],\n",
    "          session['strengths'][id],\n",
    "         games_played(id,session_id)] for id in session['teams']],key = lambda x: x[2])\n",
    "\n",
    "    with open(\"\".join([pwd,'/results.csv']), 'wb') as csvfile:\n",
    "\n",
    "        writer = csv.writer(csvfile,delimiter='\\t')\n",
    "    \n",
    "        for line in d:\n",
    "            writer.writerow(line)\n",
    "\n",
    "            \n",
    "def export_games(session_id):\n",
    "    session = DB['Sessions'][session_id]\n",
    "    played_games = [Games[id] for id in session['games'] if Games[id]['status'] == 1]\n",
    "    unplayed_games = [Games[id] for id in session['games'] if not Games[id]['status'] == 1]\n",
    "\n",
    "    pd = [[g['id'],Teams[g['team_1']]['name'],Teams[g['team_2']]['name'],\n",
    "            g['round'],g['scores'][g['team_1']],\n",
    "            g['scores'][g['team_2']]] for g in played_games]    \n",
    "    upd = [[g['id'],Teams[g['team_1']]['name'],Teams[g['team_2']]['name'],\n",
    "            g['round'],'none',\n",
    "            'none'] for g in unplayed_games]    \n",
    "    with open(\"\".join([pwd,'/games.csv']), 'wb') as csvfile:\n",
    "\n",
    "        writer = csv.writer(csvfile,delimiter='\\t')\n",
    "    \n",
    "        for line in pd:\n",
    "           writer.writerow(line)\n",
    "        \n",
    "        for line in upd:\n",
    "           writer.writerow(line)\n",
    "        \n",
    "def export_suggested_games(session_id):\n",
    "    session = DB['Sessions'][session_id]\n",
    "    suggested_games = session['suggestedGames'].values()\n",
    "\n",
    "    pd = [[g['id'],Teams[g['team_1']]['name'],Teams[g['team_2']]['name'],\n",
    "            g['round']] for g in suggested_games]    \n",
    "\n",
    "    with open(\"\".join([pwd,'/suggested_games.csv']), 'wb') as csvfile:\n",
    "\n",
    "        writer = csv.writer(csvfile,delimiter='\\t')\n",
    "    \n",
    "        for line in pd:\n",
    "           writer.writerow(line)\n",
    "        \n",
    "def export_teams_list(session_id):\n",
    "    session = DB['Sessions'][session_id]\n",
    "    teams = [DB['Teams'][id] for id in session['teams']]\n",
    "\n",
    "    pd = [[t['id'],t['name']] for t in teams]    \n",
    "\n",
    "    with open(\"\".join([pwd,'/team_list.csv']),'wb') as csvfile:\n",
    "\n",
    "        writer = csv.writer(csvfile,delimiter='\\t')\n",
    "    \n",
    "        for line in pd:\n",
    "           writer.writerow(line)\n",
    "        \n",
    "\n",
    "\n"
   ]
  },
  {
   "cell_type": "code",
   "execution_count": 166,
   "metadata": {
    "collapsed": false
   },
   "outputs": [],
   "source": [
    "sess_id = 3\n",
    "export_teams_list(sess_id)\n",
    "export_games(sess_id)\n",
    "\n",
    "def compute_strengths():\n",
    "    req.update_strengths(DB,sess_id)\n",
    "    export_results(sess_id)\n",
    "\n",
    "def stage_round(round = 0):\n",
    "    req.get_suggested_games(DB,sess_id,round)\n",
    "    export_suggested_games(sess_id)\n",
    "    print('done')\n",
    "    \n",
    "def update_score(game_id=-1,score_1 = -1, score_2 = -1):\n",
    "    req.update_score(DB,game_id,score_1,score_2)\n",
    "    export_games(sess_id)\n",
    "    print_game(Games[game_id])\n",
    "\n",
    "def add_suggested_games():\n",
    "    req.add_suggested_games(DB,sess_id)\n",
    "    export_games(sess_id)\n",
    "def add_suggested_game(game_id=0):\n",
    "    req.add_game(DB,sess_id,DB['Sessions'][sess_id]['suggestedGames'][game_id])\n",
    "    export_games(sess_id)\n",
    "\n",
    "def add_game(team_1 = 0, team_2 = 0, round = 0):\n",
    "    req.add_game(DB,sess_id,req.new_game(team_1,team_2,round))\n",
    "    export_games(sess_id)\n",
    "\n",
    "def remove_game(game_id=-1):\n",
    "    req.remove_game(DB, sess_id, game_id)\n",
    "    export_games(sess_id)\n",
    "\n",
    "    \n",
    "def check_teams(team_1=0,team_2=0):\n",
    "    games = [Games[id] for id in DB['Sessions'][sess_id]['games']]\n",
    "    for game in games:\n",
    "        if set([game['team_1'],game['team_2']]) == set([team_1,team_2]):\n",
    "            print('played')\n",
    "            return true\n",
    "    print('unplayed')\n",
    "    return False"
   ]
  },
  {
   "cell_type": "code",
   "execution_count": 154,
   "metadata": {
    "collapsed": false
   },
   "outputs": [],
   "source": [
    "#Add a game to the session. Use the team ID to specify the teams\n",
    "add_game(team_1 = 0, team_2 = 27, round = 7 )"
   ]
  },
  {
   "cell_type": "code",
   "execution_count": 168,
   "metadata": {
    "collapsed": false
   },
   "outputs": [
    {
     "name": "stdout",
     "output_type": "stream",
     "text": [
      "u'113:r7  4 -- Mammoth vs Lost Cat -- 0'\n"
     ]
    }
   ],
   "source": [
    "# update the scores in a game. get the game id from the list of games\n",
    "update_score(game_id=113,score_1 =4, score_2 =0)"
   ]
  },
  {
   "cell_type": "code",
   "execution_count": 72,
   "metadata": {
    "collapsed": false
   },
   "outputs": [],
   "source": [
    "# remove a game from the session\n",
    "remove_game(game_id=-1)"
   ]
  },
  {
   "cell_type": "code",
   "execution_count": 169,
   "metadata": {
    "collapsed": false
   },
   "outputs": [
    {
     "name": "stdout",
     "output_type": "stream",
     "text": [
      "[9, 13, 7, 10, 12, 3, 5, 25, 24, 17, 23, 14, 20, 26, 13, 9, 7, 12, 3, 5, 10, 12, 13, 9, 5, 7, 3, 10, 7, 13, 10, 5, 3, 12, 9, 12, 10, 5, 9, 13, 7, 3, 24, 14, 25, 23, 20, 26, 17, 24, 25, 20, 14, 23, 17, 26, 20, 25, 24, 23, 14, 17, 26, 14, 26, 25, 17, 24, 20, 23]\n",
      "[0, 1, 2, 4, 6, 8, 11, 15, 16, 18, 19, 21, 22, 27]\n",
      "running MCMC\n",
      " [-----------------100%-----------------] 100000 of 100000 complete in 49.0 sec"
     ]
    }
   ],
   "source": [
    "# Compute the strengths of the teams. This may take some time.\n",
    "compute_strengths()"
   ]
  },
  {
   "cell_type": "code",
   "execution_count": 170,
   "metadata": {
    "collapsed": false
   },
   "outputs": [
    {
     "name": "stdout",
     "output_type": "stream",
     "text": [
      "[9, 13, 7, 10, 12, 3, 5, 25, 24, 17, 23, 14, 20, 26, 13, 9, 7, 12, 3, 5, 10, 12, 13, 9, 5, 7, 3, 10, 7, 13, 10, 5, 3, 12, 9, 12, 10, 5, 9, 13, 7, 3, 24, 14, 25, 23, 20, 26, 17, 24, 25, 20, 14, 23, 17, 26, 20, 25, 24, 23, 14, 17, 26, 14, 26, 25, 17, 24, 20, 23]\n",
      "[0, 1, 2, 4, 6, 8, 11, 15, 16, 18, 19, 21, 22, 27]\n",
      "running MCMC\n",
      " [-----------------100%-----------------] 100000 of 100000 complete in 49.2 sec[0, 1, 3, 5, 7, 10, 14, 15, 17, 18, 20, 21, 26, 27, 29, 31, 33, 36, 40, 41, 43, 44, 46, 47, 52, 54, 56, 58, 61, 65, 66, 68, 69, 71, 72, 77, 103, 105, 108, 112, 113, 115, 116, 118, 119, 124, 148, 151, 155, 156, 158, 159, 161, 162, 167, 190, 194, 195, 197, 198, 200, 201, 206, 245, 246, 248, 249, 251, 252, 257, 300, 302, 303, 305, 306, 311, 313, 314, 316, 317, 322, 333, 335, 336, 341, 343, 344, 349, 357, 362, 367]\n",
      "[9, 13, 7, 10, 12, 3, 5, 25, 24, 17, 23, 14, 20, 26, 13, 9, 7, 12, 3, 5, 10, 12, 13, 9, 5, 7, 3, 10, 7, 13, 10, 5, 3, 12, 9, 12, 10, 5, 9, 13, 7, 3, 24, 14, 25, 23, 20, 26, 17, 24, 25, 20, 14, 23, 17, 26, 20, 25, 24, 23, 14, 17, 26, 14, 26, 25, 17, 24, 20, 23]\n",
      "[0, 1, 2, 4, 6, 8, 11, 15, 16, 18, 19, 21, 22, 27]\n",
      "[[2, 9], [1, 13], [7, 10], [12, 8], [11, 0], [3, 4], [6, 5], [15, 25], [19, 24], [16, 21], [17, 18], [23, 14], [20, 22], [26, 27], [13, 2], [1, 9], [7, 12], [11, 3], [0, 4], [8, 5], [6, 10], [1, 12], [13, 0], [9, 4], [2, 11], [5, 7], [6, 8], [3, 10], [2, 7], [11, 13], [0, 10], [4, 5], [3, 8], [12, 9], [6, 1], [0, 12], [1, 11], [2, 10], [4, 8], [5, 9], [13, 7], [6, 3], [24, 16], [19, 21], [14, 25], [15, 23], [20, 26], [17, 27], [18, 22], [21, 15], [24, 25], [16, 19], [20, 14], [18, 23], [17, 26], [22, 27], [20, 25], [18, 24], [23, 16], [14, 19], [17, 15], [21, 27], [26, 22], [14, 27], [15, 26], [16, 25], [17, 24], [18, 20], [19, 23], [21, 22], [2, 19], [1, 16], [11, 18], [6, 15], [8, 21], [0, 22], [4, 27], [16, 6], [2, 1], [11, 19], [8, 15], [18, 21], [22, 4], [0, 27]]\n",
      "done\n"
     ]
    }
   ],
   "source": [
    "#Suggest games for the next round. This may take quite some time.\n",
    "stage_round(round  =8)"
   ]
  },
  {
   "cell_type": "code",
   "execution_count": 359,
   "metadata": {
    "collapsed": false
   },
   "outputs": [],
   "source": [
    "#This will add the suggested games to the list of games\n",
    "add_suggested_games()"
   ]
  },
  {
   "cell_type": "code",
   "execution_count": 161,
   "metadata": {
    "collapsed": false
   },
   "outputs": [],
   "source": [
    "#add one of the suggested games to the list of games\n",
    "add_suggested_game(game_id=0)"
   ]
  },
  {
   "cell_type": "code",
   "execution_count": 172,
   "metadata": {
    "collapsed": false
   },
   "outputs": [
    {
     "name": "stdout",
     "output_type": "stream",
     "text": [
      "unplayed\n"
     ]
    },
    {
     "data": {
      "text/plain": [
       "False"
      ]
     },
     "execution_count": 172,
     "metadata": {},
     "output_type": "execute_result"
    }
   ],
   "source": [
    "check_teams(team_1=1,team_2=91)"
   ]
  },
  {
   "cell_type": "code",
   "execution_count": 171,
   "metadata": {
    "collapsed": false
   },
   "outputs": [],
   "source": [
    "saveDB(DB)"
   ]
  },
  {
   "cell_type": "code",
   "execution_count": 134,
   "metadata": {
    "collapsed": false
   },
   "outputs": [],
   "source": [
    "export_results(sess_id)"
   ]
  },
  {
   "cell_type": "code",
   "execution_count": 224,
   "metadata": {
    "collapsed": false
   },
   "outputs": [],
   "source": [
    "export_games(sess_id)"
   ]
  },
  {
   "cell_type": "code",
   "execution_count": 198,
   "metadata": {
    "collapsed": true
   },
   "outputs": [],
   "source": [
    "export_games(1)"
   ]
  },
  {
   "cell_type": "code",
   "execution_count": 126,
   "metadata": {
    "collapsed": false
   },
   "outputs": [
    {
     "data": {
      "text/plain": [
       "<module 'ranking' from 'ranking.py'>"
      ]
     },
     "execution_count": 126,
     "metadata": {},
     "output_type": "execute_result"
    }
   ],
   "source": [
    "import bayes\n",
    "reload(req)\n",
    "reload(bayes)\n",
    "import ranking\n",
    "reload(ranking)"
   ]
  },
  {
   "cell_type": "code",
   "execution_count": 165,
   "metadata": {
    "collapsed": false,
    "scrolled": true
   },
   "outputs": [
    {
     "name": "stdout",
     "output_type": "stream",
     "text": [
      "unplayed\n"
     ]
    },
    {
     "ename": "NameError",
     "evalue": "global name 'false' is not defined",
     "output_type": "error",
     "traceback": [
      "\u001b[1;31m---------------------------------------------------------------------------\u001b[0m",
      "\u001b[1;31mNameError\u001b[0m                                 Traceback (most recent call last)",
      "\u001b[1;32m<ipython-input-165-dcad533369b0>\u001b[0m in \u001b[0;36m<module>\u001b[1;34m()\u001b[0m\n\u001b[1;32m----> 1\u001b[1;33m \u001b[0mcheck_teams\u001b[0m\u001b[1;33m(\u001b[0m\u001b[0mteam_1\u001b[0m\u001b[1;33m=\u001b[0m\u001b[1;36m19\u001b[0m\u001b[1;33m,\u001b[0m\u001b[0mteam_2\u001b[0m\u001b[1;33m=\u001b[0m\u001b[1;36m1\u001b[0m\u001b[1;33m)\u001b[0m\u001b[1;33m\u001b[0m\u001b[0m\n\u001b[0m",
      "\u001b[1;32m<ipython-input-164-cad8943b4ce4>\u001b[0m in \u001b[0;36mcheck_teams\u001b[1;34m(team_1, team_2)\u001b[0m\n\u001b[0;32m     40\u001b[0m             \u001b[1;32mreturn\u001b[0m \u001b[0mtrue\u001b[0m\u001b[1;33m\u001b[0m\u001b[0m\n\u001b[0;32m     41\u001b[0m     \u001b[1;32mprint\u001b[0m\u001b[1;33m(\u001b[0m\u001b[1;34m'unplayed'\u001b[0m\u001b[1;33m)\u001b[0m\u001b[1;33m\u001b[0m\u001b[0m\n\u001b[1;32m---> 42\u001b[1;33m     \u001b[1;32mreturn\u001b[0m \u001b[0mfalse\u001b[0m\u001b[1;33m\u001b[0m\u001b[0m\n\u001b[0m",
      "\u001b[1;31mNameError\u001b[0m: global name 'false' is not defined"
     ]
    }
   ],
   "source": []
  },
  {
   "cell_type": "code",
   "execution_count": 42,
   "metadata": {
    "collapsed": false
   },
   "outputs": [],
   "source": [
    "DB['Sessions'][3]['games'] = DB['Sessions'][1]['games'] + DB ['Sessions'][4]['games']\n",
    "DB['Sessions'][4]['games'] = DB['Sessions'][1]['games'] + DB ['Sessions'][4]['games']\n",
    "\n",
    "DB['Sessions'][3]['teams'] = [2,19,1,16,11,18,6,15,8,21,0,22,4,27]\n",
    "DB['Sessions'][4]['teams'] = [24,13,14,9,25,7,17,12,23,3,20,10,26,5]"
   ]
  },
  {
   "cell_type": "code",
   "execution_count": 141,
   "metadata": {
    "collapsed": false
   },
   "outputs": [
    {
     "name": "stdout",
     "output_type": "stream",
     "text": [
      "[9, 13, 7, 10, 12, 3, 5, 25, 24, 17, 23, 14, 20, 26, 13, 9, 7, 12, 3, 5, 10, 12, 13, 9, 5, 7, 3, 10, 7, 13, 10, 5, 3, 12, 9, 12, 10, 5, 9, 13, 7, 3, 24, 14, 25, 23, 20, 26, 17, 24, 25, 20, 14, 23, 17, 26, 20, 25, 24, 23, 14, 17, 26, 14, 26, 25, 17, 24, 20, 23]\n",
      "[0, 1, 2, 4, 6, 8, 11, 15, 16, 18, 19, 21, 22, 27]\n"
     ]
    }
   ],
   "source": [
    "import bayes\n",
    "import ranking\n",
    "\n",
    "teams = bayes.make_teams(DB['Sessions'][3]['teams'])\n",
    "sess = bayes.init_session(teams)\n",
    "sess.games = bayes.mcmc_games([DB['Games'][id] for id in DB['Sessions'][3]['games']],teams)\n"
   ]
  },
  {
   "cell_type": "code",
   "execution_count": 142,
   "metadata": {
    "collapsed": false
   },
   "outputs": [
    {
     "name": "stdout",
     "output_type": "stream",
     "text": [
      "running MCMC\n",
      " [-----------------100%-----------------] 100000 of 100000 complete in 48.2 sec"
     ]
    }
   ],
   "source": [
    "sess.fit_model()\n"
   ]
  },
  {
   "cell_type": "code",
   "execution_count": 143,
   "metadata": {
    "collapsed": false
   },
   "outputs": [
    {
     "name": "stdout",
     "output_type": "stream",
     "text": [
      "[0, 1, 3, 5, 7, 10, 14, 15, 17, 18, 20, 21, 26, 27, 29, 31, 33, 36, 40, 41, 43, 44, 46, 47, 52, 54, 56, 58, 61, 65, 66, 68, 69, 71, 72, 77, 103, 105, 108, 112, 113, 115, 116, 118, 119, 124, 148, 151, 155, 156, 158, 159, 161, 162, 167, 190, 194, 195, 197, 198, 200, 201, 206, 245, 246, 248, 249, 251, 252, 257, 300, 302, 303, 305, 306, 311, 313, 314, 316, 317, 322, 333, 335, 336, 341, 343, 344, 349, 357, 362, 367]\n"
     ]
    }
   ],
   "source": [
    "kl = sess.kl_info_vec()\n"
   ]
  },
  {
   "cell_type": "code",
   "execution_count": 308,
   "metadata": {
    "collapsed": false
   },
   "outputs": [
    {
     "data": {
      "text/plain": [
       "array([-1.62747166,  0.6548901 , -0.26899063, -1.81805333, -2.54009176,\n",
       "       -1.26907531,  0.9887355 ,  1.17901925,  3.02039566,  0.43067404,\n",
       "       -2.61601751, -1.2592841 ,  2.0404588 ,  3.08481095])"
      ]
     },
     "execution_count": 308,
     "metadata": {},
     "output_type": "execute_result"
    }
   ],
   "source": [
    "sess.stage_round(3,kl)"
   ]
  },
  {
   "cell_type": "code",
   "execution_count": 145,
   "metadata": {
    "collapsed": false
   },
   "outputs": [
    {
     "data": {
      "text/plain": [
       "[{'t1': 0, 't2': 1, 'weight': 0.043488434978840917},\n",
       " {'t1': 0, 't2': 2, 'weight': 0.052911956334933397},\n",
       " {'t1': 0, 't2': 4, 'weight': 1.423212044740469},\n",
       " {'t1': 0, 't2': 6, 'weight': 0.47233959100775591},\n",
       " {'t1': 0, 't2': 8, 'weight': 0.97590125420481799},\n",
       " {'t1': 0, 't2': 11, 'weight': 0.063336122891256785},\n",
       " {'t1': 0, 't2': 15, 'weight': 1.4539676426516679},\n",
       " {'t1': 0, 't2': 16, 'weight': 0.59508049599408563},\n",
       " {'t1': 0, 't2': 18, 'weight': 0.5797376045887348},\n",
       " {'t1': 0, 't2': 19, 'weight': 0.3013815259912529},\n",
       " {'t1': 0, 't2': 21, 'weight': 1.6675247396431692},\n",
       " {'t1': 0, 't2': 22, 'weight': 1.5773338307057236},\n",
       " {'t1': 0, 't2': 27, 'weight': 2.1925986893425509},\n",
       " {'t1': 1, 't2': 2, 'weight': 1.8153443317916067},\n",
       " {'t1': 1, 't2': 4, 'weight': 0.29056747308138098},\n",
       " {'t1': 1, 't2': 6, 'weight': 0.51421833902599179},\n",
       " {'t1': 1, 't2': 8, 'weight': 0.11852944873525839},\n",
       " {'t1': 1, 't2': 11, 'weight': 0.52874216984817757},\n",
       " {'t1': 1, 't2': 15, 'weight': 0.13905401374219561},\n",
       " {'t1': 1, 't2': 16, 'weight': 0.16178859476576424},\n",
       " {'t1': 1, 't2': 18, 'weight': 0.18201377132342067},\n",
       " {'t1': 1, 't2': 19, 'weight': 0.26241843529167541},\n",
       " {'t1': 1, 't2': 21, 'weight': 0.13479531397834421},\n",
       " {'t1': 1, 't2': 22, 'weight': 0.046270211818926654},\n",
       " {'t1': 1, 't2': 27, 'weight': 0.094483235406692234},\n",
       " {'t1': 2, 't2': 4, 'weight': 0.8049880040776709},\n",
       " {'t1': 2, 't2': 6, 'weight': 1.2813004755128032},\n",
       " {'t1': 2, 't2': 8, 'weight': 0.43546844017058906},\n",
       " {'t1': 2, 't2': 11, 'weight': 0.83072412647840599},\n",
       " {'t1': 2, 't2': 15, 'weight': 0.54837883353445083},\n",
       " {'t1': 2, 't2': 16, 'weight': 0.59480609519388716},\n",
       " {'t1': 2, 't2': 18, 'weight': 0.67404251140058635},\n",
       " {'t1': 2, 't2': 19, 'weight': 0.51259296225731132},\n",
       " {'t1': 2, 't2': 21, 'weight': 0.43368746607743658},\n",
       " {'t1': 2, 't2': 22, 'weight': 0.15848866524890859},\n",
       " {'t1': 2, 't2': 27, 'weight': 0.2571795477071257},\n",
       " {'t1': 4, 't2': 6, 'weight': 0.52476751394239196},\n",
       " {'t1': 4, 't2': 8, 'weight': 0.84764753015945971},\n",
       " {'t1': 4, 't2': 11, 'weight': 0.67376324581952662},\n",
       " {'t1': 4, 't2': 15, 'weight': 1.3680120585303839},\n",
       " {'t1': 4, 't2': 16, 'weight': 1.1841422003820239},\n",
       " {'t1': 4, 't2': 18, 'weight': 1.0842684627475032},\n",
       " {'t1': 4, 't2': 19, 'weight': 1.1654223856310626},\n",
       " {'t1': 4, 't2': 21, 'weight': 1.8531578593301754},\n",
       " {'t1': 4, 't2': 22, 'weight': 1.2380961263416159},\n",
       " {'t1': 4, 't2': 27, 'weight': 0.3434561052342775},\n",
       " {'t1': 6, 't2': 8, 'weight': 0.66939103856217574},\n",
       " {'t1': 6, 't2': 11, 'weight': 1.1148616113049092},\n",
       " {'t1': 6, 't2': 15, 'weight': 0.72490638696670251},\n",
       " {'t1': 6, 't2': 16, 'weight': 1.5877490786877133},\n",
       " {'t1': 6, 't2': 18, 'weight': 1.3971268429908776},\n",
       " {'t1': 6, 't2': 19, 'weight': 1.6185667755511526},\n",
       " {'t1': 6, 't2': 21, 'weight': 1.4591369652412496},\n",
       " {'t1': 6, 't2': 22, 'weight': 0.29021270020953693},\n",
       " {'t1': 6, 't2': 27, 'weight': 0.1402921468794549},\n",
       " {'t1': 8, 't2': 11, 'weight': 0.40647189800761341},\n",
       " {'t1': 8, 't2': 15, 'weight': 1.2545495406988194},\n",
       " {'t1': 8, 't2': 16, 'weight': 1.0315403551745224},\n",
       " {'t1': 8, 't2': 18, 'weight': 0.97453042899028874},\n",
       " {'t1': 8, 't2': 19, 'weight': 0.8455548434708775},\n",
       " {'t1': 8, 't2': 21, 'weight': 1.6259828506423109},\n",
       " {'t1': 8, 't2': 22, 'weight': 0.80965484499444651},\n",
       " {'t1': 8, 't2': 27, 'weight': 0.52346290512016802},\n",
       " {'t1': 11, 't2': 15, 'weight': 0.44950686967454612},\n",
       " {'t1': 11, 't2': 16, 'weight': 0.62648897387166746},\n",
       " {'t1': 11, 't2': 18, 'weight': 0.51264142188268602},\n",
       " {'t1': 11, 't2': 19, 'weight': 0.75082021477972694},\n",
       " {'t1': 11, 't2': 21, 'weight': 0.57347853687958095},\n",
       " {'t1': 11, 't2': 22, 'weight': 0.11502246375523573},\n",
       " {'t1': 11, 't2': 27, 'weight': 0.21893692007802779},\n",
       " {'t1': 15, 't2': 16, 'weight': 0.66095926168568964},\n",
       " {'t1': 15, 't2': 18, 'weight': 0.56451338082605451},\n",
       " {'t1': 15, 't2': 19, 'weight': 0.74290374098497525},\n",
       " {'t1': 15, 't2': 21, 'weight': 0.93723339299792485},\n",
       " {'t1': 15, 't2': 22, 'weight': 0.51160396378476358},\n",
       " {'t1': 15, 't2': 27, 'weight': 0.40692538760804187},\n",
       " {'t1': 16, 't2': 18, 'weight': 0.86107306392363014},\n",
       " {'t1': 16, 't2': 19, 'weight': 0.71065019134103657},\n",
       " {'t1': 16, 't2': 21, 'weight': 0.79327650657093773},\n",
       " {'t1': 16, 't2': 22, 'weight': 0.2344318812840589},\n",
       " {'t1': 16, 't2': 27, 'weight': 0.41406408548251683},\n",
       " {'t1': 18, 't2': 19, 'weight': 0.84920405388445852},\n",
       " {'t1': 18, 't2': 21, 'weight': 0.90899475326098278},\n",
       " {'t1': 18, 't2': 22, 'weight': 0.16313268368972977},\n",
       " {'t1': 18, 't2': 27, 'weight': 0.3370826860012075},\n",
       " {'t1': 19, 't2': 21, 'weight': 0.70963874709329078},\n",
       " {'t1': 19, 't2': 22, 'weight': 0.27484533827850965},\n",
       " {'t1': 19, 't2': 27, 'weight': 0.53138843713127626},\n",
       " {'t1': 21, 't2': 22, 'weight': 0.59353456786817693},\n",
       " {'t1': 21, 't2': 27, 'weight': 0.69595070253776337},\n",
       " {'t1': 22, 't2': 27, 'weight': 0.99661749611304895}]"
      ]
     },
     "execution_count": 145,
     "metadata": {},
     "output_type": "execute_result"
    }
   ],
   "source": [
    "kl"
   ]
  },
  {
   "cell_type": "code",
   "execution_count": 272,
   "metadata": {
    "collapsed": false
   },
   "outputs": [
    {
     "data": {
      "text/plain": [
       "5"
      ]
     },
     "execution_count": 272,
     "metadata": {},
     "output_type": "execute_result"
    }
   ],
   "source": [
    "sess.games[1].teams[0].id"
   ]
  },
  {
   "cell_type": "code",
   "execution_count": 116,
   "metadata": {
    "collapsed": false
   },
   "outputs": [
    {
     "data": {
      "text/plain": [
       "[2, 9]"
      ]
     },
     "execution_count": 116,
     "metadata": {},
     "output_type": "execute_result"
    }
   ],
   "source": [
    "g= sess.games[0]\n",
    "[t.id for t in g.teams]"
   ]
  },
  {
   "cell_type": "code",
   "execution_count": 328,
   "metadata": {
    "collapsed": false
   },
   "outputs": [
    {
     "name": "stdout",
     "output_type": "stream",
     "text": [
      "running MCMC\n",
      " [-----------------100%-----------------] 100000 of 100000 complete in 30.1 sec"
     ]
    }
   ],
   "source": [
    "x=req.update_strengths(DB,2)"
   ]
  },
  {
   "cell_type": "code",
   "execution_count": 329,
   "metadata": {
    "collapsed": false
   },
   "outputs": [
    {
     "data": {
      "text/plain": [
       "{0: 1.240902108482105,\n",
       " 1: -1.7313163712697726,\n",
       " 2: -2.8765658394250044,\n",
       " 3: 1.1288194903466013,\n",
       " 4: 1.4651319018689322,\n",
       " 5: 2.4161783699511941,\n",
       " 6: 0.14419265791853592,\n",
       " 7: -0.053151918012899063,\n",
       " 8: 0.96596172161713834,\n",
       " 9: -1.1502022887057295,\n",
       " 10: 1.2421464553926431,\n",
       " 11: -1.0857910719168931,\n",
       " 12: 0.40310069577556018,\n",
       " 13: -2.1094059120224267,\n",
       " 14: 0,\n",
       " 15: 0,\n",
       " 16: 0,\n",
       " 17: 0,\n",
       " 18: 0,\n",
       " 19: 0,\n",
       " 20: 0,\n",
       " 21: 0,\n",
       " 22: 0,\n",
       " 23: 0,\n",
       " 24: 0,\n",
       " 25: 0,\n",
       " 26: 0,\n",
       " 27: 0}"
      ]
     },
     "execution_count": 329,
     "metadata": {},
     "output_type": "execute_result"
    }
   ],
   "source": [
    "x['Sessions'][2]['strengths']"
   ]
  },
  {
   "cell_type": "code",
   "execution_count": 115,
   "metadata": {
    "collapsed": false
   },
   "outputs": [],
   "source": [
    "DB['Sessions'][4]['games'] = list(set(DB['Sessions'][4]['games']\n",
    "                                 + DB['Sessions'][1]['games']\n",
    "                                 + DB ['Sessions'][2]['games']))"
   ]
  },
  {
   "cell_type": "code",
   "execution_count": 2,
   "metadata": {
    "collapsed": false
   },
   "outputs": [
    {
     "data": {
      "text/plain": [
       "'/home/ubuntu/bayesian/python'"
      ]
     },
     "execution_count": 2,
     "metadata": {},
     "output_type": "execute_result"
    }
   ],
   "source": [
    "pwd"
   ]
  },
  {
   "cell_type": "code",
   "execution_count": 16,
   "metadata": {
    "collapsed": true
   },
   "outputs": [],
   "source": [
    "\n",
    "DB['Sessions'][3]['teams'] = [2,19,1,16,11,18,6,15,8,21,0,22,4,27]\n",
    "DB['Sessions'][4]['teams'] = [24,13,14,9,25,7,17,12,23,3,20,10,26,5]\n",
    "DB['Sessions'][3]['strengths'] = {k:0.0 for k in DB['Sessions'][3]['teams']}\n",
    "DB['Sessions'][4]['strengths'] = {k:0.0 for k in DB['Sessions'][4]['teams']}"
   ]
  },
  {
   "cell_type": "code",
   "execution_count": 144,
   "metadata": {
    "collapsed": true
   },
   "outputs": [],
   "source": [
    "saveDB(DB)"
   ]
  },
  {
   "cell_type": "code",
   "execution_count": 51,
   "metadata": {
    "collapsed": false,
    "scrolled": true
   },
   "outputs": [
    {
     "name": "stdout",
     "output_type": "stream",
     "text": [
      "u'2: Golem  strength = 0.0'\n",
      "u'19: Beware  strength = 0.0'\n",
      "u'1: Wabbit  strength = 0.0'\n",
      "u'16: The Jamesons  strength = 0.0'\n",
      "u'11: Triple Fisted  strength = 0.0'\n",
      "u'18: Mammoth  strength = 0.0'\n",
      "u'6: Gentlemans  strength = 0.0'\n",
      "u'15: The Royales with Cheese  strength = 0.0'\n",
      "u'8: Rusty Spoons  strength = 0.0'\n",
      "u'21: Lost Cat  strength = 0.0'\n",
      "u'0: Ball Bangers  strength = 0.0'\n",
      "u'22: Mighty Bisons  strength = 0.0'\n",
      "u'4: JKL  strength = 0.0'\n",
      "u\"27: The Caracal's  strength = 0.0\"\n"
     ]
    }
   ],
   "source": [
    "list_teams(3)"
   ]
  },
  {
   "cell_type": "code",
   "execution_count": null,
   "metadata": {
    "collapsed": false
   },
   "outputs": [],
   "source": []
  },
  {
   "cell_type": "code",
   "execution_count": 19,
   "metadata": {
    "collapsed": false
   },
   "outputs": [
    {
     "name": "stdout",
     "output_type": "stream",
     "text": [
      "u'24: Three Boys  strength = 0.0'\n",
      "u'13: Pete un Plomb  strength = 0.0'\n",
      "u'14: Kitten Pile Crush  strength = 0.0'\n",
      "u'9: Daft Monks  strength = 0.0'\n",
      "u'25: Gobshites  strength = 0.0'\n",
      "u'7: Sons of Odin  strength = 0.0'\n",
      "u'17: Elf Death  strength = 0.0'\n",
      "u'12: With Fire  strength = 0.0'\n",
      "u'23: Sometimes  strength = 0.0'\n",
      "u'3: The Edinburgh Badgers  strength = 0.0'\n",
      "u'20: Two and a half Men  strength = 0.0'\n",
      "u'10: The Budgie Smugglers  strength = 0.0'\n",
      "u'26: Kumaras bravas  strength = 0.0'\n",
      "u'5: The Inseminators  strength = 0.0'\n"
     ]
    }
   ],
   "source": [
    "list_teams(4)"
   ]
  },
  {
   "cell_type": "code",
   "execution_count": 55,
   "metadata": {
    "collapsed": false
   },
   "outputs": [],
   "source": [
    "export_games(4)"
   ]
  },
  {
   "cell_type": "code",
   "execution_count": 104,
   "metadata": {
    "collapsed": false
   },
   "outputs": [
    {
     "data": {
      "text/plain": [
       "{u'games': [0,\n",
       "  1,\n",
       "  2,\n",
       "  3,\n",
       "  4,\n",
       "  5,\n",
       "  6,\n",
       "  16,\n",
       "  17,\n",
       "  18,\n",
       "  19,\n",
       "  20,\n",
       "  21,\n",
       "  22,\n",
       "  24,\n",
       "  25,\n",
       "  26,\n",
       "  27,\n",
       "  28,\n",
       "  29,\n",
       "  30,\n",
       "  31,\n",
       "  32,\n",
       "  33,\n",
       "  34,\n",
       "  35,\n",
       "  36,\n",
       "  37,\n",
       "  38,\n",
       "  39,\n",
       "  40,\n",
       "  42,\n",
       "  43,\n",
       "  45,\n",
       "  46,\n",
       "  102,\n",
       "  103,\n",
       "  104,\n",
       "  105,\n",
       "  106,\n",
       "  107,\n",
       "  108],\n",
       " u'id': 3,\n",
       " u'name': u'Wildcard: Day 2 AM',\n",
       " u'strengths': {0: 0.0,\n",
       "  1: 0.0,\n",
       "  2: 0.0,\n",
       "  4: 0.0,\n",
       "  6: 0.0,\n",
       "  8: 0.0,\n",
       "  11: 0.0,\n",
       "  15: 0.0,\n",
       "  16: 0.0,\n",
       "  18: 0.0,\n",
       "  19: 0.0,\n",
       "  21: 0.0,\n",
       "  22: 0.0,\n",
       "  27: 0.0},\n",
       " u'suggestedGames': [],\n",
       " u'teams': [2, 19, 1, 16, 11, 18, 6, 15, 8, 21, 0, 22, 4, 27],\n",
       " u'type': u'swiss'}"
      ]
     },
     "execution_count": 104,
     "metadata": {},
     "output_type": "execute_result"
    }
   ],
   "source": [
    "session['games']"
   ]
  },
  {
   "cell_type": "code",
   "execution_count": null,
   "metadata": {
    "collapsed": true
   },
   "outputs": [],
   "source": []
  }
 ],
 "metadata": {
  "kernelspec": {
   "display_name": "Python 2",
   "language": "python",
   "name": "python2"
  },
  "language_info": {
   "codemirror_mode": {
    "name": "ipython",
    "version": 2
   },
   "file_extension": ".py",
   "mimetype": "text/x-python",
   "name": "python",
   "nbconvert_exporter": "python",
   "pygments_lexer": "ipython2",
   "version": "2.7.6"
  }
 },
 "nbformat": 4,
 "nbformat_minor": 0
}
