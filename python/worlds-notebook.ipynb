{
 "cells": [
  {
   "cell_type": "code",
   "execution_count": 1,
   "metadata": {
    "collapsed": false
   },
   "outputs": [],
   "source": [
    "import database\n",
    "import req\n",
    "import pprint\n",
    "import json\n",
    "import os\n",
    "import csv\n",
    "pwd = os.getcwd()\n",
    "pp = pprint.PrettyPrinter(indent=4)\n",
    "\n",
    "dbsavefile = '/DBsave.json'\n",
    "#DB = database.DB_init()\n",
    "\n",
    "def saveDB(db):\n",
    "    with open(\"\".join([pwd,dbsavefile]), 'wb') as jsonfile: \n",
    "            json.dump(db,jsonfile)\n",
    "\n",
    "def num(s):\n",
    "    try:\n",
    "        return int(s)\n",
    "    except ValueError:\n",
    "        try:\n",
    "            return float(s)\n",
    "        except ValueError:\n",
    "            return s\n",
    "\n",
    "def d_or_v(val):\n",
    "    if isinstance(val,dict):\n",
    "        return key_to_int(val)\n",
    "    else:\n",
    "        return val\n",
    "   \n",
    "def key_to_int(d):\n",
    "    return {num(k):d_or_v(v) for k,v in d.iteritems()}   \n",
    "\n",
    "def loadDB():\n",
    "    with open(\"\".join([pwd,dbsavefile]), 'rb') as jsonfile: \n",
    "        db = json.load(jsonfile)\n",
    "    return key_to_int(db)\n",
    "\n",
    "    \n",
    "\n",
    "DB=loadDB()\n",
    "pprint = pp.pprint\n",
    "Teams = DB['Teams']\n",
    "Games = DB['Games']\n",
    "\n"
   ]
  },
  {
   "cell_type": "code",
   "execution_count": 2,
   "metadata": {
    "collapsed": false
   },
   "outputs": [],
   "source": [
    "\n",
    "def print_team(d,score = 0.0):\n",
    "    pprint(''.join([str(d['id']),': ',d['name'],'  strength = ',str(score)]))\n",
    "\n",
    "def print_game(d):\n",
    "    if d['status']==1:\n",
    "        pprint(\"\".join([str(d['id']),':', 'r', str(d['round']),'  ',\n",
    "                        str(d['scores'][d['team_1']]),' -- ',\n",
    "                        DB['Teams'][d['team_1']]['name'],\n",
    "                        ' vs ', DB['Teams'][d['team_2']]['name'], ' -- ',\n",
    "                        str(d['scores'][d['team_2']])]))\n",
    "    else:\n",
    "        pprint(\"\".join([str(d['id']),':','r',str(d['round']),'  ',\n",
    "                DB['Teams'][d['team_1']]['name'],\n",
    "                ' vs ', DB['Teams'][d['team_2']]['name']]))\n",
    "def list_teams(session_id):\n",
    "    session = DB['Sessions'][session_id]\n",
    "    for id in session['teams']:\n",
    "        s = session['strengths'][id]\n",
    "        print_team(DB['Teams'][id],score = s)\n",
    "def list_games(session_id):\n",
    "    session = DB['Sessions'][session_id]\n",
    "    for id in session['games']:\n",
    "        print_game(DB['Games'][id])\n",
    "\n",
    "        \n",
    "def games_played(team_id,session_id):\n",
    "    def count(g,t):\n",
    "        if DB['Games'][g]['status'] == 1 and t in [DB['Games'][g]['team_1'],DB['Games'][g]['team_2']]:\n",
    "            return 1\n",
    "        else:\n",
    "            return 0\n",
    "        \n",
    "    return sum([count(g_id,team_id) for g_id in DB['Sessions'][session_id]['games']])\n",
    "    \n",
    "def export_results(session_id):\n",
    "    session = DB['Sessions'][session_id]\n",
    "    s = session['strengths']\n",
    "    \n",
    "    d = sorted([[id,DB['Teams'][id]['name'],\n",
    "          \"{0:.2f}\".format(session['strengths'][id]),\n",
    "         games_played(id,session_id)] for id in session['teams']],key = lambda x: s[x[0]])\n",
    "\n",
    "    with open(\"\".join([pwd,'/results.csv']), 'wb') as csvfile:\n",
    "\n",
    "        writer = csv.writer(csvfile,delimiter='\\t')\n",
    "    \n",
    "        for line in d:\n",
    "            writer.writerow(line)\n",
    "\n",
    "            \n",
    "def export_games(session_id):\n",
    "    session = DB['Sessions'][session_id]\n",
    "    played_games = [Games[id] for id in session['games'] if Games[id]['status'] == 1]\n",
    "    unplayed_games = [Games[id] for id in session['games'] if not Games[id]['status'] == 1]\n",
    "\n",
    "    pd = [[g['id'],Teams[g['team_1']]['name'],Teams[g['team_2']]['name'],\n",
    "            g['round'],g['scores'][g['team_1']],\n",
    "            g['scores'][g['team_2']]] for g in played_games]    \n",
    "    upd = [[g['id'],Teams[g['team_1']]['name'],Teams[g['team_2']]['name'],\n",
    "            g['round'],'none',\n",
    "            'none'] for g in unplayed_games]    \n",
    "    with open(\"\".join([pwd,'/games.csv']), 'wb') as csvfile:\n",
    "\n",
    "        writer = csv.writer(csvfile,delimiter='\\t')\n",
    "    \n",
    "        for line in pd:\n",
    "           writer.writerow(line)\n",
    "        \n",
    "        for line in upd:\n",
    "           writer.writerow(line)\n",
    "        \n",
    "def export_suggested_games(session_id):\n",
    "    session = DB['Sessions'][session_id]\n",
    "    suggested_games = session['suggestedGames'].values()\n",
    "\n",
    "    pd = [[g['id'],Teams[g['team_1']]['name'],Teams[g['team_2']]['name'],\n",
    "            g['round']] for g in suggested_games]    \n",
    "\n",
    "    with open(\"\".join([pwd,'/suggested_games.csv']), 'wb') as csvfile:\n",
    "\n",
    "        writer = csv.writer(csvfile,delimiter='\\t')\n",
    "    \n",
    "        for line in pd:\n",
    "           writer.writerow(line)\n",
    "        \n",
    "def export_teams_list(session_id):\n",
    "    session = DB['Sessions'][session_id]\n",
    "    teams = [DB['Teams'][id] for id in session['teams']]\n",
    "\n",
    "    pd = [[t['id'],t['name']] for t in teams]    \n",
    "\n",
    "    with open(\"\".join([pwd,'/team_list.csv']),'wb') as csvfile:\n",
    "\n",
    "        writer = csv.writer(csvfile,delimiter='\\t')\n",
    "    \n",
    "        for line in pd:\n",
    "           writer.writerow(line)\n",
    "        \n",
    "\n",
    "\n"
   ]
  },
  {
   "cell_type": "code",
   "execution_count": 84,
   "metadata": {
    "collapsed": false
   },
   "outputs": [],
   "source": [
    "sess_id = 6\n",
    "export_teams_list(sess_id)\n",
    "export_games(sess_id)\n",
    "export_results(sess_id)\n",
    "\n",
    "def compute_strengths():\n",
    "    req.update_strengths(DB,sess_id)\n",
    "    export_results(sess_id)\n",
    "\n",
    "def stage_round(round = 0):\n",
    "    req.get_suggested_games(DB,sess_id,round)\n",
    "    export_suggested_games(sess_id)\n",
    "    print('done')\n",
    "    \n",
    "def update_score(game_id=-1,score_1 = -1, score_2 = -1):\n",
    "    req.update_score(DB,game_id,score_1,score_2)\n",
    "    export_games(sess_id)\n",
    "    print_game(Games[game_id])\n",
    "\n",
    "def add_suggested_games():\n",
    "    req.add_suggested_games(DB,sess_id)\n",
    "    export_games(sess_id)\n",
    "def add_suggested_game(game_id=0):\n",
    "    req.add_game(DB,sess_id,DB['Sessions'][sess_id]['suggestedGames'][game_id])\n",
    "    export_games(sess_id)\n",
    "\n",
    "def add_game(team_1 = 0, team_2 = 0, round = 0):\n",
    "    req.add_game(DB,sess_id,req.new_game(team_1,team_2,round))\n",
    "    export_games(sess_id)\n",
    "\n",
    "def remove_game(game_id=-1):\n",
    "    req.remove_game(DB, sess_id, game_id)\n",
    "    export_games(sess_id)\n",
    "\n",
    "    \n",
    "def check_teams(team_1=0,team_2=0):\n",
    "    games = [Games[id] for id in DB['Sessions'][sess_id]['games']]\n",
    "    for game in games:\n",
    "        if set([game['team_1'],game['team_2']]) == set([team_1,team_2]):\n",
    "            print('played')\n",
    "            return True\n",
    "    print('unplayed')\n",
    "    return False"
   ]
  },
  {
   "cell_type": "code",
   "execution_count": 48,
   "metadata": {
    "collapsed": false
   },
   "outputs": [],
   "source": [
    "#Add a game to the session. Use the team ID to specify the teams\n",
    "add_game(team_1 = 35, team_2 = 16, round = 4)"
   ]
  },
  {
   "cell_type": "code",
   "execution_count": 473,
   "metadata": {
    "collapsed": false
   },
   "outputs": [
    {
     "name": "stdout",
     "output_type": "stream",
     "text": [
      "unplayed\n"
     ]
    },
    {
     "data": {
      "text/plain": [
       "False"
      ]
     },
     "execution_count": 473,
     "metadata": {},
     "output_type": "execute_result"
    }
   ],
   "source": [
    "check_teams(team_1=11,team_2=25)"
   ]
  },
  {
   "cell_type": "code",
   "execution_count": 149,
   "metadata": {
    "collapsed": false
   },
   "outputs": [
    {
     "name": "stdout",
     "output_type": "stream",
     "text": [
      "u'228:r4  3 -- Call Me Daddy vs Sentinels -- 1'\n"
     ]
    }
   ],
   "source": [
    "# update the scores in a game. get the game id from the list of games\n",
    "update_score(game_id=228,score_1 =3, score_2 =1)"
   ]
  },
  {
   "cell_type": "code",
   "execution_count": 53,
   "metadata": {
    "collapsed": false
   },
   "outputs": [],
   "source": [
    "# remove a game from the session\n",
    "remove_game(game_id=194)"
   ]
  },
  {
   "cell_type": "code",
   "execution_count": 148,
   "metadata": {
    "collapsed": false
   },
   "outputs": [
    {
     "name": "stdout",
     "output_type": "stream",
     "text": [
      "[]\n",
      "[1, 11, 9, 42, 43, 44, 45, 46, 47, 49, 50, 51, 52, 53, 54, 55, 24, 25]\n",
      "running MCMC\n",
      " [-----------------100%-----------------] 100000 of 100000 complete in 30.3 sec"
     ]
    }
   ],
   "source": [
    "# Compute the strengths of the teams. This may take some time.\n",
    "compute_strengths()"
   ]
  },
  {
   "cell_type": "code",
   "execution_count": 150,
   "metadata": {
    "collapsed": false
   },
   "outputs": [
    {
     "name": "stdout",
     "output_type": "stream",
     "text": [
      "[]\n",
      "[1, 11, 9, 42, 43, 44, 45, 46, 47, 49, 50, 51, 52, 53, 54, 55, 24, 25]\n",
      "running MCMC\n",
      " [-----------------100%-----------------] 100000 of 100000 complete in 30.6 sec[0, 1, 2, 3, 4, 5, 6, 7, 8, 9, 10, 11, 12, 13, 14, 15, 16, 17, 18, 19, 20, 21, 22, 23, 24, 25, 26, 27, 28, 29, 30, 31, 32, 33, 34, 35, 36, 37, 38, 39, 40, 41, 42, 43, 44, 45, 46, 47, 48, 49, 50, 51, 52, 53, 54, 55, 56, 57, 58, 59, 60, 61, 62, 63, 64, 65, 66, 67, 68, 69, 70, 71, 72, 73, 74, 75, 76, 77, 78, 79, 80, 81, 82, 83, 84, 85, 86, 87, 88, 89, 90, 91, 92, 93, 94, 95, 96, 97, 98, 99, 100, 101, 102, 103, 104, 105, 106, 107, 108, 109, 110, 111, 112, 113, 114, 115, 116, 117, 118, 119, 120, 121, 122, 123, 124, 125, 126, 127, 128, 129, 130, 131, 132, 133, 134, 135, 136, 137, 138, 139, 140, 141, 142, 143, 144, 145, 146, 147, 148, 149, 150, 151, 152]\n",
      "[]\n",
      "[1, 11, 9, 42, 43, 44, 45, 46, 47, 49, 50, 51, 52, 53, 54, 55, 24, 25]\n",
      "[[42, 44], [50, 52], [45, 55], [53, 1], [51, 9], [43, 24], [46, 25], [47, 54], [11, 49], [1, 11], [9, 46], [42, 45], [43, 54], [44, 55], [47, 24], [49, 52], [50, 51], [53, 25], [1, 45], [11, 54], [9, 25], [42, 50], [43, 53], [44, 49], [46, 55], [47, 51], [52, 24], [1, 47], [43, 55], [9, 24], [42, 52], [11, 46], [44, 54], [45, 50], [49, 25], [51, 53]]\n",
      "[(1, 9, {'weight': 0.83742730596612924}), (1, 42, {'weight': 0.34020644219766671}), (1, 43, {'weight': 0.77201744901608782}), (1, 44, {'weight': 1.1164503065211102}), (1, 46, {'weight': 0.37108788385443736}), (1, 49, {'weight': 0.85448615119274551}), (1, 50, {'weight': 0.31252449051287678}), (1, 51, {'weight': 0.78445555423063551}), (1, 52, {'weight': 0.69038798932691181}), (1, 54, {'weight': 0.67320605671109135}), (1, 55, {'weight': 0.86724130652732256}), (1, 24, {'weight': 0.77019112330614936}), (1, 25, {'weight': 0.57767422177217709}), (11, 9, {'weight': 0.89944043980359512}), (11, 42, {'weight': 0.19970042426926238}), (11, 43, {'weight': 0.66824378491067682}), (11, 44, {'weight': 0.88930512042834486}), (11, 45, {'weight': 0.34403767216379189}), (11, 47, {'weight': 0.55476890893692365}), (11, 50, {'weight': 0.18017951443956415}), (11, 51, {'weight': 0.83258587240320958}), (11, 52, {'weight': 0.40999673990642505}), (11, 53, {'weight': 0.69801072322276259}), (11, 55, {'weight': 0.8834330192170432}), (11, 24, {'weight': 0.85858586435497042}), (11, 25, {'weight': 0.88362830389351155}), (9, 1, {'weight': 0.83742730596612924}), (9, 11, {'weight': 0.89944043980359512}), (9, 42, {'weight': 0.28699261450461977}), (9, 43, {'weight': 0.72317960125697134}), (9, 44, {'weight': 1.1848265080431553}), (9, 45, {'weight': 0.50544896465756617}), (9, 47, {'weight': 0.67162417591810497}), (9, 49, {'weight': 1.2131847969678167}), (9, 50, {'weight': 0.22971957120779063}), (9, 52, {'weight': 0.54050767751881379}), (9, 53, {'weight': 0.6472229286708675}), (9, 54, {'weight': 0.55411691891812831}), (9, 55, {'weight': 0.9750859613326619}), (42, 1, {'weight': 0.34020644219766671}), (42, 11, {'weight': 0.19970042426926238}), (42, 9, {'weight': 0.28699261450461977}), (42, 43, {'weight': 0.43053612505279437}), (42, 46, {'weight': 0.11486755192262366}), (42, 47, {'weight': 0.50549886192900528}), (42, 49, {'weight': 0.1826216393463227}), (42, 51, {'weight': 0.34388811586750645}), (42, 53, {'weight': 0.41259488855645099}), (42, 54, {'weight': 0.95635814271995256}), (42, 55, {'weight': 0.25241367913883606}), (42, 24, {'weight': 0.22552198817007918}), (42, 25, {'weight': 0.1537285150528751}), (43, 1, {'weight': 0.77201744901608782}), (43, 11, {'weight': 0.66824378491067682}), (43, 9, {'weight': 0.72317960125697134}), (43, 42, {'weight': 0.43053612505279437}), (43, 44, {'weight': 1.0564138557277474}), (43, 45, {'weight': 0.68097770663145152}), (43, 46, {'weight': 0.30843245370408479}), (43, 47, {'weight': 0.71092447362348121}), (43, 49, {'weight': 0.82858129032392824}), (43, 50, {'weight': 0.36656147073568368}), (43, 51, {'weight': 0.79557822757443075}), (43, 52, {'weight': 0.76359905098108394}), (43, 25, {'weight': 0.4854249985024861}), (44, 1, {'weight': 1.1164503065211102}), (44, 11, {'weight': 0.88930512042834486}), (44, 9, {'weight': 1.1848265080431553}), (44, 43, {'weight': 1.0564138557277474}), (44, 45, {'weight': 0.71601994760886001}), (44, 46, {'weight': 0.49592897192478658}), (44, 47, {'weight': 1.108777760272158}), (44, 50, {'weight': 0.37246840345931842}), (44, 51, {'weight': 1.2295345961810269}), (44, 52, {'weight': 0.78348448280653926}), (44, 53, {'weight': 1.1796387998888695}), (44, 24, {'weight': 1.060816222542265}), (44, 25, {'weight': 0.79823308819300864}), (45, 11, {'weight': 0.34403767216379189}), (45, 9, {'weight': 0.50544896465756617}), (45, 43, {'weight': 0.68097770663145152}), (45, 44, {'weight': 0.71601994760886001}), (45, 46, {'weight': 0.15598305292419745}), (45, 47, {'weight': 0.79525788406609976}), (45, 49, {'weight': 0.38005886832951585}), (45, 51, {'weight': 0.65062665815832688}), (45, 52, {'weight': 0.99622238441805511}), (45, 53, {'weight': 0.65485882336910395}), (45, 54, {'weight': 1.1232466485164925}), (45, 24, {'weight': 0.45376190546192863}), (45, 25, {'weight': 0.24670022533502856}), (46, 1, {'weight': 0.37108788385443736}), (46, 42, {'weight': 0.11486755192262366}), (46, 43, {'weight': 0.30843245370408479}), (46, 44, {'weight': 0.49592897192478658}), (46, 45, {'weight': 0.15598305292419745}), (46, 47, {'weight': 0.28064805310787699}), (46, 49, {'weight': 0.91583500301208876}), (46, 50, {'weight': 0.10308016575327983}), (46, 51, {'weight': 0.40757716892119689}), (46, 52, {'weight': 0.2047718199925701}), (46, 53, {'weight': 0.30740766733241776}), (46, 54, {'weight': 0.14860649307981966}), (46, 24, {'weight': 0.57859753633322475}), (47, 11, {'weight': 0.55476890893692365}), (47, 9, {'weight': 0.67162417591810497}), (47, 42, {'weight': 0.50549886192900528}), (47, 43, {'weight': 0.71092447362348121}), (47, 44, {'weight': 1.108777760272158}), (47, 45, {'weight': 0.79525788406609976}), (47, 46, {'weight': 0.28064805310787699}), (47, 49, {'weight': 0.70779802797130476}), (47, 50, {'weight': 0.44257571694233189}), (47, 52, {'weight': 0.81894314015546765}), (47, 53, {'weight': 0.6804214713248542}), (47, 55, {'weight': 0.79907676606250266}), (47, 25, {'weight': 0.42263241967867238}), (49, 1, {'weight': 0.85448615119274551}), (49, 9, {'weight': 1.2131847969678167}), (49, 42, {'weight': 0.1826216393463227}), (49, 43, {'weight': 0.82858129032392824}), (49, 45, {'weight': 0.38005886832951585}), (49, 46, {'weight': 0.91583500301208876}), (49, 47, {'weight': 0.70779802797130476}), (49, 50, {'weight': 0.16354801228070981}), (49, 51, {'weight': 1.018805988549528}), (49, 53, {'weight': 0.92484029296347092}), (49, 54, {'weight': 0.50878392623777779}), (49, 55, {'weight': 1.0782200630039069}), (49, 24, {'weight': 1.082273766598576}), (50, 1, {'weight': 0.31252449051287678}), (50, 11, {'weight': 0.18017951443956415}), (50, 9, {'weight': 0.22971957120779063}), (50, 43, {'weight': 0.36656147073568368}), (50, 44, {'weight': 0.37246840345931842}), (50, 46, {'weight': 0.10308016575327983}), (50, 47, {'weight': 0.44257571694233189}), (50, 49, {'weight': 0.16354801228070981}), (50, 53, {'weight': 0.33622366079346699}), (50, 54, {'weight': 0.88043954591861073}), (50, 55, {'weight': 0.24062136061737682}), (50, 24, {'weight': 0.1953133865643788}), (50, 25, {'weight': 0.13264116349385113}), (51, 1, {'weight': 0.78445555423063551}), (51, 11, {'weight': 0.83258587240320958}), (51, 42, {'weight': 0.34388811586750645}), (51, 43, {'weight': 0.79557822757443075}), (51, 44, {'weight': 1.2295345961810269}), (51, 45, {'weight': 0.65062665815832688}), (51, 46, {'weight': 0.40757716892119689}), (51, 49, {'weight': 1.018805988549528}), (51, 52, {'weight': 0.66455612129571096}), (51, 54, {'weight': 0.75700752468509513}), (51, 55, {'weight': 0.98880187574730671}), (51, 24, {'weight': 0.73402940099390657}), (51, 25, {'weight': 0.56377368433825348}), (52, 1, {'weight': 0.69038798932691181}), (52, 11, {'weight': 0.40999673990642505}), (52, 9, {'weight': 0.54050767751881379}), (52, 43, {'weight': 0.76359905098108394}), (52, 44, {'weight': 0.78348448280653926}), (52, 45, {'weight': 0.99622238441805511}), (52, 46, {'weight': 0.2047718199925701}), (52, 47, {'weight': 0.81894314015546765}), (52, 51, {'weight': 0.66455612129571096}), (52, 53, {'weight': 0.7449611152230573}), (52, 54, {'weight': 1.1875896286514074}), (52, 55, {'weight': 0.5569574343350383}), (52, 25, {'weight': 0.29451673393098421}), (53, 11, {'weight': 0.69801072322276259}), (53, 9, {'weight': 0.6472229286708675}), (53, 42, {'weight': 0.41259488855645099}), (53, 44, {'weight': 1.1796387998888695}), (53, 45, {'weight': 0.65485882336910395}), (53, 46, {'weight': 0.30740766733241776}), (53, 47, {'weight': 0.6804214713248542}), (53, 49, {'weight': 0.92484029296347092}), (53, 50, {'weight': 0.33622366079346699}), (53, 52, {'weight': 0.7449611152230573}), (53, 54, {'weight': 0.71805670359005092}), (53, 55, {'weight': 0.83003629090383679}), (53, 24, {'weight': 0.70978539662631634}), (54, 1, {'weight': 0.67320605671109135}), (54, 9, {'weight': 0.55411691891812831}), (54, 42, {'weight': 0.95635814271995256}), (54, 45, {'weight': 1.1232466485164925}), (54, 46, {'weight': 0.14860649307981966}), (54, 49, {'weight': 0.50878392623777779}), (54, 50, {'weight': 0.88043954591861073}), (54, 51, {'weight': 0.75700752468509513}), (54, 52, {'weight': 1.1875896286514074}), (54, 53, {'weight': 0.71805670359005092}), (54, 55, {'weight': 0.54792435839825604}), (54, 24, {'weight': 0.51648578932760891}), (54, 25, {'weight': 0.27870957609812796}), (55, 1, {'weight': 0.86724130652732256}), (55, 11, {'weight': 0.8834330192170432}), (55, 9, {'weight': 0.9750859613326619}), (55, 42, {'weight': 0.25241367913883606}), (55, 47, {'weight': 0.79907676606250266}), (55, 49, {'weight': 1.0782200630039069}), (55, 50, {'weight': 0.24062136061737682}), (55, 51, {'weight': 0.98880187574730671}), (55, 52, {'weight': 0.5569574343350383}), (55, 53, {'weight': 0.83003629090383679}), (55, 54, {'weight': 0.54792435839825604}), (55, 24, {'weight': 1.0068230700627021}), (55, 25, {'weight': 0.88144354311929352}), (24, 1, {'weight': 0.77019112330614936}), (24, 11, {'weight': 0.85858586435497042}), (24, 42, {'weight': 0.22552198817007918}), (24, 44, {'weight': 1.060816222542265}), (24, 45, {'weight': 0.45376190546192863}), (24, 46, {'weight': 0.57859753633322475}), (24, 49, {'weight': 1.082273766598576}), (24, 50, {'weight': 0.1953133865643788}), (24, 51, {'weight': 0.73402940099390657}), (24, 53, {'weight': 0.70978539662631634}), (24, 54, {'weight': 0.51648578932760891}), (24, 55, {'weight': 1.0068230700627021}), (24, 25, {'weight': 0.79337804337473372}), (25, 1, {'weight': 0.57767422177217709}), (25, 11, {'weight': 0.88362830389351155}), (25, 42, {'weight': 0.1537285150528751}), (25, 43, {'weight': 0.4854249985024861}), (25, 44, {'weight': 0.79823308819300864}), (25, 45, {'weight': 0.24670022533502856}), (25, 47, {'weight': 0.42263241967867238}), (25, 50, {'weight': 0.13264116349385113}), (25, 51, {'weight': 0.56377368433825348}), (25, 52, {'weight': 0.29451673393098421}), (25, 54, {'weight': 0.27870957609812796}), (25, 55, {'weight': 0.88144354311929352}), (25, 24, {'weight': 0.79337804337473372})]\n",
      "done\n"
     ]
    }
   ],
   "source": [
    "#Suggest games for the next round. This may take quite some time.\n",
    "stage_round(round=5)"
   ]
  },
  {
   "cell_type": "code",
   "execution_count": 138,
   "metadata": {
    "collapsed": false
   },
   "outputs": [],
   "source": [
    "#This will add the suggested games to the list of games\n",
    "add_suggested_games()"
   ]
  },
  {
   "cell_type": "code",
   "execution_count": 346,
   "metadata": {
    "collapsed": false
   },
   "outputs": [],
   "source": [
    "#add one of the suggested games to the list of games\n",
    "add_suggested_game(game_id=2)"
   ]
  },
  {
   "cell_type": "code",
   "execution_count": 90,
   "metadata": {
    "collapsed": false
   },
   "outputs": [
    {
     "data": {
      "text/plain": [
       "{u'id': 165,\n",
       " u'round': 1,\n",
       " u'scores': {11: 3, 49: 0},\n",
       " u'status': 1,\n",
       " u'team_1': 11,\n",
       " u'team_2': 49}"
      ]
     },
     "execution_count": 90,
     "metadata": {},
     "output_type": "execute_result"
    }
   ],
   "source": [
    "DB['Games'][165]"
   ]
  },
  {
   "cell_type": "code",
   "execution_count": 139,
   "metadata": {
    "collapsed": false
   },
   "outputs": [],
   "source": [
    "saveDB(DB)"
   ]
  },
  {
   "cell_type": "code",
   "execution_count": 233,
   "metadata": {
    "collapsed": false
   },
   "outputs": [],
   "source": [
    "export_results(sess_id)"
   ]
  },
  {
   "cell_type": "code",
   "execution_count": 224,
   "metadata": {
    "collapsed": false
   },
   "outputs": [],
   "source": [
    "export_games(sess_id)"
   ]
  },
  {
   "cell_type": "code",
   "execution_count": 198,
   "metadata": {
    "collapsed": true
   },
   "outputs": [],
   "source": [
    "export_games(1)"
   ]
  },
  {
   "cell_type": "code",
   "execution_count": 470,
   "metadata": {
    "collapsed": false
   },
   "outputs": [
    {
     "data": {
      "text/plain": [
       "<module 'ranking' from 'ranking.py'>"
      ]
     },
     "execution_count": 470,
     "metadata": {},
     "output_type": "execute_result"
    }
   ],
   "source": [
    "import bayes\n",
    "reload(req)\n",
    "reload(bayes)\n",
    "import ranking\n",
    "reload(ranking)"
   ]
  },
  {
   "cell_type": "code",
   "execution_count": 97,
   "metadata": {
    "collapsed": false,
    "scrolled": true
   },
   "outputs": [],
   "source": [
    "DB['Games'][164]['status'] = 0"
   ]
  },
  {
   "cell_type": "code",
   "execution_count": 42,
   "metadata": {
    "collapsed": false
   },
   "outputs": [],
   "source": [
    "DB['Sessions'][3]['games'] = DB['Sessions'][1]['games'] + DB ['Sessions'][4]['games']\n",
    "DB['Sessions'][4]['games'] = DB['Sessions'][1]['games'] + DB ['Sessions'][4]['games']\n",
    "\n",
    "DB['Sessions'][3]['teams'] = [2,19,1,16,11,18,6,15,8,21,0,22,4,27]\n",
    "DB['Sessions'][4]['teams'] = [24,13,14,9,25,7,17,12,23,3,20,10,26,5]"
   ]
  },
  {
   "cell_type": "code",
   "execution_count": 270,
   "metadata": {
    "collapsed": true
   },
   "outputs": [],
   "source": [
    "DB['Sessions'][4]['games'] = list(set(DB['Sessions'][3]['games']+DB['Sessions'][4]['games']))"
   ]
  },
  {
   "cell_type": "code",
   "execution_count": 374,
   "metadata": {
    "collapsed": false
   },
   "outputs": [
    {
     "name": "stdout",
     "output_type": "stream",
     "text": [
      "[2, 1, 8, 11, 0, 4, 6, 15, 19, 16, 21, 18, 22, 27, 2, 1, 11, 0, 4, 8, 6, 1, 0, 4, 2, 11, 6, 8, 2, 11, 0, 4, 8, 6, 1, 0, 1, 11, 2, 4, 8, 6, 16, 19, 21, 15, 27, 18, 22, 21, 15, 16, 19, 18, 22, 27, 18, 16, 19, 15, 21, 27, 22, 27, 15, 16, 18, 19, 21, 22, 2, 19, 1, 16, 11, 18, 6, 15, 8, 21, 0, 22, 4, 27, 16, 6, 2, 1, 11, 19, 8, 15, 18, 21, 22, 4, 0, 27, 2, 16, 1, 19, 11, 6, 22, 8, 27, 15, 18, 0, 4, 21, 0, 21, 1, 27, 2, 22, 4, 19, 6, 18, 8, 16, 11, 15]\n",
      "[3, 5, 7, 9, 10, 12, 13, 14, 17, 20, 23, 24, 25, 26]\n"
     ]
    }
   ],
   "source": [
    "import bayes\n",
    "import ranking\n",
    "\n",
    "teams = bayes.make_teams(DB['Sessions'][4]['teams'])\n",
    "sess = bayes.init_session(teams)\n",
    "sess.games = bayes.mcmc_games([DB['Games'][id] for id in DB['Sessions'][4]['games']],teams)\n"
   ]
  },
  {
   "cell_type": "code",
   "execution_count": 99,
   "metadata": {
    "collapsed": false
   },
   "outputs": [],
   "source": [
    "export_games(sess_id)"
   ]
  },
  {
   "cell_type": "code",
   "execution_count": 143,
   "metadata": {
    "collapsed": false
   },
   "outputs": [
    {
     "name": "stdout",
     "output_type": "stream",
     "text": [
      "[0, 1, 3, 5, 7, 10, 14, 15, 17, 18, 20, 21, 26, 27, 29, 31, 33, 36, 40, 41, 43, 44, 46, 47, 52, 54, 56, 58, 61, 65, 66, 68, 69, 71, 72, 77, 103, 105, 108, 112, 113, 115, 116, 118, 119, 124, 148, 151, 155, 156, 158, 159, 161, 162, 167, 190, 194, 195, 197, 198, 200, 201, 206, 245, 246, 248, 249, 251, 252, 257, 300, 302, 303, 305, 306, 311, 313, 314, 316, 317, 322, 333, 335, 336, 341, 343, 344, 349, 357, 362, 367]\n"
     ]
    }
   ],
   "source": [
    "\"{0:.2f}\".format(a)\n"
   ]
  },
  {
   "cell_type": "code",
   "execution_count": 376,
   "metadata": {
    "collapsed": false
   },
   "outputs": [
    {
     "name": "stdout",
     "output_type": "stream",
     "text": [
      "[79, 81, 83, 84, 86, 87, 88, 91, 94, 97, 98, 99, 100, 126, 128, 129, 131, 132, 133, 136, 139, 142, 143, 144, 145, 169, 170, 172, 173, 174, 177, 180, 183, 184, 185, 186, 207, 209, 210, 211, 214, 217, 220, 221, 222, 223, 226, 227, 228, 231, 234, 237, 238, 239, 240, 258, 259, 262, 265, 268, 269, 270, 271, 273, 276, 279, 282, 283, 284, 285, 289, 292, 295, 296, 297, 298, 325, 328, 329, 330, 331, 352, 353, 354, 355, 368, 369, 370, 372, 373, 375]\n"
     ]
    }
   ],
   "source": [
    "kl = sess.kl_info_vec()"
   ]
  },
  {
   "cell_type": "code",
   "execution_count": 240,
   "metadata": {
    "collapsed": false
   },
   "outputs": [
    {
     "name": "stdout",
     "output_type": "stream",
     "text": [
      "[[2, 9], [1, 13], [7, 10], [12, 8], [11, 0], [3, 4], [6, 5], [15, 25], [19, 24], [16, 21], [17, 18], [23, 14], [20, 22], [26, 27], [13, 2], [1, 9], [7, 12], [11, 3], [0, 4], [8, 5], [6, 10], [1, 12], [13, 0], [9, 4], [2, 11], [5, 7], [6, 8], [3, 10], [2, 7], [11, 13], [0, 10], [4, 5], [3, 8], [12, 9], [6, 1], [0, 12], [1, 11], [2, 10], [4, 8], [5, 9], [13, 7], [6, 3], [24, 16], [19, 21], [14, 25], [15, 23], [20, 26], [17, 27], [18, 22], [21, 15], [24, 25], [16, 19], [20, 14], [18, 23], [17, 26], [22, 27], [20, 25], [18, 24], [23, 16], [14, 19], [17, 15], [21, 27], [26, 22], [14, 27], [15, 26], [16, 25], [17, 24], [18, 20], [19, 23], [21, 22], [2, 19], [1, 16], [11, 18], [6, 15], [8, 21], [0, 22], [4, 27], [16, 6], [2, 1], [11, 19], [8, 15], [18, 21], [22, 4], [0, 27], [2, 16], [1, 19], [11, 6], [22, 8], [27, 15], [18, 0], [4, 21]]\n"
     ]
    }
   ],
   "source": [
    "sg = sess.stage_round(9,kl)"
   ]
  },
  {
   "cell_type": "code",
   "execution_count": 272,
   "metadata": {
    "collapsed": false
   },
   "outputs": [
    {
     "data": {
      "text/plain": [
       "5"
      ]
     },
     "execution_count": 272,
     "metadata": {},
     "output_type": "execute_result"
    }
   ],
   "source": [
    "sess.games[1].teams[0].id"
   ]
  },
  {
   "cell_type": "code",
   "execution_count": 116,
   "metadata": {
    "collapsed": false
   },
   "outputs": [
    {
     "data": {
      "text/plain": [
       "[2, 9]"
      ]
     },
     "execution_count": 116,
     "metadata": {},
     "output_type": "execute_result"
    }
   ],
   "source": [
    "import networkx as nx\n"
   ]
  },
  {
   "cell_type": "code",
   "execution_count": 377,
   "metadata": {
    "collapsed": false
   },
   "outputs": [
    {
     "data": {
      "text/plain": [
       "[{'t1': 3, 't2': 5, 'weight': 0.65755606172977288},\n",
       " {'t1': 3, 't2': 7, 'weight': 0.28291531421372973},\n",
       " {'t1': 3, 't2': 9, 'weight': 0.65739725038030317},\n",
       " {'t1': 3, 't2': 10, 'weight': 0.61963651383695506},\n",
       " {'t1': 3, 't2': 12, 'weight': 0.45181971355212447},\n",
       " {'t1': 3, 't2': 13, 'weight': 0.06017572176421071},\n",
       " {'t1': 3, 't2': 14, 'weight': 1.2706118120200185},\n",
       " {'t1': 3, 't2': 17, 'weight': 0.46754267301143182},\n",
       " {'t1': 3, 't2': 20, 'weight': 0.47935738115702708},\n",
       " {'t1': 3, 't2': 23, 'weight': 0.50020920703107397},\n",
       " {'t1': 3, 't2': 24, 'weight': 0.12925136413117944},\n",
       " {'t1': 3, 't2': 25, 'weight': 0.23700356508793563},\n",
       " {'t1': 3, 't2': 26, 'weight': 0.39631276105718971},\n",
       " {'t1': 5, 't2': 7, 'weight': 0.65119804051288543},\n",
       " {'t1': 5, 't2': 9, 'weight': 1.0214900964932667},\n",
       " {'t1': 5, 't2': 10, 'weight': 1.0543956291238805},\n",
       " {'t1': 5, 't2': 12, 'weight': 0.88326052158818946},\n",
       " {'t1': 5, 't2': 13, 'weight': 0.20935278339641306},\n",
       " {'t1': 5, 't2': 14, 'weight': 1.7758902622097614},\n",
       " {'t1': 5, 't2': 17, 'weight': 0.97538553108072046},\n",
       " {'t1': 5, 't2': 20, 'weight': 0.67318369378650988},\n",
       " {'t1': 5, 't2': 23, 'weight': 0.85498613155849768},\n",
       " {'t1': 5, 't2': 24, 'weight': 0.49574328417976421},\n",
       " {'t1': 5, 't2': 25, 'weight': 0.6831124008802516},\n",
       " {'t1': 5, 't2': 26, 'weight': 0.4457623731085576},\n",
       " {'t1': 7, 't2': 9, 'weight': 2.9210669416819823},\n",
       " {'t1': 7, 't2': 10, 'weight': 0.39809803015597423},\n",
       " {'t1': 7, 't2': 12, 'weight': 0.56817691363821998},\n",
       " {'t1': 7, 't2': 13, 'weight': 0.70777344656462793},\n",
       " {'t1': 7, 't2': 14, 'weight': 2.1029114231763426},\n",
       " {'t1': 7, 't2': 17, 'weight': 1.1885562419630089},\n",
       " {'t1': 7, 't2': 20, 'weight': 0.17631599298978395},\n",
       " {'t1': 7, 't2': 23, 'weight': 0.2596511774154604},\n",
       " {'t1': 7, 't2': 24, 'weight': 1.073332589766117},\n",
       " {'t1': 7, 't2': 25, 'weight': 0.96806689701518733},\n",
       " {'t1': 7, 't2': 26, 'weight': 0.07306882879136678},\n",
       " {'t1': 9, 't2': 10, 'weight': 1.0424496778682273},\n",
       " {'t1': 9, 't2': 12, 'weight': 0.65409432293288239},\n",
       " {'t1': 9, 't2': 13, 'weight': 0.96069975701454391},\n",
       " {'t1': 9, 't2': 14, 'weight': 0.39556160542289476},\n",
       " {'t1': 9, 't2': 17, 'weight': 1.1138191223002338},\n",
       " {'t1': 9, 't2': 20, 'weight': 0.38461598864753466},\n",
       " {'t1': 9, 't2': 23, 'weight': 0.35855459531966538},\n",
       " {'t1': 9, 't2': 24, 'weight': 1.5782462717298933},\n",
       " {'t1': 9, 't2': 25, 'weight': 1.4789079617331602},\n",
       " {'t1': 9, 't2': 26, 'weight': 0.15925954028186817},\n",
       " {'t1': 10, 't2': 12, 'weight': 0.62190516175397725},\n",
       " {'t1': 10, 't2': 13, 'weight': 0.088162245888768531},\n",
       " {'t1': 10, 't2': 14, 'weight': 1.4206916864576531},\n",
       " {'t1': 10, 't2': 17, 'weight': 0.63141628804618799},\n",
       " {'t1': 10, 't2': 20, 'weight': 0.35342318391309435},\n",
       " {'t1': 10, 't2': 23, 'weight': 0.57258048416950613},\n",
       " {'t1': 10, 't2': 24, 'weight': 0.17737427364576641},\n",
       " {'t1': 10, 't2': 25, 'weight': 0.41957206872377117},\n",
       " {'t1': 10, 't2': 26, 'weight': 0.21856276357590732},\n",
       " {'t1': 12, 't2': 13, 'weight': 0.064050817572748553},\n",
       " {'t1': 12, 't2': 14, 'weight': 1.0159058085355825},\n",
       " {'t1': 12, 't2': 17, 'weight': 0.34755852936467768},\n",
       " {'t1': 12, 't2': 20, 'weight': 0.30446546236755845},\n",
       " {'t1': 12, 't2': 23, 'weight': 0.36317859385979334},\n",
       " {'t1': 12, 't2': 24, 'weight': 0.15863137095657764},\n",
       " {'t1': 12, 't2': 25, 'weight': 0.22540667042289408},\n",
       " {'t1': 12, 't2': 26, 'weight': 0.19272959260830058},\n",
       " {'t1': 13, 't2': 14, 'weight': 0.21672019483929006},\n",
       " {'t1': 13, 't2': 17, 'weight': 0.13799487167031632},\n",
       " {'t1': 13, 't2': 20, 'weight': 0.036343745166063535},\n",
       " {'t1': 13, 't2': 23, 'weight': 0.038924275057286017},\n",
       " {'t1': 13, 't2': 24, 'weight': 0.40441924604391177},\n",
       " {'t1': 13, 't2': 25, 'weight': 0.16130255881686217},\n",
       " {'t1': 13, 't2': 26, 'weight': 0.023896414249052533},\n",
       " {'t1': 14, 't2': 17, 'weight': 1.0290129987264711},\n",
       " {'t1': 14, 't2': 20, 'weight': 0.77523707902798522},\n",
       " {'t1': 14, 't2': 23, 'weight': 0.76422944772457679},\n",
       " {'t1': 14, 't2': 24, 'weight': 0.51535091303681524},\n",
       " {'t1': 14, 't2': 25, 'weight': 1.1350861222221833},\n",
       " {'t1': 14, 't2': 26, 'weight': 0.35820054003947677},\n",
       " {'t1': 17, 't2': 20, 'weight': 0.26267665013007147},\n",
       " {'t1': 17, 't2': 23, 'weight': 0.29386101696418354},\n",
       " {'t1': 17, 't2': 24, 'weight': 0.27065056097213569},\n",
       " {'t1': 17, 't2': 25, 'weight': 0.44441206250754739},\n",
       " {'t1': 17, 't2': 26, 'weight': 0.15388864578829509},\n",
       " {'t1': 20, 't2': 23, 'weight': 0.54957127016070428},\n",
       " {'t1': 20, 't2': 24, 'weight': 0.071626579594908257},\n",
       " {'t1': 20, 't2': 25, 'weight': 0.12770518304728151},\n",
       " {'t1': 20, 't2': 26, 'weight': 0.34142889100437213},\n",
       " {'t1': 23, 't2': 24, 'weight': 0.074407219477164332},\n",
       " {'t1': 23, 't2': 25, 'weight': 0.15517214615340436},\n",
       " {'t1': 23, 't2': 26, 'weight': 0.52219570640031954},\n",
       " {'t1': 24, 't2': 25, 'weight': 0.27932892838724088},\n",
       " {'t1': 24, 't2': 26, 'weight': 0.045124947162855644},\n",
       " {'t1': 25, 't2': 26, 'weight': 0.082627791349746627}]"
      ]
     },
     "execution_count": 377,
     "metadata": {},
     "output_type": "execute_result"
    }
   ],
   "source": [
    "kl"
   ]
  },
  {
   "cell_type": "code",
   "execution_count": 329,
   "metadata": {
    "collapsed": false
   },
   "outputs": [
    {
     "data": {
      "text/plain": [
       "{0: 1.240902108482105,\n",
       " 1: -1.7313163712697726,\n",
       " 2: -2.8765658394250044,\n",
       " 3: 1.1288194903466013,\n",
       " 4: 1.4651319018689322,\n",
       " 5: 2.4161783699511941,\n",
       " 6: 0.14419265791853592,\n",
       " 7: -0.053151918012899063,\n",
       " 8: 0.96596172161713834,\n",
       " 9: -1.1502022887057295,\n",
       " 10: 1.2421464553926431,\n",
       " 11: -1.0857910719168931,\n",
       " 12: 0.40310069577556018,\n",
       " 13: -2.1094059120224267,\n",
       " 14: 0,\n",
       " 15: 0,\n",
       " 16: 0,\n",
       " 17: 0,\n",
       " 18: 0,\n",
       " 19: 0,\n",
       " 20: 0,\n",
       " 21: 0,\n",
       " 22: 0,\n",
       " 23: 0,\n",
       " 24: 0,\n",
       " 25: 0,\n",
       " 26: 0,\n",
       " 27: 0}"
      ]
     },
     "execution_count": 329,
     "metadata": {},
     "output_type": "execute_result"
    }
   ],
   "source": [
    "x['Sessions'][2]['strengths']"
   ]
  },
  {
   "cell_type": "code",
   "execution_count": 115,
   "metadata": {
    "collapsed": false
   },
   "outputs": [],
   "source": [
    "DB['Sessions'][4]['games'] = list(set(DB['Sessions'][4]['games']\n",
    "                                 + DB['Sessions'][1]['games']\n",
    "                                 + DB ['Sessions'][2]['games']))"
   ]
  },
  {
   "cell_type": "code",
   "execution_count": 2,
   "metadata": {
    "collapsed": false
   },
   "outputs": [
    {
     "data": {
      "text/plain": [
       "'/home/ubuntu/bayesian/python'"
      ]
     },
     "execution_count": 2,
     "metadata": {},
     "output_type": "execute_result"
    }
   ],
   "source": [
    "pwd"
   ]
  },
  {
   "cell_type": "code",
   "execution_count": 16,
   "metadata": {
    "collapsed": true
   },
   "outputs": [],
   "source": [
    "\n",
    "DB['Sessions'][3]['teams'] = [2,19,1,16,11,18,6,15,8,21,0,22,4,27]\n",
    "DB['Sessions'][4]['teams'] = [24,13,14,9,25,7,17,12,23,3,20,10,26,5]\n",
    "DB['Sessions'][3]['strengths'] = {k:0.0 for k in DB['Sessions'][3]['teams']}\n",
    "DB['Sessions'][4]['strengths'] = {k:0.0 for k in DB['Sessions'][4]['teams']}"
   ]
  },
  {
   "cell_type": "code",
   "execution_count": 144,
   "metadata": {
    "collapsed": true
   },
   "outputs": [],
   "source": [
    "saveDB(DB)"
   ]
  },
  {
   "cell_type": "code",
   "execution_count": 51,
   "metadata": {
    "collapsed": false,
    "scrolled": true
   },
   "outputs": [
    {
     "name": "stdout",
     "output_type": "stream",
     "text": [
      "u'2: Golem  strength = 0.0'\n",
      "u'19: Beware  strength = 0.0'\n",
      "u'1: Wabbit  strength = 0.0'\n",
      "u'16: The Jamesons  strength = 0.0'\n",
      "u'11: Triple Fisted  strength = 0.0'\n",
      "u'18: Mammoth  strength = 0.0'\n",
      "u'6: Gentlemans  strength = 0.0'\n",
      "u'15: The Royales with Cheese  strength = 0.0'\n",
      "u'8: Rusty Spoons  strength = 0.0'\n",
      "u'21: Lost Cat  strength = 0.0'\n",
      "u'0: Ball Bangers  strength = 0.0'\n",
      "u'22: Mighty Bisons  strength = 0.0'\n",
      "u'4: JKL  strength = 0.0'\n",
      "u\"27: The Caracal's  strength = 0.0\"\n"
     ]
    }
   ],
   "source": [
    "list_teams(3)"
   ]
  },
  {
   "cell_type": "code",
   "execution_count": null,
   "metadata": {
    "collapsed": false
   },
   "outputs": [],
   "source": []
  },
  {
   "cell_type": "code",
   "execution_count": 19,
   "metadata": {
    "collapsed": false
   },
   "outputs": [
    {
     "name": "stdout",
     "output_type": "stream",
     "text": [
      "u'24: Three Boys  strength = 0.0'\n",
      "u'13: Pete un Plomb  strength = 0.0'\n",
      "u'14: Kitten Pile Crush  strength = 0.0'\n",
      "u'9: Daft Monks  strength = 0.0'\n",
      "u'25: Gobshites  strength = 0.0'\n",
      "u'7: Sons of Odin  strength = 0.0'\n",
      "u'17: Elf Death  strength = 0.0'\n",
      "u'12: With Fire  strength = 0.0'\n",
      "u'23: Sometimes  strength = 0.0'\n",
      "u'3: The Edinburgh Badgers  strength = 0.0'\n",
      "u'20: Two and a half Men  strength = 0.0'\n",
      "u'10: The Budgie Smugglers  strength = 0.0'\n",
      "u'26: Kumaras bravas  strength = 0.0'\n",
      "u'5: The Inseminators  strength = 0.0'\n"
     ]
    }
   ],
   "source": [
    "list_teams(4)"
   ]
  },
  {
   "cell_type": "code",
   "execution_count": 55,
   "metadata": {
    "collapsed": false
   },
   "outputs": [],
   "source": [
    "export_games(4)"
   ]
  },
  {
   "cell_type": "code",
   "execution_count": 395,
   "metadata": {
    "collapsed": false
   },
   "outputs": [
    {
     "name": "stdout",
     "output_type": "stream",
     "text": [
      "[2, 1, 8, 11, 0, 4, 6, 15, 19, 16, 21, 18, 22, 27, 2, 1, 11, 0, 4, 8, 6, 1, 0, 4, 2, 11, 6, 8, 2, 11, 0, 4, 8, 6, 1, 0, 1, 11, 2, 4, 8, 6, 16, 19, 21, 15, 27, 18, 22, 21, 15, 16, 19, 18, 22, 27, 18, 16, 19, 15, 21, 27, 22, 27, 15, 16, 18, 19, 21, 22, 2, 19, 1, 16, 11, 18, 6, 15, 8, 21, 0, 22, 4, 27, 16, 6, 2, 1, 11, 19, 8, 15, 18, 21, 22, 4, 0, 27, 2, 16, 1, 19, 11, 6, 22, 8, 27, 15, 18, 0, 4, 21, 0, 21, 1, 27, 2, 22, 4, 19, 6, 18, 8, 16, 11, 15]\n",
      "[3, 5, 7, 9, 10, 12, 13, 14, 17, 20, 23, 24, 25, 26]\n",
      "running MCMC\n",
      " [-----------------100%-----------------] 100000 of 100000 complete in 54.5 sec"
     ]
    },
    {
     "ename": "AttributeError",
     "evalue": "log",
     "output_type": "error",
     "traceback": [
      "\u001b[1;31m---------------------------------------------------------------------------\u001b[0m",
      "\u001b[1;31mAttributeError\u001b[0m                            Traceback (most recent call last)",
      "\u001b[1;32m<ipython-input-395-2f87d8e8e4de>\u001b[0m in \u001b[0;36m<module>\u001b[1;34m()\u001b[0m\n\u001b[0;32m      9\u001b[0m \u001b[0mfac\u001b[0m \u001b[1;33m=\u001b[0m \u001b[0msess\u001b[0m\u001b[1;33m.\u001b[0m\u001b[0mmcmc\u001b[0m\u001b[1;33m.\u001b[0m\u001b[0mscale\u001b[0m\u001b[1;33m.\u001b[0m\u001b[0mstats\u001b[0m\u001b[1;33m(\u001b[0m\u001b[1;33m)\u001b[0m\u001b[1;33m[\u001b[0m\u001b[1;34m'mean'\u001b[0m\u001b[1;33m]\u001b[0m\u001b[1;33m\u001b[0m\u001b[0m\n\u001b[0;32m     10\u001b[0m \u001b[0mg_fun\u001b[0m \u001b[1;33m=\u001b[0m \u001b[1;32mlambda\u001b[0m \u001b[0ms1\u001b[0m\u001b[1;33m,\u001b[0m\u001b[0ms2\u001b[0m\u001b[1;33m,\u001b[0m\u001b[0mdelta\u001b[0m\u001b[1;33m:\u001b[0m\u001b[0mranking\u001b[0m\u001b[1;33m.\u001b[0m\u001b[0mlog_2_pois_like\u001b[0m\u001b[1;33m(\u001b[0m\u001b[0mdelta\u001b[0m\u001b[1;33m,\u001b[0m\u001b[0mst\u001b[0m\u001b[1;33m,\u001b[0m\u001b[0ms1\u001b[0m\u001b[1;33m,\u001b[0m\u001b[0ms2\u001b[0m\u001b[1;33m)\u001b[0m\u001b[1;33m\u001b[0m\u001b[0m\n\u001b[1;32m---> 11\u001b[1;33m \u001b[1;33m[\u001b[0m\u001b[0mg_fun\u001b[0m\u001b[1;33m(\u001b[0m\u001b[0mg\u001b[0m\u001b[1;33m[\u001b[0m\u001b[1;34m'scores'\u001b[0m\u001b[1;33m]\u001b[0m\u001b[1;33m[\u001b[0m\u001b[0mg\u001b[0m\u001b[1;33m[\u001b[0m\u001b[1;34m'team_1'\u001b[0m\u001b[1;33m]\u001b[0m\u001b[1;33m]\u001b[0m\u001b[1;33m,\u001b[0m\u001b[0mg\u001b[0m\u001b[1;33m[\u001b[0m\u001b[1;34m'scores'\u001b[0m\u001b[1;33m]\u001b[0m\u001b[1;33m[\u001b[0m\u001b[0mg\u001b[0m\u001b[1;33m[\u001b[0m\u001b[1;34m'team_2'\u001b[0m\u001b[1;33m]\u001b[0m\u001b[1;33m]\u001b[0m\u001b[1;33m,\u001b[0m\u001b[0mst\u001b[0m\u001b[1;33m[\u001b[0m\u001b[0mg\u001b[0m\u001b[1;33m[\u001b[0m\u001b[1;34m'team_1'\u001b[0m\u001b[1;33m]\u001b[0m\u001b[1;33m]\u001b[0m\u001b[1;33m-\u001b[0m\u001b[0mst\u001b[0m\u001b[1;33m[\u001b[0m\u001b[0mg\u001b[0m\u001b[1;33m[\u001b[0m\u001b[1;34m'team_2'\u001b[0m\u001b[1;33m]\u001b[0m\u001b[1;33m]\u001b[0m\u001b[1;33m)\u001b[0m \u001b[1;32mfor\u001b[0m \u001b[0mg\u001b[0m \u001b[1;32min\u001b[0m \u001b[0mDB\u001b[0m\u001b[1;33m[\u001b[0m\u001b[1;34m'Games'\u001b[0m\u001b[1;33m]\u001b[0m\u001b[1;33m.\u001b[0m\u001b[0mvalues\u001b[0m\u001b[1;33m(\u001b[0m\u001b[1;33m)\u001b[0m\u001b[1;33m]\u001b[0m\u001b[1;33m\u001b[0m\u001b[0m\n\u001b[0m",
      "\u001b[1;32m<ipython-input-395-2f87d8e8e4de>\u001b[0m in \u001b[0;36m<lambda>\u001b[1;34m(s1, s2, delta)\u001b[0m\n\u001b[0;32m      8\u001b[0m \u001b[0mst\u001b[0m \u001b[1;33m=\u001b[0m \u001b[0msess\u001b[0m\u001b[1;33m.\u001b[0m\u001b[0mstrengths\u001b[0m\u001b[1;33m(\u001b[0m\u001b[1;33m)\u001b[0m\u001b[1;33m\u001b[0m\u001b[0m\n\u001b[0;32m      9\u001b[0m \u001b[0mfac\u001b[0m \u001b[1;33m=\u001b[0m \u001b[0msess\u001b[0m\u001b[1;33m.\u001b[0m\u001b[0mmcmc\u001b[0m\u001b[1;33m.\u001b[0m\u001b[0mscale\u001b[0m\u001b[1;33m.\u001b[0m\u001b[0mstats\u001b[0m\u001b[1;33m(\u001b[0m\u001b[1;33m)\u001b[0m\u001b[1;33m[\u001b[0m\u001b[1;34m'mean'\u001b[0m\u001b[1;33m]\u001b[0m\u001b[1;33m\u001b[0m\u001b[0m\n\u001b[1;32m---> 10\u001b[1;33m \u001b[0mg_fun\u001b[0m \u001b[1;33m=\u001b[0m \u001b[1;32mlambda\u001b[0m \u001b[0ms1\u001b[0m\u001b[1;33m,\u001b[0m\u001b[0ms2\u001b[0m\u001b[1;33m,\u001b[0m\u001b[0mdelta\u001b[0m\u001b[1;33m:\u001b[0m\u001b[0mranking\u001b[0m\u001b[1;33m.\u001b[0m\u001b[0mlog_2_pois_like\u001b[0m\u001b[1;33m(\u001b[0m\u001b[0mdelta\u001b[0m\u001b[1;33m,\u001b[0m\u001b[0mst\u001b[0m\u001b[1;33m,\u001b[0m\u001b[0ms1\u001b[0m\u001b[1;33m,\u001b[0m\u001b[0ms2\u001b[0m\u001b[1;33m)\u001b[0m\u001b[1;33m\u001b[0m\u001b[0m\n\u001b[0m\u001b[0;32m     11\u001b[0m \u001b[1;33m[\u001b[0m\u001b[0mg_fun\u001b[0m\u001b[1;33m(\u001b[0m\u001b[0mg\u001b[0m\u001b[1;33m[\u001b[0m\u001b[1;34m'scores'\u001b[0m\u001b[1;33m]\u001b[0m\u001b[1;33m[\u001b[0m\u001b[0mg\u001b[0m\u001b[1;33m[\u001b[0m\u001b[1;34m'team_1'\u001b[0m\u001b[1;33m]\u001b[0m\u001b[1;33m]\u001b[0m\u001b[1;33m,\u001b[0m\u001b[0mg\u001b[0m\u001b[1;33m[\u001b[0m\u001b[1;34m'scores'\u001b[0m\u001b[1;33m]\u001b[0m\u001b[1;33m[\u001b[0m\u001b[0mg\u001b[0m\u001b[1;33m[\u001b[0m\u001b[1;34m'team_2'\u001b[0m\u001b[1;33m]\u001b[0m\u001b[1;33m]\u001b[0m\u001b[1;33m,\u001b[0m\u001b[0mst\u001b[0m\u001b[1;33m[\u001b[0m\u001b[0mg\u001b[0m\u001b[1;33m[\u001b[0m\u001b[1;34m'team_1'\u001b[0m\u001b[1;33m]\u001b[0m\u001b[1;33m]\u001b[0m\u001b[1;33m-\u001b[0m\u001b[0mst\u001b[0m\u001b[1;33m[\u001b[0m\u001b[0mg\u001b[0m\u001b[1;33m[\u001b[0m\u001b[1;34m'team_2'\u001b[0m\u001b[1;33m]\u001b[0m\u001b[1;33m]\u001b[0m\u001b[1;33m)\u001b[0m \u001b[1;32mfor\u001b[0m \u001b[0mg\u001b[0m \u001b[1;32min\u001b[0m \u001b[0mDB\u001b[0m\u001b[1;33m[\u001b[0m\u001b[1;34m'Games'\u001b[0m\u001b[1;33m]\u001b[0m\u001b[1;33m.\u001b[0m\u001b[0mvalues\u001b[0m\u001b[1;33m(\u001b[0m\u001b[1;33m)\u001b[0m\u001b[1;33m]\u001b[0m\u001b[1;33m\u001b[0m\u001b[0m\n",
      "\u001b[1;32m/home/ubuntu/bayesian/python/ranking.pyc\u001b[0m in \u001b[0;36mlog_2_pois_like\u001b[1;34m(d, a, s1, s2)\u001b[0m\n\u001b[0;32m     42\u001b[0m     \u001b[0mdp\u001b[0m \u001b[1;33m=\u001b[0m \u001b[1;36m1.0\u001b[0m\u001b[1;33m*\u001b[0m\u001b[0mnp\u001b[0m\u001b[1;33m.\u001b[0m\u001b[0marctan\u001b[0m\u001b[1;33m(\u001b[0m\u001b[0md\u001b[0m\u001b[1;33m)\u001b[0m\u001b[1;33m\u001b[0m\u001b[0m\n\u001b[0;32m     43\u001b[0m     return ( log(a)*(s1+s2)+dp*(s2-s1) -2*a*cosh(dp) -\n\u001b[1;32m---> 44\u001b[1;33m              gammaln(s1+1) - gammaln(s2+1) )\n\u001b[0m\u001b[0;32m     45\u001b[0m \u001b[1;33m\u001b[0m\u001b[0m\n\u001b[0;32m     46\u001b[0m \u001b[1;32mdef\u001b[0m \u001b[0mlog_diff_exp_likr\u001b[0m\u001b[1;33m(\u001b[0m\u001b[0md\u001b[0m\u001b[1;33m,\u001b[0m\u001b[0ma\u001b[0m\u001b[1;33m,\u001b[0m\u001b[0ms1\u001b[0m\u001b[1;33m,\u001b[0m\u001b[0ms2\u001b[0m\u001b[1;33m)\u001b[0m\u001b[1;33m:\u001b[0m\u001b[1;33m\u001b[0m\u001b[0m\n",
      "\u001b[1;32m/home/ubuntu/venv/lib/python2.7/site-packages/numpy/lib/scimath.pyc\u001b[0m in \u001b[0;36mlog\u001b[1;34m(x)\u001b[0m\n\u001b[0;32m    260\u001b[0m     \"\"\"\n\u001b[0;32m    261\u001b[0m     \u001b[0mx\u001b[0m \u001b[1;33m=\u001b[0m \u001b[0m_fix_real_lt_zero\u001b[0m\u001b[1;33m(\u001b[0m\u001b[0mx\u001b[0m\u001b[1;33m)\u001b[0m\u001b[1;33m\u001b[0m\u001b[0m\n\u001b[1;32m--> 262\u001b[1;33m     \u001b[1;32mreturn\u001b[0m \u001b[0mnx\u001b[0m\u001b[1;33m.\u001b[0m\u001b[0mlog\u001b[0m\u001b[1;33m(\u001b[0m\u001b[0mx\u001b[0m\u001b[1;33m)\u001b[0m\u001b[1;33m\u001b[0m\u001b[0m\n\u001b[0m\u001b[0;32m    263\u001b[0m \u001b[1;33m\u001b[0m\u001b[0m\n\u001b[0;32m    264\u001b[0m \u001b[1;32mdef\u001b[0m \u001b[0mlog10\u001b[0m\u001b[1;33m(\u001b[0m\u001b[0mx\u001b[0m\u001b[1;33m)\u001b[0m\u001b[1;33m:\u001b[0m\u001b[1;33m\u001b[0m\u001b[0m\n",
      "\u001b[1;31mAttributeError\u001b[0m: log"
     ]
    }
   ],
   "source": [
    "import ranking\n",
    "\n",
    "teamids = bayes.make_teams(DB['Sessions'][1]['teams'] + DB['Sessions'][2]['teams'])\n",
    "\n",
    "sess = bayes.init_session(teamids)\n",
    "sess.games = bayes.mcmc_games([DB['Games'][id] for id in DB['Sessions'][4]['games']],teams)\n",
    "sess.fit_model()\n",
    "st = sess.strengths()\n",
    "fac = sess.mcmc.scale.stats()['mean']\n",
    "g_fun = lambda s1,s2,delta:ranking.log_2_pois_like(delta,st,s1,s2)\n",
    "[g_fun(g['scores'][g['team_1']],g['scores'][g['team_2']],st[g['team_1']]-st[g['team_2']]) for g in DB['Games'].values()]\n"
   ]
  },
  {
   "cell_type": "code",
   "execution_count": 403,
   "metadata": {
    "collapsed": false
   },
   "outputs": [
    {
     "ename": "KeyError",
     "evalue": "'scores'",
     "output_type": "error",
     "traceback": [
      "\u001b[1;31m---------------------------------------------------------------------------\u001b[0m",
      "\u001b[1;31mKeyError\u001b[0m                                  Traceback (most recent call last)",
      "\u001b[1;32m<ipython-input-403-a372b7e55609>\u001b[0m in \u001b[0;36m<module>\u001b[1;34m()\u001b[0m\n\u001b[1;32m----> 1\u001b[1;33m \u001b[1;33m[\u001b[0m\u001b[1;33m(\u001b[0m\u001b[0mg\u001b[0m\u001b[1;33m[\u001b[0m\u001b[1;34m'scores'\u001b[0m\u001b[1;33m]\u001b[0m\u001b[1;33m[\u001b[0m\u001b[0mg\u001b[0m\u001b[1;33m[\u001b[0m\u001b[1;34m'team_1'\u001b[0m\u001b[1;33m]\u001b[0m\u001b[1;33m]\u001b[0m\u001b[1;33m,\u001b[0m\u001b[0mg\u001b[0m\u001b[1;33m[\u001b[0m\u001b[1;34m'scores'\u001b[0m\u001b[1;33m]\u001b[0m\u001b[1;33m[\u001b[0m\u001b[0mg\u001b[0m\u001b[1;33m[\u001b[0m\u001b[1;34m'team_2'\u001b[0m\u001b[1;33m]\u001b[0m\u001b[1;33m]\u001b[0m\u001b[1;33m,\u001b[0m\u001b[0mst\u001b[0m\u001b[1;33m[\u001b[0m\u001b[0mg\u001b[0m\u001b[1;33m[\u001b[0m\u001b[1;34m'team_1'\u001b[0m\u001b[1;33m]\u001b[0m\u001b[1;33m]\u001b[0m\u001b[1;33m-\u001b[0m\u001b[0mst\u001b[0m\u001b[1;33m[\u001b[0m\u001b[0mg\u001b[0m\u001b[1;33m[\u001b[0m\u001b[1;34m'team_2'\u001b[0m\u001b[1;33m]\u001b[0m\u001b[1;33m]\u001b[0m\u001b[1;33m)\u001b[0m \u001b[1;32mfor\u001b[0m \u001b[0mg\u001b[0m \u001b[1;32min\u001b[0m \u001b[0mDB\u001b[0m\u001b[1;33m[\u001b[0m\u001b[1;34m'Games'\u001b[0m\u001b[1;33m]\u001b[0m\u001b[1;33m.\u001b[0m\u001b[0mvalues\u001b[0m\u001b[1;33m(\u001b[0m\u001b[1;33m)\u001b[0m\u001b[1;33m]\u001b[0m\u001b[1;33m\u001b[0m\u001b[0m\n\u001b[0m",
      "\u001b[1;31mKeyError\u001b[0m: 'scores'"
     ]
    }
   ],
   "source": [
    "[(g['scores'][g['team_1']],g['scores'][g['team_2']],\n",
    "  st[g['team_1']]-st[g['team_2']]) for g in DB['Games'].values()]"
   ]
  },
  {
   "cell_type": "code",
   "execution_count": null,
   "metadata": {
    "collapsed": true
   },
   "outputs": [],
   "source": [
    "teams = bayes.make_teams(DB['Sessions'][3]['teams'])\n",
    "sess = bayes.init_session(teams)\n",
    "sess.games = bayes.mcmc_games([DB['Games'][id] for id in DB['Sessions'][3]['games']],teams)"
   ]
  },
  {
   "cell_type": "code",
   "execution_count": 392,
   "metadata": {
    "collapsed": false
   },
   "outputs": [
    {
     "data": {
      "text/plain": [
       "{u'id': 0,\n",
       " u'round': 1,\n",
       " u'scores': {2: 6, 9: 2},\n",
       " u'status': 1,\n",
       " u'team_1': 2,\n",
       " u'team_2': 9}"
      ]
     },
     "execution_count": 392,
     "metadata": {},
     "output_type": "execute_result"
    }
   ],
   "source": [
    "DB['Games'][0]"
   ]
  },
  {
   "cell_type": "code",
   "execution_count": 406,
   "metadata": {
    "collapsed": false
   },
   "outputs": [
    {
     "data": {
      "text/plain": [
       "[{u'id': 0,\n",
       "  u'round': 1,\n",
       "  u'scores': {2: 6, 9: 2},\n",
       "  u'status': 1,\n",
       "  u'team_1': 2,\n",
       "  u'team_2': 9},\n",
       " {u'id': 1,\n",
       "  u'round': 1,\n",
       "  u'scores': {1: 2, 13: 4},\n",
       "  u'status': 1,\n",
       "  u'team_1': 1,\n",
       "  u'team_2': 13},\n",
       " {u'id': 2,\n",
       "  u'round': 1,\n",
       "  u'scores': {7: 3, 10: 2},\n",
       "  u'status': 1,\n",
       "  u'team_1': 7,\n",
       "  u'team_2': 10},\n",
       " {u'id': 3,\n",
       "  u'round': 1,\n",
       "  u'scores': {8: 3, 12: 5},\n",
       "  u'status': 1,\n",
       "  u'team_1': 12,\n",
       "  u'team_2': 8},\n",
       " {u'id': 4,\n",
       "  u'round': 1,\n",
       "  u'scores': {0: 1, 11: 11},\n",
       "  u'status': 1,\n",
       "  u'team_1': 11,\n",
       "  u'team_2': 0},\n",
       " {u'id': 5,\n",
       "  u'round': 1,\n",
       "  u'scores': {3: 2, 4: 1},\n",
       "  u'status': 1,\n",
       "  u'team_1': 3,\n",
       "  u'team_2': 4},\n",
       " {u'id': 6,\n",
       "  u'round': 1,\n",
       "  u'scores': {5: 2, 6: 5},\n",
       "  u'status': 1,\n",
       "  u'team_1': 6,\n",
       "  u'team_2': 5},\n",
       " {u'id': 7,\n",
       "  u'round': 1,\n",
       "  u'scores': {15: 1, 25: 5},\n",
       "  u'status': 1,\n",
       "  u'team_1': 15,\n",
       "  u'team_2': 25},\n",
       " {u'id': 8,\n",
       "  u'round': 1,\n",
       "  u'scores': {19: 2, 24: 3},\n",
       "  u'status': 1,\n",
       "  u'team_1': 19,\n",
       "  u'team_2': 24},\n",
       " {u'id': 9,\n",
       "  u'round': 1,\n",
       "  u'scores': {16: 4, 21: 2},\n",
       "  u'status': 1,\n",
       "  u'team_1': 16,\n",
       "  u'team_2': 21},\n",
       " {u'id': 10,\n",
       "  u'round': 1,\n",
       "  u'scores': {17: 1, 18: 2},\n",
       "  u'status': 1,\n",
       "  u'team_1': 17,\n",
       "  u'team_2': 18},\n",
       " {u'id': 11,\n",
       "  u'round': 1,\n",
       "  u'scores': {14: 3, 23: 1},\n",
       "  u'status': 1,\n",
       "  u'team_1': 23,\n",
       "  u'team_2': 14},\n",
       " {u'id': 12,\n",
       "  u'round': 1,\n",
       "  u'scores': {20: 4, 22: 1},\n",
       "  u'status': 1,\n",
       "  u'team_1': 20,\n",
       "  u'team_2': 22},\n",
       " {u'id': 13,\n",
       "  u'round': 1,\n",
       "  u'scores': {26: 2, 27: 1},\n",
       "  u'status': 1,\n",
       "  u'team_1': 26,\n",
       "  u'team_2': 27},\n",
       " {u'id': 14,\n",
       "  u'round': 1,\n",
       "  u'scores': {2: 0, 13: 0},\n",
       "  u'status': 0,\n",
       "  u'team_1': 13,\n",
       "  u'team_2': 2},\n",
       " {u'id': 15,\n",
       "  u'round': 1,\n",
       "  u'scores': {1: 0, 9: 0},\n",
       "  u'status': 0,\n",
       "  u'team_1': 1,\n",
       "  u'team_2': 9},\n",
       " {u'id': 16,\n",
       "  u'round': 2,\n",
       "  u'scores': {2: 3, 13: 1},\n",
       "  u'status': 1,\n",
       "  u'team_1': 13,\n",
       "  u'team_2': 2},\n",
       " {u'id': 17,\n",
       "  u'round': 2,\n",
       "  u'scores': {1: 4, 9: 2},\n",
       "  u'status': 1,\n",
       "  u'team_1': 1,\n",
       "  u'team_2': 9},\n",
       " {u'id': 18,\n",
       "  u'round': 2,\n",
       "  u'scores': {7: 2, 12: 0},\n",
       "  u'status': 1,\n",
       "  u'team_1': 7,\n",
       "  u'team_2': 12},\n",
       " {u'id': 19,\n",
       "  u'round': 2,\n",
       "  u'scores': {3: 0, 11: 9},\n",
       "  u'status': 1,\n",
       "  u'team_1': 11,\n",
       "  u'team_2': 3},\n",
       " {u'id': 20,\n",
       "  u'round': 2,\n",
       "  u'scores': {0: 3, 4: 1},\n",
       "  u'status': 1,\n",
       "  u'team_1': 0,\n",
       "  u'team_2': 4},\n",
       " {u'id': 21,\n",
       "  u'round': 2,\n",
       "  u'scores': {5: 2, 8: 6},\n",
       "  u'status': 1,\n",
       "  u'team_1': 8,\n",
       "  u'team_2': 5},\n",
       " {u'id': 22,\n",
       "  u'round': 2,\n",
       "  u'scores': {6: 5, 10: 3},\n",
       "  u'status': 1,\n",
       "  u'team_1': 6,\n",
       "  u'team_2': 10},\n",
       " {u'id': 23,\n",
       "  u'round': 3,\n",
       "  u'scores': {2: 0, 11: 0},\n",
       "  u'status': 0,\n",
       "  u'team_1': 2,\n",
       "  u'team_2': 11},\n",
       " {u'id': 24,\n",
       "  u'round': 3,\n",
       "  u'scores': {1: 3, 12: 1},\n",
       "  u'status': 1,\n",
       "  u'team_1': 1,\n",
       "  u'team_2': 12},\n",
       " {u'id': 25,\n",
       "  u'round': 3,\n",
       "  u'scores': {0: 1, 13: 7},\n",
       "  u'status': 1,\n",
       "  u'team_1': 13,\n",
       "  u'team_2': 0},\n",
       " {u'id': 26,\n",
       "  u'round': 3,\n",
       "  u'scores': {4: 1, 9: 6},\n",
       "  u'status': 1,\n",
       "  u'team_1': 9,\n",
       "  u'team_2': 4},\n",
       " {u'id': 27,\n",
       "  u'round': 3,\n",
       "  u'scores': {2: 4, 11: 0},\n",
       "  u'status': 1,\n",
       "  u'team_1': 2,\n",
       "  u'team_2': 11},\n",
       " {u'id': 28,\n",
       "  u'round': 3,\n",
       "  u'scores': {5: 1, 7: 6},\n",
       "  u'status': 1,\n",
       "  u'team_1': 5,\n",
       "  u'team_2': 7},\n",
       " {u'id': 29,\n",
       "  u'round': 3,\n",
       "  u'scores': {6: 2, 8: 1},\n",
       "  u'status': 1,\n",
       "  u'team_1': 6,\n",
       "  u'team_2': 8},\n",
       " {u'id': 30,\n",
       "  u'round': 3,\n",
       "  u'scores': {3: 3, 10: 1},\n",
       "  u'status': 1,\n",
       "  u'team_1': 3,\n",
       "  u'team_2': 10},\n",
       " {u'id': 31,\n",
       "  u'round': 4,\n",
       "  u'scores': {2: 7, 7: 1},\n",
       "  u'status': 1,\n",
       "  u'team_1': 2,\n",
       "  u'team_2': 7},\n",
       " {u'id': 32,\n",
       "  u'round': 4,\n",
       "  u'scores': {11: 1, 13: 4},\n",
       "  u'status': 1,\n",
       "  u'team_1': 11,\n",
       "  u'team_2': 13},\n",
       " {u'id': 33,\n",
       "  u'round': 4,\n",
       "  u'scores': {0: 1, 10: 1},\n",
       "  u'status': 1,\n",
       "  u'team_1': 0,\n",
       "  u'team_2': 10},\n",
       " {u'id': 34,\n",
       "  u'round': 4,\n",
       "  u'scores': {4: 8, 5: 5},\n",
       "  u'status': 1,\n",
       "  u'team_1': 4,\n",
       "  u'team_2': 5},\n",
       " {u'id': 35,\n",
       "  u'round': 4,\n",
       "  u'scores': {3: 2, 8: 2},\n",
       "  u'status': 1,\n",
       "  u'team_1': 3,\n",
       "  u'team_2': 8},\n",
       " {u'id': 36,\n",
       "  u'round': 4,\n",
       "  u'scores': {9: 6, 12: 0},\n",
       "  u'status': 1,\n",
       "  u'team_1': 12,\n",
       "  u'team_2': 9},\n",
       " {u'id': 37,\n",
       "  u'round': 4,\n",
       "  u'scores': {1: 4, 6: 1},\n",
       "  u'status': 1,\n",
       "  u'team_1': 6,\n",
       "  u'team_2': 1},\n",
       " {u'id': 38,\n",
       "  u'round': 5,\n",
       "  u'scoores': {0: 0, 12: 0},\n",
       "  u'score_1': None,\n",
       "  u'score_2': None,\n",
       "  u'scores': {0: 1, 12: 4},\n",
       "  u'status': 1,\n",
       "  u'team_1': 0,\n",
       "  u'team_2': 12},\n",
       " {u'id': 39,\n",
       "  u'round': 5,\n",
       "  u'scoores': {1: 0, 11: 0},\n",
       "  u'score_1': None,\n",
       "  u'score_2': None,\n",
       "  u'scores': {1: 4, 11: 0},\n",
       "  u'status': 1,\n",
       "  u'team_1': 1,\n",
       "  u'team_2': 11},\n",
       " {u'id': 40,\n",
       "  u'round': 5,\n",
       "  u'scoores': {2: 0, 10: 0},\n",
       "  u'score_1': None,\n",
       "  u'score_2': None,\n",
       "  u'scores': {2: 9, 10: 0},\n",
       "  u'status': 1,\n",
       "  u'team_1': 2,\n",
       "  u'team_2': 10},\n",
       " {u'id': 41,\n",
       "  u'round': 5,\n",
       "  u'scoores': {3: 0, 13: 0},\n",
       "  u'score_1': None,\n",
       "  u'score_2': None,\n",
       "  u'status': 0,\n",
       "  u'team_1': 3,\n",
       "  u'team_2': 13},\n",
       " {u'id': 42,\n",
       "  u'round': 5,\n",
       "  u'scoores': {4: 0, 8: 0},\n",
       "  u'score_1': None,\n",
       "  u'score_2': None,\n",
       "  u'scores': {4: 0, 8: 1},\n",
       "  u'status': 1,\n",
       "  u'team_1': 4,\n",
       "  u'team_2': 8},\n",
       " {u'id': 43,\n",
       "  u'round': 5,\n",
       "  u'scoores': {5: 0, 9: 0},\n",
       "  u'score_1': None,\n",
       "  u'score_2': None,\n",
       "  u'scores': {5: 2, 9: 8},\n",
       "  u'status': 1,\n",
       "  u'team_1': 5,\n",
       "  u'team_2': 9},\n",
       " {u'id': 44,\n",
       "  u'round': 5,\n",
       "  u'scoores': {6: 0, 7: 0},\n",
       "  u'score_1': None,\n",
       "  u'score_2': None,\n",
       "  u'status': 0,\n",
       "  u'team_1': 6,\n",
       "  u'team_2': 7},\n",
       " {u'id': 45,\n",
       "  u'round': 5,\n",
       "  u'scores': {7: 0, 13: 3},\n",
       "  u'status': 1,\n",
       "  u'team_1': 13,\n",
       "  u'team_2': 7},\n",
       " {u'id': 46,\n",
       "  u'round': 5,\n",
       "  u'scores': {3: 0, 6: 5},\n",
       "  u'status': 1,\n",
       "  u'team_1': 6,\n",
       "  u'team_2': 3},\n",
       " {u'id': 47,\n",
       "  u'round': 6,\n",
       "  u'scores': {7: 0, 12: 0},\n",
       "  u'status': 0,\n",
       "  u'team_1': 7,\n",
       "  u'team_2': 12},\n",
       " {u'id': 48,\n",
       "  u'round': 6,\n",
       "  u'scores': {1: 0, 8: 0},\n",
       "  u'status': 0,\n",
       "  u'team_1': 8,\n",
       "  u'team_2': 1},\n",
       " {u'id': 49,\n",
       "  u'round': 2,\n",
       "  u'scores': {16: 1, 24: 5},\n",
       "  u'status': 1,\n",
       "  u'team_1': 24,\n",
       "  u'team_2': 16},\n",
       " {u'id': 50,\n",
       "  u'round': 2,\n",
       "  u'scores': {19: 3, 21: 0},\n",
       "  u'status': 1,\n",
       "  u'team_1': 19,\n",
       "  u'team_2': 21},\n",
       " {u'id': 51,\n",
       "  u'round': 2,\n",
       "  u'scores': {14: 1, 25: 1},\n",
       "  u'status': 1,\n",
       "  u'team_1': 14,\n",
       "  u'team_2': 25},\n",
       " {u'id': 52,\n",
       "  u'round': 2,\n",
       "  u'scores': {15: 2, 23: 2},\n",
       "  u'status': 1,\n",
       "  u'team_1': 15,\n",
       "  u'team_2': 23},\n",
       " {u'id': 53,\n",
       "  u'round': 2,\n",
       "  u'scores': {18: 0, 26: 0},\n",
       "  u'status': 0,\n",
       "  u'team_1': 18,\n",
       "  u'team_2': 26},\n",
       " {u'id': 54,\n",
       "  u'round': 2,\n",
       "  u'scores': {17: 0, 27: 0},\n",
       "  u'status': 0,\n",
       "  u'team_1': 17,\n",
       "  u'team_2': 27},\n",
       " {u'id': 55,\n",
       "  u'round': 2,\n",
       "  u'scores': {20: 2, 26: 0},\n",
       "  u'status': 1,\n",
       "  u'team_1': 20,\n",
       "  u'team_2': 26},\n",
       " {u'id': 56,\n",
       "  u'round': 2,\n",
       "  u'scores': {17: 11, 27: 0},\n",
       "  u'status': 1,\n",
       "  u'team_1': 17,\n",
       "  u'team_2': 27},\n",
       " {u'id': 57,\n",
       "  u'round': 2,\n",
       "  u'scores': {18: 8, 22: 0},\n",
       "  u'status': 1,\n",
       "  u'team_1': 18,\n",
       "  u'team_2': 22},\n",
       " {u'id': 58,\n",
       "  u'round': 3,\n",
       "  u'scores': {15: 4, 21: 3},\n",
       "  u'status': 1,\n",
       "  u'team_1': 21,\n",
       "  u'team_2': 15},\n",
       " {u'id': 59,\n",
       "  u'round': 3,\n",
       "  u'scores': {24: 4, 25: 1},\n",
       "  u'status': 1,\n",
       "  u'team_1': 24,\n",
       "  u'team_2': 25},\n",
       " {u'id': 60,\n",
       "  u'round': 3,\n",
       "  u'scores': {16: 1, 19: 2},\n",
       "  u'status': 1,\n",
       "  u'team_1': 16,\n",
       "  u'team_2': 19},\n",
       " {u'id': 61,\n",
       "  u'round': 3,\n",
       "  u'scores': {14: 7, 20: 0},\n",
       "  u'status': 1,\n",
       "  u'team_1': 20,\n",
       "  u'team_2': 14},\n",
       " {u'id': 62,\n",
       "  u'round': 3,\n",
       "  u'scores': {18: 6, 23: 0},\n",
       "  u'status': 1,\n",
       "  u'team_1': 18,\n",
       "  u'team_2': 23},\n",
       " {u'id': 63,\n",
       "  u'round': 3,\n",
       "  u'scores': {17: 3, 26: 2},\n",
       "  u'status': 1,\n",
       "  u'team_1': 17,\n",
       "  u'team_2': 26},\n",
       " {u'id': 64,\n",
       "  u'round': 3,\n",
       "  u'scores': {22: 10, 27: 2},\n",
       "  u'status': 1,\n",
       "  u'team_1': 22,\n",
       "  u'team_2': 27},\n",
       " {u'id': 65,\n",
       "  u'round': 4,\n",
       "  u'scores': {20: 0, 25: 12},\n",
       "  u'status': 1,\n",
       "  u'team_1': 20,\n",
       "  u'team_2': 25},\n",
       " {u'id': 66,\n",
       "  u'round': 4,\n",
       "  u'scores': {18: 0, 24: 7},\n",
       "  u'status': 1,\n",
       "  u'team_1': 18,\n",
       "  u'team_2': 24},\n",
       " {u'id': 67,\n",
       "  u'round': 4,\n",
       "  u'scores': {16: 5, 23: 4},\n",
       "  u'status': 1,\n",
       "  u'team_1': 23,\n",
       "  u'team_2': 16},\n",
       " {u'id': 68,\n",
       "  u'round': 4,\n",
       "  u'scores': {14: 2, 19: 2},\n",
       "  u'status': 1,\n",
       "  u'team_1': 14,\n",
       "  u'team_2': 19},\n",
       " {u'id': 69,\n",
       "  u'round': 4,\n",
       "  u'scores': {15: 0, 17: 3},\n",
       "  u'status': 1,\n",
       "  u'team_1': 17,\n",
       "  u'team_2': 15},\n",
       " {u'id': 70,\n",
       "  u'round': 4,\n",
       "  u'scores': {21: 7, 27: 1},\n",
       "  u'status': 1,\n",
       "  u'team_1': 21,\n",
       "  u'team_2': 27},\n",
       " {u'id': 71,\n",
       "  u'round': 4,\n",
       "  u'scores': {22: 4, 26: 2},\n",
       "  u'status': 1,\n",
       "  u'team_1': 26,\n",
       "  u'team_2': 22},\n",
       " {u'id': 72,\n",
       "  u'round': 5,\n",
       "  u'scoores': {14: 0, 27: 0},\n",
       "  u'score_1': None,\n",
       "  u'score_2': None,\n",
       "  u'scores': {14: 10, 27: 0},\n",
       "  u'status': 1,\n",
       "  u'team_1': 14,\n",
       "  u'team_2': 27},\n",
       " {u'id': 73,\n",
       "  u'round': 5,\n",
       "  u'scoores': {15: 0, 26: 0},\n",
       "  u'score_1': None,\n",
       "  u'score_2': None,\n",
       "  u'scores': {15: 4, 26: 1},\n",
       "  u'status': 1,\n",
       "  u'team_1': 15,\n",
       "  u'team_2': 26},\n",
       " {u'id': 74,\n",
       "  u'round': 5,\n",
       "  u'scoores': {16: 0, 25: 0},\n",
       "  u'score_1': None,\n",
       "  u'score_2': None,\n",
       "  u'scores': {16: 2, 25: 0},\n",
       "  u'status': 1,\n",
       "  u'team_1': 16,\n",
       "  u'team_2': 25},\n",
       " {u'id': 75,\n",
       "  u'round': 5,\n",
       "  u'scoores': {17: 0, 24: 0},\n",
       "  u'score_1': None,\n",
       "  u'score_2': None,\n",
       "  u'scores': {17: 2, 24: 4},\n",
       "  u'status': 1,\n",
       "  u'team_1': 17,\n",
       "  u'team_2': 24},\n",
       " {u'id': 76,\n",
       "  u'round': 5,\n",
       "  u'scoores': {18: 0, 20: 0},\n",
       "  u'score_1': None,\n",
       "  u'score_2': None,\n",
       "  u'scores': {18: 6, 20: 2},\n",
       "  u'status': 1,\n",
       "  u'team_1': 18,\n",
       "  u'team_2': 20},\n",
       " {u'id': 77,\n",
       "  u'round': 5,\n",
       "  u'scoores': {19: 0, 23: 0},\n",
       "  u'score_1': None,\n",
       "  u'score_2': None,\n",
       "  u'scores': {19: 7, 23: 0},\n",
       "  u'status': 1,\n",
       "  u'team_1': 19,\n",
       "  u'team_2': 23},\n",
       " {u'id': 78,\n",
       "  u'round': 5,\n",
       "  u'scoores': {21: 0, 22: 0},\n",
       "  u'score_1': None,\n",
       "  u'score_2': None,\n",
       "  u'scores': {21: 3, 22: 1},\n",
       "  u'status': 1,\n",
       "  u'team_1': 21,\n",
       "  u'team_2': 22},\n",
       " {u'id': 79,\n",
       "  u'round': 6,\n",
       "  u'scores': {2: 0, 16: 0},\n",
       "  u'status': 0,\n",
       "  u'team_1': 2,\n",
       "  u'team_2': 16},\n",
       " {u'id': 80,\n",
       "  u'round': 6,\n",
       "  u'scores': {2: 0, 19: 0},\n",
       "  u'status': 0,\n",
       "  u'team_1': 2,\n",
       "  u'team_2': 19},\n",
       " {u'id': 81,\n",
       "  u'round': 6,\n",
       "  u'scores': {1: 0, 16: 0},\n",
       "  u'status': 0,\n",
       "  u'team_1': 1,\n",
       "  u'team_2': 16},\n",
       " {u'id': 82,\n",
       "  u'round': 6,\n",
       "  u'scores': {11: 0, 18: 0},\n",
       "  u'status': 0,\n",
       "  u'team_1': 11,\n",
       "  u'team_2': 18},\n",
       " {u'id': 83,\n",
       "  u'round': 6,\n",
       "  u'scores': {6: 0, 15: 0},\n",
       "  u'status': 0,\n",
       "  u'team_1': 6,\n",
       "  u'team_2': 15},\n",
       " {u'id': 84,\n",
       "  u'round': 6,\n",
       "  u'scores': {8: 0, 21: 0},\n",
       "  u'status': 0,\n",
       "  u'team_1': 8,\n",
       "  u'team_2': 21},\n",
       " {u'id': 85,\n",
       "  u'round': 6,\n",
       "  u'scores': {0: 0, 22: 0},\n",
       "  u'status': 0,\n",
       "  u'team_1': 0,\n",
       "  u'team_2': 22},\n",
       " {u'id': 86,\n",
       "  u'round': 6,\n",
       "  u'scores': {4: 0, 27: 0},\n",
       "  u'status': 0,\n",
       "  u'team_1': 4,\n",
       "  u'team_2': 27},\n",
       " {u'id': 87,\n",
       "  u'round': 6,\n",
       "  u'scores': {13: 4, 24: 3},\n",
       "  u'status': 1,\n",
       "  u'team_1': 24,\n",
       "  u'team_2': 13},\n",
       " {u'id': 88,\n",
       "  u'round': 6,\n",
       "  u'scores': {9: 6, 14: 1},\n",
       "  u'status': 1,\n",
       "  u'team_1': 14,\n",
       "  u'team_2': 9},\n",
       " {u'id': 89,\n",
       "  u'round': 6,\n",
       "  u'scores': {7: 3, 25: 3},\n",
       "  u'status': 1,\n",
       "  u'team_1': 25,\n",
       "  u'team_2': 7},\n",
       " {u'id': 90,\n",
       "  u'round': 6,\n",
       "  u'scores': {12: 0, 17: 3},\n",
       "  u'status': 1,\n",
       "  u'team_1': 17,\n",
       "  u'team_2': 12},\n",
       " {u'id': 91,\n",
       "  u'round': 6,\n",
       "  u'scores': {3: 2, 23: 4},\n",
       "  u'status': 1,\n",
       "  u'team_1': 23,\n",
       "  u'team_2': 3},\n",
       " {u'id': 92,\n",
       "  u'round': 6,\n",
       "  u'scores': {3: 3, 20: 10},\n",
       "  u'status': 1,\n",
       "  u'team_1': 3,\n",
       "  u'team_2': 20},\n",
       " {u'id': 93,\n",
       "  u'round': 6,\n",
       "  u'scores': {10: 10, 20: 3},\n",
       "  u'status': 1,\n",
       "  u'team_1': 20,\n",
       "  u'team_2': 10},\n",
       " {u'id': 94,\n",
       "  u'round': 6,\n",
       "  u'scores': {5: 3, 26: 1},\n",
       "  u'status': 1,\n",
       "  u'team_1': 26,\n",
       "  u'team_2': 5},\n",
       " {u'id': 95,\n",
       "  u'round': 6,\n",
       "  u'scores': {13: 0, 24: 0},\n",
       "  u'status': 0,\n",
       "  u'team_1': 24,\n",
       "  u'team_2': 13},\n",
       " {u'id': 96,\n",
       "  u'round': 6,\n",
       "  u'scores': {9: 0, 14: 0},\n",
       "  u'status': 0,\n",
       "  u'team_1': 14,\n",
       "  u'team_2': 9},\n",
       " {u'id': 97,\n",
       "  u'round': 6,\n",
       "  u'scores': {7: 0, 25: 0},\n",
       "  u'status': 0,\n",
       "  u'team_1': 25,\n",
       "  u'team_2': 7},\n",
       " {u'id': 98,\n",
       "  u'round': 6,\n",
       "  u'scores': {12: 0, 17: 0},\n",
       "  u'status': 0,\n",
       "  u'team_1': 17,\n",
       "  u'team_2': 12},\n",
       " {u'id': 99,\n",
       "  u'round': 6,\n",
       "  u'scores': {3: 0, 23: 0},\n",
       "  u'status': 0,\n",
       "  u'team_1': 23,\n",
       "  u'team_2': 3},\n",
       " {u'id': 100,\n",
       "  u'round': 6,\n",
       "  u'scores': {10: 0, 20: 0},\n",
       "  u'status': 0,\n",
       "  u'team_1': 20,\n",
       "  u'team_2': 10},\n",
       " {u'id': 101,\n",
       "  u'round': 6,\n",
       "  u'scores': {5: 0, 26: 0},\n",
       "  u'status': 0,\n",
       "  u'team_1': 26,\n",
       "  u'team_2': 5},\n",
       " {u'id': 102,\n",
       "  u'round': 6,\n",
       "  u'scores': {2: 8, 19: 1},\n",
       "  u'status': 1,\n",
       "  u'team_1': 2,\n",
       "  u'team_2': 19},\n",
       " {u'id': 103,\n",
       "  u'round': 6,\n",
       "  u'scores': {1: 10, 16: 3},\n",
       "  u'status': 1,\n",
       "  u'team_1': 1,\n",
       "  u'team_2': 16},\n",
       " {u'id': 104,\n",
       "  u'round': 6,\n",
       "  u'scores': {11: 7, 18: 0},\n",
       "  u'status': 1,\n",
       "  u'team_1': 11,\n",
       "  u'team_2': 18},\n",
       " {u'id': 105,\n",
       "  u'round': 6,\n",
       "  u'scores': {6: 5, 15: 2},\n",
       "  u'status': 1,\n",
       "  u'team_1': 6,\n",
       "  u'team_2': 15},\n",
       " {u'id': 106,\n",
       "  u'round': 6,\n",
       "  u'scores': {8: 3, 21: 2},\n",
       "  u'status': 1,\n",
       "  u'team_1': 8,\n",
       "  u'team_2': 21},\n",
       " {u'id': 107,\n",
       "  u'round': 6,\n",
       "  u'scores': {0: 2, 22: 3},\n",
       "  u'status': 1,\n",
       "  u'team_1': 0,\n",
       "  u'team_2': 22},\n",
       " {u'id': 108,\n",
       "  u'round': 6,\n",
       "  u'scores': {4: 7, 27: 0},\n",
       "  u'status': 1,\n",
       "  u'team_1': 4,\n",
       "  u'team_2': 27},\n",
       " {'id': 109,\n",
       "  'round': 7,\n",
       "  'scores': {6: 2, 16: 6},\n",
       "  'status': 1,\n",
       "  'team_1': 16,\n",
       "  'team_2': 6},\n",
       " {'id': 110,\n",
       "  'round': 7,\n",
       "  'scores': {1: 3, 2: 4},\n",
       "  'status': 1,\n",
       "  'team_1': 2,\n",
       "  'team_2': 1},\n",
       " {'id': 111,\n",
       "  'round': 7,\n",
       "  'scores': {11: 1, 19: 2},\n",
       "  'status': 1,\n",
       "  'team_1': 11,\n",
       "  'team_2': 19},\n",
       " {'id': 112,\n",
       "  'round': 7,\n",
       "  'scores': {8: 4, 15: 2},\n",
       "  'status': 1,\n",
       "  'team_1': 8,\n",
       "  'team_2': 15},\n",
       " {'id': 113,\n",
       "  'round': 7,\n",
       "  'scores': {18: 4, 21: 0},\n",
       "  'status': 1,\n",
       "  'team_1': 18,\n",
       "  'team_2': 21},\n",
       " {'id': 114,\n",
       "  'round': 7,\n",
       "  'scores': {4: 4, 22: 5},\n",
       "  'status': 1,\n",
       "  'team_1': 22,\n",
       "  'team_2': 4},\n",
       " {'id': 115,\n",
       "  'round': 7,\n",
       "  'scores': {0: 6, 27: 0},\n",
       "  'status': 1,\n",
       "  'team_1': 0,\n",
       "  'team_2': 27},\n",
       " {'id': 116,\n",
       "  'round': 8,\n",
       "  'scores': {2: 3, 16: 0},\n",
       "  'status': 1,\n",
       "  'team_1': 2,\n",
       "  'team_2': 16},\n",
       " {'id': 117,\n",
       "  'round': 8,\n",
       "  'scores': {1: 2, 19: 4},\n",
       "  'status': 1,\n",
       "  'team_1': 1,\n",
       "  'team_2': 19},\n",
       " {'id': 118,\n",
       "  'round': 8,\n",
       "  'scores': {6: 3, 11: 4},\n",
       "  'status': 1,\n",
       "  'team_1': 11,\n",
       "  'team_2': 6},\n",
       " {'id': 119,\n",
       "  'round': 8,\n",
       "  'scores': {8: 3, 22: 3},\n",
       "  'status': 1,\n",
       "  'team_1': 22,\n",
       "  'team_2': 8},\n",
       " {'id': 120,\n",
       "  'round': 8,\n",
       "  'scores': {4: 0, 18: 0},\n",
       "  'status': 0,\n",
       "  'team_1': 18,\n",
       "  'team_2': 4},\n",
       " {'id': 121,\n",
       "  'round': 8,\n",
       "  'scores': {0: 0, 21: 0},\n",
       "  'status': 0,\n",
       "  'team_1': 0,\n",
       "  'team_2': 21},\n",
       " {'id': 122,\n",
       "  'round': 8,\n",
       "  'scores': {15: 5, 27: 0},\n",
       "  'status': 1,\n",
       "  'team_1': 27,\n",
       "  'team_2': 15},\n",
       " {'id': 123,\n",
       "  'round': 8,\n",
       "  'scores': {0: 1, 18: 11},\n",
       "  'status': 1,\n",
       "  'team_1': 18,\n",
       "  'team_2': 0},\n",
       " {'id': 124,\n",
       "  'round': 8,\n",
       "  'scores': {4: 4, 21: 2},\n",
       "  'status': 1,\n",
       "  'team_1': 4,\n",
       "  'team_2': 21},\n",
       " {'id': 125,\n",
       "  'round': 9,\n",
       "  'scoores': {0: 0, 21: 0},\n",
       "  'score_1': None,\n",
       "  'score_2': None,\n",
       "  'scores': {0: 2, 21: 2},\n",
       "  'status': 1,\n",
       "  'team_1': 0,\n",
       "  'team_2': 21},\n",
       " {'id': 126,\n",
       "  'round': 9,\n",
       "  'scoores': {1: 0, 27: 0},\n",
       "  'score_1': None,\n",
       "  'score_2': None,\n",
       "  'scores': {1: 14, 27: 0},\n",
       "  'status': 1,\n",
       "  'team_1': 1,\n",
       "  'team_2': 27},\n",
       " {'id': 127,\n",
       "  'round': 9,\n",
       "  'scoores': {2: 0, 22: 0},\n",
       "  'score_1': None,\n",
       "  'score_2': None,\n",
       "  'scores': {2: 15, 22: 1},\n",
       "  'status': 1,\n",
       "  'team_1': 2,\n",
       "  'team_2': 22},\n",
       " {'id': 128,\n",
       "  'round': 9,\n",
       "  'scoores': {4: 0, 19: 0},\n",
       "  'score_1': None,\n",
       "  'score_2': None,\n",
       "  'scores': {4: 0, 19: 8},\n",
       "  'status': 1,\n",
       "  'team_1': 4,\n",
       "  'team_2': 19},\n",
       " {'id': 129,\n",
       "  'round': 9,\n",
       "  'scoores': {6: 0, 18: 0},\n",
       "  'score_1': None,\n",
       "  'score_2': None,\n",
       "  'scores': {6: 4, 18: 0},\n",
       "  'status': 1,\n",
       "  'team_1': 6,\n",
       "  'team_2': 18},\n",
       " {'id': 130,\n",
       "  'round': 9,\n",
       "  'scoores': {8: 0, 16: 0},\n",
       "  'score_1': None,\n",
       "  'score_2': None,\n",
       "  'scores': {8: 1, 16: 2},\n",
       "  'status': 1,\n",
       "  'team_1': 8,\n",
       "  'team_2': 16},\n",
       " {'id': 131,\n",
       "  'round': 9,\n",
       "  'scoores': {11: 0, 15: 0},\n",
       "  'score_1': None,\n",
       "  'score_2': None,\n",
       "  'scores': {11: 10, 15: 1},\n",
       "  'status': 1,\n",
       "  'team_1': 11,\n",
       "  'team_2': 15},\n",
       " {'id': 132,\n",
       "  'round': 6,\n",
       "  'scores': {13: 5, 14: 0},\n",
       "  'status': 1,\n",
       "  'team_1': 13,\n",
       "  'team_2': 14},\n",
       " {'id': 133,\n",
       "  'round': 6,\n",
       "  'scores': {9: 4, 24: 1},\n",
       "  'status': 1,\n",
       "  'team_1': 24,\n",
       "  'team_2': 9},\n",
       " {'id': 134,\n",
       "  'round': 6,\n",
       "  'scores': {17: 5, 25: 2},\n",
       "  'status': 1,\n",
       "  'team_1': 25,\n",
       "  'team_2': 17},\n",
       " {'id': 135,\n",
       "  'round': 6,\n",
       "  'scores': {7: 4, 23: 1},\n",
       "  'status': 1,\n",
       "  'team_1': 7,\n",
       "  'team_2': 23},\n",
       " {'id': 136,\n",
       "  'round': 6,\n",
       "  'scores': {3: 1, 12: 6},\n",
       "  'status': 1,\n",
       "  'team_1': 12,\n",
       "  'team_2': 3},\n",
       " {'id': 137,\n",
       "  'round': 6,\n",
       "  'scores': {10: 10, 26: 2},\n",
       "  'status': 1,\n",
       "  'team_1': 10,\n",
       "  'team_2': 26},\n",
       " {'id': 138,\n",
       "  'round': 6,\n",
       "  'scores': {5: 2, 20: 5},\n",
       "  'status': 1,\n",
       "  'team_1': 20,\n",
       "  'team_2': 5},\n",
       " {'id': 139,\n",
       "  'round': 8,\n",
       "  'scores': {9: 0, 24: 0},\n",
       "  'status': 0,\n",
       "  'team_1': 9,\n",
       "  'team_2': 24},\n",
       " {'id': 140,\n",
       "  'round': 8,\n",
       "  'scores': {9: 3, 13: 3},\n",
       "  'status': 1,\n",
       "  'team_1': 9,\n",
       "  'team_2': 13},\n",
       " {'id': 141,\n",
       "  'round': 8,\n",
       "  'scores': {14: 1, 24: 1},\n",
       "  'status': 1,\n",
       "  'team_1': 24,\n",
       "  'team_2': 14},\n",
       " {'id': 142,\n",
       "  'round': 8,\n",
       "  'scoores': {3: 0, 25: 0},\n",
       "  'score_1': None,\n",
       "  'score_2': None,\n",
       "  'scores': {3: 1, 25: 6},\n",
       "  'status': 1,\n",
       "  'team_1': 3,\n",
       "  'team_2': 25},\n",
       " {'id': 143,\n",
       "  'round': 8,\n",
       "  'scoores': {5: 0, 12: 0},\n",
       "  'score_1': None,\n",
       "  'score_2': None,\n",
       "  'scores': {5: 2, 12: 5},\n",
       "  'status': 1,\n",
       "  'team_1': 5,\n",
       "  'team_2': 12},\n",
       " {'id': 144,\n",
       "  'round': 8,\n",
       "  'scoores': {7: 0, 26: 0},\n",
       "  'score_1': None,\n",
       "  'score_2': None,\n",
       "  'scores': {7: 6, 26: 0},\n",
       "  'status': 1,\n",
       "  'team_1': 7,\n",
       "  'team_2': 26},\n",
       " {'id': 145,\n",
       "  'round': 8,\n",
       "  'scoores': {10: 0, 23: 0},\n",
       "  'score_1': None,\n",
       "  'score_2': None,\n",
       "  'scores': {10: 2, 23: 3},\n",
       "  'status': 1,\n",
       "  'team_1': 10,\n",
       "  'team_2': 23},\n",
       " {'id': 146,\n",
       "  'round': 8,\n",
       "  'scoores': {17: 0, 20: 0},\n",
       "  'score_1': None,\n",
       "  'score_2': None,\n",
       "  'scores': {17: 3, 20: 3},\n",
       "  'status': 1,\n",
       "  'team_1': 17,\n",
       "  'team_2': 20},\n",
       " {'id': 147,\n",
       "  'round': 9,\n",
       "  'scoores': {7: 0, 24: 0},\n",
       "  'score_1': None,\n",
       "  'score_2': None,\n",
       "  'status': 0,\n",
       "  'team_1': 7,\n",
       "  'team_2': 24},\n",
       " {'id': 148,\n",
       "  'round': 8,\n",
       "  'scores': {7: 0, 14: 0},\n",
       "  'status': 0,\n",
       "  'team_1': 14,\n",
       "  'team_2': 7},\n",
       " {'id': 149,\n",
       "  'round': 8,\n",
       "  'scores': {12: 0, 25: 0},\n",
       "  'status': 0,\n",
       "  'team_1': 12,\n",
       "  'team_2': 25},\n",
       " {'id': 150,\n",
       "  'round': 9,\n",
       "  'scores': {7: 3, 14: 3},\n",
       "  'status': 1,\n",
       "  'team_1': 14,\n",
       "  'team_2': 7},\n",
       " {'id': 151,\n",
       "  'round': 9,\n",
       "  'scores': {12: 0, 25: 5},\n",
       "  'status': 1,\n",
       "  'team_1': 12,\n",
       "  'team_2': 25},\n",
       " {'id': 152,\n",
       "  'round': 9,\n",
       "  'scoores': {3: 0, 17: 0},\n",
       "  'score_1': None,\n",
       "  'score_2': None,\n",
       "  'scores': {3: 2, 17: 6},\n",
       "  'status': 1,\n",
       "  'team_1': 3,\n",
       "  'team_2': 17},\n",
       " {'id': 153,\n",
       "  'round': 9,\n",
       "  'scoores': {5: 0, 23: 0},\n",
       "  'score_1': None,\n",
       "  'score_2': None,\n",
       "  'scores': {5: 7, 23: 2},\n",
       "  'status': 1,\n",
       "  'team_1': 5,\n",
       "  'team_2': 23},\n",
       " {'id': 154,\n",
       "  'round': 9,\n",
       "  'scoores': {9: 0, 20: 0},\n",
       "  'score_1': None,\n",
       "  'score_2': None,\n",
       "  'scores': {9: 11, 20: 2},\n",
       "  'status': 1,\n",
       "  'team_1': 9,\n",
       "  'team_2': 20},\n",
       " {'id': 155,\n",
       "  'round': 9,\n",
       "  'scoores': {10: 0, 13: 0},\n",
       "  'score_1': None,\n",
       "  'score_2': None,\n",
       "  'scores': {10: 1, 13: 10},\n",
       "  'status': 1,\n",
       "  'team_1': 10,\n",
       "  'team_2': 13},\n",
       " {'id': 156,\n",
       "  'round': 9,\n",
       "  'scoores': {24: 0, 26: 0},\n",
       "  'score_1': None,\n",
       "  'score_2': None,\n",
       "  'scores': {24: 7, 26: 0},\n",
       "  'status': 1,\n",
       "  'team_1': 24,\n",
       "  'team_2': 26}]"
      ]
     },
     "execution_count": 406,
     "metadata": {},
     "output_type": "execute_result"
    }
   ],
   "source": [
    "[g for g in DB['Games'].values()]"
   ]
  },
  {
   "cell_type": "code",
   "execution_count": 424,
   "metadata": {
    "collapsed": false
   },
   "outputs": [
    {
     "data": {
      "text/plain": [
       "[[0, u'Ball Bangers'],\n",
       " [1, u'Wabbit'],\n",
       " [2, u'Golem'],\n",
       " [3, u'The Edinburgh Badgers'],\n",
       " [4, u'JKL'],\n",
       " [5, u'The Inseminators'],\n",
       " [6, u'Gentlemans'],\n",
       " [7, u'Sons of Odin'],\n",
       " [8, u'Rusty Spoons'],\n",
       " [9, u'Daft Monks'],\n",
       " [10, u'The Budgie Smugglers'],\n",
       " [11, u'Triple Fisted'],\n",
       " [12, u'With Fire'],\n",
       " [13, u'Pete un Plomb'],\n",
       " [14, u'Kitten Pile Crush'],\n",
       " [15, u'The Royales with Cheese'],\n",
       " [16, u'The Jamesons'],\n",
       " [17, u'Elf Death'],\n",
       " [18, u'Mammoth'],\n",
       " [19, u'Beware'],\n",
       " [20, u'Two and a half Men'],\n",
       " [21, u'Lost Cat'],\n",
       " [22, u'Mighty Bisons'],\n",
       " [23, u'Sometimes'],\n",
       " [24, u'Three Boys'],\n",
       " [25, u'Gobshites'],\n",
       " [26, u'Kumaras bravas'],\n",
       " [27, u\"The Caracal's\"],\n",
       " [28, u'3UP'],\n",
       " [30, u'Royals'],\n",
       " [31, u'Les Beehive Boys'],\n",
       " [32, u'The Control'],\n",
       " [33, u'Frenemies'],\n",
       " [34, u'Prospectors'],\n",
       " [35, u'TBD'],\n",
       " [36, u'TEMOILESNICHONS'],\n",
       " [37, u'LOS BIGOTES HASTA LAS RODILLAS'],\n",
       " [38, u'YATTARUS'],\n",
       " [39, u'The Huntsmen'],\n",
       " [40, u'Majestic'],\n",
       " [41, u'B'],\n",
       " [42, u'Call Me Daddy'],\n",
       " [43, u'Thunder fart'],\n",
       " [44, u'Ratking'],\n",
       " [45, u'Portland United'],\n",
       " [46, u'ChaJean$'],\n",
       " [47, u'Good Owl Boys'],\n",
       " [49, u'Team GB'],\n",
       " [50, u'Outlawz Birds'],\n",
       " [51, u'POLOBITO'],\n",
       " [52, u'Sentinels'],\n",
       " [53, u'ZODIAC'],\n",
       " [54, u'Fully Torqued'],\n",
       " [55, u'Ash Samwidch']]"
      ]
     },
     "execution_count": 424,
     "metadata": {},
     "output_type": "execute_result"
    }
   ],
   "source": [
    "[[t['id'],t['name']] for t in DB['Teams'].values()]"
   ]
  },
  {
   "cell_type": "code",
   "execution_count": 479,
   "metadata": {
    "collapsed": true
   },
   "outputs": [],
   "source": [
    "DB['Sessions'][5]['teams'] = [28,41,19,33,2,14,31,37,40,13,34,30,35,36,32,39,16,38]\n",
    "DB['Sessions'][6]['teams'] = [55,42,46,9,54,25,47,49,50,51,45,44,52,24,43,11,1,53]\n",
    "DB['Sessions'][5]['strengths']={}\n",
    "DB['Sessions'][6]['strengths']={}\n",
    "\n",
    "for id in DB['Sessions'][5]['teams']:\n",
    "    DB['Sessions'][5]['strengths'][id]=0.0\n",
    "    \n",
    "for id in DB['Sessions'][6]['teams']:\n",
    "    DB['Sessions'][6]['strengths'][id]=0.0"
   ]
  },
  {
   "cell_type": "code",
   "execution_count": 450,
   "metadata": {
    "collapsed": false
   },
   "outputs": [],
   "source": [
    "DB['Teams'][41]['name'] = 'Auckland Justice'"
   ]
  },
  {
   "cell_type": "code",
   "execution_count": 428,
   "metadata": {
    "collapsed": false
   },
   "outputs": [],
   "source": [
    "DB['Teams'][56] = {'id': 46,\n",
    " 'name': u'Fully Torqued',\n",
    " 'session': 'B',\n",
    " 'strength': 0,\n",
    " 'wc': False}"
   ]
  },
  {
   "cell_type": "code",
   "execution_count": 478,
   "metadata": {
    "collapsed": false
   },
   "outputs": [
    {
     "data": {
      "text/plain": [
       "{u'games': [],\n",
       " u'id': 6,\n",
       " u'name': u'Worlds: Day 1 PM',\n",
       " u'strengths': {'id': 0.0},\n",
       " u'suggestedGames': [],\n",
       " u'teams': [55,\n",
       "  42,\n",
       "  46,\n",
       "  9,\n",
       "  54,\n",
       "  25,\n",
       "  47,\n",
       "  49,\n",
       "  50,\n",
       "  51,\n",
       "  45,\n",
       "  44,\n",
       "  52,\n",
       "  24,\n",
       "  43,\n",
       "  11,\n",
       "  1,\n",
       "  53],\n",
       " u'type': u'swiss'}"
      ]
     },
     "execution_count": 478,
     "metadata": {},
     "output_type": "execute_result"
    }
   ],
   "source": [
    "DB['Sessions'][6]"
   ]
  },
  {
   "cell_type": "code",
   "execution_count": 491,
   "metadata": {
    "collapsed": false
   },
   "outputs": [],
   "source": [
    "saveDB(DB)"
   ]
  },
  {
   "cell_type": "code",
   "execution_count": 463,
   "metadata": {
    "collapsed": false
   },
   "outputs": [
    {
     "data": {
      "text/plain": [
       "{'id': 139,\n",
       " 'round': 1,\n",
       " 'scores': {34: 0, 39: 0},\n",
       " 'status': 0,\n",
       " 'team_1': 34,\n",
       " 'team_2': 39}"
      ]
     },
     "execution_count": 463,
     "metadata": {},
     "output_type": "execute_result"
    }
   ],
   "source": [
    "DB['Games'][139]"
   ]
  },
  {
   "cell_type": "code",
   "execution_count": null,
   "metadata": {
    "collapsed": true
   },
   "outputs": [],
   "source": []
  }
 ],
 "metadata": {
  "kernelspec": {
   "display_name": "Python 2",
   "language": "python",
   "name": "python2"
  },
  "language_info": {
   "codemirror_mode": {
    "name": "ipython",
    "version": 2
   },
   "file_extension": ".py",
   "mimetype": "text/x-python",
   "name": "python",
   "nbconvert_exporter": "python",
   "pygments_lexer": "ipython2",
   "version": "2.7.6"
  }
 },
 "nbformat": 4,
 "nbformat_minor": 0
}
