{
 "cells": [
  {
   "cell_type": "code",
   "execution_count": null,
   "metadata": {
    "collapsed": true
   },
   "outputs": [],
   "source": [
    "import database\n",
    "import req\n",
    "import pprint\n",
    "import json\n",
    "import os\n",
    "import csv\n",
    "\n",
    "dbsavefile = '/DBsave.json'\n",
    "DB = database.DB_init()\n",
    "pwd = os.getcwd()\n",
    "pp = pprint.PrettyPrinter(indent=4)\n",
    "pprint = pp.pprint\n"
   ]
  },
  {
   "cell_type": "code",
   "execution_count": 185,
   "metadata": {
    "collapsed": false
   },
   "outputs": [],
   "source": [
    "\n",
    "def saveDB(db):\n",
    "    with open(\"\".join([pwd,dbsavefile]), 'wb') as jsonfile: \n",
    "            json.dump(db,jsonfile)\n",
    "            \n",
    "def loadDB():\n",
    "    with open(\"\".join([pwd,dbsavefile]), 'rb') as jsonfile: \n",
    "            db = json.load(jsonfile)\n",
    "    return db\n",
    "\n",
    "    \n",
    "def print_team(d,score = 0.0):\n",
    "    pprint(''.join([str(d['id']),': ',d['name'],'  strength = ',str(score)]))\n",
    "\n",
    "def print_game(d):\n",
    "    if d['status']==1:\n",
    "        pprint(\"\".join([str(d['id']),':', 'r', str(d['round']),'  ',\n",
    "                        str(d['scores'][d['team_1']]),' -- ',\n",
    "                        DB['Teams'][d['team_1']]['name'],\n",
    "                        ' vs ', DB['Teams'][d['team_2']]['name'], ' -- ',\n",
    "                        str(d['scores'][d['team_2']])]))\n",
    "    else:\n",
    "        pprint(\"\".join([str(d['id']),':','r',str(d['round']),'  ',\n",
    "                DB['Teams'][d['team_1']]['name'],\n",
    "                ' vs ', DB['Teams'][d['team_2']]['name']]))\n",
    "def list_teams(session_id):\n",
    "    session = DB['Sessions'][session_id]\n",
    "    for id in session['teams']:\n",
    "        s = session['strengths'][id]\n",
    "        print_team(DB['Teams'][id],score = s)\n",
    "def list_games(session_id):\n",
    "    session = DB['Sessions'][session_id]\n",
    "    for id in session['games']:\n",
    "        print_game(DB['Games'][id])\n",
    "\n",
    "def export_results(session_id):\n",
    "    session = DB['Sessions'][session_id]\n",
    "    d = [[id,DB['Teams'][id]['name'],session['strengths'][id]] for id in session['teams']]\n",
    "\n",
    "    with open(\"\".join([pwd,'/results.csv']), 'wb') as csvfile:\n",
    "\n",
    "        writer = csv.writer(csvfile,delimiter='\\t')\n",
    "    \n",
    "        for line in d:\n",
    "            writer.writerow(line)\n",
    "\n",
    "            \n",
    "def export_games(session_id):\n",
    "    session = DB['Sessions'][session_id]\n",
    "    played_games = [Games[id] for id in session['games'] if Games[id]['status'] == 1]\n",
    "    unplayed_games = [Games[id] for id in session['games'] if not Games[id]['status'] == 1]\n",
    "\n",
    "    pd = [[g['id'],Teams[g['team_1']]['name'],Teams[g['team_2']]['name'],\n",
    "            g['round'],g['scores'][g['team_1']],\n",
    "            g['scores'][g['team_2']]] for g in played_games]    \n",
    "    upd = [[g['id'],Teams[g['team_1']]['name'],Teams[g['team_2']]['name'],\n",
    "            g['round'],'none',\n",
    "            'none'] for g in unplayed_games]    \n",
    "    with open(\"\".join([pwd,'/games.csv']), 'wb') as csvfile:\n",
    "\n",
    "        writer = csv.writer(csvfile,delimiter='\\t')\n",
    "    \n",
    "        for line in pd:\n",
    "           writer.writerow(line)\n",
    "        \n",
    "        for line in upd:\n",
    "           writer.writerow(line)\n",
    "        \n",
    "def export_suggested_games(session_id):\n",
    "    session = DB['Sessions'][session_id]\n",
    "    suggested_games = session['suggestedGames'].values()\n",
    "\n",
    "    pd = [[g['id'],Teams[g['team_1']]['name'],Teams[g['team_2']]['name'],\n",
    "            g['round']] for g in suggested_games]    \n",
    "\n",
    "    with open(\"\".join([pwd,'/suggested_games.csv']), 'wb') as csvfile:\n",
    "\n",
    "        writer = csv.writer(csvfile,delimiter='\\t')\n",
    "    \n",
    "        for line in pd:\n",
    "           writer.writerow(line)\n",
    "        \n",
    "def export_teams_list(session_id):\n",
    "    session = DB['Sessions'][session_id]\n",
    "    teams = [DB['Teams'][id] for id in session['teams']]\n",
    "\n",
    "    pd = [[t['id'],t['name']] for t in teams]    \n",
    "\n",
    "    with open(\"\".join([pwd,'/team_list.csv']),'wb') as csvfile:\n",
    "\n",
    "        writer = csv.writer(csvfile,delimiter='\\t')\n",
    "    \n",
    "        for line in pd:\n",
    "           writer.writerow(line)\n",
    "        \n",
    "\n",
    "\n",
    "Teams = DB['Teams']\n",
    "Games = DB['Games']\n",
    "\n"
   ]
  },
  {
   "cell_type": "code",
   "execution_count": 186,
   "metadata": {
    "collapsed": false
   },
   "outputs": [],
   "source": [
    "sess_id = 2\n",
    "export_teams_list(sess_id)\n",
    "\n",
    "def compute_strengths():\n",
    "    req.update_strengths(DB,sess_id)\n",
    "    export_results(sess_id)\n",
    "\n",
    "def stage_round(round = 0):\n",
    "    req.get_suggested_games(DB,sess_id,round)\n",
    "    export_suggested_games(sess_id)\n",
    "    print('done')\n",
    "    \n",
    "def update_score(game_id=-1,score_1 = -1, score_2 = -1):\n",
    "    req.update_score(DB,game_id,score_1,score_2)\n",
    "    export_games(sess_id)\n",
    "    print_game(Games[game_id])\n",
    "\n",
    "def add_suggested_games():\n",
    "    req.add_suggested_games(DB,sess_id)\n",
    "    export_games(sess_id)\n",
    "def add_suggested_game(game_id=0):\n",
    "    req.add_game(DB,sess_id,DB['Sessions'][sess_id]['suggestedGames'][game_id])\n",
    "    export_games(sess_id)\n",
    "\n",
    "def add_game(team_1 = 0, team_2 = 0, round = 0):\n",
    "    req.add_game(DB,sess_id,req.new_game(team_1,team_2,round))\n",
    "    export_games(sess_id)\n",
    "\n",
    "def remove_game(game_id=-1):\n",
    "    req.remove_game(DB, sess_id, game_id)\n",
    "    export_games(sess_id)\n"
   ]
  },
  {
   "cell_type": "code",
   "execution_count": 184,
   "metadata": {
    "collapsed": false
   },
   "outputs": [],
   "source": [
    "#Add a game to the session. Use the team ID to specify the teams\n",
    "add_game(team_1 = 26, team_2 = 27, round = 1 )"
   ]
  },
  {
   "cell_type": "code",
   "execution_count": 157,
   "metadata": {
    "collapsed": false
   },
   "outputs": [
    {
     "name": "stdout",
     "output_type": "stream",
     "text": [
      "'2:r1  1 -- JKL vs The Inseminators -- 1'\n"
     ]
    }
   ],
   "source": [
    "# update the scores in a game. get the game id from the list of games\n",
    "update_score(game_id=2,score_1 = 1, score_2 = 1)"
   ]
  },
  {
   "cell_type": "code",
   "execution_count": 158,
   "metadata": {
    "collapsed": false
   },
   "outputs": [],
   "source": [
    "# remove a game from the session\n",
    "remove_game(game_id=9)"
   ]
  },
  {
   "cell_type": "code",
   "execution_count": 160,
   "metadata": {
    "collapsed": false
   },
   "outputs": [
    {
     "name": "stdout",
     "output_type": "stream",
     "text": [
      "running MCMC\n",
      " [-----------------100%-----------------] 100000 of 100000 complete in 24.8 sec"
     ]
    }
   ],
   "source": [
    "#Compute the strengths of the teams. This may take some time.\n",
    "compute_strengths()"
   ]
  },
  {
   "cell_type": "code",
   "execution_count": 162,
   "metadata": {
    "collapsed": false
   },
   "outputs": [
    {
     "name": "stdout",
     "output_type": "stream",
     "text": [
      "running MCMC\n",
      " [-----------------100%-----------------] 100000 of 100000 complete in 24.6 sec"
     ]
    }
   ],
   "source": [
    "#Suggest games for the next round. This may take quite some time.\n",
    "stage_round(round = 2)"
   ]
  },
  {
   "cell_type": "code",
   "execution_count": 163,
   "metadata": {
    "collapsed": false
   },
   "outputs": [],
   "source": [
    "#This will add the suggested games to the list of games\n",
    "add_suggested_games()"
   ]
  },
  {
   "cell_type": "code",
   "execution_count": 165,
   "metadata": {
    "collapsed": false
   },
   "outputs": [],
   "source": [
    "#add one of the suggested games to the list of games\n",
    "add_suggested_game(game_id=4)"
   ]
  },
  {
   "cell_type": "code",
   "execution_count": 188,
   "metadata": {
    "collapsed": false
   },
   "outputs": [],
   "source": [
    "saveDB(DB)"
   ]
  },
  {
   "cell_type": "code",
   "execution_count": 189,
   "metadata": {
    "collapsed": true
   },
   "outputs": [],
   "source": [
    "export_results(2)"
   ]
  },
  {
   "cell_type": "code",
   "execution_count": null,
   "metadata": {
    "collapsed": true
   },
   "outputs": [],
   "source": []
  },
  {
   "cell_type": "code",
   "execution_count": null,
   "metadata": {
    "collapsed": true
   },
   "outputs": [],
   "source": []
  }
 ],
 "metadata": {
  "kernelspec": {
   "display_name": "Python 2",
   "language": "python",
   "name": "python2"
  },
  "language_info": {
   "codemirror_mode": {
    "name": "ipython",
    "version": 2
   },
   "file_extension": ".py",
   "mimetype": "text/x-python",
   "name": "python",
   "nbconvert_exporter": "python",
   "pygments_lexer": "ipython2",
   "version": "2.7.6"
  }
 },
 "nbformat": 4,
 "nbformat_minor": 0
}
